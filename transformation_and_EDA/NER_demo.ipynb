{
 "cells": [
  {
   "cell_type": "code",
   "execution_count": 1,
   "metadata": {},
   "outputs": [],
   "source": [
    "from pathlib import Path\n",
    "import pandas as pd\n",
    "import spacy\n",
    "from spacy import displacy\n",
    "from transformers import AutoTokenizer, AutoModelForTokenClassification\n",
    "from transformers import pipeline\n",
    "BASE_DIR = Path.cwd().parent"
   ]
  },
  {
   "cell_type": "code",
   "execution_count": 2,
   "metadata": {},
   "outputs": [],
   "source": [
    "df = pd.read_csv(BASE_DIR / \"row_data\" / \"reviews_2023_03.csv\").head(1000)"
   ]
  },
  {
   "cell_type": "code",
   "execution_count": 3,
   "metadata": {},
   "outputs": [
    {
     "data": {
      "text/html": [
       "<div>\n",
       "<style scoped>\n",
       "    .dataframe tbody tr th:only-of-type {\n",
       "        vertical-align: middle;\n",
       "    }\n",
       "\n",
       "    .dataframe tbody tr th {\n",
       "        vertical-align: top;\n",
       "    }\n",
       "\n",
       "    .dataframe thead th {\n",
       "        text-align: right;\n",
       "    }\n",
       "</style>\n",
       "<table border=\"1\" class=\"dataframe\">\n",
       "  <thead>\n",
       "    <tr style=\"text-align: right;\">\n",
       "      <th></th>\n",
       "      <th>listing_id</th>\n",
       "      <th>id</th>\n",
       "      <th>date</th>\n",
       "      <th>reviewer_id</th>\n",
       "      <th>reviewer_name</th>\n",
       "      <th>comments</th>\n",
       "    </tr>\n",
       "  </thead>\n",
       "  <tbody>\n",
       "    <tr>\n",
       "      <th>0</th>\n",
       "      <td>32984</td>\n",
       "      <td>91258</td>\n",
       "      <td>2010-09-06</td>\n",
       "      <td>200247</td>\n",
       "      <td>Keenan</td>\n",
       "      <td>Great little apartment in the perfect spot in ...</td>\n",
       "    </tr>\n",
       "    <tr>\n",
       "      <th>1</th>\n",
       "      <td>32984</td>\n",
       "      <td>95401</td>\n",
       "      <td>2010-09-12</td>\n",
       "      <td>126543</td>\n",
       "      <td>Olaf</td>\n",
       "      <td>Nice flat in a great area. Chris sorted things...</td>\n",
       "    </tr>\n",
       "    <tr>\n",
       "      <th>2</th>\n",
       "      <td>32984</td>\n",
       "      <td>273707</td>\n",
       "      <td>2011-05-21</td>\n",
       "      <td>294223</td>\n",
       "      <td>Max</td>\n",
       "      <td>Great location, Chris was responsive by email ...</td>\n",
       "    </tr>\n",
       "    <tr>\n",
       "      <th>3</th>\n",
       "      <td>32984</td>\n",
       "      <td>285148</td>\n",
       "      <td>2011-05-28</td>\n",
       "      <td>577190</td>\n",
       "      <td>Eli</td>\n",
       "      <td>Chris' place is super great and close to every...</td>\n",
       "    </tr>\n",
       "    <tr>\n",
       "      <th>4</th>\n",
       "      <td>32984</td>\n",
       "      <td>308649</td>\n",
       "      <td>2011-06-11</td>\n",
       "      <td>521818</td>\n",
       "      <td>Jonathan</td>\n",
       "      <td>This was a \\very nice apartment in a GREAT loc...</td>\n",
       "    </tr>\n",
       "    <tr>\n",
       "      <th>...</th>\n",
       "      <td>...</td>\n",
       "      <td>...</td>\n",
       "      <td>...</td>\n",
       "      <td>...</td>\n",
       "      <td>...</td>\n",
       "      <td>...</td>\n",
       "    </tr>\n",
       "    <tr>\n",
       "      <th>995</th>\n",
       "      <td>238411</td>\n",
       "      <td>3068287</td>\n",
       "      <td>2012-12-11</td>\n",
       "      <td>3609245</td>\n",
       "      <td>XiangWei</td>\n",
       "      <td>My friend and I really enjoyed our stay in Sto...</td>\n",
       "    </tr>\n",
       "    <tr>\n",
       "      <th>996</th>\n",
       "      <td>238411</td>\n",
       "      <td>3105484</td>\n",
       "      <td>2012-12-17</td>\n",
       "      <td>4215262</td>\n",
       "      <td>Jacopo</td>\n",
       "      <td>Mia's apartment is in a fantastic position in ...</td>\n",
       "    </tr>\n",
       "    <tr>\n",
       "      <th>997</th>\n",
       "      <td>238411</td>\n",
       "      <td>3279513</td>\n",
       "      <td>2013-01-05</td>\n",
       "      <td>2635023</td>\n",
       "      <td>Tati</td>\n",
       "      <td>Great apartment in a perfect location, well fu...</td>\n",
       "    </tr>\n",
       "    <tr>\n",
       "      <th>998</th>\n",
       "      <td>238411</td>\n",
       "      <td>3460644</td>\n",
       "      <td>2013-02-02</td>\n",
       "      <td>1144103</td>\n",
       "      <td>Rosa</td>\n",
       "      <td>Mia's apartment is super centrally located clo...</td>\n",
       "    </tr>\n",
       "    <tr>\n",
       "      <th>999</th>\n",
       "      <td>238411</td>\n",
       "      <td>3517072</td>\n",
       "      <td>2013-02-11</td>\n",
       "      <td>3493545</td>\n",
       "      <td>Yuehan</td>\n",
       "      <td>Mia's apartment is so cozy and located in a co...</td>\n",
       "    </tr>\n",
       "  </tbody>\n",
       "</table>\n",
       "<p>1000 rows × 6 columns</p>\n",
       "</div>"
      ],
      "text/plain": [
       "     listing_id       id        date  reviewer_id reviewer_name  \\\n",
       "0         32984    91258  2010-09-06       200247        Keenan   \n",
       "1         32984    95401  2010-09-12       126543          Olaf   \n",
       "2         32984   273707  2011-05-21       294223           Max   \n",
       "3         32984   285148  2011-05-28       577190           Eli   \n",
       "4         32984   308649  2011-06-11       521818      Jonathan   \n",
       "..          ...      ...         ...          ...           ...   \n",
       "995      238411  3068287  2012-12-11      3609245      XiangWei   \n",
       "996      238411  3105484  2012-12-17      4215262        Jacopo   \n",
       "997      238411  3279513  2013-01-05      2635023          Tati   \n",
       "998      238411  3460644  2013-02-02      1144103          Rosa   \n",
       "999      238411  3517072  2013-02-11      3493545        Yuehan   \n",
       "\n",
       "                                              comments  \n",
       "0    Great little apartment in the perfect spot in ...  \n",
       "1    Nice flat in a great area. Chris sorted things...  \n",
       "2    Great location, Chris was responsive by email ...  \n",
       "3    Chris' place is super great and close to every...  \n",
       "4    This was a \\very nice apartment in a GREAT loc...  \n",
       "..                                                 ...  \n",
       "995  My friend and I really enjoyed our stay in Sto...  \n",
       "996  Mia's apartment is in a fantastic position in ...  \n",
       "997  Great apartment in a perfect location, well fu...  \n",
       "998  Mia's apartment is super centrally located clo...  \n",
       "999  Mia's apartment is so cozy and located in a co...  \n",
       "\n",
       "[1000 rows x 6 columns]"
      ]
     },
     "execution_count": 3,
     "metadata": {},
     "output_type": "execute_result"
    }
   ],
   "source": [
    "df"
   ]
  },
  {
   "cell_type": "code",
   "execution_count": 4,
   "metadata": {},
   "outputs": [],
   "source": [
    "tokenizer = AutoTokenizer.from_pretrained(\"dslim/bert-base-NER\")\n",
    "model = AutoModelForTokenClassification.from_pretrained(\"dslim/bert-base-NER\")\n",
    "nlp = pipeline(\"ner\", model=model, tokenizer=tokenizer)\n",
    "host_names = []\n",
    "for row in df['comments']:\n",
    "    ner_results = nlp(row)\n",
    "    if len(ner_results) > 0 and ner_results[0]['entity'] == 'B-PER' and ner_results[0]['word'] not in host_names:\n",
    "        host_names.append(ner_results[0]['word'])"
   ]
  },
  {
   "cell_type": "code",
   "execution_count": 5,
   "metadata": {},
   "outputs": [
    {
     "data": {
      "text/plain": [
       "['Chris',\n",
       " 'Peter',\n",
       " 'Li',\n",
       " 'Lydia',\n",
       " 'W',\n",
       " 'Mo',\n",
       " 'Tina',\n",
       " '##T',\n",
       " 'Linda',\n",
       " 'Rolf',\n",
       " 'dad',\n",
       " 'Jan',\n",
       " 'Antonio',\n",
       " 'Ta',\n",
       " 'St',\n",
       " 'Stock',\n",
       " 'Hu',\n",
       " 'An',\n",
       " 'Adele',\n",
       " 'Bar',\n",
       " 'Marie',\n",
       " 'Hi',\n",
       " 'Dan',\n",
       " 'Mama',\n",
       " 'Sa',\n",
       " 'Fred',\n",
       " 'Frederic',\n",
       " 'John',\n",
       " 'Ella',\n",
       " 'Mia',\n",
       " 'Ellen',\n",
       " 'Fu',\n",
       " 'el',\n",
       " 'Car',\n",
       " 'Gross',\n",
       " 'Le']"
      ]
     },
     "execution_count": 5,
     "metadata": {},
     "output_type": "execute_result"
    }
   ],
   "source": [
    "host_names"
   ]
  },
  {
   "cell_type": "code",
   "execution_count": 6,
   "metadata": {},
   "outputs": [],
   "source": [
    "spacy_dict = ['en_core_web_sm', 'sv_core_news_sm', 'xx_ent_wiki_sm']"
   ]
  },
  {
   "cell_type": "code",
   "execution_count": 7,
   "metadata": {},
   "outputs": [
    {
     "data": {
      "text/html": [
       "<span class=\"tex2jax_ignore\"><div class=\"entities\" style=\"line-height: 2.5; direction: ltr\">\n",
       "<mark class=\"entity\" style=\"background: #7aecec; padding: 0.45em 0.6em; margin: 0 0.25em; line-height: 1; border-radius: 0.35em;\">\n",
       "    Lidia\n",
       "    <span style=\"font-size: 0.8em; font-weight: bold; line-height: 1; border-radius: 0.35em; vertical-align: middle; margin-left: 0.5rem\">ORG</span>\n",
       "</mark>\n",
       " was wonderful in every way. She gave us the 'lay of the land' before we arrived (complete with $\n",
       "<mark class=\"entity\" style=\"background: #e4e7d2; padding: 0.45em 0.6em; margin: 0 0.25em; line-height: 1; border-radius: 0.35em;\">\n",
       "    $\n",
       "    <span style=\"font-size: 0.8em; font-weight: bold; line-height: 1; border-radius: 0.35em; vertical-align: middle; margin-left: 0.5rem\">MONEY</span>\n",
       "</mark>\n",
       " saving tips) and gave us a map with locations to go to once we arrived. It was like having a tour guide when ever we needed. The place is quiet and with a comfortable bed...really enjoyed our stay!!</div></span>"
      ],
      "text/plain": [
       "<IPython.core.display.HTML object>"
      ]
     },
     "metadata": {},
     "output_type": "display_data"
    },
    {
     "name": "stdout",
     "output_type": "stream",
     "text": [
      "en_core_web_sm\n"
     ]
    },
    {
     "data": {
      "text/html": [
       "<span class=\"tex2jax_ignore\"><div class=\"entities\" style=\"line-height: 2.5; direction: ltr\">We loved our stay in \n",
       "<mark class=\"entity\" style=\"background: #7aecec; padding: 0.45em 0.6em; margin: 0 0.25em; line-height: 1; border-radius: 0.35em;\">\n",
       "    Moa\n",
       "    <span style=\"font-size: 0.8em; font-weight: bold; line-height: 1; border-radius: 0.35em; vertical-align: middle; margin-left: 0.5rem\">ORG</span>\n",
       "</mark>\n",
       "'s studio. It was comfortable, clean and in a nice area. \n",
       "<mark class=\"entity\" style=\"background: #bfe1d9; padding: 0.45em 0.6em; margin: 0 0.25em; line-height: 1; border-radius: 0.35em;\">\n",
       "    Just 15 minutes\n",
       "    <span style=\"font-size: 0.8em; font-weight: bold; line-height: 1; border-radius: 0.35em; vertical-align: middle; margin-left: 0.5rem\">TIME</span>\n",
       "</mark>\n",
       " by \n",
       "<mark class=\"entity\" style=\"background: #9cc9cc; padding: 0.45em 0.6em; margin: 0 0.25em; line-height: 1; border-radius: 0.35em;\">\n",
       "    metro\n",
       "    <span style=\"font-size: 0.8em; font-weight: bold; line-height: 1; border-radius: 0.35em; vertical-align: middle; margin-left: 0.5rem\">FAC</span>\n",
       "</mark>\n",
       " to the city centre. \n",
       "<mark class=\"entity\" style=\"background: #aa9cfc; padding: 0.45em 0.6em; margin: 0 0.25em; line-height: 1; border-radius: 0.35em;\">\n",
       "    Moa\n",
       "    <span style=\"font-size: 0.8em; font-weight: bold; line-height: 1; border-radius: 0.35em; vertical-align: middle; margin-left: 0.5rem\">PERSON</span>\n",
       "</mark>\n",
       " is great to comunicate with. Warmly recommended!</div></span>"
      ],
      "text/plain": [
       "<IPython.core.display.HTML object>"
      ]
     },
     "metadata": {},
     "output_type": "display_data"
    },
    {
     "name": "stdout",
     "output_type": "stream",
     "text": [
      "en_core_web_sm\n"
     ]
    },
    {
     "data": {
      "text/html": [
       "<span class=\"tex2jax_ignore\"><div class=\"entities\" style=\"line-height: 2.5; direction: ltr\">\n",
       "<mark class=\"entity\" style=\"background: #ff9561; padding: 0.45em 0.6em; margin: 0 0.25em; line-height: 1; border-radius: 0.35em;\">\n",
       "    Lidia\n",
       "    <span style=\"font-size: 0.8em; font-weight: bold; line-height: 1; border-radius: 0.35em; vertical-align: middle; margin-left: 0.5rem\">LOC</span>\n",
       "</mark>\n",
       " was wonderful in every way. She gave us the 'lay of the land' before we arrived (\n",
       "<mark class=\"entity\" style=\"background: #ddd; padding: 0.45em 0.6em; margin: 0 0.25em; line-height: 1; border-radius: 0.35em;\">\n",
       "    complete with\n",
       "    <span style=\"font-size: 0.8em; font-weight: bold; line-height: 1; border-radius: 0.35em; vertical-align: middle; margin-left: 0.5rem\">PRS</span>\n",
       "</mark>\n",
       " $$ saving tips) and gave \n",
       "<mark class=\"entity\" style=\"background: #7aecec; padding: 0.45em 0.6em; margin: 0 0.25em; line-height: 1; border-radius: 0.35em;\">\n",
       "    us\n",
       "    <span style=\"font-size: 0.8em; font-weight: bold; line-height: 1; border-radius: 0.35em; vertical-align: middle; margin-left: 0.5rem\">ORG</span>\n",
       "</mark>\n",
       " a map with locations to go to once we arrived. It was like having a tour guide when ever we needed. The place is quiet and with a comfortable bed...really enjoyed our stay!!</div></span>"
      ],
      "text/plain": [
       "<IPython.core.display.HTML object>"
      ]
     },
     "metadata": {},
     "output_type": "display_data"
    },
    {
     "name": "stdout",
     "output_type": "stream",
     "text": [
      "sv_core_news_sm\n"
     ]
    },
    {
     "data": {
      "text/html": [
       "<span class=\"tex2jax_ignore\"><div class=\"entities\" style=\"line-height: 2.5; direction: ltr\">We loved our stay in Moa's studio. It was comfortable, clean and in a nice area. Just 15 minutes by metro to the city centre. Moa is \n",
       "<mark class=\"entity\" style=\"background: #ddd; padding: 0.45em 0.6em; margin: 0 0.25em; line-height: 1; border-radius: 0.35em;\">\n",
       "    great\n",
       "    <span style=\"font-size: 0.8em; font-weight: bold; line-height: 1; border-radius: 0.35em; vertical-align: middle; margin-left: 0.5rem\">PRS</span>\n",
       "</mark>\n",
       " to comunicate with. Warmly recommended!</div></span>"
      ],
      "text/plain": [
       "<IPython.core.display.HTML object>"
      ]
     },
     "metadata": {},
     "output_type": "display_data"
    },
    {
     "name": "stdout",
     "output_type": "stream",
     "text": [
      "sv_core_news_sm\n"
     ]
    },
    {
     "data": {
      "text/html": [
       "<span class=\"tex2jax_ignore\"><div class=\"entities\" style=\"line-height: 2.5; direction: ltr\">\n",
       "<mark class=\"entity\" style=\"background: #ff9561; padding: 0.45em 0.6em; margin: 0 0.25em; line-height: 1; border-radius: 0.35em;\">\n",
       "    Lidia\n",
       "    <span style=\"font-size: 0.8em; font-weight: bold; line-height: 1; border-radius: 0.35em; vertical-align: middle; margin-left: 0.5rem\">LOC</span>\n",
       "</mark>\n",
       " was wonderful in every way. She gave us the 'lay of the land' before we arrived (complete with $$ saving tips) and gave us a map with locations to go to once we arrived. It was like having a tour guide when ever we needed. The place is quiet and with a comfortable bed...really enjoyed our stay!!</div></span>"
      ],
      "text/plain": [
       "<IPython.core.display.HTML object>"
      ]
     },
     "metadata": {},
     "output_type": "display_data"
    },
    {
     "name": "stdout",
     "output_type": "stream",
     "text": [
      "xx_ent_wiki_sm\n"
     ]
    },
    {
     "data": {
      "text/html": [
       "<span class=\"tex2jax_ignore\"><div class=\"entities\" style=\"line-height: 2.5; direction: ltr\">We loved our stay in \n",
       "<mark class=\"entity\" style=\"background: #ddd; padding: 0.45em 0.6em; margin: 0 0.25em; line-height: 1; border-radius: 0.35em;\">\n",
       "    Moa\n",
       "    <span style=\"font-size: 0.8em; font-weight: bold; line-height: 1; border-radius: 0.35em; vertical-align: middle; margin-left: 0.5rem\">PER</span>\n",
       "</mark>\n",
       "'s studio. It was comfortable, clean and in a nice area. Just 15 minutes by metro to the city centre. \n",
       "<mark class=\"entity\" style=\"background: #ddd; padding: 0.45em 0.6em; margin: 0 0.25em; line-height: 1; border-radius: 0.35em;\">\n",
       "    Moa\n",
       "    <span style=\"font-size: 0.8em; font-weight: bold; line-height: 1; border-radius: 0.35em; vertical-align: middle; margin-left: 0.5rem\">PER</span>\n",
       "</mark>\n",
       " is great to comunicate with. \n",
       "<mark class=\"entity\" style=\"background: #ddd; padding: 0.45em 0.6em; margin: 0 0.25em; line-height: 1; border-radius: 0.35em;\">\n",
       "    Warmly\n",
       "    <span style=\"font-size: 0.8em; font-weight: bold; line-height: 1; border-radius: 0.35em; vertical-align: middle; margin-left: 0.5rem\">PER</span>\n",
       "</mark>\n",
       " recommended!</div></span>"
      ],
      "text/plain": [
       "<IPython.core.display.HTML object>"
      ]
     },
     "metadata": {},
     "output_type": "display_data"
    },
    {
     "name": "stdout",
     "output_type": "stream",
     "text": [
      "xx_ent_wiki_sm\n"
     ]
    }
   ],
   "source": [
    "for dict in spacy_dict:\n",
    "    for row in range(125, 127):\n",
    "        nlp = spacy.load(dict)\n",
    "        text_string = nlp(df['comments'][row])\n",
    "        displacy.render(text_string, style=\"ent\", jupyter=True)\n",
    "        print(dict)"
   ]
  }
 ],
 "metadata": {
  "kernelspec": {
   "display_name": "Python 3",
   "language": "python",
   "name": "python3"
  },
  "language_info": {
   "codemirror_mode": {
    "name": "ipython",
    "version": 3
   },
   "file_extension": ".py",
   "mimetype": "text/x-python",
   "name": "python",
   "nbconvert_exporter": "python",
   "pygments_lexer": "ipython3",
   "version": "3.10.10"
  },
  "orig_nbformat": 4,
  "vscode": {
   "interpreter": {
    "hash": "aee8b7b246df8f9039afb4144a1f6fd8d2ca17a180786b69acc140d282b71a49"
   }
  }
 },
 "nbformat": 4,
 "nbformat_minor": 2
}
