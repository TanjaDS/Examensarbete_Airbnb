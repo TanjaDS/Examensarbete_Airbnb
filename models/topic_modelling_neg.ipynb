{
 "cells": [
  {
   "cell_type": "code",
   "execution_count": 22,
   "metadata": {},
   "outputs": [],
   "source": [
    "from pathlib import Path\n",
    "import pandas as pd\n",
    "import numpy as np\n",
    "import gensim, spacy\n",
    "import gensim.corpora as corpora\n",
    "from gensim.utils import simple_preprocess\n",
    "from nltk.corpus import stopwords\n",
    "from joblib import Memory\n",
    "import os\n",
    "from wordcloud import WordCloud\n",
    "from matplotlib import pyplot as plt\n",
    "import matplotlib.colors as mcolors\n",
    "import plotly.express as px\n",
    "import pyLDAvis\n",
    "import pyLDAvis.gensim_models\n",
    "import warnings\n",
    "warnings.filterwarnings(\"ignore\")"
   ]
  },
  {
   "cell_type": "code",
   "execution_count": 23,
   "metadata": {},
   "outputs": [],
   "source": [
    "BASE_DIR = Path.cwd().parent\n",
    "stop_words = stopwords.words('english')\n",
    "PALETTE = px.colors.qualitative.Prism"
   ]
  },
  {
   "cell_type": "code",
   "execution_count": 24,
   "metadata": {},
   "outputs": [],
   "source": [
    "df_hosts_reviews_en = pd.read_parquet(BASE_DIR / 'processed_data' / 'hosts_reviews_en_labeled.parquet')"
   ]
  },
  {
   "cell_type": "code",
   "execution_count": 25,
   "metadata": {},
   "outputs": [],
   "source": [
    "df_hosts_reviews_en = df_hosts_reviews_en.query('sentiment_label_class == 0').reset_index()"
   ]
  },
  {
   "cell_type": "code",
   "execution_count": 26,
   "metadata": {},
   "outputs": [
    {
     "name": "stdout",
     "output_type": "stream",
     "text": [
      "['stayed', 'three', 'nights', 'couldnt', 'helpful', 'soon', 'got', 'showed', 'us', 'get', 'around', 'visit', 'place', 'conveniently', 'located', 'metro', 'station', 'walking', 'distance', 'market', 'many', 'restaurants', 'clean', 'privacy', 'issue', 'despite', 'guests', 'staying', 'well', 'wifi', 'reliable', 'youre', 'vacation', 'doesnt', 'really', 'matter']\n"
     ]
    }
   ],
   "source": [
    "def sent_to_words(sentences):\n",
    "    for sent in sentences:\n",
    "        sent = gensim.utils.simple_preprocess(str(sent), deacc=True) \n",
    "        yield(sent)  \n",
    "\n",
    "# Convert to list\n",
    "data = df_hosts_reviews_en['comments'].values.tolist()\n",
    "data_words = list(sent_to_words(data))\n",
    "print(data_words[0])"
   ]
  },
  {
   "cell_type": "code",
   "execution_count": 27,
   "metadata": {},
   "outputs": [],
   "source": [
    "nlp = spacy.load(\"en_core_web_sm\")\n",
    "stop_words.append('also')\n",
    "bigram = gensim.models.Phrases(data_words, min_count=1, threshold=100) # higher threshold fewer phrases.\n",
    "trigram = gensim.models.Phrases(bigram[data_words], threshold=100)  \n",
    "bigram_mod = gensim.models.phrases.Phraser(bigram)\n",
    "trigram_mod = gensim.models.phrases.Phraser(trigram)\n",
    "\n",
    "# !python3 -m spacy download en  # run in terminal once\n",
    "def process_words(texts, stop_words=stop_words, allowed_postags=['NOUN', 'ADJ', 'VERB', 'ADV']):\n",
    "    \"\"\"Remove Stopwords, Form Bigrams, Trigrams and Lemmatization\"\"\"\n",
    "    #texts = [[word for word in simple_preprocess(str(doc)) if word not in stop_words] for doc in texts]\n",
    "    texts = [bigram_mod[doc] for doc in texts]\n",
    "    texts = [trigram_mod[bigram_mod[doc]] for doc in texts]\n",
    "    texts_out = []\n",
    "    for sent in texts:\n",
    "        doc = nlp(\" \".join(sent)) \n",
    "        texts_out.append([token.lemma_ for token in doc if token.pos_ in allowed_postags])\n",
    "    # remove stopwords once more after lemmatization\n",
    "    texts_out = [[word for word in simple_preprocess(str(doc)) if word not in stop_words] for doc in texts_out]    \n",
    "    return texts_out\n",
    "\n",
    "# call the cached function\n",
    "data_ready = process_words(data_words)"
   ]
  },
  {
   "cell_type": "code",
   "execution_count": 28,
   "metadata": {},
   "outputs": [
    {
     "data": {
      "text/plain": [
       "[(0,\n",
       "  '0.020*\"host\" + 0.016*\"room\" + 0.016*\"stay\" + 0.015*\"apartment\" + 0.013*\"bed\" + 0.013*\"place\" + 0.012*\"leave\" + 0.012*\"clean\" + 0.010*\"dirty\" + 0.010*\"get\"'),\n",
       " (1,\n",
       "  '0.038*\"location\" + 0.030*\"apartment\" + 0.022*\"host\" + 0.018*\"need\" + 0.015*\"stay\" + 0.015*\"place\" + 0.014*\"close\" + 0.011*\"great\" + 0.009*\"cleanliness\" + 0.009*\"right\"')]"
      ]
     },
     "execution_count": 28,
     "metadata": {},
     "output_type": "execute_result"
    }
   ],
   "source": [
    "# Create Dictionary\n",
    "id2word = corpora.Dictionary(data_ready)\n",
    "\n",
    "# Create Corpus: Term Document Frequency\n",
    "corpus = [id2word.doc2bow(text) for text in data_ready]\n",
    "\n",
    "# Build LDA model\n",
    "lda_model = gensim.models.ldamodel.LdaModel(corpus=corpus,\n",
    "                                           id2word=id2word,\n",
    "                                           num_topics=2, \n",
    "                                           random_state=42,\n",
    "                                           update_every=1,\n",
    "                                           chunksize=5,\n",
    "                                           passes=5,\n",
    "                                           alpha='symmetric',\n",
    "                                           iterations=100,\n",
    "                                           per_word_topics=True)\n",
    "\n",
    "lda_model.print_topics()"
   ]
  },
  {
   "cell_type": "code",
   "execution_count": 29,
   "metadata": {},
   "outputs": [
    {
     "data": {
      "text/html": [
       "<div>\n",
       "<style scoped>\n",
       "    .dataframe tbody tr th:only-of-type {\n",
       "        vertical-align: middle;\n",
       "    }\n",
       "\n",
       "    .dataframe tbody tr th {\n",
       "        vertical-align: top;\n",
       "    }\n",
       "\n",
       "    .dataframe thead th {\n",
       "        text-align: right;\n",
       "    }\n",
       "</style>\n",
       "<table border=\"1\" class=\"dataframe\">\n",
       "  <thead>\n",
       "    <tr style=\"text-align: right;\">\n",
       "      <th></th>\n",
       "      <th>level_0</th>\n",
       "      <th>date</th>\n",
       "      <th>listing_id_encod</th>\n",
       "      <th>listing_id</th>\n",
       "      <th>reviewer_id</th>\n",
       "      <th>reviewer_name</th>\n",
       "      <th>comments</th>\n",
       "      <th>host_id</th>\n",
       "      <th>host_name</th>\n",
       "      <th>host_description</th>\n",
       "      <th>...</th>\n",
       "      <th>review_scores_location</th>\n",
       "      <th>review_scores_value</th>\n",
       "      <th>comments_language</th>\n",
       "      <th>description_language</th>\n",
       "      <th>sentiment_label</th>\n",
       "      <th>sentiment_label_class</th>\n",
       "      <th>dominant_topic</th>\n",
       "      <th>percent_contribution</th>\n",
       "      <th>topic_keywords</th>\n",
       "      <th>text</th>\n",
       "    </tr>\n",
       "  </thead>\n",
       "  <tbody>\n",
       "    <tr>\n",
       "      <th>371</th>\n",
       "      <td>29938</td>\n",
       "      <td>2019-02-08</td>\n",
       "      <td>736.0</td>\n",
       "      <td>20401577.0</td>\n",
       "      <td>7276304.0</td>\n",
       "      <td>Katharina</td>\n",
       "      <td>tolles apartment toller lage</td>\n",
       "      <td>140914167.0</td>\n",
       "      <td>Marianne</td>\n",
       "      <td>cosy studio old town please take time read inf...</td>\n",
       "      <td>...</td>\n",
       "      <td>4.91</td>\n",
       "      <td>4.36</td>\n",
       "      <td>en</td>\n",
       "      <td>en</td>\n",
       "      <td>0.000</td>\n",
       "      <td>0</td>\n",
       "      <td>1</td>\n",
       "      <td>0.884</td>\n",
       "      <td>location, apartment, host, need, stay, place, ...</td>\n",
       "      <td>[toll, apartment, toller, lage]</td>\n",
       "    </tr>\n",
       "    <tr>\n",
       "      <th>384</th>\n",
       "      <td>30132</td>\n",
       "      <td>2022-12-15</td>\n",
       "      <td>736.0</td>\n",
       "      <td>20401577.0</td>\n",
       "      <td>486720673.0</td>\n",
       "      <td>Marcelo</td>\n",
       "      <td>worst experience ever temperature inside room ...</td>\n",
       "      <td>140914167.0</td>\n",
       "      <td>Marianne</td>\n",
       "      <td>cosy studio old town please take time read inf...</td>\n",
       "      <td>...</td>\n",
       "      <td>4.91</td>\n",
       "      <td>4.36</td>\n",
       "      <td>en</td>\n",
       "      <td>en</td>\n",
       "      <td>-0.624</td>\n",
       "      <td>0</td>\n",
       "      <td>0</td>\n",
       "      <td>0.980</td>\n",
       "      <td>host, room, stay, apartment, bed, place, leave...</td>\n",
       "      <td>[bad, experience, ever, temperature, room, neg...</td>\n",
       "    </tr>\n",
       "    <tr>\n",
       "      <th>559</th>\n",
       "      <td>39870</td>\n",
       "      <td>2021-01-29</td>\n",
       "      <td>985.0</td>\n",
       "      <td>26767012.0</td>\n",
       "      <td>7061101.0</td>\n",
       "      <td>Louise Karolina</td>\n",
       "      <td>cosy place middle gamla stan</td>\n",
       "      <td>140912731.0</td>\n",
       "      <td>Familjen Svensson</td>\n",
       "      <td>home old town times pandemic extra important f...</td>\n",
       "      <td>...</td>\n",
       "      <td>4.90</td>\n",
       "      <td>4.56</td>\n",
       "      <td>en</td>\n",
       "      <td>en</td>\n",
       "      <td>0.000</td>\n",
       "      <td>0</td>\n",
       "      <td>1</td>\n",
       "      <td>0.587</td>\n",
       "      <td>location, apartment, host, need, stay, place, ...</td>\n",
       "      <td>[place]</td>\n",
       "    </tr>\n",
       "  </tbody>\n",
       "</table>\n",
       "<p>3 rows × 34 columns</p>\n",
       "</div>"
      ],
      "text/plain": [
       "     level_0       date  listing_id_encod  listing_id  reviewer_id   \n",
       "371    29938 2019-02-08             736.0  20401577.0    7276304.0  \\\n",
       "384    30132 2022-12-15             736.0  20401577.0  486720673.0   \n",
       "559    39870 2021-01-29             985.0  26767012.0    7061101.0   \n",
       "\n",
       "       reviewer_name                                           comments   \n",
       "371        Katharina                       tolles apartment toller lage  \\\n",
       "384          Marcelo  worst experience ever temperature inside room ...   \n",
       "559  Louise Karolina                       cosy place middle gamla stan   \n",
       "\n",
       "         host_id          host_name   \n",
       "371  140914167.0           Marianne  \\\n",
       "384  140914167.0           Marianne   \n",
       "559  140912731.0  Familjen Svensson   \n",
       "\n",
       "                                      host_description  ...   \n",
       "371  cosy studio old town please take time read inf...  ...  \\\n",
       "384  cosy studio old town please take time read inf...  ...   \n",
       "559  home old town times pandemic extra important f...  ...   \n",
       "\n",
       "    review_scores_location  review_scores_value  comments_language   \n",
       "371                   4.91                 4.36                 en  \\\n",
       "384                   4.91                 4.36                 en   \n",
       "559                   4.90                 4.56                 en   \n",
       "\n",
       "    description_language  sentiment_label  sentiment_label_class   \n",
       "371                   en            0.000                      0  \\\n",
       "384                   en           -0.624                      0   \n",
       "559                   en            0.000                      0   \n",
       "\n",
       "    dominant_topic  percent_contribution   \n",
       "371              1                 0.884  \\\n",
       "384              0                 0.980   \n",
       "559              1                 0.587   \n",
       "\n",
       "                                        topic_keywords   \n",
       "371  location, apartment, host, need, stay, place, ...  \\\n",
       "384  host, room, stay, apartment, bed, place, leave...   \n",
       "559  location, apartment, host, need, stay, place, ...   \n",
       "\n",
       "                                                  text  \n",
       "371                    [toll, apartment, toller, lage]  \n",
       "384  [bad, experience, ever, temperature, room, neg...  \n",
       "559                                            [place]  \n",
       "\n",
       "[3 rows x 34 columns]"
      ]
     },
     "execution_count": 29,
     "metadata": {},
     "output_type": "execute_result"
    }
   ],
   "source": [
    "def format_topics_sentences(ldamodel=None, corpus=corpus, texts=data):\n",
    "    # create a dataframe\n",
    "    sent_topics_df = pd.DataFrame(columns=['dominant_topic', 'percent_contribution', 'topic_keywords'])\n",
    "\n",
    "    # get main topic in each document\n",
    "    for i, row_list in enumerate(ldamodel[corpus]):\n",
    "        row = row_list[0] if ldamodel.per_word_topics else row_list            \n",
    "        row = sorted(row, key=lambda x: (x[1]), reverse=True)\n",
    "        # get the dominant topic, perc contribution and keywords for each document\n",
    "        for j, (topic_num, prop_topic) in enumerate(row):\n",
    "            if j == 0:  # => dominant topic\n",
    "                wp = ldamodel.show_topic(topic_num)\n",
    "                topic_keywords = \", \".join([word for word, prop in wp])\n",
    "                sent_topics_df.loc[len(sent_topics_df)] = [int(topic_num), round(prop_topic,3), topic_keywords]\n",
    "            else:\n",
    "                break\n",
    "\n",
    "\n",
    "    # merge the original dataframe to the end of the output\n",
    "    contents = pd.Series(texts)\n",
    "    contents.name = 'text'\n",
    "    sent_topics_df = (df_hosts_reviews_en.merge(sent_topics_df, left_index=True, right_index=True)\n",
    "                                    .merge(contents, left_index=True, right_index=True)\n",
    "                                    .drop('index', axis=1))\n",
    "    return(sent_topics_df)\n",
    "\n",
    "\n",
    "df_dominant_topic = format_topics_sentences(ldamodel=lda_model, corpus=corpus, texts=data_ready)\n",
    "df_dominant_topic.sample(3)"
   ]
  },
  {
   "cell_type": "code",
   "execution_count": 35,
   "metadata": {},
   "outputs": [
    {
     "name": "stdout",
     "output_type": "stream",
     "text": [
      "Intel MKL WARNING: Support of Intel(R) Streaming SIMD Extensions 4.2 (Intel(R) SSE4.2) enabled only processors has been deprecated. Intel oneAPI Math Kernel Library 2025.0 will require Intel(R) Advanced Vector Extensions (Intel(R) AVX) instructions.\n",
      "Intel MKL WARNING: Support of Intel(R) Streaming SIMD Extensions 4.2 (Intel(R) SSE4.2) enabled only processors has been deprecated. Intel oneAPI Math Kernel Library 2025.0 will require Intel(R) Advanced Vector Extensions (Intel(R) AVX) instructions.\n",
      "Intel MKL WARNING: Support of Intel(R) Streaming SIMD Extensions 4.2 (Intel(R) SSE4.2) enabled only processors has been deprecated. Intel oneAPI Math Kernel Library 2025.0 will require Intel(R) Advanced Vector Extensions (Intel(R) AVX) instructions.\n",
      "Intel MKL WARNING: Support of Intel(R) Streaming SIMD Extensions 4.2 (Intel(R) SSE4.2) enabled only processors has been deprecated. Intel oneAPI Math Kernel Library 2025.0 will require Intel(R) Advanced Vector Extensions (Intel(R) AVX) instructions.\n",
      "Intel MKL WARNING: Support of Intel(R) Streaming SIMD Extensions 4.2 (Intel(R) SSE4.2) enabled only processors has been deprecated. Intel oneAPI Math Kernel Library 2025.0 will require Intel(R) Advanced Vector Extensions (Intel(R) AVX) instructions.\n",
      "Intel MKL WARNING: Support of Intel(R) Streaming SIMD Extensions 4.2 (Intel(R) SSE4.2) enabled only processors has been deprecated. Intel oneAPI Math Kernel Library 2025.0 will require Intel(R) Advanced Vector Extensions (Intel(R) AVX) instructions.\n",
      "Intel MKL WARNING: Support of Intel(R) Streaming SIMD Extensions 4.2 (Intel(R) SSE4.2) enabled only processors has been deprecated. Intel oneAPI Math Kernel Library 2025.0 will require Intel(R) Advanced Vector Extensions (Intel(R) AVX) instructions.\n",
      "Intel MKL WARNING: Support of Intel(R) Streaming SIMD Extensions 4.2 (Intel(R) SSE4.2) enabled only processors has been deprecated. Intel oneAPI Math Kernel Library 2025.0 will require Intel(R) Advanced Vector Extensions (Intel(R) AVX) instructions.\n",
      "Intel MKL WARNING: Support of Intel(R) Streaming SIMD Extensions 4.2 (Intel(R) SSE4.2) enabled only processors has been deprecated. Intel oneAPI Math Kernel Library 2025.0 will require Intel(R) Advanced Vector Extensions (Intel(R) AVX) instructions.\n",
      "Intel MKL WARNING: Support of Intel(R) Streaming SIMD Extensions 4.2 (Intel(R) SSE4.2) enabled only processors has been deprecated. Intel oneAPI Math Kernel Library 2025.0 will require Intel(R) Advanced Vector Extensions (Intel(R) AVX) instructions.\n",
      "Intel MKL WARNING: Support of Intel(R) Streaming SIMD Extensions 4.2 (Intel(R) SSE4.2) enabled only processors has been deprecated. Intel oneAPI Math Kernel Library 2025.0 will require Intel(R) Advanced Vector Extensions (Intel(R) AVX) instructions.\n",
      "Intel MKL WARNING: Support of Intel(R) Streaming SIMD Extensions 4.2 (Intel(R) SSE4.2) enabled only processors has been deprecated. Intel oneAPI Math Kernel Library 2025.0 will require Intel(R) Advanced Vector Extensions (Intel(R) AVX) instructions.\n",
      "Intel MKL WARNING: Support of Intel(R) Streaming SIMD Extensions 4.2 (Intel(R) SSE4.2) enabled only processors has been deprecated. Intel oneAPI Math Kernel Library 2025.0 will require Intel(R) Advanced Vector Extensions (Intel(R) AVX) instructions.\n",
      "Intel MKL WARNING: Support of Intel(R) Streaming SIMD Extensions 4.2 (Intel(R) SSE4.2) enabled only processors has been deprecated. Intel oneAPI Math Kernel Library 2025.0 will require Intel(R) Advanced Vector Extensions (Intel(R) AVX) instructions.\n",
      "Intel MKL WARNING: Support of Intel(R) Streaming SIMD Extensions 4.2 (Intel(R) SSE4.2) enabled only processors has been deprecated. Intel oneAPI Math Kernel Library 2025.0 will require Intel(R) Advanced Vector Extensions (Intel(R) AVX) instructions.\n",
      "Intel MKL WARNING: Support of Intel(R) Streaming SIMD Extensions 4.2 (Intel(R) SSE4.2) enabled only processors has been deprecated. Intel oneAPI Math Kernel Library 2025.0 will require Intel(R) Advanced Vector Extensions (Intel(R) AVX) instructions.\n",
      "Intel MKL WARNING: Support of Intel(R) Streaming SIMD Extensions 4.2 (Intel(R) SSE4.2) enabled only processors has been deprecated. Intel oneAPI Math Kernel Library 2025.0 will require Intel(R) Advanced Vector Extensions (Intel(R) AVX) instructions.\n",
      "Intel MKL WARNING: Support of Intel(R) Streaming SIMD Extensions 4.2 (Intel(R) SSE4.2) enabled only processors has been deprecated. Intel oneAPI Math Kernel Library 2025.0 will require Intel(R) Advanced Vector Extensions (Intel(R) AVX) instructions.\n",
      "Intel MKL WARNING: Support of Intel(R) Streaming SIMD Extensions 4.2 (Intel(R) SSE4.2) enabled only processors has been deprecated. Intel oneAPI Math Kernel Library 2025.0 will require Intel(R) Advanced Vector Extensions (Intel(R) AVX) instructions.\n",
      "Intel MKL WARNING: Support of Intel(R) Streaming SIMD Extensions 4.2 (Intel(R) SSE4.2) enabled only processors has been deprecated. Intel oneAPI Math Kernel Library 2025.0 will require Intel(R) Advanced Vector Extensions (Intel(R) AVX) instructions.\n"
     ]
    },
    {
     "data": {
      "text/html": [
       "\n",
       "<link rel=\"stylesheet\" type=\"text/css\" href=\"https://cdn.jsdelivr.net/gh/bmabey/pyLDAvis@3.4.0/pyLDAvis/js/ldavis.v1.0.0.css\">\n",
       "\n",
       "\n",
       "<div id=\"ldavis_el18979140496628248448478624180\" style=\"background-color:white;\"></div>\n",
       "<script type=\"text/javascript\">\n",
       "\n",
       "var ldavis_el18979140496628248448478624180_data = {\"mdsDat\": {\"x\": [0.15372158564336807, -0.15372158564336807], \"y\": [0.0, 0.0], \"topics\": [1, 2], \"cluster\": [1, 1], \"Freq\": [69.50473442303576, 30.495265576964254]}, \"tinfo\": {\"Term\": [\"location\", \"need\", \"apartment\", \"close\", \"great\", \"room\", \"right\", \"cleanliness\", \"city\", \"cosy\", \"bed\", \"central\", \"spacious\", \"leave\", \"clean\", \"price\", \"locate\", \"appartement\", \"dirty\", \"communication\", \"get\", \"host\", \"old_town\", \"airbnb\", \"minute\", \"bad\", \"make\", \"quiet\", \"shower\", \"convenient\", \"room\", \"leave\", \"dirty\", \"bed\", \"bad\", \"airbnb\", \"make\", \"get\", \"shower\", \"bathroom\", \"money\", \"experience\", \"good\", \"clean\", \"ask\", \"night\", \"look\", \"thing\", \"go\", \"find\", \"arrive\", \"book\", \"want\", \"work\", \"photo\", \"never\", \"owner\", \"towel\", \"wait\", \"come\", \"day\", \"break\", \"uncomfortable\", \"guest\", \"window\", \"nice\", \"kitchen\", \"time\", \"door\", \"problem\", \"host\", \"stay\", \"really\", \"place\", \"apartment\", \"location\", \"city\", \"close\", \"central\", \"cosy\", \"quiet\", \"old_town\", \"heart\", \"convenient\", \"locate\", \"cafe\", \"great\", \"cozy\", \"perfect\", \"transport\", \"spacious\", \"restaurant\", \"gamla_stan\", \"home\", \"comfy\", \"available\", \"come_back\", \"shop\", \"need\", \"describe\", \"minute\", \"gut\", \"newly\", \"renovate\", \"historic\", \"center\", \"exactly\", \"right\", \"area\", \"price\", \"cleanliness\", \"appartement\", \"communication\", \"advertise\", \"super\", \"apartment\", \"host\", \"place\", \"stay\", \"poor\", \"space\"], \"Freq\": [232.0, 117.0, 395.0, 90.0, 70.0, 227.0, 61.0, 66.0, 52.0, 50.0, 178.0, 48.0, 49.0, 170.0, 166.0, 47.0, 41.0, 49.0, 142.0, 46.0, 137.0, 414.0, 37.0, 131.0, 37.0, 127.0, 123.0, 32.0, 119.0, 31.0, 227.23965891917405, 169.69037693794584, 141.5392930085594, 177.66107025409897, 127.23415426381264, 131.39411340218152, 123.01097234913418, 137.31133041989028, 118.73228222521604, 99.16444002529492, 90.13442793922974, 72.11710238959145, 93.77691513688458, 165.08987541690192, 77.77901176959267, 66.74308126798765, 60.23452762197465, 70.33294175853418, 104.6195361386858, 68.70246342410593, 59.992586224835556, 54.43211554316115, 88.22159514027, 83.56261877256478, 54.54919948828759, 47.210766679572586, 47.109734011091554, 52.222651746382674, 56.40230005783781, 63.792220070545554, 100.20341146083844, 78.87177561083402, 71.66320031521644, 68.30757975247609, 67.55125748054569, 70.92822735453207, 79.7995538084492, 111.58852762981724, 72.66149017975985, 92.88777526330364, 278.9206570279789, 219.3711017558409, 107.47703666707163, 175.97350543312726, 209.783296345828, 232.03330335079795, 52.10876361084973, 89.42332660633663, 48.458903335207694, 50.0048540186636, 32.56421176828093, 36.66193961966316, 27.25386157371435, 31.32407449348462, 41.324191920579, 25.456044102423252, 69.63072949421208, 24.458303146101965, 22.420557539946405, 17.615337355549315, 48.70854329848156, 26.563962591394986, 15.58461702171949, 17.719853007169963, 24.3603113721155, 25.745404869227166, 18.206664152835263, 16.558507968658457, 113.94180286206868, 28.773802946293955, 36.6600030006253, 12.82585291916527, 12.021343586657409, 12.022046113889983, 12.022650229843556, 21.714540657786053, 17.72945564934281, 56.75790781673489, 18.67847655758427, 43.828705814686906, 58.35085455506186, 44.606758316414684, 41.56359998415881, 24.21787505320696, 27.287605867454, 185.5853059208073, 135.31207787933454, 89.55655105486632, 91.72080040935937, 31.30866774084225, 32.15683504637069], \"Total\": [232.0, 117.0, 395.0, 90.0, 70.0, 227.0, 61.0, 66.0, 52.0, 50.0, 178.0, 48.0, 49.0, 170.0, 166.0, 47.0, 41.0, 49.0, 142.0, 46.0, 137.0, 414.0, 37.0, 131.0, 37.0, 127.0, 123.0, 32.0, 119.0, 31.0, 227.84195511710303, 170.24373422146965, 142.03187068702977, 178.359413705341, 127.75033727033751, 131.948410800752, 123.547660863112, 137.94926977334964, 119.38522831101855, 99.72557521192967, 90.75415469620381, 72.6460543044623, 94.4920961204453, 166.35917717952051, 78.38231991561867, 67.26576642264897, 60.70912221055562, 70.89397521161135, 105.46329100930423, 69.31070730881383, 60.52607794359384, 54.91678435789062, 89.00730711036692, 84.321728270372, 55.05915479382406, 47.66574258460301, 47.57850783291445, 52.74297278556515, 56.97394163621031, 64.44922324213705, 101.33271671410415, 79.69046155499674, 72.4239690666958, 69.02515569483164, 68.2869729292578, 71.774071669003, 80.95856050158869, 116.6469201677399, 74.03020214973569, 101.18551691980541, 414.23273490731344, 311.0919021652003, 128.08584830726107, 265.5300564879936, 395.3686022666353, 232.86320456476804, 52.54456921741813, 90.23158447509853, 48.945732148204385, 50.598440029801736, 32.9550467810434, 37.12775904861837, 27.618831702505982, 31.745231381267665, 41.93258487218823, 25.87461139877114, 70.83026813367891, 24.933178636904845, 22.863529092360352, 17.970085775066813, 49.71963057297026, 27.133338203206687, 15.931336502898526, 18.131573103380372, 24.977428593290405, 26.48306527065113, 18.752502415045996, 17.063620659658977, 117.54928676700018, 29.688422318284587, 37.86983287993084, 13.256436979870372, 12.42728361573291, 12.428111236586068, 12.430476333041407, 22.614840621866126, 18.42248500044265, 61.00917250737005, 19.511699275786754, 47.2315156818276, 66.3276023001251, 49.82058715681567, 46.382848856705735, 26.92721520900555, 31.69682558209736, 395.3686022666353, 414.23273490731344, 265.5300564879936, 311.0919021652003, 45.395987845497416, 48.859874729550356], \"Category\": [\"Default\", \"Default\", \"Default\", \"Default\", \"Default\", \"Default\", \"Default\", \"Default\", \"Default\", \"Default\", \"Default\", \"Default\", \"Default\", \"Default\", \"Default\", \"Default\", \"Default\", \"Default\", \"Default\", \"Default\", \"Default\", \"Default\", \"Default\", \"Default\", \"Default\", \"Default\", \"Default\", \"Default\", \"Default\", \"Default\", \"Topic1\", \"Topic1\", \"Topic1\", \"Topic1\", \"Topic1\", \"Topic1\", \"Topic1\", \"Topic1\", \"Topic1\", \"Topic1\", \"Topic1\", \"Topic1\", \"Topic1\", \"Topic1\", \"Topic1\", \"Topic1\", \"Topic1\", \"Topic1\", \"Topic1\", \"Topic1\", \"Topic1\", \"Topic1\", \"Topic1\", \"Topic1\", \"Topic1\", \"Topic1\", \"Topic1\", \"Topic1\", \"Topic1\", \"Topic1\", \"Topic1\", \"Topic1\", \"Topic1\", \"Topic1\", \"Topic1\", \"Topic1\", \"Topic1\", \"Topic1\", \"Topic1\", \"Topic1\", \"Topic1\", \"Topic1\", \"Topic1\", \"Topic1\", \"Topic1\", \"Topic2\", \"Topic2\", \"Topic2\", \"Topic2\", \"Topic2\", \"Topic2\", \"Topic2\", \"Topic2\", \"Topic2\", \"Topic2\", \"Topic2\", \"Topic2\", \"Topic2\", \"Topic2\", \"Topic2\", \"Topic2\", \"Topic2\", \"Topic2\", \"Topic2\", \"Topic2\", \"Topic2\", \"Topic2\", \"Topic2\", \"Topic2\", \"Topic2\", \"Topic2\", \"Topic2\", \"Topic2\", \"Topic2\", \"Topic2\", \"Topic2\", \"Topic2\", \"Topic2\", \"Topic2\", \"Topic2\", \"Topic2\", \"Topic2\", \"Topic2\", \"Topic2\", \"Topic2\", \"Topic2\", \"Topic2\", \"Topic2\", \"Topic2\", \"Topic2\", \"Topic2\"], \"logprob\": [30.0, 29.0, 28.0, 27.0, 26.0, 25.0, 24.0, 23.0, 22.0, 21.0, 20.0, 19.0, 18.0, 17.0, 16.0, 15.0, 14.0, 13.0, 12.0, 11.0, 10.0, 9.0, 8.0, 7.0, 6.0, 5.0, 4.0, 3.0, 2.0, 1.0, -4.1253, -4.4174, -4.5988, -4.3715, -4.7053, -4.6731, -4.7391, -4.6291, -4.7745, -4.9546, -5.05, -5.2731, -5.0104, -4.4449, -5.1975, -5.3505, -5.4531, -5.2981, -4.901, -5.3216, -5.4571, -5.5544, -5.0715, -5.1257, -5.5522, -5.6967, -5.6989, -5.5958, -5.5188, -5.3957, -4.9441, -5.1835, -5.2794, -5.3273, -5.3385, -5.2897, -5.1718, -4.8365, -5.2655, -5.02, -3.9204, -4.1606, -4.8741, -4.381, -4.2053, -3.2806, -4.7742, -4.2341, -4.8468, -4.8154, -5.2443, -5.1258, -5.4223, -5.2831, -5.0061, -5.4906, -4.4843, -5.5306, -5.6175, -5.8588, -4.8417, -5.448, -5.9812, -5.8528, -5.5346, -5.4793, -5.8257, -5.9206, -3.9918, -5.3681, -5.1258, -6.1761, -6.2408, -6.2408, -6.2407, -5.6495, -5.8523, -4.6887, -5.8001, -4.9472, -4.661, -4.9296, -5.0003, -5.5404, -5.4211, -3.504, -3.8199, -4.2327, -4.2088, -5.2836, -5.2569], \"loglift\": [30.0, 29.0, 28.0, 27.0, 26.0, 25.0, 24.0, 23.0, 22.0, 21.0, 20.0, 19.0, 18.0, 17.0, 16.0, 15.0, 14.0, 13.0, 12.0, 11.0, 10.0, 9.0, 8.0, 7.0, 6.0, 5.0, 4.0, 3.0, 2.0, 1.0, 0.3611, 0.3605, 0.3603, 0.3599, 0.3597, 0.3596, 0.3594, 0.3591, 0.3583, 0.3581, 0.3569, 0.3565, 0.3562, 0.3561, 0.356, 0.356, 0.3559, 0.3558, 0.3557, 0.355, 0.3549, 0.3549, 0.3549, 0.3547, 0.3545, 0.3542, 0.3539, 0.3539, 0.3537, 0.3535, 0.3526, 0.3534, 0.3532, 0.3533, 0.3529, 0.3519, 0.3494, 0.3194, 0.3451, 0.2782, -0.0317, 0.0145, 0.1884, -0.0476, -0.27, 1.184, 1.1793, 1.1786, 1.1776, 1.1758, 1.1757, 1.175, 1.1743, 1.1742, 1.173, 1.1713, 1.1705, 1.1684, 1.168, 1.1677, 1.1671, 1.1664, 1.1656, 1.1646, 1.1626, 1.1593, 1.1581, 1.1576, 1.1564, 1.1563, 1.1551, 1.1546, 1.1544, 1.1544, 1.1542, 1.147, 1.1493, 1.1154, 1.144, 1.1128, 1.0595, 1.0771, 1.0779, 1.0816, 1.0378, 0.4313, 0.0688, 0.1007, -0.0337, 0.8161, 0.7693]}, \"token.table\": {\"Topic\": [1, 2, 1, 2, 1, 2, 1, 2, 1, 2, 1, 2, 1, 2, 1, 2, 1, 2, 1, 2, 1, 2, 1, 1, 2, 2, 1, 2, 2, 2, 1, 2, 1, 2, 1, 2, 1, 2, 1, 2, 1, 2, 1, 2, 2, 1, 2, 2, 1, 2, 1, 2, 1, 1, 2, 1, 2, 1, 2, 1, 2, 2, 1, 2, 1, 2, 1, 2, 1, 2, 1, 2, 2, 2, 2, 2, 1, 2, 1, 2, 1, 2, 1, 2, 1, 2, 1, 1, 2, 1, 2, 1, 2, 1, 2, 1, 2, 1, 2, 1, 2, 2, 1, 2, 1, 2, 1, 2, 1, 2, 1, 2, 1, 2, 2, 1, 2, 2, 1, 2, 1, 2, 1, 2, 1, 2, 1, 2, 1, 2, 1, 2, 1, 2, 1, 2, 1, 2, 1, 2, 1, 2, 2, 1, 2, 1, 2, 1, 2, 1, 2, 1, 2], \"Freq\": [0.11141144662433117, 0.8912915729946493, 0.9928122605266984, 0.007578719546005331, 0.5311499162960256, 0.470447068719337, 0.10036011788182987, 0.9032410609364688, 0.0512513024040382, 0.9737747456767257, 0.9913082432983001, 0.016521804054971667, 0.9951223705035747, 0.012757979109020188, 0.03775997943516805, 0.9817594653143694, 0.994126533938226, 0.00782776798376556, 0.9927242815056446, 0.010027517995006511, 0.9979848907446244, 0.0056066566895765415, 0.9833059351779235, 0.991335706412991, 0.012548553245734064, 0.9661980856333681, 0.044218750718636825, 0.9728125158100102, 0.980677944599117, 0.989636051345957, 0.9918298635364504, 0.006011090082039093, 0.12061343577295137, 0.8744474093538975, 0.011082593814763087, 0.9863508495139148, 0.993029811384238, 0.015516090802878718, 0.053326216302612174, 0.9598718934470192, 0.04003614688617812, 0.9608675252682749, 0.10779846696020984, 0.9055071224657627, 0.9765246196407498, 0.01976345514626567, 0.9881727573132835, 0.9625728171087019, 0.9868481102913266, 0.009868481102913265, 0.033683164072484825, 0.9768117581020599, 0.9997756089047085, 0.9860840289527784, 0.013508000396613403, 0.05428149351056453, 0.9770668831901616, 0.9911068218274504, 0.013765372525381256, 0.9955171816754159, 0.014427785241672694, 1.004309964646656, 0.993118703890863, 0.007249041634239876, 0.9956070875005849, 0.009481972261910332, 0.9947921980710637, 0.010582895724160251, 0.014118258003946655, 0.9882780602762659, 0.9851480857303101, 0.014487471848975149, 0.980655663338515, 0.9775938494005946, 0.9653692809906923, 0.9927434259217232, 0.6735344082896481, 0.3259037459466039, 0.9881598623338926, 0.012351998279173658, 0.9985683219263002, 0.005873931305448825, 0.023847802444042738, 0.9777599002057522, 0.004294366737196826, 0.9962930830296637, 0.9883193466692503, 0.9955672097772956, 0.008094042355912972, 0.026406242751864668, 0.9770309818189927, 0.991690135854074, 0.011018779287267489, 0.03402827962647347, 0.9698059693544939, 0.9860331015839863, 0.9656172958672988, 0.9892151629271814, 0.01393260792855185, 0.9960490092244086, 0.01486640312275237, 0.9965589345575349, 0.9878409841068148, 0.9622311547411597, 0.99892561384123, 0.018162283888022365, 0.6628251518033257, 0.3389446798994279, 0.3083972981852092, 0.6828797316958204, 0.06351691146668526, 0.9315813681780504, 0.9191038681327008, 0.07906269833399578, 1.0013640769274361, 0.8353772209348304, 0.16395253868814427, 0.965552992853348, 0.036855030240319546, 0.9950858164886277, 0.0655639117137147, 0.9342857419204345, 0.9963046528604871, 0.004389007281323731, 0.05860420950192322, 0.9962715615326948, 0.9967732330333618, 0.008376245655742536, 0.34793376147807503, 0.6549341392528472, 0.02011278017306193, 0.9855262284800346, 0.7039720368024996, 0.2957325451407761, 0.12619560244730735, 0.8518203165193247, 0.9873899691907115, 0.014105570988438737, 0.9601625129831326, 0.042864397901032705, 0.9859133312681136, 0.01895987175515603, 1.0016646678990644, 0.9941460117118772, 0.013807583495998295, 0.9829054896284144, 0.01755188374336454, 0.9886828717431269, 0.011235032633444622, 0.9957975450228979, 0.01464408154445438, 0.9961845152255371, 0.011859339466970679], \"Term\": [\"advertise\", \"advertise\", \"airbnb\", \"airbnb\", \"apartment\", \"apartment\", \"appartement\", \"appartement\", \"area\", \"area\", \"arrive\", \"arrive\", \"ask\", \"ask\", \"available\", \"available\", \"bad\", \"bad\", \"bathroom\", \"bathroom\", \"bed\", \"bed\", \"book\", \"break\", \"break\", \"cafe\", \"center\", \"center\", \"central\", \"city\", \"clean\", \"clean\", \"cleanliness\", \"cleanliness\", \"close\", \"close\", \"come\", \"come\", \"come_back\", \"come_back\", \"comfy\", \"comfy\", \"communication\", \"communication\", \"convenient\", \"cosy\", \"cosy\", \"cozy\", \"day\", \"day\", \"describe\", \"describe\", \"dirty\", \"door\", \"door\", \"exactly\", \"exactly\", \"experience\", \"experience\", \"find\", \"find\", \"gamla_stan\", \"get\", \"get\", \"go\", \"go\", \"good\", \"good\", \"great\", \"great\", \"guest\", \"guest\", \"gut\", \"heart\", \"historic\", \"home\", \"host\", \"host\", \"kitchen\", \"kitchen\", \"leave\", \"leave\", \"locate\", \"locate\", \"location\", \"location\", \"look\", \"make\", \"make\", \"minute\", \"minute\", \"money\", \"money\", \"need\", \"need\", \"never\", \"newly\", \"nice\", \"nice\", \"night\", \"night\", \"old_town\", \"owner\", \"perfect\", \"photo\", \"photo\", \"place\", \"place\", \"poor\", \"poor\", \"price\", \"price\", \"problem\", \"problem\", \"quiet\", \"really\", \"really\", \"renovate\", \"restaurant\", \"restaurant\", \"right\", \"right\", \"room\", \"room\", \"shop\", \"shop\", \"shower\", \"shower\", \"space\", \"space\", \"spacious\", \"spacious\", \"stay\", \"stay\", \"super\", \"super\", \"thing\", \"thing\", \"time\", \"time\", \"towel\", \"towel\", \"transport\", \"uncomfortable\", \"uncomfortable\", \"wait\", \"wait\", \"want\", \"want\", \"window\", \"window\", \"work\", \"work\"]}, \"R\": 30, \"lambda.step\": 0.01, \"plot.opts\": {\"xlab\": \"PC1\", \"ylab\": \"PC2\"}, \"topic.order\": [1, 2]};\n",
       "\n",
       "function LDAvis_load_lib(url, callback){\n",
       "  var s = document.createElement('script');\n",
       "  s.src = url;\n",
       "  s.async = true;\n",
       "  s.onreadystatechange = s.onload = callback;\n",
       "  s.onerror = function(){console.warn(\"failed to load library \" + url);};\n",
       "  document.getElementsByTagName(\"head\")[0].appendChild(s);\n",
       "}\n",
       "\n",
       "if(typeof(LDAvis) !== \"undefined\"){\n",
       "   // already loaded: just create the visualization\n",
       "   !function(LDAvis){\n",
       "       new LDAvis(\"#\" + \"ldavis_el18979140496628248448478624180\", ldavis_el18979140496628248448478624180_data);\n",
       "   }(LDAvis);\n",
       "}else if(typeof define === \"function\" && define.amd){\n",
       "   // require.js is available: use it to load d3/LDAvis\n",
       "   require.config({paths: {d3: \"https://d3js.org/d3.v5\"}});\n",
       "   require([\"d3\"], function(d3){\n",
       "      window.d3 = d3;\n",
       "      LDAvis_load_lib(\"https://cdn.jsdelivr.net/gh/bmabey/pyLDAvis@3.4.0/pyLDAvis/js/ldavis.v3.0.0.js\", function(){\n",
       "        new LDAvis(\"#\" + \"ldavis_el18979140496628248448478624180\", ldavis_el18979140496628248448478624180_data);\n",
       "      });\n",
       "    });\n",
       "}else{\n",
       "    // require.js not available: dynamically load d3 & LDAvis\n",
       "    LDAvis_load_lib(\"https://d3js.org/d3.v5.js\", function(){\n",
       "         LDAvis_load_lib(\"https://cdn.jsdelivr.net/gh/bmabey/pyLDAvis@3.4.0/pyLDAvis/js/ldavis.v3.0.0.js\", function(){\n",
       "                 new LDAvis(\"#\" + \"ldavis_el18979140496628248448478624180\", ldavis_el18979140496628248448478624180_data);\n",
       "            })\n",
       "         });\n",
       "}\n",
       "</script>"
      ],
      "text/plain": [
       "PreparedData(topic_coordinates=              x    y  topics  cluster       Freq\n",
       "topic                                           \n",
       "0      0.153722  0.0       1        1  69.504734\n",
       "1     -0.153722  0.0       2        1  30.495266, topic_info=          Term        Freq       Total Category  logprob  loglift\n",
       "33    location  232.000000  232.000000  Default  30.0000  30.0000\n",
       "138       need  117.000000  117.000000  Default  29.0000  29.0000\n",
       "22   apartment  395.000000  395.000000  Default  28.0000  28.0000\n",
       "154      close   90.000000   90.000000  Default  27.0000  27.0000\n",
       "168      great   70.000000   70.000000  Default  26.0000  26.0000\n",
       "..         ...         ...         ...      ...      ...      ...\n",
       "27        host  135.312078  414.232735   Topic2  -3.8199   0.0688\n",
       "10       place   89.556551  265.530056   Topic2  -4.2327   0.1007\n",
       "17        stay   91.720800  311.091902   Topic2  -4.2088  -0.0337\n",
       "533       poor   31.308668   45.395988   Topic2  -5.2836   0.8161\n",
       "176      space   32.156835   48.859875   Topic2  -5.2569   0.7693\n",
       "\n",
       "[121 rows x 6 columns], token_table=      Topic      Freq       Term\n",
       "term                            \n",
       "127       1  0.111411  advertise\n",
       "127       2  0.891292  advertise\n",
       "261       1  0.992812     airbnb\n",
       "261       2  0.007579     airbnb\n",
       "22        1  0.531150  apartment\n",
       "...     ...       ...        ...\n",
       "148       2  0.011235       want\n",
       "338       1  0.995798     window\n",
       "338       2  0.014644     window\n",
       "515       1  0.996185       work\n",
       "515       2  0.011859       work\n",
       "\n",
       "[153 rows x 3 columns], R=30, lambda_step=0.01, plot_opts={'xlab': 'PC1', 'ylab': 'PC2'}, topic_order=[1, 2])"
      ]
     },
     "execution_count": 35,
     "metadata": {},
     "output_type": "execute_result"
    }
   ],
   "source": [
    "pyLDAvis.enable_notebook()\n",
    "vis = pyLDAvis.gensim_models.prepare(lda_model, corpus, dictionary=lda_model.id2word)\n",
    "vis"
   ]
  },
  {
   "cell_type": "code",
   "execution_count": 31,
   "metadata": {},
   "outputs": [],
   "source": [
    "topics = lda_model.show_topics(formatted=False)"
   ]
  },
  {
   "cell_type": "code",
   "execution_count": 32,
   "metadata": {},
   "outputs": [
    {
     "data": {
      "image/png": "[encoded data removed]",
      "text/plain": [
       "<Figure size 1000x1000 with 2 Axes>"
      ]
     },
     "metadata": {},
     "output_type": "display_data"
    }
   ],
   "source": [
    "cols = [color for name, color in mcolors.TABLEAU_COLORS.items()]\n",
    "cloud = WordCloud(stopwords=stop_words,\n",
    "                  background_color='white',\n",
    "                  width=2500,\n",
    "                  height=1800,\n",
    "                  max_words=20,\n",
    "                  colormap='tab10',\n",
    "                  color_func=lambda *args, **kwargs: cols[i],\n",
    "                  prefer_horizontal=1.0)\n",
    "\n",
    "fig, axes = plt.subplots(1, 2, figsize=(10,10), sharex=True, sharey=True)\n",
    "\n",
    "groups = {0: 'Issues and Complaints',\n",
    "          1: 'Location and Accessibility',\n",
    "          2: 'Host and Service Experience'\n",
    "        }\n",
    "\n",
    "for i, ax in enumerate(axes.flatten()):\n",
    "    fig.add_subplot(ax)\n",
    "    topic_words = dict(topics[i][1])\n",
    "    cloud.generate_from_frequencies(topic_words, max_font_size=350)\n",
    "    plt.gca().imshow(cloud)\n",
    "    plt.gca().set_title(groups.get(i), fontdict=dict(size=14))\n",
    "    plt.gca().axis('off')\n",
    "\n",
    "\n",
    "plt.subplots_adjust(wspace=30, hspace=10)\n",
    "plt.axis('off')\n",
    "#plt.margins(x=0, y=0)\n",
    "plt.tight_layout()\n",
    "plt.show()"
   ]
  },
  {
   "cell_type": "code",
   "execution_count": 33,
   "metadata": {},
   "outputs": [
    {
     "data": {
      "text/html": [
       "<div>\n",
       "<style scoped>\n",
       "    .dataframe tbody tr th:only-of-type {\n",
       "        vertical-align: middle;\n",
       "    }\n",
       "\n",
       "    .dataframe tbody tr th {\n",
       "        vertical-align: top;\n",
       "    }\n",
       "\n",
       "    .dataframe thead th {\n",
       "        text-align: right;\n",
       "    }\n",
       "</style>\n",
       "<table border=\"1\" class=\"dataframe\">\n",
       "  <thead>\n",
       "    <tr style=\"text-align: right;\">\n",
       "      <th></th>\n",
       "      <th>neighbourhood</th>\n",
       "      <th>dominant_topic</th>\n",
       "      <th>number_of_reviews</th>\n",
       "    </tr>\n",
       "  </thead>\n",
       "  <tbody>\n",
       "    <tr>\n",
       "      <th>0</th>\n",
       "      <td>Södermalm</td>\n",
       "      <td>0</td>\n",
       "      <td>321</td>\n",
       "    </tr>\n",
       "    <tr>\n",
       "      <th>1</th>\n",
       "      <td>Södermalm</td>\n",
       "      <td>1</td>\n",
       "      <td>276</td>\n",
       "    </tr>\n",
       "    <tr>\n",
       "      <th>2</th>\n",
       "      <td>Kungsholmen</td>\n",
       "      <td>0</td>\n",
       "      <td>86</td>\n",
       "    </tr>\n",
       "    <tr>\n",
       "      <th>3</th>\n",
       "      <td>Norrmalm</td>\n",
       "      <td>0</td>\n",
       "      <td>81</td>\n",
       "    </tr>\n",
       "    <tr>\n",
       "      <th>4</th>\n",
       "      <td>Kungsholmen</td>\n",
       "      <td>1</td>\n",
       "      <td>80</td>\n",
       "    </tr>\n",
       "    <tr>\n",
       "      <th>5</th>\n",
       "      <td>Norrmalm</td>\n",
       "      <td>1</td>\n",
       "      <td>67</td>\n",
       "    </tr>\n",
       "    <tr>\n",
       "      <th>6</th>\n",
       "      <td>Enskede-Årsta-Vantör</td>\n",
       "      <td>1</td>\n",
       "      <td>38</td>\n",
       "    </tr>\n",
       "    <tr>\n",
       "      <th>7</th>\n",
       "      <td>Enskede-Årsta-Vantör</td>\n",
       "      <td>0</td>\n",
       "      <td>30</td>\n",
       "    </tr>\n",
       "    <tr>\n",
       "      <th>8</th>\n",
       "      <td>Hägersten-Liljeholmen</td>\n",
       "      <td>0</td>\n",
       "      <td>23</td>\n",
       "    </tr>\n",
       "    <tr>\n",
       "      <th>9</th>\n",
       "      <td>Östermalm</td>\n",
       "      <td>0</td>\n",
       "      <td>20</td>\n",
       "    </tr>\n",
       "    <tr>\n",
       "      <th>10</th>\n",
       "      <td>Älvsjö</td>\n",
       "      <td>0</td>\n",
       "      <td>20</td>\n",
       "    </tr>\n",
       "    <tr>\n",
       "      <th>11</th>\n",
       "      <td>Skarpnäck</td>\n",
       "      <td>0</td>\n",
       "      <td>20</td>\n",
       "    </tr>\n",
       "    <tr>\n",
       "      <th>12</th>\n",
       "      <td>Östermalm</td>\n",
       "      <td>1</td>\n",
       "      <td>20</td>\n",
       "    </tr>\n",
       "    <tr>\n",
       "      <th>13</th>\n",
       "      <td>Hägersten-Liljeholmen</td>\n",
       "      <td>1</td>\n",
       "      <td>19</td>\n",
       "    </tr>\n",
       "    <tr>\n",
       "      <th>14</th>\n",
       "      <td>Skarpnäck</td>\n",
       "      <td>1</td>\n",
       "      <td>17</td>\n",
       "    </tr>\n",
       "    <tr>\n",
       "      <th>15</th>\n",
       "      <td>Skärholmen</td>\n",
       "      <td>1</td>\n",
       "      <td>14</td>\n",
       "    </tr>\n",
       "    <tr>\n",
       "      <th>16</th>\n",
       "      <td>Bromma</td>\n",
       "      <td>1</td>\n",
       "      <td>13</td>\n",
       "    </tr>\n",
       "    <tr>\n",
       "      <th>17</th>\n",
       "      <td>Hässelby-Vällingby</td>\n",
       "      <td>1</td>\n",
       "      <td>12</td>\n",
       "    </tr>\n",
       "    <tr>\n",
       "      <th>18</th>\n",
       "      <td>Farsta</td>\n",
       "      <td>1</td>\n",
       "      <td>12</td>\n",
       "    </tr>\n",
       "    <tr>\n",
       "      <th>19</th>\n",
       "      <td>Farsta</td>\n",
       "      <td>0</td>\n",
       "      <td>10</td>\n",
       "    </tr>\n",
       "    <tr>\n",
       "      <th>20</th>\n",
       "      <td>Skärholmen</td>\n",
       "      <td>0</td>\n",
       "      <td>10</td>\n",
       "    </tr>\n",
       "    <tr>\n",
       "      <th>21</th>\n",
       "      <td>Bromma</td>\n",
       "      <td>0</td>\n",
       "      <td>9</td>\n",
       "    </tr>\n",
       "    <tr>\n",
       "      <th>22</th>\n",
       "      <td>Älvsjö</td>\n",
       "      <td>1</td>\n",
       "      <td>7</td>\n",
       "    </tr>\n",
       "    <tr>\n",
       "      <th>23</th>\n",
       "      <td>Spånga-Tensta</td>\n",
       "      <td>1</td>\n",
       "      <td>4</td>\n",
       "    </tr>\n",
       "    <tr>\n",
       "      <th>24</th>\n",
       "      <td>Spånga-Tensta</td>\n",
       "      <td>0</td>\n",
       "      <td>4</td>\n",
       "    </tr>\n",
       "    <tr>\n",
       "      <th>25</th>\n",
       "      <td>Rinkeby-Tensta</td>\n",
       "      <td>1</td>\n",
       "      <td>4</td>\n",
       "    </tr>\n",
       "    <tr>\n",
       "      <th>26</th>\n",
       "      <td>Hässelby-Vällingby</td>\n",
       "      <td>0</td>\n",
       "      <td>4</td>\n",
       "    </tr>\n",
       "    <tr>\n",
       "      <th>27</th>\n",
       "      <td>Rinkeby-Tensta</td>\n",
       "      <td>0</td>\n",
       "      <td>4</td>\n",
       "    </tr>\n",
       "  </tbody>\n",
       "</table>\n",
       "</div>"
      ],
      "text/plain": [
       "            neighbourhood  dominant_topic  number_of_reviews\n",
       "0               Södermalm               0                321\n",
       "1               Södermalm               1                276\n",
       "2             Kungsholmen               0                 86\n",
       "3                Norrmalm               0                 81\n",
       "4             Kungsholmen               1                 80\n",
       "5                Norrmalm               1                 67\n",
       "6    Enskede-Årsta-Vantör               1                 38\n",
       "7    Enskede-Årsta-Vantör               0                 30\n",
       "8   Hägersten-Liljeholmen               0                 23\n",
       "9               Östermalm               0                 20\n",
       "10                 Älvsjö               0                 20\n",
       "11              Skarpnäck               0                 20\n",
       "12              Östermalm               1                 20\n",
       "13  Hägersten-Liljeholmen               1                 19\n",
       "14              Skarpnäck               1                 17\n",
       "15             Skärholmen               1                 14\n",
       "16                 Bromma               1                 13\n",
       "17     Hässelby-Vällingby               1                 12\n",
       "18                 Farsta               1                 12\n",
       "19                 Farsta               0                 10\n",
       "20             Skärholmen               0                 10\n",
       "21                 Bromma               0                  9\n",
       "22                 Älvsjö               1                  7\n",
       "23          Spånga-Tensta               1                  4\n",
       "24          Spånga-Tensta               0                  4\n",
       "25         Rinkeby-Tensta               1                  4\n",
       "26     Hässelby-Vällingby               0                  4\n",
       "27         Rinkeby-Tensta               0                  4"
      ]
     },
     "execution_count": 33,
     "metadata": {},
     "output_type": "execute_result"
    }
   ],
   "source": [
    "numnber_topic_by_neighbourhood = (df_dominant_topic.groupby(['neighbourhood', 'dominant_topic'])\n",
    "        .agg(number_of_reviews=('number_of_reviews', 'count'))\n",
    "        .sort_values('number_of_reviews', ascending=False)\n",
    "        .reset_index())\n",
    "numnber_topic_by_neighbourhood "
   ]
  },
  {
   "cell_type": "code",
   "execution_count": 34,
   "metadata": {},
   "outputs": [
    {
     "data": {
      "application/vnd.plotly.v1+json": {
       "config": {
        "plotlyServerURL": "https://plotly.com"
       },
       "data": [
        {
         "branchvalues": "total",
         "domain": {
          "x": [
           0,
           1
          ],
          "y": [
           0,
           1
          ]
         },
         "hovertemplate": "labels=%{label}<br>number_of_reviews=%{value}<br>parent=%{parent}<br>id=%{id}<extra></extra>",
         "ids": [
          "Bromma/0",
          "Enskede-Årsta-Vantör/0",
          "Farsta/0",
          "Hägersten-Liljeholmen/0",
          "Hässelby-Vällingby/0",
          "Kungsholmen/0",
          "Norrmalm/0",
          "Rinkeby-Tensta/0",
          "Skarpnäck/0",
          "Skärholmen/0",
          "Spånga-Tensta/0",
          "Södermalm/0",
          "Älvsjö/0",
          "Östermalm/0",
          "Bromma/1",
          "Enskede-Årsta-Vantör/1",
          "Farsta/1",
          "Hägersten-Liljeholmen/1",
          "Hässelby-Vällingby/1",
          "Kungsholmen/1",
          "Norrmalm/1",
          "Rinkeby-Tensta/1",
          "Skarpnäck/1",
          "Skärholmen/1",
          "Spånga-Tensta/1",
          "Södermalm/1",
          "Älvsjö/1",
          "Östermalm/1",
          "Bromma",
          "Enskede-Årsta-Vantör",
          "Farsta",
          "Hägersten-Liljeholmen",
          "Hässelby-Vällingby",
          "Kungsholmen",
          "Norrmalm",
          "Rinkeby-Tensta",
          "Skarpnäck",
          "Skärholmen",
          "Spånga-Tensta",
          "Södermalm",
          "Älvsjö",
          "Östermalm"
         ],
         "labels": [
          "0",
          "0",
          "0",
          "0",
          "0",
          "0",
          "0",
          "0",
          "0",
          "0",
          "0",
          "0",
          "0",
          "0",
          "1",
          "1",
          "1",
          "1",
          "1",
          "1",
          "1",
          "1",
          "1",
          "1",
          "1",
          "1",
          "1",
          "1",
          "Bromma",
          "Enskede-Årsta-Vantör",
          "Farsta",
          "Hägersten-Liljeholmen",
          "Hässelby-Vällingby",
          "Kungsholmen",
          "Norrmalm",
          "Rinkeby-Tensta",
          "Skarpnäck",
          "Skärholmen",
          "Spånga-Tensta",
          "Södermalm",
          "Älvsjö",
          "Östermalm"
         ],
         "marker": {
          "colors": [
           null,
           null,
           null,
           null,
           null,
           null,
           null,
           null,
           null,
           null,
           null,
           null,
           null,
           null,
           null,
           null,
           null,
           null,
           null,
           null,
           null,
           null,
           null,
           null,
           null,
           null,
           null,
           null,
           null,
           null,
           null,
           null,
           null,
           null,
           null,
           null,
           null,
           null,
           null,
           null,
           null,
           null
          ]
         },
         "name": "",
         "parents": [
          "Bromma",
          "Enskede-Årsta-Vantör",
          "Farsta",
          "Hägersten-Liljeholmen",
          "Hässelby-Vällingby",
          "Kungsholmen",
          "Norrmalm",
          "Rinkeby-Tensta",
          "Skarpnäck",
          "Skärholmen",
          "Spånga-Tensta",
          "Södermalm",
          "Älvsjö",
          "Östermalm",
          "Bromma",
          "Enskede-Årsta-Vantör",
          "Farsta",
          "Hägersten-Liljeholmen",
          "Hässelby-Vällingby",
          "Kungsholmen",
          "Norrmalm",
          "Rinkeby-Tensta",
          "Skarpnäck",
          "Skärholmen",
          "Spånga-Tensta",
          "Södermalm",
          "Älvsjö",
          "Östermalm",
          "",
          "",
          "",
          "",
          "",
          "",
          "",
          "",
          "",
          "",
          "",
          "",
          "",
          ""
         ],
         "type": "treemap",
         "values": [
          9,
          30,
          10,
          23,
          4,
          86,
          81,
          4,
          20,
          10,
          4,
          321,
          20,
          20,
          13,
          38,
          12,
          19,
          12,
          80,
          67,
          4,
          17,
          14,
          4,
          276,
          7,
          20,
          22,
          68,
          22,
          42,
          16,
          166,
          148,
          8,
          37,
          24,
          8,
          597,
          27,
          40
         ]
        }
       ],
       "layout": {
        "legend": {
         "tracegroupgap": 0
        },
        "margin": {
         "t": 60
        },
        "template": {
         "data": {
          "bar": [
           {
            "error_x": {
             "color": "#2a3f5f"
            },
            "error_y": {
             "color": "#2a3f5f"
            },
            "marker": {
             "line": {
              "color": "#E5ECF6",
              "width": 0.5
             },
             "pattern": {
              "fillmode": "overlay",
              "size": 10,
              "solidity": 0.2
             }
            },
            "type": "bar"
           }
          ],
          "barpolar": [
           {
            "marker": {
             "line": {
              "color": "#E5ECF6",
              "width": 0.5
             },
             "pattern": {
              "fillmode": "overlay",
              "size": 10,
              "solidity": 0.2
             }
            },
            "type": "barpolar"
           }
          ],
          "carpet": [
           {
            "aaxis": {
             "endlinecolor": "#2a3f5f",
             "gridcolor": "white",
             "linecolor": "white",
             "minorgridcolor": "white",
             "startlinecolor": "#2a3f5f"
            },
            "baxis": {
             "endlinecolor": "#2a3f5f",
             "gridcolor": "white",
             "linecolor": "white",
             "minorgridcolor": "white",
             "startlinecolor": "#2a3f5f"
            },
            "type": "carpet"
           }
          ],
          "choropleth": [
           {
            "colorbar": {
             "outlinewidth": 0,
             "ticks": ""
            },
            "type": "choropleth"
           }
          ],
          "contour": [
           {
            "colorbar": {
             "outlinewidth": 0,
             "ticks": ""
            },
            "colorscale": [
             [
              0,
              "#0d0887"
             ],
             [
              0.1111111111111111,
              "#46039f"
             ],
             [
              0.2222222222222222,
              "#7201a8"
             ],
             [
              0.3333333333333333,
              "#9c179e"
             ],
             [
              0.4444444444444444,
              "#bd3786"
             ],
             [
              0.5555555555555556,
              "#d8576b"
             ],
             [
              0.6666666666666666,
              "#ed7953"
             ],
             [
              0.7777777777777778,
              "#fb9f3a"
             ],
             [
              0.8888888888888888,
              "#fdca26"
             ],
             [
              1,
              "#f0f921"
             ]
            ],
            "type": "contour"
           }
          ],
          "contourcarpet": [
           {
            "colorbar": {
             "outlinewidth": 0,
             "ticks": ""
            },
            "type": "contourcarpet"
           }
          ],
          "heatmap": [
           {
            "colorbar": {
             "outlinewidth": 0,
             "ticks": ""
            },
            "colorscale": [
             [
              0,
              "#0d0887"
             ],
             [
              0.1111111111111111,
              "#46039f"
             ],
             [
              0.2222222222222222,
              "#7201a8"
             ],
             [
              0.3333333333333333,
              "#9c179e"
             ],
             [
              0.4444444444444444,
              "#bd3786"
             ],
             [
              0.5555555555555556,
              "#d8576b"
             ],
             [
              0.6666666666666666,
              "#ed7953"
             ],
             [
              0.7777777777777778,
              "#fb9f3a"
             ],
             [
              0.8888888888888888,
              "#fdca26"
             ],
             [
              1,
              "#f0f921"
             ]
            ],
            "type": "heatmap"
           }
          ],
          "heatmapgl": [
           {
            "colorbar": {
             "outlinewidth": 0,
             "ticks": ""
            },
            "colorscale": [
             [
              0,
              "#0d0887"
             ],
             [
              0.1111111111111111,
              "#46039f"
             ],
             [
              0.2222222222222222,
              "#7201a8"
             ],
             [
              0.3333333333333333,
              "#9c179e"
             ],
             [
              0.4444444444444444,
              "#bd3786"
             ],
             [
              0.5555555555555556,
              "#d8576b"
             ],
             [
              0.6666666666666666,
              "#ed7953"
             ],
             [
              0.7777777777777778,
              "#fb9f3a"
             ],
             [
              0.8888888888888888,
              "#fdca26"
             ],
             [
              1,
              "#f0f921"
             ]
            ],
            "type": "heatmapgl"
           }
          ],
          "histogram": [
           {
            "marker": {
             "pattern": {
              "fillmode": "overlay",
              "size": 10,
              "solidity": 0.2
             }
            },
            "type": "histogram"
           }
          ],
          "histogram2d": [
           {
            "colorbar": {
             "outlinewidth": 0,
             "ticks": ""
            },
            "colorscale": [
             [
              0,
              "#0d0887"
             ],
             [
              0.1111111111111111,
              "#46039f"
             ],
             [
              0.2222222222222222,
              "#7201a8"
             ],
             [
              0.3333333333333333,
              "#9c179e"
             ],
             [
              0.4444444444444444,
              "#bd3786"
             ],
             [
              0.5555555555555556,
              "#d8576b"
             ],
             [
              0.6666666666666666,
              "#ed7953"
             ],
             [
              0.7777777777777778,
              "#fb9f3a"
             ],
             [
              0.8888888888888888,
              "#fdca26"
             ],
             [
              1,
              "#f0f921"
             ]
            ],
            "type": "histogram2d"
           }
          ],
          "histogram2dcontour": [
           {
            "colorbar": {
             "outlinewidth": 0,
             "ticks": ""
            },
            "colorscale": [
             [
              0,
              "#0d0887"
             ],
             [
              0.1111111111111111,
              "#46039f"
             ],
             [
              0.2222222222222222,
              "#7201a8"
             ],
             [
              0.3333333333333333,
              "#9c179e"
             ],
             [
              0.4444444444444444,
              "#bd3786"
             ],
             [
              0.5555555555555556,
              "#d8576b"
             ],
             [
              0.6666666666666666,
              "#ed7953"
             ],
             [
              0.7777777777777778,
              "#fb9f3a"
             ],
             [
              0.8888888888888888,
              "#fdca26"
             ],
             [
              1,
              "#f0f921"
             ]
            ],
            "type": "histogram2dcontour"
           }
          ],
          "mesh3d": [
           {
            "colorbar": {
             "outlinewidth": 0,
             "ticks": ""
            },
            "type": "mesh3d"
           }
          ],
          "parcoords": [
           {
            "line": {
             "colorbar": {
              "outlinewidth": 0,
              "ticks": ""
             }
            },
            "type": "parcoords"
           }
          ],
          "pie": [
           {
            "automargin": true,
            "type": "pie"
           }
          ],
          "scatter": [
           {
            "fillpattern": {
             "fillmode": "overlay",
             "size": 10,
             "solidity": 0.2
            },
            "type": "scatter"
           }
          ],
          "scatter3d": [
           {
            "line": {
             "colorbar": {
              "outlinewidth": 0,
              "ticks": ""
             }
            },
            "marker": {
             "colorbar": {
              "outlinewidth": 0,
              "ticks": ""
             }
            },
            "type": "scatter3d"
           }
          ],
          "scattercarpet": [
           {
            "marker": {
             "colorbar": {
              "outlinewidth": 0,
              "ticks": ""
             }
            },
            "type": "scattercarpet"
           }
          ],
          "scattergeo": [
           {
            "marker": {
             "colorbar": {
              "outlinewidth": 0,
              "ticks": ""
             }
            },
            "type": "scattergeo"
           }
          ],
          "scattergl": [
           {
            "marker": {
             "colorbar": {
              "outlinewidth": 0,
              "ticks": ""
             }
            },
            "type": "scattergl"
           }
          ],
          "scattermapbox": [
           {
            "marker": {
             "colorbar": {
              "outlinewidth": 0,
              "ticks": ""
             }
            },
            "type": "scattermapbox"
           }
          ],
          "scatterpolar": [
           {
            "marker": {
             "colorbar": {
              "outlinewidth": 0,
              "ticks": ""
             }
            },
            "type": "scatterpolar"
           }
          ],
          "scatterpolargl": [
           {
            "marker": {
             "colorbar": {
              "outlinewidth": 0,
              "ticks": ""
             }
            },
            "type": "scatterpolargl"
           }
          ],
          "scatterternary": [
           {
            "marker": {
             "colorbar": {
              "outlinewidth": 0,
              "ticks": ""
             }
            },
            "type": "scatterternary"
           }
          ],
          "surface": [
           {
            "colorbar": {
             "outlinewidth": 0,
             "ticks": ""
            },
            "colorscale": [
             [
              0,
              "#0d0887"
             ],
             [
              0.1111111111111111,
              "#46039f"
             ],
             [
              0.2222222222222222,
              "#7201a8"
             ],
             [
              0.3333333333333333,
              "#9c179e"
             ],
             [
              0.4444444444444444,
              "#bd3786"
             ],
             [
              0.5555555555555556,
              "#d8576b"
             ],
             [
              0.6666666666666666,
              "#ed7953"
             ],
             [
              0.7777777777777778,
              "#fb9f3a"
             ],
             [
              0.8888888888888888,
              "#fdca26"
             ],
             [
              1,
              "#f0f921"
             ]
            ],
            "type": "surface"
           }
          ],
          "table": [
           {
            "cells": {
             "fill": {
              "color": "#EBF0F8"
             },
             "line": {
              "color": "white"
             }
            },
            "header": {
             "fill": {
              "color": "#C8D4E3"
             },
             "line": {
              "color": "white"
             }
            },
            "type": "table"
           }
          ]
         },
         "layout": {
          "annotationdefaults": {
           "arrowcolor": "#2a3f5f",
           "arrowhead": 0,
           "arrowwidth": 1
          },
          "autotypenumbers": "strict",
          "coloraxis": {
           "colorbar": {
            "outlinewidth": 0,
            "ticks": ""
           }
          },
          "colorscale": {
           "diverging": [
            [
             0,
             "#8e0152"
            ],
            [
             0.1,
             "#c51b7d"
            ],
            [
             0.2,
             "#de77ae"
            ],
            [
             0.3,
             "#f1b6da"
            ],
            [
             0.4,
             "#fde0ef"
            ],
            [
             0.5,
             "#f7f7f7"
            ],
            [
             0.6,
             "#e6f5d0"
            ],
            [
             0.7,
             "#b8e186"
            ],
            [
             0.8,
             "#7fbc41"
            ],
            [
             0.9,
             "#4d9221"
            ],
            [
             1,
             "#276419"
            ]
           ],
           "sequential": [
            [
             0,
             "#0d0887"
            ],
            [
             0.1111111111111111,
             "#46039f"
            ],
            [
             0.2222222222222222,
             "#7201a8"
            ],
            [
             0.3333333333333333,
             "#9c179e"
            ],
            [
             0.4444444444444444,
             "#bd3786"
            ],
            [
             0.5555555555555556,
             "#d8576b"
            ],
            [
             0.6666666666666666,
             "#ed7953"
            ],
            [
             0.7777777777777778,
             "#fb9f3a"
            ],
            [
             0.8888888888888888,
             "#fdca26"
            ],
            [
             1,
             "#f0f921"
            ]
           ],
           "sequentialminus": [
            [
             0,
             "#0d0887"
            ],
            [
             0.1111111111111111,
             "#46039f"
            ],
            [
             0.2222222222222222,
             "#7201a8"
            ],
            [
             0.3333333333333333,
             "#9c179e"
            ],
            [
             0.4444444444444444,
             "#bd3786"
            ],
            [
             0.5555555555555556,
             "#d8576b"
            ],
            [
             0.6666666666666666,
             "#ed7953"
            ],
            [
             0.7777777777777778,
             "#fb9f3a"
            ],
            [
             0.8888888888888888,
             "#fdca26"
            ],
            [
             1,
             "#f0f921"
            ]
           ]
          },
          "colorway": [
           "#636efa",
           "#EF553B",
           "#00cc96",
           "#ab63fa",
           "#FFA15A",
           "#19d3f3",
           "#FF6692",
           "#B6E880",
           "#FF97FF",
           "#FECB52"
          ],
          "font": {
           "color": "#2a3f5f"
          },
          "geo": {
           "bgcolor": "white",
           "lakecolor": "white",
           "landcolor": "#E5ECF6",
           "showlakes": true,
           "showland": true,
           "subunitcolor": "white"
          },
          "hoverlabel": {
           "align": "left"
          },
          "hovermode": "closest",
          "mapbox": {
           "style": "light"
          },
          "paper_bgcolor": "white",
          "plot_bgcolor": "#E5ECF6",
          "polar": {
           "angularaxis": {
            "gridcolor": "white",
            "linecolor": "white",
            "ticks": ""
           },
           "bgcolor": "#E5ECF6",
           "radialaxis": {
            "gridcolor": "white",
            "linecolor": "white",
            "ticks": ""
           }
          },
          "scene": {
           "xaxis": {
            "backgroundcolor": "#E5ECF6",
            "gridcolor": "white",
            "gridwidth": 2,
            "linecolor": "white",
            "showbackground": true,
            "ticks": "",
            "zerolinecolor": "white"
           },
           "yaxis": {
            "backgroundcolor": "#E5ECF6",
            "gridcolor": "white",
            "gridwidth": 2,
            "linecolor": "white",
            "showbackground": true,
            "ticks": "",
            "zerolinecolor": "white"
           },
           "zaxis": {
            "backgroundcolor": "#E5ECF6",
            "gridcolor": "white",
            "gridwidth": 2,
            "linecolor": "white",
            "showbackground": true,
            "ticks": "",
            "zerolinecolor": "white"
           }
          },
          "shapedefaults": {
           "line": {
            "color": "#2a3f5f"
           }
          },
          "ternary": {
           "aaxis": {
            "gridcolor": "white",
            "linecolor": "white",
            "ticks": ""
           },
           "baxis": {
            "gridcolor": "white",
            "linecolor": "white",
            "ticks": ""
           },
           "bgcolor": "#E5ECF6",
           "caxis": {
            "gridcolor": "white",
            "linecolor": "white",
            "ticks": ""
           }
          },
          "title": {
           "x": 0.05
          },
          "xaxis": {
           "automargin": true,
           "gridcolor": "white",
           "linecolor": "white",
           "ticks": "",
           "title": {
            "standoff": 15
           },
           "zerolinecolor": "white",
           "zerolinewidth": 2
          },
          "yaxis": {
           "automargin": true,
           "gridcolor": "white",
           "linecolor": "white",
           "ticks": "",
           "title": {
            "standoff": 15
           },
           "zerolinecolor": "white",
           "zerolinewidth": 2
          }
         }
        },
        "treemapcolorway": [
         "rgb(95, 70, 144)",
         "rgb(29, 105, 150)",
         "rgb(56, 166, 165)",
         "rgb(15, 133, 84)",
         "rgb(115, 175, 72)",
         "rgb(237, 173, 8)",
         "rgb(225, 124, 5)",
         "rgb(204, 80, 62)",
         "rgb(148, 52, 110)",
         "rgb(111, 64, 112)",
         "rgb(102, 102, 102)"
        ]
       }
      }
     },
     "metadata": {},
     "output_type": "display_data"
    }
   ],
   "source": [
    "# Define a custom color mapping function\n",
    "def get_tile_color(tile_path):\n",
    "    # Get the name of the neighbourhood and the dominant topic from the tile path\n",
    "    neighbourhood, dominant_topic = tile_path[-2:]\n",
    "\n",
    "    # Assign a specific color to each combination of neighbourhood and dominant topic\n",
    "    if dominant_topic == 'topic 0' and neighbourhood == 'Neighbourhood 1':\n",
    "        return 'red'\n",
    "    elif dominant_topic == 'topic 1' and neighbourhood == 'Neighbourhood 2':\n",
    "        return 'green'\n",
    "    else:\n",
    "        # Use the default color scale for all other tiles\n",
    "        return None\n",
    "\n",
    "# Create the treemap with the custom color mapping function\n",
    "fig = px.treemap(\n",
    "    numnber_topic_by_neighbourhood,\n",
    "    path=['neighbourhood', 'dominant_topic'],\n",
    "    values='number_of_reviews',\n",
    "    color_discrete_sequence=PALETTE,\n",
    "    color_continuous_midpoint=np.average(numnber_topic_by_neighbourhood['number_of_reviews']),\n",
    ")\n",
    "\n",
    "# Apply the custom color mapping function to each tile\n",
    "fig.data[0].marker.colors = [get_tile_color(tile_path) for tile_path in fig.data[0].ids]\n",
    "\n",
    "# Show the figure\n",
    "fig.show()"
   ]
  }
 ],
 "metadata": {
  "kernelspec": {
   "display_name": "Python 3",
   "language": "python",
   "name": "python3"
  },
  "language_info": {
   "codemirror_mode": {
    "name": "ipython",
    "version": 3
   },
   "file_extension": ".py",
   "mimetype": "text/x-python",
   "name": "python",
   "nbconvert_exporter": "python",
   "pygments_lexer": "ipython3",
   "version": "3.10.10 (v3.10.10:aad5f6a891, Feb  7 2023, 08:47:40) [Clang 13.0.0 (clang-1300.0.29.30)]"
  },
  "orig_nbformat": 4,
  "vscode": {
   "interpreter": {
    "hash": "aee8b7b246df8f9039afb4144a1f6fd8d2ca17a180786b69acc140d282b71a49"
   }
  }
 },
 "nbformat": 4,
 "nbformat_minor": 2
}
