{
 "cells": [
  {
   "attachments": {},
   "cell_type": "markdown",
   "metadata": {},
   "source": [
    "# Topic Modelling on Negative Reviews"
   ]
  },
  {
   "cell_type": "code",
   "execution_count": 30,
   "metadata": {},
   "outputs": [],
   "source": [
    "# import libraries\n",
    "from pathlib import Path\n",
    "import pandas as pd\n",
    "import numpy as np\n",
    "import gensim, spacy\n",
    "import gensim.corpora as corpora\n",
    "from gensim.utils import simple_preprocess\n",
    "from nltk.corpus import stopwords\n",
    "from joblib import dump\n",
    "from wordcloud import WordCloud\n",
    "from matplotlib import pyplot as plt\n",
    "import matplotlib.colors as mcolors\n",
    "import plotly.express as px\n",
    "import pyLDAvis\n",
    "import pyLDAvis.gensim_models\n",
    "import warnings\n",
    "warnings.filterwarnings(\"ignore\")"
   ]
  },
  {
   "cell_type": "code",
   "execution_count": 31,
   "metadata": {},
   "outputs": [],
   "source": [
    "# default\n",
    "BASE_DIR = Path.cwd().parent\n",
    "stop_words = stopwords.words('english')\n",
    "PALETTE = px.colors.qualitative.Prism"
   ]
  },
  {
   "cell_type": "code",
   "execution_count": 32,
   "metadata": {},
   "outputs": [],
   "source": [
    "# load the labeled data\n",
    "df_hosts_reviews_en = pd.read_parquet(BASE_DIR / 'processed_data' / 'hosts_reviews_en_labeled.parquet')"
   ]
  },
  {
   "cell_type": "code",
   "execution_count": 33,
   "metadata": {},
   "outputs": [],
   "source": [
    "# subset only negative reviews\n",
    "df_hosts_reviews_en = df_hosts_reviews_en.query('sentiment_label_class == 0').reset_index()"
   ]
  },
  {
   "cell_type": "code",
   "execution_count": 34,
   "metadata": {},
   "outputs": [
    {
     "name": "stdout",
     "output_type": "stream",
     "text": [
      "['stayed', 'three', 'nights', 'couldnt', 'helpful', 'soon', 'got', 'showed', 'us', 'get', 'around', 'visit', 'place', 'conveniently', 'located', 'metro', 'station', 'walking', 'distance', 'market', 'many', 'restaurants', 'clean', 'privacy', 'issue', 'despite', 'guests', 'staying', 'well', 'wifi', 'reliable', 'youre', 'vacation', 'doesnt', 'really', 'matter']\n"
     ]
    }
   ],
   "source": [
    "# split text into words\n",
    "def sent_to_words(sentences):\n",
    "    for sent in sentences:\n",
    "        sent = gensim.utils.simple_preprocess(str(sent), deacc=True) \n",
    "        yield(sent)  \n",
    "\n",
    "# convert to list\n",
    "data = df_hosts_reviews_en['comments'].values.tolist()\n",
    "data_words = list(sent_to_words(data))\n",
    "print(data_words[0])"
   ]
  },
  {
   "cell_type": "code",
   "execution_count": 35,
   "metadata": {},
   "outputs": [],
   "source": [
    "# preprocess data\n",
    "nlp = spacy.load(\"en_core_web_sm\")\n",
    "stop_words.append('also')\n",
    "bigram = gensim.models.Phrases(data_words, min_count=1, threshold=100) # higher threshold fewer phrases.\n",
    "trigram = gensim.models.Phrases(bigram[data_words], threshold=100)  \n",
    "bigram_mod = gensim.models.phrases.Phraser(bigram)\n",
    "trigram_mod = gensim.models.phrases.Phraser(trigram)\n",
    "\n",
    "def process_words(texts, stop_words=stop_words, allowed_postags=['NOUN', 'ADJ', 'VERB', 'ADV']):\n",
    "    #Form Bigrams, Trigrams and Lemmatization\n",
    "    #texts = [[word for word in simple_preprocess(str(doc)) if word not in stop_words] for doc in texts] #already removed\n",
    "    texts = [bigram_mod[doc] for doc in texts]\n",
    "    texts = [trigram_mod[bigram_mod[doc]] for doc in texts]\n",
    "    texts_out = []\n",
    "    for sent in texts:\n",
    "        doc = nlp(\" \".join(sent)) \n",
    "        texts_out.append([token.lemma_ for token in doc if token.pos_ in allowed_postags])\n",
    "    # remove stopwords once more after lemmatization\n",
    "    texts_out = [[word for word in simple_preprocess(str(doc)) if word not in stop_words] for doc in texts_out]    \n",
    "    return texts_out\n",
    "\n",
    "data_ready = process_words(data_words)"
   ]
  },
  {
   "cell_type": "code",
   "execution_count": 36,
   "metadata": {},
   "outputs": [
    {
     "data": {
      "text/plain": [
       "[(0,\n",
       "  '0.019*\"host\" + 0.016*\"apartment\" + 0.015*\"room\" + 0.014*\"stay\" + 0.013*\"bed\" + 0.012*\"place\" + 0.011*\"leave\" + 0.011*\"clean\" + 0.011*\"dirty\" + 0.009*\"get\"'),\n",
       " (1,\n",
       "  '0.037*\"location\" + 0.026*\"apartment\" + 0.021*\"host\" + 0.019*\"need\" + 0.016*\"stay\" + 0.015*\"place\" + 0.014*\"close\" + 0.010*\"great\" + 0.009*\"right\" + 0.009*\"cleanliness\"')]"
      ]
     },
     "execution_count": 36,
     "metadata": {},
     "output_type": "execute_result"
    }
   ],
   "source": [
    "# create dictionary\n",
    "id2word = corpora.Dictionary(data_ready)\n",
    "\n",
    "# create corpus: term document frequency\n",
    "corpus = [id2word.doc2bow(text) for text in data_ready]\n",
    "\n",
    "# train a LDA model\n",
    "lda = gensim.models.ldamodel.LdaModel(corpus=corpus,\n",
    "                                           id2word=id2word,\n",
    "                                           num_topics=2, \n",
    "                                           random_state=42,\n",
    "                                           update_every=1,\n",
    "                                           chunksize=5,\n",
    "                                           passes=5,\n",
    "                                           alpha='symmetric',\n",
    "                                           iterations=100,\n",
    "                                           per_word_topics=True)\n",
    "\n",
    "dump(lda, f'saved_models/model_lda_neg.joblib')\n",
    "lda.print_topics()"
   ]
  },
  {
   "cell_type": "code",
   "execution_count": 37,
   "metadata": {},
   "outputs": [
    {
     "data": {
      "text/html": [
       "<div>\n",
       "<style scoped>\n",
       "    .dataframe tbody tr th:only-of-type {\n",
       "        vertical-align: middle;\n",
       "    }\n",
       "\n",
       "    .dataframe tbody tr th {\n",
       "        vertical-align: top;\n",
       "    }\n",
       "\n",
       "    .dataframe thead th {\n",
       "        text-align: right;\n",
       "    }\n",
       "</style>\n",
       "<table border=\"1\" class=\"dataframe\">\n",
       "  <thead>\n",
       "    <tr style=\"text-align: right;\">\n",
       "      <th></th>\n",
       "      <th>level_0</th>\n",
       "      <th>date</th>\n",
       "      <th>listing_id_encod</th>\n",
       "      <th>listing_id</th>\n",
       "      <th>reviewer_id</th>\n",
       "      <th>reviewer_name</th>\n",
       "      <th>comments</th>\n",
       "      <th>host_id</th>\n",
       "      <th>host_name</th>\n",
       "      <th>host_description</th>\n",
       "      <th>...</th>\n",
       "      <th>review_scores_location</th>\n",
       "      <th>review_scores_value</th>\n",
       "      <th>comments_language</th>\n",
       "      <th>description_language</th>\n",
       "      <th>sentiment_label</th>\n",
       "      <th>sentiment_label_class</th>\n",
       "      <th>dominant_topic</th>\n",
       "      <th>percent_contribution</th>\n",
       "      <th>topic_keywords</th>\n",
       "      <th>text</th>\n",
       "    </tr>\n",
       "  </thead>\n",
       "  <tbody>\n",
       "    <tr>\n",
       "      <th>20</th>\n",
       "      <td>2123</td>\n",
       "      <td>2016-03-27</td>\n",
       "      <td>7.0</td>\n",
       "      <td>299154.0</td>\n",
       "      <td>35860155.0</td>\n",
       "      <td>Nada</td>\n",
       "      <td>really great location surrounded many bars sho...</td>\n",
       "      <td>1541953.0</td>\n",
       "      <td>Daniel</td>\n",
       "      <td>cosy apartment central sodermalm centrally loc...</td>\n",
       "      <td>...</td>\n",
       "      <td>4.96</td>\n",
       "      <td>4.58</td>\n",
       "      <td>en</td>\n",
       "      <td>en</td>\n",
       "      <td>-0.0276</td>\n",
       "      <td>0</td>\n",
       "      <td>0</td>\n",
       "      <td>0.516</td>\n",
       "      <td>host, apartment, room, stay, bed, place, leave...</td>\n",
       "      <td>[really, great, location, surround, many, bar,...</td>\n",
       "    </tr>\n",
       "    <tr>\n",
       "      <th>850</th>\n",
       "      <td>51118</td>\n",
       "      <td>2020-02-16</td>\n",
       "      <td>1332.0</td>\n",
       "      <td>36783908.0</td>\n",
       "      <td>304797709.0</td>\n",
       "      <td>Daria</td>\n",
       "      <td>without inconvenience truly recommend</td>\n",
       "      <td>270945260.0</td>\n",
       "      <td>Generator</td>\n",
       "      <td>generator superior twin putting win back twin ...</td>\n",
       "      <td>...</td>\n",
       "      <td>4.83</td>\n",
       "      <td>4.41</td>\n",
       "      <td>en</td>\n",
       "      <td>en</td>\n",
       "      <td>-0.3412</td>\n",
       "      <td>0</td>\n",
       "      <td>0</td>\n",
       "      <td>0.799</td>\n",
       "      <td>host, apartment, room, stay, bed, place, leave...</td>\n",
       "      <td>[inconvenience, truly, recommend]</td>\n",
       "    </tr>\n",
       "    <tr>\n",
       "      <th>814</th>\n",
       "      <td>50339</td>\n",
       "      <td>2019-12-19</td>\n",
       "      <td>1329.0</td>\n",
       "      <td>36783661.0</td>\n",
       "      <td>36629311.0</td>\n",
       "      <td>Olivia</td>\n",
       "      <td>somewhere quite central within stockholm quite...</td>\n",
       "      <td>270945260.0</td>\n",
       "      <td>Generator</td>\n",
       "      <td>generator bed 6 bed dorm bother things notebbr...</td>\n",
       "      <td>...</td>\n",
       "      <td>4.77</td>\n",
       "      <td>4.55</td>\n",
       "      <td>en</td>\n",
       "      <td>en</td>\n",
       "      <td>0.0000</td>\n",
       "      <td>0</td>\n",
       "      <td>1</td>\n",
       "      <td>0.643</td>\n",
       "      <td>location, apartment, host, need, stay, place, ...</td>\n",
       "      <td>[somewhere, quite, central, quite, decent, acc...</td>\n",
       "    </tr>\n",
       "  </tbody>\n",
       "</table>\n",
       "<p>3 rows × 34 columns</p>\n",
       "</div>"
      ],
      "text/plain": [
       "     level_0       date  listing_id_encod  listing_id  reviewer_id   \n",
       "20      2123 2016-03-27               7.0    299154.0   35860155.0  \\\n",
       "850    51118 2020-02-16            1332.0  36783908.0  304797709.0   \n",
       "814    50339 2019-12-19            1329.0  36783661.0   36629311.0   \n",
       "\n",
       "    reviewer_name                                           comments   \n",
       "20           Nada  really great location surrounded many bars sho...  \\\n",
       "850         Daria              without inconvenience truly recommend   \n",
       "814        Olivia  somewhere quite central within stockholm quite...   \n",
       "\n",
       "         host_id  host_name   \n",
       "20     1541953.0     Daniel  \\\n",
       "850  270945260.0  Generator   \n",
       "814  270945260.0  Generator   \n",
       "\n",
       "                                      host_description  ...   \n",
       "20   cosy apartment central sodermalm centrally loc...  ...  \\\n",
       "850  generator superior twin putting win back twin ...  ...   \n",
       "814  generator bed 6 bed dorm bother things notebbr...  ...   \n",
       "\n",
       "    review_scores_location  review_scores_value  comments_language   \n",
       "20                    4.96                 4.58                 en  \\\n",
       "850                   4.83                 4.41                 en   \n",
       "814                   4.77                 4.55                 en   \n",
       "\n",
       "    description_language  sentiment_label  sentiment_label_class   \n",
       "20                    en          -0.0276                      0  \\\n",
       "850                   en          -0.3412                      0   \n",
       "814                   en           0.0000                      0   \n",
       "\n",
       "    dominant_topic  percent_contribution   \n",
       "20               0                 0.516  \\\n",
       "850              0                 0.799   \n",
       "814              1                 0.643   \n",
       "\n",
       "                                        topic_keywords   \n",
       "20   host, apartment, room, stay, bed, place, leave...  \\\n",
       "850  host, apartment, room, stay, bed, place, leave...   \n",
       "814  location, apartment, host, need, stay, place, ...   \n",
       "\n",
       "                                                  text  \n",
       "20   [really, great, location, surround, many, bar,...  \n",
       "850                  [inconvenience, truly, recommend]  \n",
       "814  [somewhere, quite, central, quite, decent, acc...  \n",
       "\n",
       "[3 rows x 34 columns]"
      ]
     },
     "execution_count": 37,
     "metadata": {},
     "output_type": "execute_result"
    }
   ],
   "source": [
    "# UDF to format topic sentences\n",
    "def format_topics_sentences(ldamodel=None, corpus=corpus, texts=data):\n",
    "    # create a dataframe\n",
    "    sent_topics_df = pd.DataFrame(columns=['dominant_topic', 'percent_contribution', 'topic_keywords'])\n",
    "\n",
    "    # get main topic in each document\n",
    "    for i, row_list in enumerate(ldamodel[corpus]):\n",
    "        row = row_list[0] if ldamodel.per_word_topics else row_list            \n",
    "        row = sorted(row, key=lambda x: (x[1]), reverse=True)\n",
    "        # get the dominant topic, perc contribution and keywords for each document\n",
    "        for j, (topic_num, prop_topic) in enumerate(row):\n",
    "            if j == 0:  #dominant topic\n",
    "                wp = ldamodel.show_topic(topic_num)\n",
    "                topic_keywords = \", \".join([word for word, prop in wp])\n",
    "                sent_topics_df.loc[len(sent_topics_df)] = [int(topic_num), round(prop_topic,3), topic_keywords]\n",
    "            else:\n",
    "                break\n",
    "\n",
    "\n",
    "    # merge to the original dataframe\n",
    "    contents = pd.Series(texts)\n",
    "    contents.name = 'text'\n",
    "    sent_topics_df = (df_hosts_reviews_en.merge(sent_topics_df, left_index=True, right_index=True)\n",
    "                                    .merge(contents, left_index=True, right_index=True)\n",
    "                                    .drop('index', axis=1))\n",
    "    return(sent_topics_df)\n",
    "\n",
    "\n",
    "df_dominant_topic = format_topics_sentences(ldamodel=lda, corpus=corpus, texts=data_ready)\n",
    "df_dominant_topic.sample(3)"
   ]
  },
  {
   "cell_type": "code",
   "execution_count": 38,
   "metadata": {},
   "outputs": [
    {
     "data": {
      "text/html": [
       "\n",
       "<link rel=\"stylesheet\" type=\"text/css\" href=\"https://cdn.jsdelivr.net/gh/bmabey/pyLDAvis@3.4.0/pyLDAvis/js/ldavis.v1.0.0.css\">\n",
       "\n",
       "\n",
       "<div id=\"ldavis_el2635872053945125554801071\" style=\"background-color:white;\"></div>\n",
       "<script type=\"text/javascript\">\n",
       "\n",
       "var ldavis_el2635872053945125554801071_data = {\"mdsDat\": {\"x\": [0.1505033702141293, -0.1505033702141293], \"y\": [0.0, 0.0], \"topics\": [1, 2], \"cluster\": [1, 1], \"Freq\": [69.81880472761452, 30.18119527238549]}, \"tinfo\": {\"Term\": [\"location\", \"need\", \"close\", \"apartment\", \"great\", \"room\", \"right\", \"bed\", \"cleanliness\", \"city\", \"central\", \"leave\", \"spacious\", \"dirty\", \"clean\", \"price\", \"locate\", \"appartement\", \"cosy\", \"hostel\", \"host\", \"get\", \"old_town\", \"airbnb\", \"bad\", \"quiet\", \"shower\", \"make\", \"place\", \"convenient\", \"room\", \"leave\", \"dirty\", \"bed\", \"bad\", \"airbnb\", \"make\", \"get\", \"shower\", \"bathroom\", \"money\", \"good\", \"clean\", \"experience\", \"thing\", \"night\", \"go\", \"ask\", \"look\", \"arrive\", \"find\", \"book\", \"work\", \"towel\", \"want\", \"break\", \"never\", \"photo\", \"sheet\", \"sleep\", \"day\", \"uncomfortable\", \"guest\", \"window\", \"kitchen\", \"door\", \"nice\", \"problem\", \"really\", \"host\", \"stay\", \"time\", \"apartment\", \"place\", \"location\", \"city\", \"close\", \"central\", \"quiet\", \"old_town\", \"heart\", \"convenient\", \"cosy\", \"locate\", \"cafe\", \"great\", \"cozy\", \"perfect\", \"transport\", \"need\", \"spacious\", \"restaurant\", \"gamla_stan\", \"home\", \"describe\", \"come_back\", \"comfy\", \"available\", \"shop\", \"gut\", \"newly\", \"renovate\", \"historic\", \"metro\", \"exactly\", \"right\", \"minute\", \"center\", \"price\", \"appartement\", \"cleanliness\", \"hostel\", \"advertise\", \"super\", \"apartment\", \"store\", \"host\", \"place\", \"stay\", \"space\", \"communication\", \"poor\"], \"Freq\": [227.0, 118.0, 84.0, 396.0, 65.0, 219.0, 57.0, 186.0, 62.0, 49.0, 47.0, 164.0, 46.0, 159.0, 160.0, 44.0, 39.0, 46.0, 38.0, 45.0, 395.0, 132.0, 34.0, 127.0, 123.0, 32.0, 122.0, 119.0, 255.0, 29.0, 219.31310396235463, 163.7498128023007, 158.7936508364628, 186.2784059275519, 122.7634787746425, 126.7252471920284, 118.63791834249906, 132.31731226381632, 121.94503757735356, 95.71274391793081, 86.89917423357453, 97.93766638758468, 159.45830502225127, 69.62318120922843, 82.38753642508138, 64.48603112928495, 100.95429461031864, 75.05772735008291, 58.14137560970385, 65.25574450153535, 73.649583012017, 52.54415170811151, 80.71337474975047, 72.43067559393351, 85.11262923043459, 83.4092907304458, 45.541846835474445, 59.967980539448845, 60.32810078633776, 48.615491602700594, 96.63066305318921, 69.15534087075604, 65.95906163874007, 65.11876775814032, 84.18329481220471, 81.1592426641816, 68.35957058510277, 91.6427232279371, 109.43206472059704, 267.09558923835715, 202.57142068641747, 103.34196468946983, 234.24634298600145, 165.58385496186045, 226.6045551401201, 48.73406742513151, 83.60313342964858, 46.81351281719468, 31.869194398553457, 34.34792658052871, 25.561695216544212, 28.810191155984317, 38.3659245948518, 38.63832466005296, 23.86566138822366, 64.3281178138743, 22.905453099441676, 21.020587969786767, 16.511039354840214, 116.14975214185812, 45.573962685709915, 24.89958939864253, 14.608057738747785, 16.499574206994755, 27.042746739139478, 17.072095437279263, 22.25096914619121, 24.114919798725467, 15.517401835131846, 12.00262733374516, 11.247829088112441, 11.248535774865143, 11.248971433229475, 9.665958599584163, 16.54833918747214, 54.5186903009606, 26.81080395134935, 20.354607236730395, 41.47560511368895, 41.88557545050458, 54.38307545962827, 40.58771323775313, 22.603209717375652, 25.431935163527253, 161.98143766312202, 27.046648972805464, 128.85444724317173, 89.9513285665886, 96.11799075815908, 29.979121497955955, 26.113330726035745, 24.741075893579733], \"Total\": [227.0, 118.0, 84.0, 396.0, 65.0, 219.0, 57.0, 186.0, 62.0, 49.0, 47.0, 164.0, 46.0, 159.0, 160.0, 44.0, 39.0, 46.0, 38.0, 45.0, 395.0, 132.0, 34.0, 127.0, 123.0, 32.0, 122.0, 119.0, 255.0, 29.0, 219.87469819250714, 164.26251646770103, 159.30185692235068, 186.9464237768337, 123.25598579275184, 127.2450645887835, 119.14775989959189, 132.93048087779687, 122.57810601940534, 96.22157617285387, 87.47683475879634, 98.60755205021276, 160.5561063181193, 70.13105821489142, 82.98998773546316, 64.9695033585553, 101.71227537265366, 75.64916516669084, 58.60332327838914, 65.79518220587028, 74.26528442942138, 52.99094843158289, 81.41011918188447, 73.06111453940966, 85.85351696200688, 84.1820996931483, 45.970789024680755, 60.53395759339366, 60.92108340185493, 49.09483896142426, 97.75212891960273, 69.85222140119713, 66.61911533320779, 65.76349527352234, 85.40618235920668, 82.48223197633158, 69.14439223410244, 97.1206699337885, 122.1753105547966, 395.95003648152885, 298.68941144457654, 121.35270260758851, 396.2277806491235, 255.53518352844907, 227.49881072140258, 49.1505352743198, 84.32203905334735, 47.27576489111618, 32.23857423146977, 34.81134046175475, 25.913184230401274, 29.22273466384094, 38.932818945452325, 39.243285701045124, 24.267544748878645, 65.52533563302728, 23.367319861828587, 21.451758774954158, 16.85272792252144, 118.73235451736794, 46.60087259868896, 25.46338499010491, 14.941837311648609, 16.893243296371605, 27.81661767170071, 17.57672278905721, 22.912510748607897, 24.849838562350893, 16.01308002248964, 12.417702755189909, 11.640630420989005, 11.641446922048775, 11.643555624508286, 10.045045746997063, 17.209815462589262, 57.459233267875, 28.05816943788308, 21.221031153653033, 44.3806441224861, 46.80324659222628, 62.270754934821376, 45.56606798383767, 25.282941366318738, 29.80529280088224, 396.2277806491235, 33.19041031337315, 395.95003648152885, 255.53518352844907, 298.68941144457654, 46.23785548352736, 41.89485798710686, 42.35111229462346], \"Category\": [\"Default\", \"Default\", \"Default\", \"Default\", \"Default\", \"Default\", \"Default\", \"Default\", \"Default\", \"Default\", \"Default\", \"Default\", \"Default\", \"Default\", \"Default\", \"Default\", \"Default\", \"Default\", \"Default\", \"Default\", \"Default\", \"Default\", \"Default\", \"Default\", \"Default\", \"Default\", \"Default\", \"Default\", \"Default\", \"Default\", \"Topic1\", \"Topic1\", \"Topic1\", \"Topic1\", \"Topic1\", \"Topic1\", \"Topic1\", \"Topic1\", \"Topic1\", \"Topic1\", \"Topic1\", \"Topic1\", \"Topic1\", \"Topic1\", \"Topic1\", \"Topic1\", \"Topic1\", \"Topic1\", \"Topic1\", \"Topic1\", \"Topic1\", \"Topic1\", \"Topic1\", \"Topic1\", \"Topic1\", \"Topic1\", \"Topic1\", \"Topic1\", \"Topic1\", \"Topic1\", \"Topic1\", \"Topic1\", \"Topic1\", \"Topic1\", \"Topic1\", \"Topic1\", \"Topic1\", \"Topic1\", \"Topic1\", \"Topic1\", \"Topic1\", \"Topic1\", \"Topic1\", \"Topic1\", \"Topic2\", \"Topic2\", \"Topic2\", \"Topic2\", \"Topic2\", \"Topic2\", \"Topic2\", \"Topic2\", \"Topic2\", \"Topic2\", \"Topic2\", \"Topic2\", \"Topic2\", \"Topic2\", \"Topic2\", \"Topic2\", \"Topic2\", \"Topic2\", \"Topic2\", \"Topic2\", \"Topic2\", \"Topic2\", \"Topic2\", \"Topic2\", \"Topic2\", \"Topic2\", \"Topic2\", \"Topic2\", \"Topic2\", \"Topic2\", \"Topic2\", \"Topic2\", \"Topic2\", \"Topic2\", \"Topic2\", \"Topic2\", \"Topic2\", \"Topic2\", \"Topic2\", \"Topic2\", \"Topic2\", \"Topic2\", \"Topic2\", \"Topic2\", \"Topic2\", \"Topic2\", \"Topic2\", \"Topic2\"], \"logprob\": [30.0, 29.0, 28.0, 27.0, 26.0, 25.0, 24.0, 23.0, 22.0, 21.0, 20.0, 19.0, 18.0, 17.0, 16.0, 15.0, 14.0, 13.0, 12.0, 11.0, 10.0, 9.0, 8.0, 7.0, 6.0, 5.0, 4.0, 3.0, 2.0, 1.0, -4.1765, -4.4687, -4.4994, -4.3398, -4.7567, -4.725, -4.7909, -4.6818, -4.7634, -5.0057, -5.1023, -4.9827, -4.4952, -5.3239, -5.1556, -5.4006, -4.9523, -5.2488, -5.5041, -5.3887, -5.2677, -5.6054, -5.1761, -5.2844, -5.123, -5.1432, -5.7484, -5.4732, -5.4672, -5.6831, -4.9961, -5.3307, -5.378, -5.3908, -5.134, -5.1706, -5.3422, -5.0491, -4.8717, -3.9794, -4.2559, -4.929, -4.1106, -4.4575, -3.3051, -4.8419, -4.3022, -4.8822, -5.2667, -5.1918, -5.4872, -5.3676, -5.0812, -5.0741, -5.5559, -4.5643, -5.5969, -5.6828, -5.9243, -3.9734, -4.909, -5.5135, -6.0468, -5.925, -5.4309, -5.8909, -5.6259, -5.5455, -5.9864, -6.2432, -6.3081, -6.3081, -6.308, -6.4597, -5.922, -4.7298, -5.4395, -5.715, -5.0032, -4.9934, -4.7323, -5.0249, -5.6102, -5.4923, -3.6408, -5.4308, -3.8696, -4.2291, -4.1627, -5.3278, -5.4659, -5.5199], \"loglift\": [30.0, 29.0, 28.0, 27.0, 26.0, 25.0, 24.0, 23.0, 22.0, 21.0, 20.0, 19.0, 18.0, 17.0, 16.0, 15.0, 14.0, 13.0, 12.0, 11.0, 10.0, 9.0, 8.0, 7.0, 6.0, 5.0, 4.0, 3.0, 2.0, 1.0, 0.3567, 0.3561, 0.3561, 0.3557, 0.3553, 0.3552, 0.355, 0.3546, 0.3541, 0.354, 0.3526, 0.3525, 0.3524, 0.352, 0.352, 0.3518, 0.3518, 0.3514, 0.3514, 0.351, 0.3509, 0.3508, 0.3507, 0.3506, 0.3506, 0.35, 0.3499, 0.3499, 0.3495, 0.3495, 0.3477, 0.3492, 0.3493, 0.3494, 0.3448, 0.3431, 0.3479, 0.3012, 0.2491, -0.0344, -0.029, 0.1986, -0.1663, -0.0746, 1.194, 1.1894, 1.1894, 1.1881, 1.1864, 1.1845, 1.1843, 1.1837, 1.1833, 1.1824, 1.1813, 1.1795, 1.178, 1.1776, 1.1775, 1.176, 1.1757, 1.1756, 1.1754, 1.1744, 1.1697, 1.1688, 1.1687, 1.1679, 1.1665, 1.164, 1.1636, 1.1636, 1.1635, 1.1595, 1.1588, 1.1454, 1.1525, 1.1563, 1.1303, 1.0869, 1.0625, 1.0823, 1.0859, 1.0393, 0.3034, 0.9933, 0.0753, 0.1539, 0.0641, 0.7647, 0.7252, 0.6604]}, \"token.table\": {\"Topic\": [1, 2, 1, 2, 1, 2, 1, 2, 1, 2, 1, 2, 1, 2, 1, 1, 2, 1, 2, 1, 1, 2, 2, 1, 2, 2, 2, 1, 2, 1, 2, 1, 2, 1, 2, 1, 2, 1, 2, 2, 1, 2, 2, 1, 2, 1, 2, 1, 2, 1, 2, 1, 2, 1, 2, 1, 2, 2, 1, 2, 1, 2, 1, 2, 1, 2, 1, 2, 2, 2, 2, 2, 1, 2, 1, 2, 1, 2, 1, 2, 1, 2, 1, 2, 1, 1, 2, 2, 1, 2, 1, 2, 1, 2, 1, 2, 1, 2, 1, 2, 2, 1, 2, 1, 2, 1, 2, 1, 2, 1, 2, 2, 1, 2, 2, 1, 2, 1, 2, 1, 2, 1, 2, 2, 1, 2, 1, 1, 2, 1, 2, 1, 2, 1, 2, 1, 2, 1, 2, 1, 2, 1, 2, 2, 1, 2, 1, 2, 1, 2, 1, 2], \"Freq\": [0.11865708014481734, 0.9097042811102662, 0.9980740739173226, 0.00785885097572695, 0.5905693932329721, 0.40885573377667295, 0.10683019585291906, 0.8973736451645201, 0.9879142791430809, 0.015198681217585861, 0.9914187398464951, 0.0132189165312866, 0.04024171012181401, 0.9658010429235362, 0.9979231370297725, 0.9976972298556425, 0.010392679477662942, 0.99493745984698, 0.00534912612820957, 1.0001708134820193, 0.985957825981329, 0.011879009951582276, 0.9889752032334871, 0.047123063566487336, 0.9424612713297468, 0.9941668867388753, 0.996937260734199, 0.9903080215769801, 0.006228352336962139, 0.12847122229967467, 0.867180750522804, 0.011859295757391943, 0.9961808436209232, 0.056893427290243936, 0.9671882639341469, 0.04364427848924227, 0.96017412676333, 0.3819084433923609, 0.6206012205125865, 0.9923780348963528, 0.02568527086109721, 0.9760402927216939, 0.9842806165191149, 0.9923057540749693, 0.010229956227577004, 0.035949733781521255, 0.9706428121010738, 0.9981051261536906, 0.006277390730526356, 0.9820296815348437, 0.01212382322882523, 0.05810637552586211, 0.9878083839396559, 0.9981312385948913, 0.014259017694212731, 0.9964278810556028, 0.013465241635886523, 1.0038926061861246, 0.9930002444010395, 0.007522729124250299, 0.9929971542761773, 0.00983165499283344, 0.9938386864131524, 0.010141211085848494, 0.015261272458037769, 0.9767214373144172, 0.9907066413279256, 0.015010706686786753, 0.9663623164908395, 1.0033502547902575, 0.9447285996423911, 0.9471242270829392, 0.6743275044816307, 0.32579868194056316, 0.10973077601897765, 0.8997923633556167, 0.9835353563364714, 0.01170875424210085, 0.9984018480092344, 0.00608781614639777, 0.025482066094515834, 0.9938005776861175, 0.004395627374178279, 0.9978074139384692, 0.9897049647590271, 0.9987598600282841, 0.008392940000237681, 0.9955156255002094, 0.03564024382324236, 0.9622865832275437, 0.9945490167755711, 0.01143159789397208, 0.02526691239464274, 0.9769872792595193, 1.0006354247107563, 0.9449660028864162, 0.9834492401028291, 0.014462488825041604, 0.9850775624187124, 0.9766932140218465, 0.9789407115895036, 0.9911792056124886, 0.016519653426874812, 0.6496170026681238, 0.3522019893983804, 0.4250183531138361, 0.5903032682136612, 0.06759703603490527, 0.9238261591437054, 0.9472751790398533, 0.051482346686948545, 0.9925997275885456, 0.8921606133435006, 0.10640447682078448, 0.9448997254083699, 0.039272076371173775, 0.9818019092793444, 0.05221092989553128, 0.9572003814180734, 0.996021833345548, 0.004548044901121224, 0.9848807120553131, 0.01641467853425522, 0.9991831663570488, 0.9952837742548101, 0.008158063723400083, 0.998068249872481, 0.346036809724018, 0.6488190182325337, 0.02145882564499733, 0.9871059796698772, 0.6796357427543687, 0.32140409509566203, 0.1807751077299116, 0.8134879847846022, 0.13420435178149298, 0.8387771986343311, 0.9880709979302705, 0.012049646316222812, 0.848765604611752, 0.14832796973797607, 0.9854763433859569, 0.013687171435916069, 1.0087387678811186, 0.9877996521212635, 0.014315936987264688, 0.990058450810063, 0.011647746480118388, 0.9883902874938928, 0.015206004422982965, 0.9949623070693683, 0.012283485272461337], \"Term\": [\"advertise\", \"advertise\", \"airbnb\", \"airbnb\", \"apartment\", \"apartment\", \"appartement\", \"appartement\", \"arrive\", \"arrive\", \"ask\", \"ask\", \"available\", \"available\", \"bad\", \"bathroom\", \"bathroom\", \"bed\", \"bed\", \"book\", \"break\", \"break\", \"cafe\", \"center\", \"center\", \"central\", \"city\", \"clean\", \"clean\", \"cleanliness\", \"cleanliness\", \"close\", \"close\", \"come_back\", \"come_back\", \"comfy\", \"comfy\", \"communication\", \"communication\", \"convenient\", \"cosy\", \"cosy\", \"cozy\", \"day\", \"day\", \"describe\", \"describe\", \"dirty\", \"dirty\", \"door\", \"door\", \"exactly\", \"exactly\", \"experience\", \"experience\", \"find\", \"find\", \"gamla_stan\", \"get\", \"get\", \"go\", \"go\", \"good\", \"good\", \"great\", \"great\", \"guest\", \"guest\", \"gut\", \"heart\", \"historic\", \"home\", \"host\", \"host\", \"hostel\", \"hostel\", \"kitchen\", \"kitchen\", \"leave\", \"leave\", \"locate\", \"locate\", \"location\", \"location\", \"look\", \"make\", \"make\", \"metro\", \"minute\", \"minute\", \"money\", \"money\", \"need\", \"need\", \"never\", \"newly\", \"nice\", \"nice\", \"night\", \"old_town\", \"perfect\", \"photo\", \"photo\", \"place\", \"place\", \"poor\", \"poor\", \"price\", \"price\", \"problem\", \"problem\", \"quiet\", \"really\", \"really\", \"renovate\", \"restaurant\", \"restaurant\", \"right\", \"right\", \"room\", \"room\", \"sheet\", \"sheet\", \"shop\", \"shower\", \"shower\", \"sleep\", \"space\", \"space\", \"spacious\", \"spacious\", \"stay\", \"stay\", \"store\", \"store\", \"super\", \"super\", \"thing\", \"thing\", \"time\", \"time\", \"towel\", \"towel\", \"transport\", \"uncomfortable\", \"uncomfortable\", \"want\", \"want\", \"window\", \"window\", \"work\", \"work\"]}, \"R\": 30, \"lambda.step\": 0.01, \"plot.opts\": {\"xlab\": \"PC1\", \"ylab\": \"PC2\"}, \"topic.order\": [1, 2]};\n",
       "\n",
       "function LDAvis_load_lib(url, callback){\n",
       "  var s = document.createElement('script');\n",
       "  s.src = url;\n",
       "  s.async = true;\n",
       "  s.onreadystatechange = s.onload = callback;\n",
       "  s.onerror = function(){console.warn(\"failed to load library \" + url);};\n",
       "  document.getElementsByTagName(\"head\")[0].appendChild(s);\n",
       "}\n",
       "\n",
       "if(typeof(LDAvis) !== \"undefined\"){\n",
       "   // already loaded: just create the visualization\n",
       "   !function(LDAvis){\n",
       "       new LDAvis(\"#\" + \"ldavis_el2635872053945125554801071\", ldavis_el2635872053945125554801071_data);\n",
       "   }(LDAvis);\n",
       "}else if(typeof define === \"function\" && define.amd){\n",
       "   // require.js is available: use it to load d3/LDAvis\n",
       "   require.config({paths: {d3: \"https://d3js.org/d3.v5\"}});\n",
       "   require([\"d3\"], function(d3){\n",
       "      window.d3 = d3;\n",
       "      LDAvis_load_lib(\"https://cdn.jsdelivr.net/gh/bmabey/pyLDAvis@3.4.0/pyLDAvis/js/ldavis.v3.0.0.js\", function(){\n",
       "        new LDAvis(\"#\" + \"ldavis_el2635872053945125554801071\", ldavis_el2635872053945125554801071_data);\n",
       "      });\n",
       "    });\n",
       "}else{\n",
       "    // require.js not available: dynamically load d3 & LDAvis\n",
       "    LDAvis_load_lib(\"https://d3js.org/d3.v5.js\", function(){\n",
       "         LDAvis_load_lib(\"https://cdn.jsdelivr.net/gh/bmabey/pyLDAvis@3.4.0/pyLDAvis/js/ldavis.v3.0.0.js\", function(){\n",
       "                 new LDAvis(\"#\" + \"ldavis_el2635872053945125554801071\", ldavis_el2635872053945125554801071_data);\n",
       "            })\n",
       "         });\n",
       "}\n",
       "</script>"
      ],
      "text/plain": [
       "PreparedData(topic_coordinates=              x    y  topics  cluster       Freq\n",
       "topic                                           \n",
       "0      0.150503  0.0       1        1  69.818805\n",
       "1     -0.150503  0.0       2        1  30.181195, topic_info=              Term        Freq       Total Category  logprob  loglift\n",
       "33        location  227.000000  227.000000  Default  30.0000  30.0000\n",
       "138           need  118.000000  118.000000  Default  29.0000  29.0000\n",
       "154          close   84.000000   84.000000  Default  28.0000  28.0000\n",
       "22       apartment  396.000000  396.000000  Default  27.0000  27.0000\n",
       "168          great   65.000000   65.000000  Default  26.0000  26.0000\n",
       "..             ...         ...         ...      ...      ...      ...\n",
       "10           place   89.951329  255.535184   Topic2  -4.2291   0.1539\n",
       "17            stay   96.117991  298.689411   Topic2  -4.1627   0.0641\n",
       "176          space   29.979121   46.237855   Topic2  -5.3278   0.7647\n",
       "354  communication   26.113331   41.894858   Topic2  -5.4659   0.7252\n",
       "533           poor   24.741076   42.351112   Topic2  -5.5199   0.6604\n",
       "\n",
       "[122 rows x 6 columns], token_table=      Topic      Freq       Term\n",
       "term                            \n",
       "127       1  0.118657  advertise\n",
       "127       2  0.909704  advertise\n",
       "261       1  0.998074     airbnb\n",
       "261       2  0.007859     airbnb\n",
       "22        1  0.590569  apartment\n",
       "...     ...       ...        ...\n",
       "148       2  0.011648       want\n",
       "338       1  0.988390     window\n",
       "338       2  0.015206     window\n",
       "514       1  0.994962       work\n",
       "514       2  0.012283       work\n",
       "\n",
       "[152 rows x 3 columns], R=30, lambda_step=0.01, plot_opts={'xlab': 'PC1', 'ylab': 'PC2'}, topic_order=[1, 2])"
      ]
     },
     "execution_count": 38,
     "metadata": {},
     "output_type": "execute_result"
    }
   ],
   "source": [
    "# visualize the topics\n",
    "pyLDAvis.enable_notebook()\n",
    "vis = pyLDAvis.gensim_models.prepare(lda, corpus, dictionary=lda.id2word)\n",
    "pyLDAvis.save_html(vis, 'lda_visualization_neg.html')\n",
    "vis"
   ]
  },
  {
   "cell_type": "code",
   "execution_count": 39,
   "metadata": {},
   "outputs": [],
   "source": [
    "topics = lda.show_topics(formatted=False)"
   ]
  },
  {
   "cell_type": "code",
   "execution_count": 40,
   "metadata": {},
   "outputs": [
    {
     "data": {
      "image/png": "[encoded data removed]",
      "text/plain": [
       "<Figure size 1000x1000 with 2 Axes>"
      ]
     },
     "metadata": {},
     "output_type": "display_data"
    }
   ],
   "source": [
    "# create Word Clouds\n",
    "cols = [color for name, color in mcolors.TABLEAU_COLORS.items()]\n",
    "cloud = WordCloud(stopwords=stop_words,\n",
    "                  background_color='white',\n",
    "                  width=2500,\n",
    "                  height=1800,\n",
    "                  max_words=20,\n",
    "                  colormap='tab10',\n",
    "                  color_func=lambda *args, **kwargs: cols[i],\n",
    "                  prefer_horizontal=1.0)\n",
    "\n",
    "fig, axes = plt.subplots(1, 2, figsize=(10,10), sharex=True, sharey=True)\n",
    "\n",
    "groups = {0: 'Issues and Complaints',\n",
    "          1: 'Location and Accessibility'\n",
    "        }\n",
    "\n",
    "for i, ax in enumerate(axes.flatten()):\n",
    "    fig.add_subplot(ax)\n",
    "    topic_words = dict(topics[i][1])\n",
    "    cloud.generate_from_frequencies(topic_words, max_font_size=350)\n",
    "    plt.gca().imshow(cloud)\n",
    "    plt.gca().set_title(groups.get(i), fontdict=dict(size=14))\n",
    "    plt.gca().axis('off')\n",
    "\n",
    "\n",
    "plt.subplots_adjust(wspace=30, hspace=10)\n",
    "plt.axis('off')\n",
    "#plt.margins(x=0, y=0)\n",
    "plt.tight_layout()\n",
    "#plt.savefig('topics_neg.png')\n",
    "plt.show()"
   ]
  },
  {
   "cell_type": "code",
   "execution_count": 41,
   "metadata": {},
   "outputs": [
    {
     "data": {
      "text/html": [
       "<div>\n",
       "<style scoped>\n",
       "    .dataframe tbody tr th:only-of-type {\n",
       "        vertical-align: middle;\n",
       "    }\n",
       "\n",
       "    .dataframe tbody tr th {\n",
       "        vertical-align: top;\n",
       "    }\n",
       "\n",
       "    .dataframe thead th {\n",
       "        text-align: right;\n",
       "    }\n",
       "</style>\n",
       "<table border=\"1\" class=\"dataframe\">\n",
       "  <thead>\n",
       "    <tr style=\"text-align: right;\">\n",
       "      <th></th>\n",
       "      <th>neighbourhood</th>\n",
       "      <th>dominant_topic</th>\n",
       "      <th>number_of_reviews</th>\n",
       "    </tr>\n",
       "  </thead>\n",
       "  <tbody>\n",
       "    <tr>\n",
       "      <th>0</th>\n",
       "      <td>Södermalm</td>\n",
       "      <td>0</td>\n",
       "      <td>330</td>\n",
       "    </tr>\n",
       "    <tr>\n",
       "      <th>1</th>\n",
       "      <td>Södermalm</td>\n",
       "      <td>1</td>\n",
       "      <td>266</td>\n",
       "    </tr>\n",
       "    <tr>\n",
       "      <th>2</th>\n",
       "      <td>Kungsholmen</td>\n",
       "      <td>0</td>\n",
       "      <td>88</td>\n",
       "    </tr>\n",
       "    <tr>\n",
       "      <th>3</th>\n",
       "      <td>Norrmalm</td>\n",
       "      <td>0</td>\n",
       "      <td>84</td>\n",
       "    </tr>\n",
       "    <tr>\n",
       "      <th>4</th>\n",
       "      <td>Kungsholmen</td>\n",
       "      <td>1</td>\n",
       "      <td>78</td>\n",
       "    </tr>\n",
       "    <tr>\n",
       "      <th>5</th>\n",
       "      <td>Norrmalm</td>\n",
       "      <td>1</td>\n",
       "      <td>66</td>\n",
       "    </tr>\n",
       "    <tr>\n",
       "      <th>6</th>\n",
       "      <td>Enskede-Årsta-Vantör</td>\n",
       "      <td>1</td>\n",
       "      <td>38</td>\n",
       "    </tr>\n",
       "    <tr>\n",
       "      <th>7</th>\n",
       "      <td>Enskede-Årsta-Vantör</td>\n",
       "      <td>0</td>\n",
       "      <td>30</td>\n",
       "    </tr>\n",
       "    <tr>\n",
       "      <th>8</th>\n",
       "      <td>Hägersten-Liljeholmen</td>\n",
       "      <td>0</td>\n",
       "      <td>22</td>\n",
       "    </tr>\n",
       "    <tr>\n",
       "      <th>9</th>\n",
       "      <td>Östermalm</td>\n",
       "      <td>0</td>\n",
       "      <td>22</td>\n",
       "    </tr>\n",
       "    <tr>\n",
       "      <th>10</th>\n",
       "      <td>Hägersten-Liljeholmen</td>\n",
       "      <td>1</td>\n",
       "      <td>21</td>\n",
       "    </tr>\n",
       "    <tr>\n",
       "      <th>11</th>\n",
       "      <td>Östermalm</td>\n",
       "      <td>1</td>\n",
       "      <td>20</td>\n",
       "    </tr>\n",
       "    <tr>\n",
       "      <th>12</th>\n",
       "      <td>Älvsjö</td>\n",
       "      <td>0</td>\n",
       "      <td>19</td>\n",
       "    </tr>\n",
       "    <tr>\n",
       "      <th>13</th>\n",
       "      <td>Skarpnäck</td>\n",
       "      <td>0</td>\n",
       "      <td>19</td>\n",
       "    </tr>\n",
       "    <tr>\n",
       "      <th>14</th>\n",
       "      <td>Skarpnäck</td>\n",
       "      <td>1</td>\n",
       "      <td>17</td>\n",
       "    </tr>\n",
       "    <tr>\n",
       "      <th>15</th>\n",
       "      <td>Skärholmen</td>\n",
       "      <td>1</td>\n",
       "      <td>15</td>\n",
       "    </tr>\n",
       "    <tr>\n",
       "      <th>16</th>\n",
       "      <td>Bromma</td>\n",
       "      <td>1</td>\n",
       "      <td>13</td>\n",
       "    </tr>\n",
       "    <tr>\n",
       "      <th>17</th>\n",
       "      <td>Hässelby-Vällingby</td>\n",
       "      <td>1</td>\n",
       "      <td>12</td>\n",
       "    </tr>\n",
       "    <tr>\n",
       "      <th>18</th>\n",
       "      <td>Farsta</td>\n",
       "      <td>1</td>\n",
       "      <td>12</td>\n",
       "    </tr>\n",
       "    <tr>\n",
       "      <th>19</th>\n",
       "      <td>Farsta</td>\n",
       "      <td>0</td>\n",
       "      <td>10</td>\n",
       "    </tr>\n",
       "    <tr>\n",
       "      <th>20</th>\n",
       "      <td>Bromma</td>\n",
       "      <td>0</td>\n",
       "      <td>9</td>\n",
       "    </tr>\n",
       "    <tr>\n",
       "      <th>21</th>\n",
       "      <td>Skärholmen</td>\n",
       "      <td>0</td>\n",
       "      <td>9</td>\n",
       "    </tr>\n",
       "    <tr>\n",
       "      <th>22</th>\n",
       "      <td>Älvsjö</td>\n",
       "      <td>1</td>\n",
       "      <td>8</td>\n",
       "    </tr>\n",
       "    <tr>\n",
       "      <th>23</th>\n",
       "      <td>Spånga-Tensta</td>\n",
       "      <td>0</td>\n",
       "      <td>5</td>\n",
       "    </tr>\n",
       "    <tr>\n",
       "      <th>24</th>\n",
       "      <td>Rinkeby-Tensta</td>\n",
       "      <td>1</td>\n",
       "      <td>5</td>\n",
       "    </tr>\n",
       "    <tr>\n",
       "      <th>25</th>\n",
       "      <td>Spånga-Tensta</td>\n",
       "      <td>1</td>\n",
       "      <td>4</td>\n",
       "    </tr>\n",
       "    <tr>\n",
       "      <th>26</th>\n",
       "      <td>Hässelby-Vällingby</td>\n",
       "      <td>0</td>\n",
       "      <td>4</td>\n",
       "    </tr>\n",
       "    <tr>\n",
       "      <th>27</th>\n",
       "      <td>Rinkeby-Tensta</td>\n",
       "      <td>0</td>\n",
       "      <td>4</td>\n",
       "    </tr>\n",
       "  </tbody>\n",
       "</table>\n",
       "</div>"
      ],
      "text/plain": [
       "            neighbourhood  dominant_topic  number_of_reviews\n",
       "0               Södermalm               0                330\n",
       "1               Södermalm               1                266\n",
       "2             Kungsholmen               0                 88\n",
       "3                Norrmalm               0                 84\n",
       "4             Kungsholmen               1                 78\n",
       "5                Norrmalm               1                 66\n",
       "6    Enskede-Årsta-Vantör               1                 38\n",
       "7    Enskede-Årsta-Vantör               0                 30\n",
       "8   Hägersten-Liljeholmen               0                 22\n",
       "9               Östermalm               0                 22\n",
       "10  Hägersten-Liljeholmen               1                 21\n",
       "11              Östermalm               1                 20\n",
       "12                 Älvsjö               0                 19\n",
       "13              Skarpnäck               0                 19\n",
       "14              Skarpnäck               1                 17\n",
       "15             Skärholmen               1                 15\n",
       "16                 Bromma               1                 13\n",
       "17     Hässelby-Vällingby               1                 12\n",
       "18                 Farsta               1                 12\n",
       "19                 Farsta               0                 10\n",
       "20                 Bromma               0                  9\n",
       "21             Skärholmen               0                  9\n",
       "22                 Älvsjö               1                  8\n",
       "23          Spånga-Tensta               0                  5\n",
       "24         Rinkeby-Tensta               1                  5\n",
       "25          Spånga-Tensta               1                  4\n",
       "26     Hässelby-Vällingby               0                  4\n",
       "27         Rinkeby-Tensta               0                  4"
      ]
     },
     "execution_count": 41,
     "metadata": {},
     "output_type": "execute_result"
    }
   ],
   "source": [
    "# calculate number of reviews by topic and neighbourhood\n",
    "numnber_topic_by_neighbourhood = (df_dominant_topic.groupby(['neighbourhood', 'dominant_topic'])\n",
    "        .agg(number_of_reviews=('number_of_reviews', 'count'))\n",
    "        .sort_values('number_of_reviews', ascending=False)\n",
    "        .reset_index())\n",
    "numnber_topic_by_neighbourhood "
   ]
  },
  {
   "cell_type": "code",
   "execution_count": 42,
   "metadata": {},
   "outputs": [
    {
     "data": {
      "application/vnd.plotly.v1+json": {
       "config": {
        "plotlyServerURL": "https://plotly.com"
       },
       "data": [
        {
         "branchvalues": "total",
         "domain": {
          "x": [
           0,
           1
          ],
          "y": [
           0,
           1
          ]
         },
         "hovertemplate": "labels=%{label}<br>number_of_reviews=%{value}<br>parent=%{parent}<br>id=%{id}<extra></extra>",
         "ids": [
          "Bromma/0",
          "Enskede-Årsta-Vantör/0",
          "Farsta/0",
          "Hägersten-Liljeholmen/0",
          "Hässelby-Vällingby/0",
          "Kungsholmen/0",
          "Norrmalm/0",
          "Rinkeby-Tensta/0",
          "Skarpnäck/0",
          "Skärholmen/0",
          "Spånga-Tensta/0",
          "Södermalm/0",
          "Älvsjö/0",
          "Östermalm/0",
          "Bromma/1",
          "Enskede-Årsta-Vantör/1",
          "Farsta/1",
          "Hägersten-Liljeholmen/1",
          "Hässelby-Vällingby/1",
          "Kungsholmen/1",
          "Norrmalm/1",
          "Rinkeby-Tensta/1",
          "Skarpnäck/1",
          "Skärholmen/1",
          "Spånga-Tensta/1",
          "Södermalm/1",
          "Älvsjö/1",
          "Östermalm/1",
          "Bromma",
          "Enskede-Årsta-Vantör",
          "Farsta",
          "Hägersten-Liljeholmen",
          "Hässelby-Vällingby",
          "Kungsholmen",
          "Norrmalm",
          "Rinkeby-Tensta",
          "Skarpnäck",
          "Skärholmen",
          "Spånga-Tensta",
          "Södermalm",
          "Älvsjö",
          "Östermalm"
         ],
         "labels": [
          "0",
          "0",
          "0",
          "0",
          "0",
          "0",
          "0",
          "0",
          "0",
          "0",
          "0",
          "0",
          "0",
          "0",
          "1",
          "1",
          "1",
          "1",
          "1",
          "1",
          "1",
          "1",
          "1",
          "1",
          "1",
          "1",
          "1",
          "1",
          "Bromma",
          "Enskede-Årsta-Vantör",
          "Farsta",
          "Hägersten-Liljeholmen",
          "Hässelby-Vällingby",
          "Kungsholmen",
          "Norrmalm",
          "Rinkeby-Tensta",
          "Skarpnäck",
          "Skärholmen",
          "Spånga-Tensta",
          "Södermalm",
          "Älvsjö",
          "Östermalm"
         ],
         "marker": {
          "colors": [
           null,
           null,
           null,
           null,
           null,
           null,
           null,
           null,
           null,
           null,
           null,
           null,
           null,
           null,
           null,
           null,
           null,
           null,
           null,
           null,
           null,
           null,
           null,
           null,
           null,
           null,
           null,
           null,
           null,
           null,
           null,
           null,
           null,
           null,
           null,
           null,
           null,
           null,
           null,
           null,
           null,
           null
          ]
         },
         "name": "",
         "parents": [
          "Bromma",
          "Enskede-Årsta-Vantör",
          "Farsta",
          "Hägersten-Liljeholmen",
          "Hässelby-Vällingby",
          "Kungsholmen",
          "Norrmalm",
          "Rinkeby-Tensta",
          "Skarpnäck",
          "Skärholmen",
          "Spånga-Tensta",
          "Södermalm",
          "Älvsjö",
          "Östermalm",
          "Bromma",
          "Enskede-Årsta-Vantör",
          "Farsta",
          "Hägersten-Liljeholmen",
          "Hässelby-Vällingby",
          "Kungsholmen",
          "Norrmalm",
          "Rinkeby-Tensta",
          "Skarpnäck",
          "Skärholmen",
          "Spånga-Tensta",
          "Södermalm",
          "Älvsjö",
          "Östermalm",
          "",
          "",
          "",
          "",
          "",
          "",
          "",
          "",
          "",
          "",
          "",
          "",
          "",
          ""
         ],
         "type": "treemap",
         "values": [
          9,
          30,
          10,
          22,
          4,
          88,
          84,
          4,
          19,
          9,
          5,
          330,
          19,
          22,
          13,
          38,
          12,
          21,
          12,
          78,
          66,
          5,
          17,
          15,
          4,
          266,
          8,
          20,
          22,
          68,
          22,
          43,
          16,
          166,
          150,
          9,
          36,
          24,
          9,
          596,
          27,
          42
         ]
        }
       ],
       "layout": {
        "legend": {
         "tracegroupgap": 0
        },
        "margin": {
         "t": 60
        },
        "template": {
         "data": {
          "bar": [
           {
            "error_x": {
             "color": "#2a3f5f"
            },
            "error_y": {
             "color": "#2a3f5f"
            },
            "marker": {
             "line": {
              "color": "#E5ECF6",
              "width": 0.5
             },
             "pattern": {
              "fillmode": "overlay",
              "size": 10,
              "solidity": 0.2
             }
            },
            "type": "bar"
           }
          ],
          "barpolar": [
           {
            "marker": {
             "line": {
              "color": "#E5ECF6",
              "width": 0.5
             },
             "pattern": {
              "fillmode": "overlay",
              "size": 10,
              "solidity": 0.2
             }
            },
            "type": "barpolar"
           }
          ],
          "carpet": [
           {
            "aaxis": {
             "endlinecolor": "#2a3f5f",
             "gridcolor": "white",
             "linecolor": "white",
             "minorgridcolor": "white",
             "startlinecolor": "#2a3f5f"
            },
            "baxis": {
             "endlinecolor": "#2a3f5f",
             "gridcolor": "white",
             "linecolor": "white",
             "minorgridcolor": "white",
             "startlinecolor": "#2a3f5f"
            },
            "type": "carpet"
           }
          ],
          "choropleth": [
           {
            "colorbar": {
             "outlinewidth": 0,
             "ticks": ""
            },
            "type": "choropleth"
           }
          ],
          "contour": [
           {
            "colorbar": {
             "outlinewidth": 0,
             "ticks": ""
            },
            "colorscale": [
             [
              0,
              "#0d0887"
             ],
             [
              0.1111111111111111,
              "#46039f"
             ],
             [
              0.2222222222222222,
              "#7201a8"
             ],
             [
              0.3333333333333333,
              "#9c179e"
             ],
             [
              0.4444444444444444,
              "#bd3786"
             ],
             [
              0.5555555555555556,
              "#d8576b"
             ],
             [
              0.6666666666666666,
              "#ed7953"
             ],
             [
              0.7777777777777778,
              "#fb9f3a"
             ],
             [
              0.8888888888888888,
              "#fdca26"
             ],
             [
              1,
              "#f0f921"
             ]
            ],
            "type": "contour"
           }
          ],
          "contourcarpet": [
           {
            "colorbar": {
             "outlinewidth": 0,
             "ticks": ""
            },
            "type": "contourcarpet"
           }
          ],
          "heatmap": [
           {
            "colorbar": {
             "outlinewidth": 0,
             "ticks": ""
            },
            "colorscale": [
             [
              0,
              "#0d0887"
             ],
             [
              0.1111111111111111,
              "#46039f"
             ],
             [
              0.2222222222222222,
              "#7201a8"
             ],
             [
              0.3333333333333333,
              "#9c179e"
             ],
             [
              0.4444444444444444,
              "#bd3786"
             ],
             [
              0.5555555555555556,
              "#d8576b"
             ],
             [
              0.6666666666666666,
              "#ed7953"
             ],
             [
              0.7777777777777778,
              "#fb9f3a"
             ],
             [
              0.8888888888888888,
              "#fdca26"
             ],
             [
              1,
              "#f0f921"
             ]
            ],
            "type": "heatmap"
           }
          ],
          "heatmapgl": [
           {
            "colorbar": {
             "outlinewidth": 0,
             "ticks": ""
            },
            "colorscale": [
             [
              0,
              "#0d0887"
             ],
             [
              0.1111111111111111,
              "#46039f"
             ],
             [
              0.2222222222222222,
              "#7201a8"
             ],
             [
              0.3333333333333333,
              "#9c179e"
             ],
             [
              0.4444444444444444,
              "#bd3786"
             ],
             [
              0.5555555555555556,
              "#d8576b"
             ],
             [
              0.6666666666666666,
              "#ed7953"
             ],
             [
              0.7777777777777778,
              "#fb9f3a"
             ],
             [
              0.8888888888888888,
              "#fdca26"
             ],
             [
              1,
              "#f0f921"
             ]
            ],
            "type": "heatmapgl"
           }
          ],
          "histogram": [
           {
            "marker": {
             "pattern": {
              "fillmode": "overlay",
              "size": 10,
              "solidity": 0.2
             }
            },
            "type": "histogram"
           }
          ],
          "histogram2d": [
           {
            "colorbar": {
             "outlinewidth": 0,
             "ticks": ""
            },
            "colorscale": [
             [
              0,
              "#0d0887"
             ],
             [
              0.1111111111111111,
              "#46039f"
             ],
             [
              0.2222222222222222,
              "#7201a8"
             ],
             [
              0.3333333333333333,
              "#9c179e"
             ],
             [
              0.4444444444444444,
              "#bd3786"
             ],
             [
              0.5555555555555556,
              "#d8576b"
             ],
             [
              0.6666666666666666,
              "#ed7953"
             ],
             [
              0.7777777777777778,
              "#fb9f3a"
             ],
             [
              0.8888888888888888,
              "#fdca26"
             ],
             [
              1,
              "#f0f921"
             ]
            ],
            "type": "histogram2d"
           }
          ],
          "histogram2dcontour": [
           {
            "colorbar": {
             "outlinewidth": 0,
             "ticks": ""
            },
            "colorscale": [
             [
              0,
              "#0d0887"
             ],
             [
              0.1111111111111111,
              "#46039f"
             ],
             [
              0.2222222222222222,
              "#7201a8"
             ],
             [
              0.3333333333333333,
              "#9c179e"
             ],
             [
              0.4444444444444444,
              "#bd3786"
             ],
             [
              0.5555555555555556,
              "#d8576b"
             ],
             [
              0.6666666666666666,
              "#ed7953"
             ],
             [
              0.7777777777777778,
              "#fb9f3a"
             ],
             [
              0.8888888888888888,
              "#fdca26"
             ],
             [
              1,
              "#f0f921"
             ]
            ],
            "type": "histogram2dcontour"
           }
          ],
          "mesh3d": [
           {
            "colorbar": {
             "outlinewidth": 0,
             "ticks": ""
            },
            "type": "mesh3d"
           }
          ],
          "parcoords": [
           {
            "line": {
             "colorbar": {
              "outlinewidth": 0,
              "ticks": ""
             }
            },
            "type": "parcoords"
           }
          ],
          "pie": [
           {
            "automargin": true,
            "type": "pie"
           }
          ],
          "scatter": [
           {
            "fillpattern": {
             "fillmode": "overlay",
             "size": 10,
             "solidity": 0.2
            },
            "type": "scatter"
           }
          ],
          "scatter3d": [
           {
            "line": {
             "colorbar": {
              "outlinewidth": 0,
              "ticks": ""
             }
            },
            "marker": {
             "colorbar": {
              "outlinewidth": 0,
              "ticks": ""
             }
            },
            "type": "scatter3d"
           }
          ],
          "scattercarpet": [
           {
            "marker": {
             "colorbar": {
              "outlinewidth": 0,
              "ticks": ""
             }
            },
            "type": "scattercarpet"
           }
          ],
          "scattergeo": [
           {
            "marker": {
             "colorbar": {
              "outlinewidth": 0,
              "ticks": ""
             }
            },
            "type": "scattergeo"
           }
          ],
          "scattergl": [
           {
            "marker": {
             "colorbar": {
              "outlinewidth": 0,
              "ticks": ""
             }
            },
            "type": "scattergl"
           }
          ],
          "scattermapbox": [
           {
            "marker": {
             "colorbar": {
              "outlinewidth": 0,
              "ticks": ""
             }
            },
            "type": "scattermapbox"
           }
          ],
          "scatterpolar": [
           {
            "marker": {
             "colorbar": {
              "outlinewidth": 0,
              "ticks": ""
             }
            },
            "type": "scatterpolar"
           }
          ],
          "scatterpolargl": [
           {
            "marker": {
             "colorbar": {
              "outlinewidth": 0,
              "ticks": ""
             }
            },
            "type": "scatterpolargl"
           }
          ],
          "scatterternary": [
           {
            "marker": {
             "colorbar": {
              "outlinewidth": 0,
              "ticks": ""
             }
            },
            "type": "scatterternary"
           }
          ],
          "surface": [
           {
            "colorbar": {
             "outlinewidth": 0,
             "ticks": ""
            },
            "colorscale": [
             [
              0,
              "#0d0887"
             ],
             [
              0.1111111111111111,
              "#46039f"
             ],
             [
              0.2222222222222222,
              "#7201a8"
             ],
             [
              0.3333333333333333,
              "#9c179e"
             ],
             [
              0.4444444444444444,
              "#bd3786"
             ],
             [
              0.5555555555555556,
              "#d8576b"
             ],
             [
              0.6666666666666666,
              "#ed7953"
             ],
             [
              0.7777777777777778,
              "#fb9f3a"
             ],
             [
              0.8888888888888888,
              "#fdca26"
             ],
             [
              1,
              "#f0f921"
             ]
            ],
            "type": "surface"
           }
          ],
          "table": [
           {
            "cells": {
             "fill": {
              "color": "#EBF0F8"
             },
             "line": {
              "color": "white"
             }
            },
            "header": {
             "fill": {
              "color": "#C8D4E3"
             },
             "line": {
              "color": "white"
             }
            },
            "type": "table"
           }
          ]
         },
         "layout": {
          "annotationdefaults": {
           "arrowcolor": "#2a3f5f",
           "arrowhead": 0,
           "arrowwidth": 1
          },
          "autotypenumbers": "strict",
          "coloraxis": {
           "colorbar": {
            "outlinewidth": 0,
            "ticks": ""
           }
          },
          "colorscale": {
           "diverging": [
            [
             0,
             "#8e0152"
            ],
            [
             0.1,
             "#c51b7d"
            ],
            [
             0.2,
             "#de77ae"
            ],
            [
             0.3,
             "#f1b6da"
            ],
            [
             0.4,
             "#fde0ef"
            ],
            [
             0.5,
             "#f7f7f7"
            ],
            [
             0.6,
             "#e6f5d0"
            ],
            [
             0.7,
             "#b8e186"
            ],
            [
             0.8,
             "#7fbc41"
            ],
            [
             0.9,
             "#4d9221"
            ],
            [
             1,
             "#276419"
            ]
           ],
           "sequential": [
            [
             0,
             "#0d0887"
            ],
            [
             0.1111111111111111,
             "#46039f"
            ],
            [
             0.2222222222222222,
             "#7201a8"
            ],
            [
             0.3333333333333333,
             "#9c179e"
            ],
            [
             0.4444444444444444,
             "#bd3786"
            ],
            [
             0.5555555555555556,
             "#d8576b"
            ],
            [
             0.6666666666666666,
             "#ed7953"
            ],
            [
             0.7777777777777778,
             "#fb9f3a"
            ],
            [
             0.8888888888888888,
             "#fdca26"
            ],
            [
             1,
             "#f0f921"
            ]
           ],
           "sequentialminus": [
            [
             0,
             "#0d0887"
            ],
            [
             0.1111111111111111,
             "#46039f"
            ],
            [
             0.2222222222222222,
             "#7201a8"
            ],
            [
             0.3333333333333333,
             "#9c179e"
            ],
            [
             0.4444444444444444,
             "#bd3786"
            ],
            [
             0.5555555555555556,
             "#d8576b"
            ],
            [
             0.6666666666666666,
             "#ed7953"
            ],
            [
             0.7777777777777778,
             "#fb9f3a"
            ],
            [
             0.8888888888888888,
             "#fdca26"
            ],
            [
             1,
             "#f0f921"
            ]
           ]
          },
          "colorway": [
           "#636efa",
           "#EF553B",
           "#00cc96",
           "#ab63fa",
           "#FFA15A",
           "#19d3f3",
           "#FF6692",
           "#B6E880",
           "#FF97FF",
           "#FECB52"
          ],
          "font": {
           "color": "#2a3f5f"
          },
          "geo": {
           "bgcolor": "white",
           "lakecolor": "white",
           "landcolor": "#E5ECF6",
           "showlakes": true,
           "showland": true,
           "subunitcolor": "white"
          },
          "hoverlabel": {
           "align": "left"
          },
          "hovermode": "closest",
          "mapbox": {
           "style": "light"
          },
          "paper_bgcolor": "white",
          "plot_bgcolor": "#E5ECF6",
          "polar": {
           "angularaxis": {
            "gridcolor": "white",
            "linecolor": "white",
            "ticks": ""
           },
           "bgcolor": "#E5ECF6",
           "radialaxis": {
            "gridcolor": "white",
            "linecolor": "white",
            "ticks": ""
           }
          },
          "scene": {
           "xaxis": {
            "backgroundcolor": "#E5ECF6",
            "gridcolor": "white",
            "gridwidth": 2,
            "linecolor": "white",
            "showbackground": true,
            "ticks": "",
            "zerolinecolor": "white"
           },
           "yaxis": {
            "backgroundcolor": "#E5ECF6",
            "gridcolor": "white",
            "gridwidth": 2,
            "linecolor": "white",
            "showbackground": true,
            "ticks": "",
            "zerolinecolor": "white"
           },
           "zaxis": {
            "backgroundcolor": "#E5ECF6",
            "gridcolor": "white",
            "gridwidth": 2,
            "linecolor": "white",
            "showbackground": true,
            "ticks": "",
            "zerolinecolor": "white"
           }
          },
          "shapedefaults": {
           "line": {
            "color": "#2a3f5f"
           }
          },
          "ternary": {
           "aaxis": {
            "gridcolor": "white",
            "linecolor": "white",
            "ticks": ""
           },
           "baxis": {
            "gridcolor": "white",
            "linecolor": "white",
            "ticks": ""
           },
           "bgcolor": "#E5ECF6",
           "caxis": {
            "gridcolor": "white",
            "linecolor": "white",
            "ticks": ""
           }
          },
          "title": {
           "x": 0.05
          },
          "xaxis": {
           "automargin": true,
           "gridcolor": "white",
           "linecolor": "white",
           "ticks": "",
           "title": {
            "standoff": 15
           },
           "zerolinecolor": "white",
           "zerolinewidth": 2
          },
          "yaxis": {
           "automargin": true,
           "gridcolor": "white",
           "linecolor": "white",
           "ticks": "",
           "title": {
            "standoff": 15
           },
           "zerolinecolor": "white",
           "zerolinewidth": 2
          }
         }
        },
        "treemapcolorway": [
         "rgb(95, 70, 144)",
         "rgb(29, 105, 150)",
         "rgb(56, 166, 165)",
         "rgb(15, 133, 84)",
         "rgb(115, 175, 72)",
         "rgb(237, 173, 8)",
         "rgb(225, 124, 5)",
         "rgb(204, 80, 62)",
         "rgb(148, 52, 110)",
         "rgb(111, 64, 112)",
         "rgb(102, 102, 102)"
        ]
       }
      }
     },
     "metadata": {},
     "output_type": "display_data"
    }
   ],
   "source": [
    "# define a custom color mapping function\n",
    "def get_tile_color(tile_path):\n",
    "    # get the name of the neighbourhood and the dominant topic from the tile path\n",
    "    neighbourhood, dominant_topic = tile_path[-2:]\n",
    "\n",
    "    # assign a specific color to each combination of neighbourhood and dominant topic\n",
    "    if dominant_topic == 'topic 0' and neighbourhood == 'Neighbourhood 1':\n",
    "        return 'red'\n",
    "    elif dominant_topic == 'topic 1' and neighbourhood == 'Neighbourhood 2':\n",
    "        return 'green'\n",
    "    else:\n",
    "        # Use the default color scale for all other tiles\n",
    "        return None\n",
    "\n",
    "# create the treemap with the custom color mapping function\n",
    "fig = px.treemap(\n",
    "    numnber_topic_by_neighbourhood,\n",
    "    path=['neighbourhood', 'dominant_topic'],\n",
    "    values='number_of_reviews',\n",
    "    color_discrete_sequence=PALETTE,\n",
    "    color_continuous_midpoint=np.average(numnber_topic_by_neighbourhood['number_of_reviews']),\n",
    ")\n",
    "\n",
    "# apply the custom color mapping function to each tile\n",
    "fig.data[0].marker.colors = [get_tile_color(tile_path) for tile_path in fig.data[0].ids]\n",
    "fig.show()"
   ]
  }
 ],
 "metadata": {
  "kernelspec": {
   "display_name": "airbnb",
   "language": "python",
   "name": "python3"
  },
  "language_info": {
   "codemirror_mode": {
    "name": "ipython",
    "version": 3
   },
   "file_extension": ".py",
   "mimetype": "text/x-python",
   "name": "python",
   "nbconvert_exporter": "python",
   "pygments_lexer": "ipython3",
   "version": "3.10.11"
  },
  "orig_nbformat": 4,
  "vscode": {
   "interpreter": {
    "hash": "fa762b15d4608733c906477181386a159a128a764007437e7615b031f1e18e76"
   }
  }
 },
 "nbformat": 4,
 "nbformat_minor": 2
}
