{
 "cells": [
  {
   "cell_type": "code",
   "execution_count": 130,
   "metadata": {},
   "outputs": [],
   "source": [
    "from pathlib import Path\n",
    "import pandas as pd\n",
    "import numpy as np\n",
    "import gensim, spacy\n",
    "import gensim.corpora as corpora\n",
    "from gensim.utils import simple_preprocess\n",
    "from nltk.corpus import stopwords\n",
    "from wordcloud import WordCloud\n",
    "from matplotlib import pyplot as plt\n",
    "import matplotlib.colors as mcolors\n",
    "import plotly.express as px\n",
    "import pyLDAvis\n",
    "import pyLDAvis.gensim_models\n",
    "import warnings\n",
    "warnings.filterwarnings(\"ignore\")"
   ]
  },
  {
   "cell_type": "code",
   "execution_count": 131,
   "metadata": {},
   "outputs": [],
   "source": [
    "BASE_DIR = Path.cwd().parent\n",
    "stop_words = stopwords.words('english')\n",
    "PALETTE = px.colors.qualitative.Prism"
   ]
  },
  {
   "cell_type": "code",
   "execution_count": 82,
   "metadata": {},
   "outputs": [],
   "source": [
    "df_hosts_reviews_en = pd.read_parquet(BASE_DIR / 'processed_data' / 'hosts_reviews_en_labeled.parquet')"
   ]
  },
  {
   "cell_type": "code",
   "execution_count": 117,
   "metadata": {},
   "outputs": [],
   "source": [
    "df_hosts_reviews_en = df_hosts_reviews_en.query('sentiment_label_class == 0').reset_index()"
   ]
  },
  {
   "cell_type": "code",
   "execution_count": 119,
   "metadata": {},
   "outputs": [
    {
     "name": "stdout",
     "output_type": "stream",
     "text": [
      "['stayed', 'three', 'nights', 'couldnt', 'helpful', 'soon', 'got', 'showed', 'us', 'get', 'around', 'visit', 'place', 'conveniently', 'located', 'metro', 'station', 'walking', 'distance', 'market', 'many', 'restaurants', 'clean', 'privacy', 'issue', 'despite', 'guests', 'staying', 'well', 'wifi', 'reliable', 'youre', 'vacation', 'doesnt', 'really', 'matter']\n"
     ]
    }
   ],
   "source": [
    "def sent_to_words(sentences):\n",
    "    for sent in sentences:\n",
    "        sent = gensim.utils.simple_preprocess(str(sent), deacc=True) \n",
    "        yield(sent)  \n",
    "\n",
    "# Convert to list\n",
    "data = df_hosts_reviews_en['comments'].values.tolist()\n",
    "data_words = list(sent_to_words(data))\n",
    "print(data_words[0])"
   ]
  },
  {
   "cell_type": "code",
   "execution_count": 120,
   "metadata": {},
   "outputs": [],
   "source": [
    "nlp = spacy.load(\"en_core_web_sm\")\n",
    "stop_words.append('also')\n",
    "bigram = gensim.models.Phrases(data_words, min_count=1, threshold=10) # higher threshold fewer phrases.\n",
    "trigram = gensim.models.Phrases(bigram[data_words], threshold=100)  \n",
    "bigram_mod = gensim.models.phrases.Phraser(bigram)\n",
    "trigram_mod = gensim.models.phrases.Phraser(trigram)\n",
    "\n",
    "# !python3 -m spacy download en  # run in terminal once\n",
    "def process_words(texts, stop_words=stop_words, allowed_postags=['NOUN', 'ADJ', 'VERB', 'ADV']):\n",
    "    \"\"\"Remove Stopwords, Form Bigrams, Trigrams and Lemmatization\"\"\"\n",
    "    #texts = [[word for word in simple_preprocess(str(doc)) if word not in stop_words] for doc in texts]\n",
    "    texts = [bigram_mod[doc] for doc in texts]\n",
    "    texts = [trigram_mod[bigram_mod[doc]] for doc in texts]\n",
    "    texts_out = []\n",
    "    for sent in texts:\n",
    "        doc = nlp(\" \".join(sent)) \n",
    "        texts_out.append([token.lemma_ for token in doc if token.pos_ in allowed_postags])\n",
    "    # remove stopwords once more after lemmatization\n",
    "    texts_out = [[word for word in simple_preprocess(str(doc)) if word not in stop_words] for doc in texts_out]    \n",
    "    return texts_out\n",
    "\n",
    "# call the cached function\n",
    "data_ready = process_words(data_words)"
   ]
  },
  {
   "cell_type": "code",
   "execution_count": 121,
   "metadata": {},
   "outputs": [
    {
     "data": {
      "text/plain": [
       "[(0,\n",
       "  '0.047*\"apartment\" + 0.044*\"host\" + 0.020*\"leave\" + 0.010*\"need\" + 0.009*\"airbnb\" + 0.007*\"rule\" + 0.006*\"book\" + 0.006*\"wait\" + 0.006*\"get\" + 0.005*\"right\"'),\n",
       " (1,\n",
       "  '0.026*\"stay\" + 0.020*\"place\" + 0.017*\"room\" + 0.012*\"go\" + 0.012*\"time\" + 0.011*\"clean\" + 0.011*\"really\" + 0.010*\"bed\" + 0.010*\"dirty\" + 0.009*\"location\"')]"
      ]
     },
     "execution_count": 121,
     "metadata": {},
     "output_type": "execute_result"
    }
   ],
   "source": [
    "# Create Dictionary\n",
    "id2word = corpora.Dictionary(data_ready)\n",
    "\n",
    "# Create Corpus: Term Document Frequency\n",
    "corpus = [id2word.doc2bow(text) for text in data_ready]\n",
    "\n",
    "# Build LDA model\n",
    "lda_model = gensim.models.ldamodel.LdaModel(corpus=corpus,\n",
    "                                           id2word=id2word,\n",
    "                                           num_topics=2, \n",
    "                                           random_state=42,\n",
    "                                           update_every=1,\n",
    "                                           chunksize=5,\n",
    "                                           passes=5,\n",
    "                                           alpha='symmetric',\n",
    "                                           iterations=100,\n",
    "                                           per_word_topics=True)\n",
    "\n",
    "lda_model.print_topics()"
   ]
  },
  {
   "cell_type": "code",
   "execution_count": 122,
   "metadata": {},
   "outputs": [
    {
     "data": {
      "text/html": [
       "<div>\n",
       "<style scoped>\n",
       "    .dataframe tbody tr th:only-of-type {\n",
       "        vertical-align: middle;\n",
       "    }\n",
       "\n",
       "    .dataframe tbody tr th {\n",
       "        vertical-align: top;\n",
       "    }\n",
       "\n",
       "    .dataframe thead th {\n",
       "        text-align: right;\n",
       "    }\n",
       "</style>\n",
       "<table border=\"1\" class=\"dataframe\">\n",
       "  <thead>\n",
       "    <tr style=\"text-align: right;\">\n",
       "      <th></th>\n",
       "      <th>level_0</th>\n",
       "      <th>date</th>\n",
       "      <th>listing_id_encod</th>\n",
       "      <th>listing_id</th>\n",
       "      <th>reviewer_id</th>\n",
       "      <th>reviewer_name</th>\n",
       "      <th>comments</th>\n",
       "      <th>host_id</th>\n",
       "      <th>host_name</th>\n",
       "      <th>host_description</th>\n",
       "      <th>...</th>\n",
       "      <th>review_scores_location</th>\n",
       "      <th>review_scores_value</th>\n",
       "      <th>comments_language</th>\n",
       "      <th>description_language</th>\n",
       "      <th>sentiment_label</th>\n",
       "      <th>sentiment_label_class</th>\n",
       "      <th>dominant_topic</th>\n",
       "      <th>percent_contribution</th>\n",
       "      <th>topic_keywords</th>\n",
       "      <th>text</th>\n",
       "    </tr>\n",
       "  </thead>\n",
       "  <tbody>\n",
       "    <tr>\n",
       "      <th>0</th>\n",
       "      <td>73</td>\n",
       "      <td>2014-06-08</td>\n",
       "      <td>2.0</td>\n",
       "      <td>1.644480e+05</td>\n",
       "      <td>13461507.0</td>\n",
       "      <td>Sherry</td>\n",
       "      <td>stayed three nights couldnt helpful soon got s...</td>\n",
       "      <td>784312.0</td>\n",
       "      <td>Li</td>\n",
       "      <td>double room central stockholm wifi renting nic...</td>\n",
       "      <td>...</td>\n",
       "      <td>4.83</td>\n",
       "      <td>4.77</td>\n",
       "      <td>en</td>\n",
       "      <td>en</td>\n",
       "      <td>-0.1869</td>\n",
       "      <td>0</td>\n",
       "      <td>1</td>\n",
       "      <td>0.676</td>\n",
       "      <td>stay, place, room, go, time, clean, really, be...</td>\n",
       "      <td>[night, couldnt_helpful, soon, get, get_around...</td>\n",
       "    </tr>\n",
       "    <tr>\n",
       "      <th>1</th>\n",
       "      <td>338</td>\n",
       "      <td>2016-10-29</td>\n",
       "      <td>103.0</td>\n",
       "      <td>2.106913e+06</td>\n",
       "      <td>97097053.0</td>\n",
       "      <td>Maxim</td>\n",
       "      <td>cozy flat</td>\n",
       "      <td>10741379.0</td>\n",
       "      <td>Moa</td>\n",
       "      <td>cosy quiet studio kungsholmen set district cen...</td>\n",
       "      <td>...</td>\n",
       "      <td>4.73</td>\n",
       "      <td>4.61</td>\n",
       "      <td>en</td>\n",
       "      <td>en</td>\n",
       "      <td>0.0000</td>\n",
       "      <td>0</td>\n",
       "      <td>1</td>\n",
       "      <td>0.832</td>\n",
       "      <td>stay, place, room, go, time, clean, really, be...</td>\n",
       "      <td>[cozy, flat]</td>\n",
       "    </tr>\n",
       "    <tr>\n",
       "      <th>2</th>\n",
       "      <td>344</td>\n",
       "      <td>2018-07-28</td>\n",
       "      <td>103.0</td>\n",
       "      <td>2.106913e+06</td>\n",
       "      <td>196417596.0</td>\n",
       "      <td>Elena</td>\n",
       "      <td>smallclean apartment every time</td>\n",
       "      <td>10741379.0</td>\n",
       "      <td>Moa</td>\n",
       "      <td>cosy quiet studio kungsholmen set district cen...</td>\n",
       "      <td>...</td>\n",
       "      <td>4.73</td>\n",
       "      <td>4.61</td>\n",
       "      <td>en</td>\n",
       "      <td>en</td>\n",
       "      <td>0.0000</td>\n",
       "      <td>0</td>\n",
       "      <td>0</td>\n",
       "      <td>0.569</td>\n",
       "      <td>apartment, host, leave, need, airbnb, rule, bo...</td>\n",
       "      <td>[smallclean, apartment, every_time]</td>\n",
       "    </tr>\n",
       "    <tr>\n",
       "      <th>3</th>\n",
       "      <td>485</td>\n",
       "      <td>2017-03-27</td>\n",
       "      <td>105.0</td>\n",
       "      <td>2.166026e+06</td>\n",
       "      <td>110430708.0</td>\n",
       "      <td>Jerome</td>\n",
       "      <td>nothing short amazing 1010 would book thank host</td>\n",
       "      <td>4455221.0</td>\n",
       "      <td>Janu</td>\n",
       "      <td>stockholm house close fairtown cool retro vill...</td>\n",
       "      <td>...</td>\n",
       "      <td>4.70</td>\n",
       "      <td>4.74</td>\n",
       "      <td>en</td>\n",
       "      <td>en</td>\n",
       "      <td>-0.1461</td>\n",
       "      <td>0</td>\n",
       "      <td>0</td>\n",
       "      <td>0.784</td>\n",
       "      <td>apartment, host, leave, need, airbnb, rule, bo...</td>\n",
       "      <td>[short, amazing, would_book, thank, host]</td>\n",
       "    </tr>\n",
       "    <tr>\n",
       "      <th>4</th>\n",
       "      <td>519</td>\n",
       "      <td>2018-08-16</td>\n",
       "      <td>105.0</td>\n",
       "      <td>2.166026e+06</td>\n",
       "      <td>116636414.0</td>\n",
       "      <td>宇星</td>\n",
       "      <td>house really big location convenient get city ...</td>\n",
       "      <td>4455221.0</td>\n",
       "      <td>Janu</td>\n",
       "      <td>stockholm house close fairtown cool retro vill...</td>\n",
       "      <td>...</td>\n",
       "      <td>4.70</td>\n",
       "      <td>4.74</td>\n",
       "      <td>en</td>\n",
       "      <td>en</td>\n",
       "      <td>0.0000</td>\n",
       "      <td>0</td>\n",
       "      <td>1</td>\n",
       "      <td>0.741</td>\n",
       "      <td>stay, place, room, go, time, clean, really, be...</td>\n",
       "      <td>[really, big, location, convenient, get_city, ...</td>\n",
       "    </tr>\n",
       "    <tr>\n",
       "      <th>...</th>\n",
       "      <td>...</td>\n",
       "      <td>...</td>\n",
       "      <td>...</td>\n",
       "      <td>...</td>\n",
       "      <td>...</td>\n",
       "      <td>...</td>\n",
       "      <td>...</td>\n",
       "      <td>...</td>\n",
       "      <td>...</td>\n",
       "      <td>...</td>\n",
       "      <td>...</td>\n",
       "      <td>...</td>\n",
       "      <td>...</td>\n",
       "      <td>...</td>\n",
       "      <td>...</td>\n",
       "      <td>...</td>\n",
       "      <td>...</td>\n",
       "      <td>...</td>\n",
       "      <td>...</td>\n",
       "      <td>...</td>\n",
       "      <td>...</td>\n",
       "    </tr>\n",
       "    <tr>\n",
       "      <th>1216</th>\n",
       "      <td>69325</td>\n",
       "      <td>2023-03-30</td>\n",
       "      <td>2697.0</td>\n",
       "      <td>7.914385e+17</td>\n",
       "      <td>446637412.0</td>\n",
       "      <td>Liliana</td>\n",
       "      <td>apartment gut located host always available qu...</td>\n",
       "      <td>493068067.0</td>\n",
       "      <td>Nazar</td>\n",
       "      <td>mysig lägenhet bright beautiful spacious apart...</td>\n",
       "      <td>...</td>\n",
       "      <td>5.00</td>\n",
       "      <td>5.00</td>\n",
       "      <td>en</td>\n",
       "      <td>en</td>\n",
       "      <td>0.0000</td>\n",
       "      <td>0</td>\n",
       "      <td>0</td>\n",
       "      <td>0.928</td>\n",
       "      <td>apartment, host, leave, need, airbnb, rule, bo...</td>\n",
       "      <td>[apartment, gut, locate, host_alway, available...</td>\n",
       "    </tr>\n",
       "    <tr>\n",
       "      <th>1217</th>\n",
       "      <td>69336</td>\n",
       "      <td>2023-02-17</td>\n",
       "      <td>2640.0</td>\n",
       "      <td>7.614526e+17</td>\n",
       "      <td>27141590.0</td>\n",
       "      <td>Martynas</td>\n",
       "      <td>cosy place close city</td>\n",
       "      <td>168568871.0</td>\n",
       "      <td>Casper Fredrik</td>\n",
       "      <td>private apartment house private stylish apartm...</td>\n",
       "      <td>...</td>\n",
       "      <td>4.86</td>\n",
       "      <td>4.71</td>\n",
       "      <td>en</td>\n",
       "      <td>en</td>\n",
       "      <td>0.0000</td>\n",
       "      <td>0</td>\n",
       "      <td>1</td>\n",
       "      <td>0.503</td>\n",
       "      <td>stay, place, room, go, time, clean, really, be...</td>\n",
       "      <td>[cosy, place, close_city]</td>\n",
       "    </tr>\n",
       "    <tr>\n",
       "      <th>1218</th>\n",
       "      <td>69462</td>\n",
       "      <td>2023-02-24</td>\n",
       "      <td>2723.0</td>\n",
       "      <td>8.021823e+17</td>\n",
       "      <td>286560136.0</td>\n",
       "      <td>Valerie</td>\n",
       "      <td>difficult locate reach landlord particularly s...</td>\n",
       "      <td>465046893.0</td>\n",
       "      <td>Thomas</td>\n",
       "      <td>apartment stockholm city one room apartment 28...</td>\n",
       "      <td>...</td>\n",
       "      <td>3.00</td>\n",
       "      <td>1.00</td>\n",
       "      <td>en</td>\n",
       "      <td>en</td>\n",
       "      <td>-0.0534</td>\n",
       "      <td>0</td>\n",
       "      <td>1</td>\n",
       "      <td>0.677</td>\n",
       "      <td>stay, place, room, go, time, clean, really, be...</td>\n",
       "      <td>[difficult, locate, reach, particularly, safe,...</td>\n",
       "    </tr>\n",
       "    <tr>\n",
       "      <th>1219</th>\n",
       "      <td>69525</td>\n",
       "      <td>2023-03-10</td>\n",
       "      <td>2777.0</td>\n",
       "      <td>8.308865e+17</td>\n",
       "      <td>7781365.0</td>\n",
       "      <td>Lotta</td>\n",
       "      <td>wanted cancel place bed space bedding two peop...</td>\n",
       "      <td>501923445.0</td>\n",
       "      <td>Sidar</td>\n",
       "      <td>super apartment good location enjoy stylish ex...</td>\n",
       "      <td>...</td>\n",
       "      <td>4.00</td>\n",
       "      <td>3.00</td>\n",
       "      <td>en</td>\n",
       "      <td>en</td>\n",
       "      <td>-0.6705</td>\n",
       "      <td>0</td>\n",
       "      <td>0</td>\n",
       "      <td>0.656</td>\n",
       "      <td>apartment, host, leave, need, airbnb, rule, bo...</td>\n",
       "      <td>[want, cancel, place, bed, space, bed, two_peo...</td>\n",
       "    </tr>\n",
       "    <tr>\n",
       "      <th>1220</th>\n",
       "      <td>69533</td>\n",
       "      <td>2023-03-03</td>\n",
       "      <td>2737.0</td>\n",
       "      <td>8.088709e+17</td>\n",
       "      <td>167539477.0</td>\n",
       "      <td>Albert</td>\n",
       "      <td>dont go like photos dirty wont want stay save ...</td>\n",
       "      <td>495419064.0</td>\n",
       "      <td>Anastasiya</td>\n",
       "      <td>family living wellness option big beautiful pl...</td>\n",
       "      <td>...</td>\n",
       "      <td>3.00</td>\n",
       "      <td>3.00</td>\n",
       "      <td>en</td>\n",
       "      <td>en</td>\n",
       "      <td>-0.7820</td>\n",
       "      <td>0</td>\n",
       "      <td>1</td>\n",
       "      <td>0.936</td>\n",
       "      <td>stay, place, room, go, time, clean, really, be...</td>\n",
       "      <td>[go, photo, dirty, wont_want, stay, save, time]</td>\n",
       "    </tr>\n",
       "  </tbody>\n",
       "</table>\n",
       "<p>1221 rows × 34 columns</p>\n",
       "</div>"
      ],
      "text/plain": [
       "      level_0       date  listing_id_encod    listing_id  reviewer_id  \\\n",
       "0          73 2014-06-08               2.0  1.644480e+05   13461507.0   \n",
       "1         338 2016-10-29             103.0  2.106913e+06   97097053.0   \n",
       "2         344 2018-07-28             103.0  2.106913e+06  196417596.0   \n",
       "3         485 2017-03-27             105.0  2.166026e+06  110430708.0   \n",
       "4         519 2018-08-16             105.0  2.166026e+06  116636414.0   \n",
       "...       ...        ...               ...           ...          ...   \n",
       "1216    69325 2023-03-30            2697.0  7.914385e+17  446637412.0   \n",
       "1217    69336 2023-02-17            2640.0  7.614526e+17   27141590.0   \n",
       "1218    69462 2023-02-24            2723.0  8.021823e+17  286560136.0   \n",
       "1219    69525 2023-03-10            2777.0  8.308865e+17    7781365.0   \n",
       "1220    69533 2023-03-03            2737.0  8.088709e+17  167539477.0   \n",
       "\n",
       "     reviewer_name                                           comments  \\\n",
       "0           Sherry  stayed three nights couldnt helpful soon got s...   \n",
       "1            Maxim                                          cozy flat   \n",
       "2            Elena                    smallclean apartment every time   \n",
       "3           Jerome   nothing short amazing 1010 would book thank host   \n",
       "4               宇星  house really big location convenient get city ...   \n",
       "...            ...                                                ...   \n",
       "1216       Liliana  apartment gut located host always available qu...   \n",
       "1217      Martynas                              cosy place close city   \n",
       "1218       Valerie  difficult locate reach landlord particularly s...   \n",
       "1219         Lotta  wanted cancel place bed space bedding two peop...   \n",
       "1220        Albert  dont go like photos dirty wont want stay save ...   \n",
       "\n",
       "          host_id       host_name  \\\n",
       "0        784312.0              Li   \n",
       "1      10741379.0             Moa   \n",
       "2      10741379.0             Moa   \n",
       "3       4455221.0            Janu   \n",
       "4       4455221.0            Janu   \n",
       "...           ...             ...   \n",
       "1216  493068067.0           Nazar   \n",
       "1217  168568871.0  Casper Fredrik   \n",
       "1218  465046893.0          Thomas   \n",
       "1219  501923445.0           Sidar   \n",
       "1220  495419064.0      Anastasiya   \n",
       "\n",
       "                                       host_description  ...  \\\n",
       "0     double room central stockholm wifi renting nic...  ...   \n",
       "1     cosy quiet studio kungsholmen set district cen...  ...   \n",
       "2     cosy quiet studio kungsholmen set district cen...  ...   \n",
       "3     stockholm house close fairtown cool retro vill...  ...   \n",
       "4     stockholm house close fairtown cool retro vill...  ...   \n",
       "...                                                 ...  ...   \n",
       "1216  mysig lägenhet bright beautiful spacious apart...  ...   \n",
       "1217  private apartment house private stylish apartm...  ...   \n",
       "1218  apartment stockholm city one room apartment 28...  ...   \n",
       "1219  super apartment good location enjoy stylish ex...  ...   \n",
       "1220  family living wellness option big beautiful pl...  ...   \n",
       "\n",
       "     review_scores_location  review_scores_value  comments_language  \\\n",
       "0                      4.83                 4.77                 en   \n",
       "1                      4.73                 4.61                 en   \n",
       "2                      4.73                 4.61                 en   \n",
       "3                      4.70                 4.74                 en   \n",
       "4                      4.70                 4.74                 en   \n",
       "...                     ...                  ...                ...   \n",
       "1216                   5.00                 5.00                 en   \n",
       "1217                   4.86                 4.71                 en   \n",
       "1218                   3.00                 1.00                 en   \n",
       "1219                   4.00                 3.00                 en   \n",
       "1220                   3.00                 3.00                 en   \n",
       "\n",
       "     description_language  sentiment_label  sentiment_label_class  \\\n",
       "0                      en          -0.1869                      0   \n",
       "1                      en           0.0000                      0   \n",
       "2                      en           0.0000                      0   \n",
       "3                      en          -0.1461                      0   \n",
       "4                      en           0.0000                      0   \n",
       "...                   ...              ...                    ...   \n",
       "1216                   en           0.0000                      0   \n",
       "1217                   en           0.0000                      0   \n",
       "1218                   en          -0.0534                      0   \n",
       "1219                   en          -0.6705                      0   \n",
       "1220                   en          -0.7820                      0   \n",
       "\n",
       "     dominant_topic  percent_contribution  \\\n",
       "0                 1                 0.676   \n",
       "1                 1                 0.832   \n",
       "2                 0                 0.569   \n",
       "3                 0                 0.784   \n",
       "4                 1                 0.741   \n",
       "...             ...                   ...   \n",
       "1216              0                 0.928   \n",
       "1217              1                 0.503   \n",
       "1218              1                 0.677   \n",
       "1219              0                 0.656   \n",
       "1220              1                 0.936   \n",
       "\n",
       "                                         topic_keywords  \\\n",
       "0     stay, place, room, go, time, clean, really, be...   \n",
       "1     stay, place, room, go, time, clean, really, be...   \n",
       "2     apartment, host, leave, need, airbnb, rule, bo...   \n",
       "3     apartment, host, leave, need, airbnb, rule, bo...   \n",
       "4     stay, place, room, go, time, clean, really, be...   \n",
       "...                                                 ...   \n",
       "1216  apartment, host, leave, need, airbnb, rule, bo...   \n",
       "1217  stay, place, room, go, time, clean, really, be...   \n",
       "1218  stay, place, room, go, time, clean, really, be...   \n",
       "1219  apartment, host, leave, need, airbnb, rule, bo...   \n",
       "1220  stay, place, room, go, time, clean, really, be...   \n",
       "\n",
       "                                                   text  \n",
       "0     [night, couldnt_helpful, soon, get, get_around...  \n",
       "1                                          [cozy, flat]  \n",
       "2                   [smallclean, apartment, every_time]  \n",
       "3             [short, amazing, would_book, thank, host]  \n",
       "4     [really, big, location, convenient, get_city, ...  \n",
       "...                                                 ...  \n",
       "1216  [apartment, gut, locate, host_alway, available...  \n",
       "1217                          [cosy, place, close_city]  \n",
       "1218  [difficult, locate, reach, particularly, safe,...  \n",
       "1219  [want, cancel, place, bed, space, bed, two_peo...  \n",
       "1220    [go, photo, dirty, wont_want, stay, save, time]  \n",
       "\n",
       "[1221 rows x 34 columns]"
      ]
     },
     "execution_count": 122,
     "metadata": {},
     "output_type": "execute_result"
    }
   ],
   "source": [
    "def format_topics_sentences(ldamodel=None, corpus=corpus, texts=data):\n",
    "    # Init output\n",
    "    sent_topics_df = pd.DataFrame()\n",
    "\n",
    "    # Get main topic in each document\n",
    "    for i, row_list in enumerate(ldamodel[corpus]):\n",
    "        row = row_list[0] if ldamodel.per_word_topics else row_list            \n",
    "        # print(row)\n",
    "        row = sorted(row, key=lambda x: (x[1]), reverse=True)\n",
    "        # Get the Dominant topic, Perc Contribution and Keywords for each document\n",
    "        for j, (topic_num, prop_topic) in enumerate(row):\n",
    "            if j == 0:  # => dominant topic\n",
    "                wp = ldamodel.show_topic(topic_num)\n",
    "                topic_keywords = \", \".join([word for word, prop in wp])\n",
    "                sent_topics_df = sent_topics_df.append(pd.Series([int(topic_num), round(prop_topic,3), topic_keywords]), ignore_index=True)\n",
    "            else:\n",
    "                break\n",
    "    sent_topics_df.columns = ['dominant_topic', 'percent_contribution', 'topic_keywords']\n",
    "\n",
    "    # Add original text to the end of the output\n",
    "    contents = pd.Series(texts)\n",
    "    contents.name = 'text'\n",
    "    sent_topics_df = (df_hosts_reviews_en.merge(sent_topics_df, left_index=True, right_index=True)\n",
    "                                    .merge(contents, left_index=True, right_index=True)\n",
    "                                    .drop('index', axis=1))\n",
    "    return(sent_topics_df)\n",
    "\n",
    "\n",
    "df_dominant_topic = format_topics_sentences(ldamodel=lda_model, corpus=corpus, texts=data_ready)\n",
    "df_dominant_topic"
   ]
  },
  {
   "cell_type": "code",
   "execution_count": 123,
   "metadata": {},
   "outputs": [
    {
     "data": {
      "text/html": [
       "\n",
       "<link rel=\"stylesheet\" type=\"text/css\" href=\"https://cdn.jsdelivr.net/gh/bmabey/pyLDAvis@3.4.0/pyLDAvis/js/ldavis.v1.0.0.css\">\n",
       "\n",
       "\n",
       "<div id=\"ldavis_el74804114230781444195442720\" style=\"background-color:white;\"></div>\n",
       "<script type=\"text/javascript\">\n",
       "\n",
       "var ldavis_el74804114230781444195442720_data = {\"mdsDat\": {\"x\": [0.14030749458271924, -0.14030749458271924], \"y\": [0.0, 0.0], \"topics\": [1, 2], \"cluster\": [1, 1], \"Freq\": [59.12413671713097, 40.87586328286903]}, \"tinfo\": {\"Term\": [\"apartment\", \"host\", \"stay\", \"leave\", \"place\", \"room\", \"clean\", \"go\", \"airbnb\", \"really\", \"dirty\", \"bed\", \"need\", \"location\", \"photo\", \"bathroom\", \"shower\", \"book\", \"time\", \"break\", \"rule\", \"kitchen\", \"message\", \"nice\", \"bad\", \"day\", \"right\", \"arrive\", \"city\", \"good\", \"place\", \"room\", \"dirty\", \"bathroom\", \"clean\", \"photo\", \"location\", \"stay\", \"shower\", \"bed\", \"really\", \"kitchen\", \"good\", \"arrive\", \"break\", \"nice\", \"find\", \"work\", \"night\", \"much\", \"cleanliness\", \"sleep\", \"feel\", \"window\", \"price\", \"go\", \"cold\", \"flat\", \"overall\", \"still\", \"bad\", \"space\", \"make\", \"time\", \"floor\", \"problem\", \"towel\", \"save\", \"ask\", \"door\", \"hour\", \"owner\", \"wont_want\", \"want\", \"get\", \"host\", \"apartment\", \"airbnb\", \"message\", \"city\", \"book\", \"recommend\", \"refund\", \"minute\", \"answer\", \"convenient\", \"question\", \"day\", \"leave\", \"available\", \"perfect\", \"locate\", \"host_alway\", \"service\", \"quiet\", \"response\", \"cosy\", \"give\", \"gut\", \"central\", \"flight\", \"stop\", \"advertise\", \"spacious\", \"renovate\", \"right\", \"rent\", \"need\", \"cancel\", \"especially\", \"rule\", \"way\", \"check\", \"unfortunately\", \"wait\", \"long\", \"wrong\", \"take\", \"many\", \"pay\", \"money\", \"get\", \"come\", \"old_town\", \"end\", \"guest\"], \"Freq\": [346.0, 330.0, 285.0, 156.0, 210.0, 181.0, 122.0, 134.0, 64.0, 114.0, 108.0, 110.0, 79.0, 100.0, 98.0, 93.0, 87.0, 47.0, 131.0, 75.0, 55.0, 69.0, 37.0, 70.0, 78.0, 38.0, 42.0, 60.0, 32.0, 56.0, 210.3216791790067, 181.3160617806994, 108.00795987446256, 93.02618833062763, 121.91850440934118, 98.43538715921534, 100.06613684882154, 284.2774270144664, 86.69424317302041, 110.16617016935922, 113.99186815669687, 69.1932257801865, 56.458602070610134, 59.584699378999396, 74.27198740487079, 69.96628747785736, 50.265990559598556, 56.417228105492164, 34.34696781983756, 36.45998747377103, 37.516045194502176, 26.551312488640715, 32.57027274216821, 34.278417524093925, 44.30521213229014, 132.23303091586112, 36.58767126687054, 27.75888574608345, 32.757035080484464, 30.95770971279044, 76.58444835431315, 40.449372896638174, 65.9109195228388, 124.9283229913255, 39.97291786776096, 82.06822223135303, 42.287414544175746, 51.7393972879206, 69.59088443719632, 50.64492552411114, 48.542346776612895, 43.28978652279867, 52.25471846611172, 44.14017087587837, 60.17217771152086, 329.4893901727919, 345.5685088187758, 63.93291905370241, 37.21016380083585, 32.463879111694986, 46.62551367738912, 22.550643390671258, 28.770009748586794, 25.50609220234158, 20.65796086874594, 19.024394363355032, 22.621934487590845, 37.574502526899714, 151.64661254426215, 16.56596277173953, 16.663063929327194, 27.679501011054246, 11.469539552498508, 17.75984644916987, 18.48137286013431, 19.593978850196546, 28.611802676591275, 11.334464138648906, 10.868854685113593, 11.217395844270488, 11.909376073447131, 9.727638486291934, 22.493795980853754, 28.04213184537445, 10.094973362179102, 39.40078622421059, 33.77298763109084, 72.14596840312, 26.430336210774556, 21.589775552006213, 49.27210347790815, 35.31352670652127, 28.916850447016326, 29.671540005650357, 45.78011244494047, 23.107858182305662, 30.360892775486274, 32.00118723460144, 24.899631759692088, 30.10361416725849, 34.248586265405926, 44.67988478452287, 32.51358929544924, 24.497826482293114, 26.442920040032433, 25.835458002629327], \"Total\": [346.0, 330.0, 285.0, 156.0, 210.0, 181.0, 122.0, 134.0, 64.0, 114.0, 108.0, 110.0, 79.0, 100.0, 98.0, 93.0, 87.0, 47.0, 131.0, 75.0, 55.0, 69.0, 37.0, 70.0, 78.0, 38.0, 42.0, 60.0, 32.0, 56.0, 210.97937756120112, 181.89387634356945, 108.4559994888224, 93.49706786707532, 122.57883667273924, 98.98173702224338, 100.63627820291858, 285.9578945972913, 87.21418331369384, 110.86612586658767, 114.73513624326041, 69.76599016847503, 56.97395575996272, 60.19236545895441, 75.11449744987738, 70.8037502084399, 50.94340918763558, 57.18293455883311, 34.87278493645132, 37.074442596095835, 38.17963156154479, 27.03217327297868, 33.16024318998597, 34.901739080493286, 45.11687564921674, 134.67033360711605, 37.263875353338335, 28.27653036757399, 33.395092383835404, 31.567532459379795, 78.28635502966691, 41.355655548118875, 67.85896756924033, 131.73802109430426, 40.9875596882043, 87.9016059186454, 43.617017872425976, 55.058434708894275, 77.28510770424293, 54.14013310092011, 52.09765932065893, 46.041725311496045, 62.101484560133244, 48.03437602686213, 104.85206249604373, 330.38876669961894, 346.7083730789913, 64.66915844696143, 37.661775974546636, 32.98878865759462, 47.41698746395011, 22.966301800385157, 29.41045046885093, 26.11291965919949, 21.180873325895977, 19.509513799044566, 23.21708742493561, 38.68951678973189, 156.17883143334214, 17.108895175219917, 17.237643925413078, 28.640898754537186, 11.88004842379366, 18.42217864980401, 19.179636968800907, 20.412139784065086, 29.938764451948977, 11.869915791904765, 11.398064157843345, 11.772979650816927, 12.563836028893927, 10.273390855582619, 23.772353742078266, 29.73762264835259, 10.71531221527479, 42.05265812432235, 36.49818223289307, 79.49584948384725, 28.43034725892357, 23.21566244564127, 55.3512613020311, 39.03298753419629, 32.79458998348109, 34.145820918628665, 58.69519648160436, 25.413990268905856, 36.03916225551309, 38.79439003233503, 28.41045711207956, 40.09540613619551, 52.017429144162705, 104.85206249604373, 56.64499691352049, 29.086706334696068, 36.28603524980897, 55.531466600931246], \"Category\": [\"Default\", \"Default\", \"Default\", \"Default\", \"Default\", \"Default\", \"Default\", \"Default\", \"Default\", \"Default\", \"Default\", \"Default\", \"Default\", \"Default\", \"Default\", \"Default\", \"Default\", \"Default\", \"Default\", \"Default\", \"Default\", \"Default\", \"Default\", \"Default\", \"Default\", \"Default\", \"Default\", \"Default\", \"Default\", \"Default\", \"Topic1\", \"Topic1\", \"Topic1\", \"Topic1\", \"Topic1\", \"Topic1\", \"Topic1\", \"Topic1\", \"Topic1\", \"Topic1\", \"Topic1\", \"Topic1\", \"Topic1\", \"Topic1\", \"Topic1\", \"Topic1\", \"Topic1\", \"Topic1\", \"Topic1\", \"Topic1\", \"Topic1\", \"Topic1\", \"Topic1\", \"Topic1\", \"Topic1\", \"Topic1\", \"Topic1\", \"Topic1\", \"Topic1\", \"Topic1\", \"Topic1\", \"Topic1\", \"Topic1\", \"Topic1\", \"Topic1\", \"Topic1\", \"Topic1\", \"Topic1\", \"Topic1\", \"Topic1\", \"Topic1\", \"Topic1\", \"Topic1\", \"Topic1\", \"Topic1\", \"Topic2\", \"Topic2\", \"Topic2\", \"Topic2\", \"Topic2\", \"Topic2\", \"Topic2\", \"Topic2\", \"Topic2\", \"Topic2\", \"Topic2\", \"Topic2\", \"Topic2\", \"Topic2\", \"Topic2\", \"Topic2\", \"Topic2\", \"Topic2\", \"Topic2\", \"Topic2\", \"Topic2\", \"Topic2\", \"Topic2\", \"Topic2\", \"Topic2\", \"Topic2\", \"Topic2\", \"Topic2\", \"Topic2\", \"Topic2\", \"Topic2\", \"Topic2\", \"Topic2\", \"Topic2\", \"Topic2\", \"Topic2\", \"Topic2\", \"Topic2\", \"Topic2\", \"Topic2\", \"Topic2\", \"Topic2\", \"Topic2\", \"Topic2\", \"Topic2\", \"Topic2\", \"Topic2\", \"Topic2\", \"Topic2\", \"Topic2\", \"Topic2\"], \"logprob\": [30.0, 29.0, 28.0, 27.0, 26.0, 25.0, 24.0, 23.0, 22.0, 21.0, 20.0, 19.0, 18.0, 17.0, 16.0, 15.0, 14.0, 13.0, 12.0, 11.0, 10.0, 9.0, 8.0, 7.0, 6.0, 5.0, 4.0, 3.0, 2.0, 1.0, -3.932, -4.0804, -4.5984, -4.7477, -4.4773, -4.6912, -4.6748, -3.6307, -4.8182, -4.5786, -4.5445, -5.0437, -5.2471, -5.1932, -4.9729, -5.0326, -5.3633, -5.2478, -5.7441, -5.6844, -5.6559, -6.0015, -5.7972, -5.7461, -5.4895, -4.3961, -5.6809, -5.9571, -5.7915, -5.848, -4.9422, -5.5806, -5.0923, -4.4529, -5.5924, -4.8731, -5.5361, -5.3344, -5.038, -5.3558, -5.3982, -5.5127, -5.3245, -5.4932, -5.1834, -3.114, -3.0663, -4.7537, -5.2949, -5.4314, -5.0694, -5.7958, -5.5522, -5.6726, -5.8834, -5.9658, -5.7926, -5.2852, -3.89, -6.1042, -6.0983, -5.5908, -6.4718, -6.0346, -5.9948, -5.9363, -5.5577, -6.4837, -6.5256, -6.4941, -6.4342, -6.6365, -5.7983, -5.5778, -6.5995, -5.2377, -5.3919, -4.6328, -5.637, -5.8393, -5.0142, -5.3473, -5.5471, -5.5213, -5.0877, -5.7713, -5.4984, -5.4457, -5.6967, -5.5069, -5.3779, -5.112, -5.4299, -5.7129, -5.6365, -5.6598], \"loglift\": [30.0, 29.0, 28.0, 27.0, 26.0, 25.0, 24.0, 23.0, 22.0, 21.0, 20.0, 19.0, 18.0, 17.0, 16.0, 15.0, 14.0, 13.0, 12.0, 11.0, 10.0, 9.0, 8.0, 7.0, 6.0, 5.0, 4.0, 3.0, 2.0, 1.0, 0.5224, 0.5223, 0.5214, 0.5205, 0.5201, 0.52, 0.5198, 0.5196, 0.5196, 0.5192, 0.519, 0.5173, 0.5164, 0.5154, 0.5143, 0.5136, 0.5121, 0.512, 0.5103, 0.5088, 0.508, 0.5076, 0.5076, 0.5075, 0.5074, 0.5073, 0.5072, 0.5071, 0.5062, 0.506, 0.5036, 0.5034, 0.4964, 0.4725, 0.5005, 0.4569, 0.4946, 0.4634, 0.4207, 0.4588, 0.4548, 0.4639, 0.3529, 0.441, -0.0298, 0.8919, 0.8913, 0.8832, 0.8826, 0.8786, 0.8778, 0.8764, 0.8726, 0.8711, 0.8696, 0.8695, 0.8687, 0.8654, 0.8652, 0.8624, 0.8607, 0.8605, 0.8595, 0.858, 0.8575, 0.8537, 0.8493, 0.8485, 0.8471, 0.8463, 0.8411, 0.84, 0.8393, 0.8359, 0.835, 0.8295, 0.817, 0.7976, 0.8217, 0.822, 0.7783, 0.7945, 0.7688, 0.7542, 0.6461, 0.7995, 0.7232, 0.7021, 0.7627, 0.608, 0.4767, 0.0416, 0.3395, 0.7229, 0.5782, 0.1294]}, \"token.table\": {\"Topic\": [1, 2, 1, 2, 1, 2, 1, 2, 1, 2, 1, 2, 1, 2, 1, 2, 1, 1, 2, 1, 2, 1, 2, 1, 2, 1, 2, 1, 2, 1, 2, 1, 2, 1, 2, 1, 2, 1, 2, 2, 1, 2, 1, 2, 1, 1, 2, 1, 2, 1, 2, 1, 2, 1, 2, 1, 2, 1, 2, 1, 2, 1, 2, 1, 2, 1, 2, 1, 2, 1, 2, 1, 2, 1, 2, 2, 1, 2, 1, 2, 1, 2, 1, 2, 1, 2, 1, 2, 1, 2, 1, 2, 2, 1, 2, 1, 2, 1, 2, 1, 2, 1, 2, 1, 2, 1, 2, 1, 2, 1, 2, 1, 2, 1, 2, 1, 2, 1, 2, 1, 2, 1, 2, 1, 2, 1, 2, 1, 2, 2, 1, 2, 1, 2, 1, 2, 1, 2, 1, 2, 1, 2, 1, 2, 1, 2, 1, 2, 1, 2, 1, 1, 2, 1, 2, 1, 2, 1, 2, 1, 2, 1, 2, 1, 2, 1, 2, 1, 2, 1, 2, 1, 2, 1, 2, 1, 2, 1, 2, 1, 2, 1, 2], \"Freq\": [0.04206567052003561, 0.9254447514407834, 0.015463321682470206, 0.9896525876780932, 0.04721240642978534, 0.9914605350254921, 0.0028842683870578686, 0.9979568619220225, 0.9968041551866642, 0.016613402586444403, 0.9057372381219703, 0.10351282721393947, 0.0584491277641571, 0.9936351719906708, 0.9835685921361463, 0.025547236159380423, 0.9946835994067537, 0.9921876419887719, 0.00901988765444338, 0.021089488250603725, 0.9912059477783751, 0.9851626851311751, 0.013313009258529393, 0.07034736444776453, 0.914515737820939, 0.08494026403338004, 0.9343429043671804, 0.12197133740701846, 0.8842921962008838, 0.0303133288821074, 0.9700265242274368, 0.9952778416857991, 0.008158015095785238, 0.9952950944208242, 0.02619197616896906, 0.9929187356162972, 0.026835641503143166, 0.4236914345081637, 0.5825757224487251, 0.9738838289722259, 0.0334015119964278, 0.9686438478964062, 0.025846794764451484, 0.9821782010491564, 0.9957955346779189, 0.9419999006085424, 0.055411758859326025, 0.27558811347549045, 0.7165290950362752, 0.08614873707278162, 0.9476361078005977, 0.995167611133975, 0.030156594276787123, 0.981481231769142, 0.019629624635382842, 0.9902204986262706, 0.035365017808081094, 0.07959352523387207, 0.9551223028064649, 0.9759058676408953, 0.02439764669102238, 0.5722348094226941, 0.42917610706702064, 0.08424659597686414, 0.9267125557455055, 0.9801713299760108, 0.014851080757212285, 0.9829052459677172, 0.017551879392280666, 0.5402342462083815, 0.4682030133805972, 0.08773419645228707, 0.9650761609751577, 0.0030267372888896507, 0.9957965680446952, 0.9259221517960249, 0.9405412956925192, 0.07677888128102198, 0.9890205791299561, 0.014333631581593568, 0.03201458196422748, 0.9732432917125156, 0.03491510544310638, 0.9776229524069786, 0.9936774469974375, 0.009936774469974376, 0.0786968114348816, 0.9050133315011384, 0.972605425106954, 0.029472891669907696, 0.14079322920500564, 0.8799576825312853, 0.9824284448244318, 0.0382952198777858, 0.9956757168224308, 0.3460378626193587, 0.6536270738365665, 0.9710193189469831, 0.026972758859638422, 0.08805491161425137, 0.905707662318014, 0.9886481972201511, 0.014123545674573587, 0.9749723190149053, 0.028675656441614863, 0.17189983432520003, 0.8251192047609601, 0.9881691483498741, 0.029944519646965883, 0.9339354619984981, 0.06515828804640685, 0.24940513050378244, 0.7482153915113473, 0.05801256855791771, 0.9862136654846011, 0.9900816347360851, 0.010102873823837602, 0.995357946484997, 0.004739799745166653, 0.9752448361473336, 0.022164655366984854, 0.9328612275399445, 0.06825813860048374, 0.043071724790336115, 0.9906496701777306, 0.052138630237197815, 0.9384953442695607, 0.993592753995587, 0.00871572591224199, 1.0014672888960414, 0.034001519325897976, 0.9860440604510413, 0.09332439222578036, 0.9332439222578036, 0.08219587432758022, 0.9315532423792424, 0.04899045423844582, 0.9798090847689165, 0.07133912893522573, 0.9274086761579345, 0.9950857260203688, 0.005497711193482701, 0.108398613850193, 0.8852553464432429, 0.9444511140742581, 0.054487564273514894, 0.05428239618176967, 0.9770831312718541, 0.997544168785902, 0.011466024928573586, 0.9988098155241243, 0.9672195850808961, 0.024180489627022406, 0.06725487183861338, 0.9415682057405873, 0.99315320669832, 0.006994036666889577, 0.9820216401104496, 0.03167811742291773, 0.09733884498871123, 0.9733884498871123, 0.18043846015275705, 0.8248615321268894, 0.9488528745282968, 0.05313576097358462, 0.9629269044216746, 0.022926831057658918, 0.11714464295739781, 0.8785848221804835, 0.221483200998813, 0.783709788149646, 0.9160106498603001, 0.08327369544184547, 0.10247742365340733, 0.8966774569673142, 0.9741634914405377, 0.02865186739530993, 0.8373390808338581, 0.16102674631420347, 0.9793131540387099, 0.017487734893548393, 0.16648555694665598, 0.8324277847332799], \"Term\": [\"advertise\", \"advertise\", \"airbnb\", \"airbnb\", \"answer\", \"answer\", \"apartment\", \"apartment\", \"arrive\", \"arrive\", \"ask\", \"ask\", \"available\", \"available\", \"bad\", \"bad\", \"bathroom\", \"bed\", \"bed\", \"book\", \"book\", \"break\", \"break\", \"cancel\", \"cancel\", \"central\", \"central\", \"check\", \"check\", \"city\", \"city\", \"clean\", \"clean\", \"cleanliness\", \"cleanliness\", \"cold\", \"cold\", \"come\", \"come\", \"convenient\", \"cosy\", \"cosy\", \"day\", \"day\", \"dirty\", \"door\", \"door\", \"end\", \"end\", \"especially\", \"especially\", \"feel\", \"feel\", \"find\", \"find\", \"flat\", \"flat\", \"flight\", \"flight\", \"floor\", \"floor\", \"get\", \"get\", \"give\", \"give\", \"go\", \"go\", \"good\", \"good\", \"guest\", \"guest\", \"gut\", \"gut\", \"host\", \"host\", \"host_alway\", \"hour\", \"hour\", \"kitchen\", \"kitchen\", \"leave\", \"leave\", \"locate\", \"locate\", \"location\", \"location\", \"long\", \"long\", \"make\", \"make\", \"many\", \"many\", \"message\", \"minute\", \"minute\", \"money\", \"money\", \"much\", \"much\", \"need\", \"need\", \"nice\", \"nice\", \"night\", \"night\", \"old_town\", \"old_town\", \"overall\", \"overall\", \"owner\", \"owner\", \"pay\", \"pay\", \"perfect\", \"perfect\", \"photo\", \"photo\", \"place\", \"place\", \"price\", \"price\", \"problem\", \"problem\", \"question\", \"question\", \"quiet\", \"quiet\", \"really\", \"really\", \"recommend\", \"refund\", \"refund\", \"renovate\", \"renovate\", \"rent\", \"rent\", \"response\", \"response\", \"right\", \"right\", \"room\", \"room\", \"rule\", \"rule\", \"save\", \"save\", \"service\", \"service\", \"shower\", \"shower\", \"sleep\", \"space\", \"space\", \"spacious\", \"spacious\", \"stay\", \"stay\", \"still\", \"still\", \"stop\", \"stop\", \"take\", \"take\", \"time\", \"time\", \"towel\", \"towel\", \"unfortunately\", \"unfortunately\", \"wait\", \"wait\", \"want\", \"want\", \"way\", \"way\", \"window\", \"window\", \"wont_want\", \"wont_want\", \"work\", \"work\", \"wrong\", \"wrong\"]}, \"R\": 30, \"lambda.step\": 0.01, \"plot.opts\": {\"xlab\": \"PC1\", \"ylab\": \"PC2\"}, \"topic.order\": [2, 1]};\n",
       "\n",
       "function LDAvis_load_lib(url, callback){\n",
       "  var s = document.createElement('script');\n",
       "  s.src = url;\n",
       "  s.async = true;\n",
       "  s.onreadystatechange = s.onload = callback;\n",
       "  s.onerror = function(){console.warn(\"failed to load library \" + url);};\n",
       "  document.getElementsByTagName(\"head\")[0].appendChild(s);\n",
       "}\n",
       "\n",
       "if(typeof(LDAvis) !== \"undefined\"){\n",
       "   // already loaded: just create the visualization\n",
       "   !function(LDAvis){\n",
       "       new LDAvis(\"#\" + \"ldavis_el74804114230781444195442720\", ldavis_el74804114230781444195442720_data);\n",
       "   }(LDAvis);\n",
       "}else if(typeof define === \"function\" && define.amd){\n",
       "   // require.js is available: use it to load d3/LDAvis\n",
       "   require.config({paths: {d3: \"https://d3js.org/d3.v5\"}});\n",
       "   require([\"d3\"], function(d3){\n",
       "      window.d3 = d3;\n",
       "      LDAvis_load_lib(\"https://cdn.jsdelivr.net/gh/bmabey/pyLDAvis@3.4.0/pyLDAvis/js/ldavis.v3.0.0.js\", function(){\n",
       "        new LDAvis(\"#\" + \"ldavis_el74804114230781444195442720\", ldavis_el74804114230781444195442720_data);\n",
       "      });\n",
       "    });\n",
       "}else{\n",
       "    // require.js not available: dynamically load d3 & LDAvis\n",
       "    LDAvis_load_lib(\"https://d3js.org/d3.v5.js\", function(){\n",
       "         LDAvis_load_lib(\"https://cdn.jsdelivr.net/gh/bmabey/pyLDAvis@3.4.0/pyLDAvis/js/ldavis.v3.0.0.js\", function(){\n",
       "                 new LDAvis(\"#\" + \"ldavis_el74804114230781444195442720\", ldavis_el74804114230781444195442720_data);\n",
       "            })\n",
       "         });\n",
       "}\n",
       "</script>"
      ],
      "text/plain": [
       "PreparedData(topic_coordinates=              x    y  topics  cluster       Freq\n",
       "topic                                           \n",
       "1      0.140307  0.0       1        1  59.124137\n",
       "0     -0.140307  0.0       2        1  40.875863, topic_info=           Term        Freq       Total Category  logprob  loglift\n",
       "22    apartment  346.000000  346.000000  Default  30.0000  30.0000\n",
       "26         host  330.000000  330.000000  Default  29.0000  29.0000\n",
       "35         stay  285.000000  285.000000  Default  28.0000  28.0000\n",
       "227       leave  156.000000  156.000000  Default  27.0000  27.0000\n",
       "11        place  210.000000  210.000000  Default  26.0000  26.0000\n",
       "...         ...         ...         ...      ...      ...      ...\n",
       "2           get   44.679885  104.852062   Topic2  -5.1120   0.0416\n",
       "208        come   32.513589   56.644997   Topic2  -5.4299   0.3395\n",
       "1048   old_town   24.497826   29.086706   Topic2  -5.7129   0.7229\n",
       "81          end   26.442920   36.286035   Topic2  -5.6365   0.5782\n",
       "300       guest   25.835458   55.531467   Topic2  -5.6598   0.1294\n",
       "\n",
       "[126 rows x 6 columns], token_table=      Topic      Freq       Term\n",
       "term                            \n",
       "261       1  0.042066  advertise\n",
       "261       2  0.925445  advertise\n",
       "268       1  0.015463     airbnb\n",
       "268       2  0.989653     airbnb\n",
       "514       1  0.047212     answer\n",
       "...     ...       ...        ...\n",
       "3786      2  0.161027  wont_want\n",
       "503       1  0.979313       work\n",
       "503       2  0.017488       work\n",
       "154       1  0.166486      wrong\n",
       "154       2  0.832428      wrong\n",
       "\n",
       "[183 rows x 3 columns], R=30, lambda_step=0.01, plot_opts={'xlab': 'PC1', 'ylab': 'PC2'}, topic_order=[2, 1])"
      ]
     },
     "execution_count": 123,
     "metadata": {},
     "output_type": "execute_result"
    }
   ],
   "source": [
    "pyLDAvis.enable_notebook()\n",
    "vis = pyLDAvis.gensim_models.prepare(lda_model, corpus, dictionary=lda_model.id2word)\n",
    "vis"
   ]
  },
  {
   "cell_type": "code",
   "execution_count": 124,
   "metadata": {},
   "outputs": [],
   "source": [
    "topics = lda_model.show_topics(formatted=False)"
   ]
  },
  {
   "cell_type": "code",
   "execution_count": 125,
   "metadata": {},
   "outputs": [
    {
     "data": {
      "image/png": "[encoded data removed]",
      "text/plain": [
       "<Figure size 1000x1000 with 2 Axes>"
      ]
     },
     "metadata": {},
     "output_type": "display_data"
    }
   ],
   "source": [
    "cols = [color for name, color in mcolors.TABLEAU_COLORS.items()]\n",
    "cloud = WordCloud(stopwords=stop_words,\n",
    "                  background_color='white',\n",
    "                  width=2500,\n",
    "                  height=1800,\n",
    "                  max_words=20,\n",
    "                  colormap='tab10',\n",
    "                  color_func=lambda *args, **kwargs: cols[i],\n",
    "                  prefer_horizontal=1.0)\n",
    "\n",
    "fig, axes = plt.subplots(1, 2, figsize=(10,10), sharex=True, sharey=True)\n",
    "\n",
    "groups = {0: 'Issues and Complaints',\n",
    "          1: 'Location and Accessibility',\n",
    "          2: 'Host and Service Experience'\n",
    "        }\n",
    "\n",
    "for i, ax in enumerate(axes.flatten()):\n",
    "    fig.add_subplot(ax)\n",
    "    topic_words = dict(topics[i][1])\n",
    "    cloud.generate_from_frequencies(topic_words, max_font_size=350)\n",
    "    plt.gca().imshow(cloud)\n",
    "    plt.gca().set_title(groups.get(i), fontdict=dict(size=14))\n",
    "    plt.gca().axis('off')\n",
    "\n",
    "\n",
    "plt.subplots_adjust(wspace=30, hspace=10)\n",
    "plt.axis('off')\n",
    "#plt.margins(x=0, y=0)\n",
    "plt.tight_layout()\n",
    "plt.show()"
   ]
  },
  {
   "cell_type": "code",
   "execution_count": 127,
   "metadata": {},
   "outputs": [
    {
     "data": {
      "text/html": [
       "<div>\n",
       "<style scoped>\n",
       "    .dataframe tbody tr th:only-of-type {\n",
       "        vertical-align: middle;\n",
       "    }\n",
       "\n",
       "    .dataframe tbody tr th {\n",
       "        vertical-align: top;\n",
       "    }\n",
       "\n",
       "    .dataframe thead th {\n",
       "        text-align: right;\n",
       "    }\n",
       "</style>\n",
       "<table border=\"1\" class=\"dataframe\">\n",
       "  <thead>\n",
       "    <tr style=\"text-align: right;\">\n",
       "      <th></th>\n",
       "      <th>neighbourhood</th>\n",
       "      <th>dominant_topic</th>\n",
       "      <th>number_of_reviews</th>\n",
       "    </tr>\n",
       "  </thead>\n",
       "  <tbody>\n",
       "    <tr>\n",
       "      <th>0</th>\n",
       "      <td>Södermalms</td>\n",
       "      <td>1</td>\n",
       "      <td>338</td>\n",
       "    </tr>\n",
       "    <tr>\n",
       "      <th>1</th>\n",
       "      <td>Södermalms</td>\n",
       "      <td>0</td>\n",
       "      <td>256</td>\n",
       "    </tr>\n",
       "    <tr>\n",
       "      <th>2</th>\n",
       "      <td>Kungsholmens</td>\n",
       "      <td>1</td>\n",
       "      <td>99</td>\n",
       "    </tr>\n",
       "    <tr>\n",
       "      <th>3</th>\n",
       "      <td>Norrmalms</td>\n",
       "      <td>1</td>\n",
       "      <td>82</td>\n",
       "    </tr>\n",
       "    <tr>\n",
       "      <th>4</th>\n",
       "      <td>Kungsholmens</td>\n",
       "      <td>0</td>\n",
       "      <td>67</td>\n",
       "    </tr>\n",
       "    <tr>\n",
       "      <th>5</th>\n",
       "      <td>Norrmalms</td>\n",
       "      <td>0</td>\n",
       "      <td>67</td>\n",
       "    </tr>\n",
       "    <tr>\n",
       "      <th>6</th>\n",
       "      <td>Enskede-Årsta-Vantörs</td>\n",
       "      <td>0</td>\n",
       "      <td>38</td>\n",
       "    </tr>\n",
       "    <tr>\n",
       "      <th>7</th>\n",
       "      <td>Enskede-Årsta-Vantörs</td>\n",
       "      <td>1</td>\n",
       "      <td>31</td>\n",
       "    </tr>\n",
       "    <tr>\n",
       "      <th>8</th>\n",
       "      <td>Hägersten-Liljeholmens</td>\n",
       "      <td>1</td>\n",
       "      <td>23</td>\n",
       "    </tr>\n",
       "    <tr>\n",
       "      <th>9</th>\n",
       "      <td>Östermalms</td>\n",
       "      <td>0</td>\n",
       "      <td>21</td>\n",
       "    </tr>\n",
       "    <tr>\n",
       "      <th>10</th>\n",
       "      <td>Östermalms</td>\n",
       "      <td>1</td>\n",
       "      <td>19</td>\n",
       "    </tr>\n",
       "    <tr>\n",
       "      <th>11</th>\n",
       "      <td>Hägersten-Liljeholmens</td>\n",
       "      <td>0</td>\n",
       "      <td>19</td>\n",
       "    </tr>\n",
       "    <tr>\n",
       "      <th>12</th>\n",
       "      <td>Skarpnäcks</td>\n",
       "      <td>0</td>\n",
       "      <td>18</td>\n",
       "    </tr>\n",
       "    <tr>\n",
       "      <th>13</th>\n",
       "      <td>Skarpnäcks</td>\n",
       "      <td>1</td>\n",
       "      <td>17</td>\n",
       "    </tr>\n",
       "    <tr>\n",
       "      <th>14</th>\n",
       "      <td>Älvsjö</td>\n",
       "      <td>0</td>\n",
       "      <td>14</td>\n",
       "    </tr>\n",
       "    <tr>\n",
       "      <th>15</th>\n",
       "      <td>Skärholmens</td>\n",
       "      <td>1</td>\n",
       "      <td>13</td>\n",
       "    </tr>\n",
       "    <tr>\n",
       "      <th>16</th>\n",
       "      <td>Bromma</td>\n",
       "      <td>0</td>\n",
       "      <td>13</td>\n",
       "    </tr>\n",
       "    <tr>\n",
       "      <th>17</th>\n",
       "      <td>Farsta</td>\n",
       "      <td>1</td>\n",
       "      <td>12</td>\n",
       "    </tr>\n",
       "    <tr>\n",
       "      <th>18</th>\n",
       "      <td>Älvsjö</td>\n",
       "      <td>1</td>\n",
       "      <td>12</td>\n",
       "    </tr>\n",
       "    <tr>\n",
       "      <th>19</th>\n",
       "      <td>Skärholmens</td>\n",
       "      <td>0</td>\n",
       "      <td>10</td>\n",
       "    </tr>\n",
       "    <tr>\n",
       "      <th>20</th>\n",
       "      <td>Farsta</td>\n",
       "      <td>0</td>\n",
       "      <td>10</td>\n",
       "    </tr>\n",
       "    <tr>\n",
       "      <th>21</th>\n",
       "      <td>Bromma</td>\n",
       "      <td>1</td>\n",
       "      <td>9</td>\n",
       "    </tr>\n",
       "    <tr>\n",
       "      <th>22</th>\n",
       "      <td>Hässelby-Vällingby</td>\n",
       "      <td>0</td>\n",
       "      <td>9</td>\n",
       "    </tr>\n",
       "    <tr>\n",
       "      <th>23</th>\n",
       "      <td>Hässelby-Vällingby</td>\n",
       "      <td>1</td>\n",
       "      <td>7</td>\n",
       "    </tr>\n",
       "    <tr>\n",
       "      <th>24</th>\n",
       "      <td>Rinkeby-Tensta</td>\n",
       "      <td>0</td>\n",
       "      <td>5</td>\n",
       "    </tr>\n",
       "    <tr>\n",
       "      <th>25</th>\n",
       "      <td>Rinkeby-Tensta</td>\n",
       "      <td>1</td>\n",
       "      <td>4</td>\n",
       "    </tr>\n",
       "    <tr>\n",
       "      <th>26</th>\n",
       "      <td>Spånga-Tensta</td>\n",
       "      <td>0</td>\n",
       "      <td>4</td>\n",
       "    </tr>\n",
       "    <tr>\n",
       "      <th>27</th>\n",
       "      <td>Spånga-Tensta</td>\n",
       "      <td>1</td>\n",
       "      <td>4</td>\n",
       "    </tr>\n",
       "  </tbody>\n",
       "</table>\n",
       "</div>"
      ],
      "text/plain": [
       "             neighbourhood  dominant_topic  number_of_reviews\n",
       "0               Södermalms               1                338\n",
       "1               Södermalms               0                256\n",
       "2             Kungsholmens               1                 99\n",
       "3                Norrmalms               1                 82\n",
       "4             Kungsholmens               0                 67\n",
       "5                Norrmalms               0                 67\n",
       "6    Enskede-Årsta-Vantörs               0                 38\n",
       "7    Enskede-Årsta-Vantörs               1                 31\n",
       "8   Hägersten-Liljeholmens               1                 23\n",
       "9               Östermalms               0                 21\n",
       "10              Östermalms               1                 19\n",
       "11  Hägersten-Liljeholmens               0                 19\n",
       "12              Skarpnäcks               0                 18\n",
       "13              Skarpnäcks               1                 17\n",
       "14                  Älvsjö               0                 14\n",
       "15             Skärholmens               1                 13\n",
       "16                  Bromma               0                 13\n",
       "17                  Farsta               1                 12\n",
       "18                  Älvsjö               1                 12\n",
       "19             Skärholmens               0                 10\n",
       "20                  Farsta               0                 10\n",
       "21                  Bromma               1                  9\n",
       "22      Hässelby-Vällingby               0                  9\n",
       "23      Hässelby-Vällingby               1                  7\n",
       "24          Rinkeby-Tensta               0                  5\n",
       "25          Rinkeby-Tensta               1                  4\n",
       "26           Spånga-Tensta               0                  4\n",
       "27           Spånga-Tensta               1                  4"
      ]
     },
     "execution_count": 127,
     "metadata": {},
     "output_type": "execute_result"
    }
   ],
   "source": [
    "numnber_topic_by_neighbourhood = (df_dominant_topic.groupby(['neighbourhood', 'dominant_topic'])\n",
    "        .agg(number_of_reviews=('number_of_reviews', 'count'))\n",
    "        .sort_values('number_of_reviews', ascending=False)\n",
    "        .reset_index())\n",
    "numnber_topic_by_neighbourhood "
   ]
  },
  {
   "cell_type": "code",
   "execution_count": 132,
   "metadata": {},
   "outputs": [
    {
     "data": {
      "application/vnd.plotly.v1+json": {
       "config": {
        "plotlyServerURL": "https://plot.ly"
       },
       "data": [
        {
         "branchvalues": "total",
         "domain": {
          "x": [
           0,
           1
          ],
          "y": [
           0,
           1
          ]
         },
         "hovertemplate": "labels=%{label}<br>number_of_reviews=%{value}<br>parent=%{parent}<br>id=%{id}<extra></extra>",
         "ids": [
          "Bromma/0",
          "Enskede-Årsta-Vantörs/0",
          "Farsta/0",
          "Hägersten-Liljeholmens/0",
          "Hässelby-Vällingby/0",
          "Kungsholmens/0",
          "Norrmalms/0",
          "Rinkeby-Tensta/0",
          "Skarpnäcks/0",
          "Skärholmens/0",
          "Spånga-Tensta/0",
          "Södermalms/0",
          "Älvsjö/0",
          "Östermalms/0",
          "Bromma/1",
          "Enskede-Årsta-Vantörs/1",
          "Farsta/1",
          "Hägersten-Liljeholmens/1",
          "Hässelby-Vällingby/1",
          "Kungsholmens/1",
          "Norrmalms/1",
          "Rinkeby-Tensta/1",
          "Skarpnäcks/1",
          "Skärholmens/1",
          "Spånga-Tensta/1",
          "Södermalms/1",
          "Älvsjö/1",
          "Östermalms/1",
          "Bromma",
          "Enskede-Årsta-Vantörs",
          "Farsta",
          "Hägersten-Liljeholmens",
          "Hässelby-Vällingby",
          "Kungsholmens",
          "Norrmalms",
          "Rinkeby-Tensta",
          "Skarpnäcks",
          "Skärholmens",
          "Spånga-Tensta",
          "Södermalms",
          "Älvsjö",
          "Östermalms"
         ],
         "labels": [
          "0",
          "0",
          "0",
          "0",
          "0",
          "0",
          "0",
          "0",
          "0",
          "0",
          "0",
          "0",
          "0",
          "0",
          "1",
          "1",
          "1",
          "1",
          "1",
          "1",
          "1",
          "1",
          "1",
          "1",
          "1",
          "1",
          "1",
          "1",
          "Bromma",
          "Enskede-Årsta-Vantörs",
          "Farsta",
          "Hägersten-Liljeholmens",
          "Hässelby-Vällingby",
          "Kungsholmens",
          "Norrmalms",
          "Rinkeby-Tensta",
          "Skarpnäcks",
          "Skärholmens",
          "Spånga-Tensta",
          "Södermalms",
          "Älvsjö",
          "Östermalms"
         ],
         "marker": {
          "colors": [
           null,
           null,
           null,
           null,
           null,
           null,
           null,
           null,
           null,
           null,
           null,
           null,
           null,
           null,
           null,
           null,
           null,
           null,
           null,
           null,
           null,
           null,
           null,
           null,
           null,
           null,
           null,
           null,
           null,
           null,
           null,
           null,
           null,
           null,
           null,
           null,
           null,
           null,
           null,
           null,
           null,
           null
          ]
         },
         "name": "",
         "parents": [
          "Bromma",
          "Enskede-Årsta-Vantörs",
          "Farsta",
          "Hägersten-Liljeholmens",
          "Hässelby-Vällingby",
          "Kungsholmens",
          "Norrmalms",
          "Rinkeby-Tensta",
          "Skarpnäcks",
          "Skärholmens",
          "Spånga-Tensta",
          "Södermalms",
          "Älvsjö",
          "Östermalms",
          "Bromma",
          "Enskede-Årsta-Vantörs",
          "Farsta",
          "Hägersten-Liljeholmens",
          "Hässelby-Vällingby",
          "Kungsholmens",
          "Norrmalms",
          "Rinkeby-Tensta",
          "Skarpnäcks",
          "Skärholmens",
          "Spånga-Tensta",
          "Södermalms",
          "Älvsjö",
          "Östermalms",
          "",
          "",
          "",
          "",
          "",
          "",
          "",
          "",
          "",
          "",
          "",
          "",
          "",
          ""
         ],
         "type": "treemap",
         "values": [
          13,
          38,
          10,
          19,
          9,
          67,
          67,
          5,
          18,
          10,
          4,
          256,
          14,
          21,
          9,
          31,
          12,
          23,
          7,
          99,
          82,
          4,
          17,
          13,
          4,
          338,
          12,
          19,
          22,
          69,
          22,
          42,
          16,
          166,
          149,
          9,
          35,
          23,
          8,
          594,
          26,
          40
         ]
        }
       ],
       "layout": {
        "legend": {
         "tracegroupgap": 0
        },
        "margin": {
         "t": 60
        },
        "template": {
         "data": {
          "bar": [
           {
            "error_x": {
             "color": "#2a3f5f"
            },
            "error_y": {
             "color": "#2a3f5f"
            },
            "marker": {
             "line": {
              "color": "#E5ECF6",
              "width": 0.5
             },
             "pattern": {
              "fillmode": "overlay",
              "size": 10,
              "solidity": 0.2
             }
            },
            "type": "bar"
           }
          ],
          "barpolar": [
           {
            "marker": {
             "line": {
              "color": "#E5ECF6",
              "width": 0.5
             },
             "pattern": {
              "fillmode": "overlay",
              "size": 10,
              "solidity": 0.2
             }
            },
            "type": "barpolar"
           }
          ],
          "carpet": [
           {
            "aaxis": {
             "endlinecolor": "#2a3f5f",
             "gridcolor": "white",
             "linecolor": "white",
             "minorgridcolor": "white",
             "startlinecolor": "#2a3f5f"
            },
            "baxis": {
             "endlinecolor": "#2a3f5f",
             "gridcolor": "white",
             "linecolor": "white",
             "minorgridcolor": "white",
             "startlinecolor": "#2a3f5f"
            },
            "type": "carpet"
           }
          ],
          "choropleth": [
           {
            "colorbar": {
             "outlinewidth": 0,
             "ticks": ""
            },
            "type": "choropleth"
           }
          ],
          "contour": [
           {
            "colorbar": {
             "outlinewidth": 0,
             "ticks": ""
            },
            "colorscale": [
             [
              0,
              "#0d0887"
             ],
             [
              0.1111111111111111,
              "#46039f"
             ],
             [
              0.2222222222222222,
              "#7201a8"
             ],
             [
              0.3333333333333333,
              "#9c179e"
             ],
             [
              0.4444444444444444,
              "#bd3786"
             ],
             [
              0.5555555555555556,
              "#d8576b"
             ],
             [
              0.6666666666666666,
              "#ed7953"
             ],
             [
              0.7777777777777778,
              "#fb9f3a"
             ],
             [
              0.8888888888888888,
              "#fdca26"
             ],
             [
              1,
              "#f0f921"
             ]
            ],
            "type": "contour"
           }
          ],
          "contourcarpet": [
           {
            "colorbar": {
             "outlinewidth": 0,
             "ticks": ""
            },
            "type": "contourcarpet"
           }
          ],
          "heatmap": [
           {
            "colorbar": {
             "outlinewidth": 0,
             "ticks": ""
            },
            "colorscale": [
             [
              0,
              "#0d0887"
             ],
             [
              0.1111111111111111,
              "#46039f"
             ],
             [
              0.2222222222222222,
              "#7201a8"
             ],
             [
              0.3333333333333333,
              "#9c179e"
             ],
             [
              0.4444444444444444,
              "#bd3786"
             ],
             [
              0.5555555555555556,
              "#d8576b"
             ],
             [
              0.6666666666666666,
              "#ed7953"
             ],
             [
              0.7777777777777778,
              "#fb9f3a"
             ],
             [
              0.8888888888888888,
              "#fdca26"
             ],
             [
              1,
              "#f0f921"
             ]
            ],
            "type": "heatmap"
           }
          ],
          "heatmapgl": [
           {
            "colorbar": {
             "outlinewidth": 0,
             "ticks": ""
            },
            "colorscale": [
             [
              0,
              "#0d0887"
             ],
             [
              0.1111111111111111,
              "#46039f"
             ],
             [
              0.2222222222222222,
              "#7201a8"
             ],
             [
              0.3333333333333333,
              "#9c179e"
             ],
             [
              0.4444444444444444,
              "#bd3786"
             ],
             [
              0.5555555555555556,
              "#d8576b"
             ],
             [
              0.6666666666666666,
              "#ed7953"
             ],
             [
              0.7777777777777778,
              "#fb9f3a"
             ],
             [
              0.8888888888888888,
              "#fdca26"
             ],
             [
              1,
              "#f0f921"
             ]
            ],
            "type": "heatmapgl"
           }
          ],
          "histogram": [
           {
            "marker": {
             "pattern": {
              "fillmode": "overlay",
              "size": 10,
              "solidity": 0.2
             }
            },
            "type": "histogram"
           }
          ],
          "histogram2d": [
           {
            "colorbar": {
             "outlinewidth": 0,
             "ticks": ""
            },
            "colorscale": [
             [
              0,
              "#0d0887"
             ],
             [
              0.1111111111111111,
              "#46039f"
             ],
             [
              0.2222222222222222,
              "#7201a8"
             ],
             [
              0.3333333333333333,
              "#9c179e"
             ],
             [
              0.4444444444444444,
              "#bd3786"
             ],
             [
              0.5555555555555556,
              "#d8576b"
             ],
             [
              0.6666666666666666,
              "#ed7953"
             ],
             [
              0.7777777777777778,
              "#fb9f3a"
             ],
             [
              0.8888888888888888,
              "#fdca26"
             ],
             [
              1,
              "#f0f921"
             ]
            ],
            "type": "histogram2d"
           }
          ],
          "histogram2dcontour": [
           {
            "colorbar": {
             "outlinewidth": 0,
             "ticks": ""
            },
            "colorscale": [
             [
              0,
              "#0d0887"
             ],
             [
              0.1111111111111111,
              "#46039f"
             ],
             [
              0.2222222222222222,
              "#7201a8"
             ],
             [
              0.3333333333333333,
              "#9c179e"
             ],
             [
              0.4444444444444444,
              "#bd3786"
             ],
             [
              0.5555555555555556,
              "#d8576b"
             ],
             [
              0.6666666666666666,
              "#ed7953"
             ],
             [
              0.7777777777777778,
              "#fb9f3a"
             ],
             [
              0.8888888888888888,
              "#fdca26"
             ],
             [
              1,
              "#f0f921"
             ]
            ],
            "type": "histogram2dcontour"
           }
          ],
          "mesh3d": [
           {
            "colorbar": {
             "outlinewidth": 0,
             "ticks": ""
            },
            "type": "mesh3d"
           }
          ],
          "parcoords": [
           {
            "line": {
             "colorbar": {
              "outlinewidth": 0,
              "ticks": ""
             }
            },
            "type": "parcoords"
           }
          ],
          "pie": [
           {
            "automargin": true,
            "type": "pie"
           }
          ],
          "scatter": [
           {
            "fillpattern": {
             "fillmode": "overlay",
             "size": 10,
             "solidity": 0.2
            },
            "type": "scatter"
           }
          ],
          "scatter3d": [
           {
            "line": {
             "colorbar": {
              "outlinewidth": 0,
              "ticks": ""
             }
            },
            "marker": {
             "colorbar": {
              "outlinewidth": 0,
              "ticks": ""
             }
            },
            "type": "scatter3d"
           }
          ],
          "scattercarpet": [
           {
            "marker": {
             "colorbar": {
              "outlinewidth": 0,
              "ticks": ""
             }
            },
            "type": "scattercarpet"
           }
          ],
          "scattergeo": [
           {
            "marker": {
             "colorbar": {
              "outlinewidth": 0,
              "ticks": ""
             }
            },
            "type": "scattergeo"
           }
          ],
          "scattergl": [
           {
            "marker": {
             "colorbar": {
              "outlinewidth": 0,
              "ticks": ""
             }
            },
            "type": "scattergl"
           }
          ],
          "scattermapbox": [
           {
            "marker": {
             "colorbar": {
              "outlinewidth": 0,
              "ticks": ""
             }
            },
            "type": "scattermapbox"
           }
          ],
          "scatterpolar": [
           {
            "marker": {
             "colorbar": {
              "outlinewidth": 0,
              "ticks": ""
             }
            },
            "type": "scatterpolar"
           }
          ],
          "scatterpolargl": [
           {
            "marker": {
             "colorbar": {
              "outlinewidth": 0,
              "ticks": ""
             }
            },
            "type": "scatterpolargl"
           }
          ],
          "scatterternary": [
           {
            "marker": {
             "colorbar": {
              "outlinewidth": 0,
              "ticks": ""
             }
            },
            "type": "scatterternary"
           }
          ],
          "surface": [
           {
            "colorbar": {
             "outlinewidth": 0,
             "ticks": ""
            },
            "colorscale": [
             [
              0,
              "#0d0887"
             ],
             [
              0.1111111111111111,
              "#46039f"
             ],
             [
              0.2222222222222222,
              "#7201a8"
             ],
             [
              0.3333333333333333,
              "#9c179e"
             ],
             [
              0.4444444444444444,
              "#bd3786"
             ],
             [
              0.5555555555555556,
              "#d8576b"
             ],
             [
              0.6666666666666666,
              "#ed7953"
             ],
             [
              0.7777777777777778,
              "#fb9f3a"
             ],
             [
              0.8888888888888888,
              "#fdca26"
             ],
             [
              1,
              "#f0f921"
             ]
            ],
            "type": "surface"
           }
          ],
          "table": [
           {
            "cells": {
             "fill": {
              "color": "#EBF0F8"
             },
             "line": {
              "color": "white"
             }
            },
            "header": {
             "fill": {
              "color": "#C8D4E3"
             },
             "line": {
              "color": "white"
             }
            },
            "type": "table"
           }
          ]
         },
         "layout": {
          "annotationdefaults": {
           "arrowcolor": "#2a3f5f",
           "arrowhead": 0,
           "arrowwidth": 1
          },
          "autotypenumbers": "strict",
          "coloraxis": {
           "colorbar": {
            "outlinewidth": 0,
            "ticks": ""
           }
          },
          "colorscale": {
           "diverging": [
            [
             0,
             "#8e0152"
            ],
            [
             0.1,
             "#c51b7d"
            ],
            [
             0.2,
             "#de77ae"
            ],
            [
             0.3,
             "#f1b6da"
            ],
            [
             0.4,
             "#fde0ef"
            ],
            [
             0.5,
             "#f7f7f7"
            ],
            [
             0.6,
             "#e6f5d0"
            ],
            [
             0.7,
             "#b8e186"
            ],
            [
             0.8,
             "#7fbc41"
            ],
            [
             0.9,
             "#4d9221"
            ],
            [
             1,
             "#276419"
            ]
           ],
           "sequential": [
            [
             0,
             "#0d0887"
            ],
            [
             0.1111111111111111,
             "#46039f"
            ],
            [
             0.2222222222222222,
             "#7201a8"
            ],
            [
             0.3333333333333333,
             "#9c179e"
            ],
            [
             0.4444444444444444,
             "#bd3786"
            ],
            [
             0.5555555555555556,
             "#d8576b"
            ],
            [
             0.6666666666666666,
             "#ed7953"
            ],
            [
             0.7777777777777778,
             "#fb9f3a"
            ],
            [
             0.8888888888888888,
             "#fdca26"
            ],
            [
             1,
             "#f0f921"
            ]
           ],
           "sequentialminus": [
            [
             0,
             "#0d0887"
            ],
            [
             0.1111111111111111,
             "#46039f"
            ],
            [
             0.2222222222222222,
             "#7201a8"
            ],
            [
             0.3333333333333333,
             "#9c179e"
            ],
            [
             0.4444444444444444,
             "#bd3786"
            ],
            [
             0.5555555555555556,
             "#d8576b"
            ],
            [
             0.6666666666666666,
             "#ed7953"
            ],
            [
             0.7777777777777778,
             "#fb9f3a"
            ],
            [
             0.8888888888888888,
             "#fdca26"
            ],
            [
             1,
             "#f0f921"
            ]
           ]
          },
          "colorway": [
           "#636efa",
           "#EF553B",
           "#00cc96",
           "#ab63fa",
           "#FFA15A",
           "#19d3f3",
           "#FF6692",
           "#B6E880",
           "#FF97FF",
           "#FECB52"
          ],
          "font": {
           "color": "#2a3f5f"
          },
          "geo": {
           "bgcolor": "white",
           "lakecolor": "white",
           "landcolor": "#E5ECF6",
           "showlakes": true,
           "showland": true,
           "subunitcolor": "white"
          },
          "hoverlabel": {
           "align": "left"
          },
          "hovermode": "closest",
          "mapbox": {
           "style": "light"
          },
          "paper_bgcolor": "white",
          "plot_bgcolor": "#E5ECF6",
          "polar": {
           "angularaxis": {
            "gridcolor": "white",
            "linecolor": "white",
            "ticks": ""
           },
           "bgcolor": "#E5ECF6",
           "radialaxis": {
            "gridcolor": "white",
            "linecolor": "white",
            "ticks": ""
           }
          },
          "scene": {
           "xaxis": {
            "backgroundcolor": "#E5ECF6",
            "gridcolor": "white",
            "gridwidth": 2,
            "linecolor": "white",
            "showbackground": true,
            "ticks": "",
            "zerolinecolor": "white"
           },
           "yaxis": {
            "backgroundcolor": "#E5ECF6",
            "gridcolor": "white",
            "gridwidth": 2,
            "linecolor": "white",
            "showbackground": true,
            "ticks": "",
            "zerolinecolor": "white"
           },
           "zaxis": {
            "backgroundcolor": "#E5ECF6",
            "gridcolor": "white",
            "gridwidth": 2,
            "linecolor": "white",
            "showbackground": true,
            "ticks": "",
            "zerolinecolor": "white"
           }
          },
          "shapedefaults": {
           "line": {
            "color": "#2a3f5f"
           }
          },
          "ternary": {
           "aaxis": {
            "gridcolor": "white",
            "linecolor": "white",
            "ticks": ""
           },
           "baxis": {
            "gridcolor": "white",
            "linecolor": "white",
            "ticks": ""
           },
           "bgcolor": "#E5ECF6",
           "caxis": {
            "gridcolor": "white",
            "linecolor": "white",
            "ticks": ""
           }
          },
          "title": {
           "x": 0.05
          },
          "xaxis": {
           "automargin": true,
           "gridcolor": "white",
           "linecolor": "white",
           "ticks": "",
           "title": {
            "standoff": 15
           },
           "zerolinecolor": "white",
           "zerolinewidth": 2
          },
          "yaxis": {
           "automargin": true,
           "gridcolor": "white",
           "linecolor": "white",
           "ticks": "",
           "title": {
            "standoff": 15
           },
           "zerolinecolor": "white",
           "zerolinewidth": 2
          }
         }
        },
        "treemapcolorway": [
         "rgb(95, 70, 144)",
         "rgb(29, 105, 150)",
         "rgb(56, 166, 165)",
         "rgb(15, 133, 84)",
         "rgb(115, 175, 72)",
         "rgb(237, 173, 8)",
         "rgb(225, 124, 5)",
         "rgb(204, 80, 62)",
         "rgb(148, 52, 110)",
         "rgb(111, 64, 112)",
         "rgb(102, 102, 102)"
        ]
       }
      }
     },
     "metadata": {},
     "output_type": "display_data"
    }
   ],
   "source": [
    "# Define a custom color mapping function\n",
    "def get_tile_color(tile_path):\n",
    "    # Get the name of the neighbourhood and the dominant topic from the tile path\n",
    "    neighbourhood, dominant_topic = tile_path[-2:]\n",
    "\n",
    "    # Assign a specific color to each combination of neighbourhood and dominant topic\n",
    "    if dominant_topic == 'topic 0' and neighbourhood == 'Neighbourhood 1':\n",
    "        return 'red'\n",
    "    elif dominant_topic == 'topic 1' and neighbourhood == 'Neighbourhood 2':\n",
    "        return 'green'\n",
    "    else:\n",
    "        # Use the default color scale for all other tiles\n",
    "        return None\n",
    "\n",
    "# Create the treemap with the custom color mapping function\n",
    "fig = px.treemap(\n",
    "    numnber_topic_by_neighbourhood,\n",
    "    path=['neighbourhood', 'dominant_topic'],\n",
    "    values='number_of_reviews',\n",
    "    color_discrete_sequence=PALETTE,\n",
    "    color_continuous_midpoint=np.average(numnber_topic_by_neighbourhood['number_of_reviews']),\n",
    ")\n",
    "\n",
    "# Apply the custom color mapping function to each tile\n",
    "fig.data[0].marker.colors = [get_tile_color(tile_path) for tile_path in fig.data[0].ids]\n",
    "\n",
    "# Show the figure\n",
    "fig.show()"
   ]
  }
 ],
 "metadata": {
  "kernelspec": {
   "display_name": "Python 3",
   "language": "python",
   "name": "python3"
  },
  "language_info": {
   "codemirror_mode": {
    "name": "ipython",
    "version": 3
   },
   "file_extension": ".py",
   "mimetype": "text/x-python",
   "name": "python",
   "nbconvert_exporter": "python",
   "pygments_lexer": "ipython3",
   "version": "3.10.10"
  },
  "orig_nbformat": 4,
  "vscode": {
   "interpreter": {
    "hash": "aee8b7b246df8f9039afb4144a1f6fd8d2ca17a180786b69acc140d282b71a49"
   }
  }
 },
 "nbformat": 4,
 "nbformat_minor": 2
}
