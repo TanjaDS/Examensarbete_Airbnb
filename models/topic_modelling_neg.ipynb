{
 "cells": [
  {
   "cell_type": "code",
   "execution_count": 29,
   "metadata": {},
   "outputs": [],
   "source": [
    "from pathlib import Path\n",
    "import pandas as pd\n",
    "import numpy as np\n",
    "import gensim, spacy\n",
    "import gensim.corpora as corpora\n",
    "from gensim.utils import simple_preprocess\n",
    "from nltk.corpus import stopwords\n",
    "from joblib import Memory\n",
    "import os\n",
    "from wordcloud import WordCloud\n",
    "from matplotlib import pyplot as plt\n",
    "import matplotlib.colors as mcolors\n",
    "import plotly.express as px\n",
    "import pyLDAvis\n",
    "import pyLDAvis.gensim_models\n",
    "import warnings\n",
    "warnings.filterwarnings(\"ignore\")"
   ]
  },
  {
   "cell_type": "code",
   "execution_count": 17,
   "metadata": {},
   "outputs": [],
   "source": [
    "BASE_DIR = Path.cwd().parent\n",
    "stop_words = stopwords.words('english')\n",
    "PALETTE = px.colors.qualitative.Prism"
   ]
  },
  {
   "cell_type": "code",
   "execution_count": 18,
   "metadata": {},
   "outputs": [],
   "source": [
    "df_hosts_reviews_en = pd.read_parquet(BASE_DIR / 'processed_data' / 'hosts_reviews_en_labeled.parquet')"
   ]
  },
  {
   "cell_type": "code",
   "execution_count": 19,
   "metadata": {},
   "outputs": [],
   "source": [
    "df_hosts_reviews_en = df_hosts_reviews_en.query('sentiment_label_class == 0').reset_index()"
   ]
  },
  {
   "cell_type": "code",
   "execution_count": 20,
   "metadata": {},
   "outputs": [
    {
     "name": "stdout",
     "output_type": "stream",
     "text": [
      "['stayed', 'three', 'nights', 'couldnt', 'helpful', 'soon', 'got', 'showed', 'us', 'get', 'around', 'visit', 'place', 'conveniently', 'located', 'metro', 'station', 'walking', 'distance', 'market', 'many', 'restaurants', 'clean', 'privacy', 'issue', 'despite', 'guests', 'staying', 'well', 'wifi', 'reliable', 'youre', 'vacation', 'doesnt', 'really', 'matter']\n"
     ]
    }
   ],
   "source": [
    "def sent_to_words(sentences):\n",
    "    for sent in sentences:\n",
    "        sent = gensim.utils.simple_preprocess(str(sent), deacc=True) \n",
    "        yield(sent)  \n",
    "\n",
    "# Convert to list\n",
    "data = df_hosts_reviews_en['comments'].values.tolist()\n",
    "data_words = list(sent_to_words(data))\n",
    "print(data_words[0])"
   ]
  },
  {
   "cell_type": "code",
   "execution_count": 21,
   "metadata": {},
   "outputs": [],
   "source": [
    "nlp = spacy.load(\"en_core_web_sm\")\n",
    "stop_words.append('also')\n",
    "bigram = gensim.models.Phrases(data_words, min_count=1, threshold=100) # higher threshold fewer phrases.\n",
    "trigram = gensim.models.Phrases(bigram[data_words], threshold=100)  \n",
    "bigram_mod = gensim.models.phrases.Phraser(bigram)\n",
    "trigram_mod = gensim.models.phrases.Phraser(trigram)\n",
    "\n",
    "# !python3 -m spacy download en  # run in terminal once\n",
    "def process_words(texts, stop_words=stop_words, allowed_postags=['NOUN', 'ADJ', 'VERB', 'ADV']):\n",
    "    \"\"\"Remove Stopwords, Form Bigrams, Trigrams and Lemmatization\"\"\"\n",
    "    #texts = [[word for word in simple_preprocess(str(doc)) if word not in stop_words] for doc in texts]\n",
    "    texts = [bigram_mod[doc] for doc in texts]\n",
    "    texts = [trigram_mod[bigram_mod[doc]] for doc in texts]\n",
    "    texts_out = []\n",
    "    for sent in texts:\n",
    "        doc = nlp(\" \".join(sent)) \n",
    "        texts_out.append([token.lemma_ for token in doc if token.pos_ in allowed_postags])\n",
    "    # remove stopwords once more after lemmatization\n",
    "    texts_out = [[word for word in simple_preprocess(str(doc)) if word not in stop_words] for doc in texts_out]    \n",
    "    return texts_out\n",
    "\n",
    "# call the cached function\n",
    "data_ready = process_words(data_words)"
   ]
  },
  {
   "cell_type": "code",
   "execution_count": 22,
   "metadata": {},
   "outputs": [
    {
     "data": {
      "text/plain": [
       "[(0,\n",
       "  '0.037*\"location\" + 0.030*\"apartment\" + 0.021*\"host\" + 0.017*\"need\" + 0.014*\"place\" + 0.013*\"close\" + 0.013*\"stay\" + 0.011*\"great\" + 0.010*\"right\" + 0.008*\"city\"'),\n",
       " (1,\n",
       "  '0.020*\"host\" + 0.016*\"room\" + 0.016*\"stay\" + 0.015*\"apartment\" + 0.013*\"place\" + 0.012*\"bed\" + 0.012*\"clean\" + 0.012*\"leave\" + 0.010*\"dirty\" + 0.010*\"get\"')]"
      ]
     },
     "execution_count": 22,
     "metadata": {},
     "output_type": "execute_result"
    }
   ],
   "source": [
    "# Create Dictionary\n",
    "id2word = corpora.Dictionary(data_ready)\n",
    "\n",
    "# Create Corpus: Term Document Frequency\n",
    "corpus = [id2word.doc2bow(text) for text in data_ready]\n",
    "\n",
    "# Build LDA model\n",
    "lda_model = gensim.models.ldamodel.LdaModel(corpus=corpus,\n",
    "                                           id2word=id2word,\n",
    "                                           num_topics=2, \n",
    "                                           random_state=42,\n",
    "                                           update_every=1,\n",
    "                                           chunksize=5,\n",
    "                                           passes=5,\n",
    "                                           alpha='symmetric',\n",
    "                                           iterations=100,\n",
    "                                           per_word_topics=True)\n",
    "\n",
    "lda_model.print_topics()"
   ]
  },
  {
   "cell_type": "code",
   "execution_count": 23,
   "metadata": {},
   "outputs": [
    {
     "data": {
      "text/html": [
       "<div>\n",
       "<style scoped>\n",
       "    .dataframe tbody tr th:only-of-type {\n",
       "        vertical-align: middle;\n",
       "    }\n",
       "\n",
       "    .dataframe tbody tr th {\n",
       "        vertical-align: top;\n",
       "    }\n",
       "\n",
       "    .dataframe thead th {\n",
       "        text-align: right;\n",
       "    }\n",
       "</style>\n",
       "<table border=\"1\" class=\"dataframe\">\n",
       "  <thead>\n",
       "    <tr style=\"text-align: right;\">\n",
       "      <th></th>\n",
       "      <th>level_0</th>\n",
       "      <th>date</th>\n",
       "      <th>listing_id_encod</th>\n",
       "      <th>listing_id</th>\n",
       "      <th>reviewer_id</th>\n",
       "      <th>reviewer_name</th>\n",
       "      <th>comments</th>\n",
       "      <th>host_id</th>\n",
       "      <th>host_name</th>\n",
       "      <th>host_description</th>\n",
       "      <th>...</th>\n",
       "      <th>review_scores_location</th>\n",
       "      <th>review_scores_value</th>\n",
       "      <th>comments_language</th>\n",
       "      <th>description_language</th>\n",
       "      <th>sentiment_label</th>\n",
       "      <th>sentiment_label_class</th>\n",
       "      <th>dominant_topic</th>\n",
       "      <th>percent_contribution</th>\n",
       "      <th>topic_keywords</th>\n",
       "      <th>text</th>\n",
       "    </tr>\n",
       "  </thead>\n",
       "  <tbody>\n",
       "    <tr>\n",
       "      <th>465</th>\n",
       "      <td>34371</td>\n",
       "      <td>2019-10-13</td>\n",
       "      <td>845.0</td>\n",
       "      <td>2.377790e+07</td>\n",
       "      <td>41119983.0</td>\n",
       "      <td>Piolo Jose</td>\n",
       "      <td>centrally located really convenient</td>\n",
       "      <td>175813688.0</td>\n",
       "      <td>Hobo</td>\n",
       "      <td>urban boutique hotel central stockholm hobo bo...</td>\n",
       "      <td>...</td>\n",
       "      <td>4.98</td>\n",
       "      <td>4.54</td>\n",
       "      <td>en</td>\n",
       "      <td>en</td>\n",
       "      <td>0.0000</td>\n",
       "      <td>0</td>\n",
       "      <td>0</td>\n",
       "      <td>0.658</td>\n",
       "      <td>location, apartment, host, need, place, close,...</td>\n",
       "      <td>[really, convenient]</td>\n",
       "    </tr>\n",
       "    <tr>\n",
       "      <th>673</th>\n",
       "      <td>44391</td>\n",
       "      <td>2022-07-22</td>\n",
       "      <td>1073.0</td>\n",
       "      <td>3.080758e+07</td>\n",
       "      <td>454373945.0</td>\n",
       "      <td>Tino</td>\n",
       "      <td>okay place crash</td>\n",
       "      <td>362541894.0</td>\n",
       "      <td>ApartDirect</td>\n",
       "      <td>studio apartment double bed studio apartments ...</td>\n",
       "      <td>...</td>\n",
       "      <td>4.37</td>\n",
       "      <td>4.43</td>\n",
       "      <td>en</td>\n",
       "      <td>en</td>\n",
       "      <td>-0.2023</td>\n",
       "      <td>0</td>\n",
       "      <td>1</td>\n",
       "      <td>0.777</td>\n",
       "      <td>host, room, stay, apartment, place, bed, clean...</td>\n",
       "      <td>[place, crash]</td>\n",
       "    </tr>\n",
       "    <tr>\n",
       "      <th>1157</th>\n",
       "      <td>65799</td>\n",
       "      <td>2022-05-21</td>\n",
       "      <td>2146.0</td>\n",
       "      <td>5.982425e+17</td>\n",
       "      <td>23246957.0</td>\n",
       "      <td>Robert</td>\n",
       "      <td>apartment unbeatable location stockholm also f...</td>\n",
       "      <td>22876006.0</td>\n",
       "      <td>Hedvig</td>\n",
       "      <td>beautiful modern 2bedroom come stay östermalms...</td>\n",
       "      <td>...</td>\n",
       "      <td>4.95</td>\n",
       "      <td>4.50</td>\n",
       "      <td>en</td>\n",
       "      <td>en</td>\n",
       "      <td>0.0000</td>\n",
       "      <td>0</td>\n",
       "      <td>0</td>\n",
       "      <td>0.580</td>\n",
       "      <td>location, apartment, host, need, place, close,...</td>\n",
       "      <td>[apartment, unbeatable, location, find, need, ...</td>\n",
       "    </tr>\n",
       "  </tbody>\n",
       "</table>\n",
       "<p>3 rows × 34 columns</p>\n",
       "</div>"
      ],
      "text/plain": [
       "      level_0       date  listing_id_encod    listing_id  reviewer_id  \\\n",
       "465     34371 2019-10-13             845.0  2.377790e+07   41119983.0   \n",
       "673     44391 2022-07-22            1073.0  3.080758e+07  454373945.0   \n",
       "1157    65799 2022-05-21            2146.0  5.982425e+17   23246957.0   \n",
       "\n",
       "     reviewer_name                                           comments  \\\n",
       "465     Piolo Jose                centrally located really convenient   \n",
       "673           Tino                                   okay place crash   \n",
       "1157        Robert  apartment unbeatable location stockholm also f...   \n",
       "\n",
       "          host_id    host_name  \\\n",
       "465   175813688.0         Hobo   \n",
       "673   362541894.0  ApartDirect   \n",
       "1157   22876006.0       Hedvig   \n",
       "\n",
       "                                       host_description  ...  \\\n",
       "465   urban boutique hotel central stockholm hobo bo...  ...   \n",
       "673   studio apartment double bed studio apartments ...  ...   \n",
       "1157  beautiful modern 2bedroom come stay östermalms...  ...   \n",
       "\n",
       "     review_scores_location  review_scores_value  comments_language  \\\n",
       "465                    4.98                 4.54                 en   \n",
       "673                    4.37                 4.43                 en   \n",
       "1157                   4.95                 4.50                 en   \n",
       "\n",
       "     description_language  sentiment_label  sentiment_label_class  \\\n",
       "465                    en           0.0000                      0   \n",
       "673                    en          -0.2023                      0   \n",
       "1157                   en           0.0000                      0   \n",
       "\n",
       "     dominant_topic  percent_contribution  \\\n",
       "465               0                 0.658   \n",
       "673               1                 0.777   \n",
       "1157              0                 0.580   \n",
       "\n",
       "                                         topic_keywords  \\\n",
       "465   location, apartment, host, need, place, close,...   \n",
       "673   host, room, stay, apartment, place, bed, clean...   \n",
       "1157  location, apartment, host, need, place, close,...   \n",
       "\n",
       "                                                   text  \n",
       "465                                [really, convenient]  \n",
       "673                                      [place, crash]  \n",
       "1157  [apartment, unbeatable, location, find, need, ...  \n",
       "\n",
       "[3 rows x 34 columns]"
      ]
     },
     "execution_count": 23,
     "metadata": {},
     "output_type": "execute_result"
    }
   ],
   "source": [
    "def format_topics_sentences(ldamodel=None, corpus=corpus, texts=data):\n",
    "    # Init output\n",
    "    sent_topics_df = pd.DataFrame()\n",
    "\n",
    "    # Get main topic in each document\n",
    "    for i, row_list in enumerate(ldamodel[corpus]):\n",
    "        row = row_list[0] if ldamodel.per_word_topics else row_list            \n",
    "        # print(row)\n",
    "        row = sorted(row, key=lambda x: (x[1]), reverse=True)\n",
    "        # Get the Dominant topic, Perc Contribution and Keywords for each document\n",
    "        for j, (topic_num, prop_topic) in enumerate(row):\n",
    "            if j == 0:  # => dominant topic\n",
    "                wp = ldamodel.show_topic(topic_num)\n",
    "                topic_keywords = \", \".join([word for word, prop in wp])\n",
    "                sent_topics_df = sent_topics_df.append(pd.Series([int(topic_num), round(prop_topic,3), topic_keywords]), ignore_index=True)\n",
    "            else:\n",
    "                break\n",
    "    sent_topics_df.columns = ['dominant_topic', 'percent_contribution', 'topic_keywords']\n",
    "\n",
    "    # Add original text to the end of the output\n",
    "    contents = pd.Series(texts)\n",
    "    contents.name = 'text'\n",
    "    sent_topics_df = (df_hosts_reviews_en.merge(sent_topics_df, left_index=True, right_index=True)\n",
    "                                    .merge(contents, left_index=True, right_index=True)\n",
    "                                    .drop('index', axis=1))\n",
    "    return(sent_topics_df)\n",
    "\n",
    "\n",
    "df_dominant_topic = format_topics_sentences(ldamodel=lda_model, corpus=corpus, texts=data_ready)\n",
    "df_dominant_topic.sample(3)"
   ]
  },
  {
   "cell_type": "code",
   "execution_count": 24,
   "metadata": {},
   "outputs": [
    {
     "data": {
      "text/html": [
       "\n",
       "<link rel=\"stylesheet\" type=\"text/css\" href=\"https://cdn.jsdelivr.net/gh/bmabey/pyLDAvis@3.4.0/pyLDAvis/js/ldavis.v1.0.0.css\">\n",
       "\n",
       "\n",
       "<div id=\"ldavis_el82087119274962722663690746\" style=\"background-color:white;\"></div>\n",
       "<script type=\"text/javascript\">\n",
       "\n",
       "var ldavis_el82087119274962722663690746_data = {\"mdsDat\": {\"x\": [0.14893767107751962, -0.14893767107751962], \"y\": [0.0, 0.0], \"topics\": [1, 2], \"cluster\": [1, 1], \"Freq\": [69.34339215320004, 30.656607846799954]}, \"tinfo\": {\"Term\": [\"location\", \"need\", \"apartment\", \"close\", \"great\", \"room\", \"right\", \"city\", \"central\", \"bed\", \"spacious\", \"leave\", \"space\", \"cosy\", \"clean\", \"price\", \"dirty\", \"appartement\", \"locate\", \"cleanliness\", \"get\", \"bad\", \"make\", \"communication\", \"minute\", \"host\", \"convenient\", \"quiet\", \"go\", \"shower\", \"room\", \"dirty\", \"leave\", \"bad\", \"bed\", \"make\", \"shower\", \"bathroom\", \"get\", \"airbnb\", \"clean\", \"money\", \"go\", \"thing\", \"night\", \"experience\", \"good\", \"look\", \"break\", \"ask\", \"arrive\", \"find\", \"guest\", \"never\", \"want\", \"book\", \"hour\", \"day\", \"house\", \"uncomfortable\", \"work\", \"come\", \"window\", \"nice\", \"time\", \"door\", \"kitchen\", \"stay\", \"host\", \"really\", \"problem\", \"place\", \"apartment\", \"location\", \"city\", \"central\", \"close\", \"cosy\", \"quiet\", \"convenient\", \"heart\", \"need\", \"locate\", \"cozy\", \"cafe\", \"restaurant\", \"spacious\", \"transport\", \"perfect\", \"comfy\", \"home\", \"great\", \"come_back\", \"stockholm\", \"available\", \"old_town\", \"shop\", \"gut\", \"renovate\", \"newly\", \"historic\", \"describe\", \"choice\", \"right\", \"exactly\", \"space\", \"minute\", \"center\", \"price\", \"appartement\", \"communication\", \"cleanliness\", \"hostel\", \"apartment\", \"host\", \"flat\", \"place\", \"stay\", \"food\"], \"Freq\": [227.0, 109.0, 394.0, 80.0, 69.0, 230.0, 61.0, 51.0, 48.0, 171.0, 48.0, 164.0, 50.0, 44.0, 167.0, 51.0, 146.0, 49.0, 41.0, 55.0, 135.0, 129.0, 124.0, 45.0, 37.0, 414.0, 32.0, 32.0, 112.0, 107.0, 229.79985714793042, 146.37075029389572, 163.7985304105161, 128.65516941700383, 170.78432026989512, 124.38765266001211, 106.93597161607846, 96.67357361680767, 135.04582553520783, 81.10687556792098, 166.42890852005962, 91.12465854673745, 112.17433739958113, 71.13331353661523, 68.50070875391964, 72.7083397224538, 94.79280307067701, 60.89723194927589, 96.67563752145445, 78.59923793282859, 60.66483758819698, 69.45481215660881, 69.1356035855611, 47.74196232738882, 79.17918862783237, 50.14647309291463, 54.70406611388151, 108.77767772094522, 48.49656362854328, 72.49556222162957, 75.60048865290672, 64.46618534610622, 58.99416862866397, 71.39016874866554, 111.60733005611611, 70.90576967699324, 70.65487830297589, 225.02529696481378, 283.0508888153003, 110.89855785530442, 90.91636043517815, 175.40875580523462, 210.49376754497905, 226.67897444346315, 51.171210231037904, 47.709294892715995, 79.26571934215869, 44.01657023088674, 31.902746374265387, 32.55787331066304, 26.693758709822472, 107.64879839502697, 40.416336820660135, 26.14011511011154, 24.93008959669929, 26.0749282500286, 47.75567436357379, 17.25169518106033, 21.943627878809682, 23.864972225230144, 17.367484107653542, 67.70245633136702, 17.863817556895032, 12.188138086039, 25.18394617541413, 20.777870538428985, 16.181942165216057, 12.49481884704033, 11.740324908961732, 11.739480101992406, 11.741696460992003, 28.034324889922654, 10.330602571297511, 59.031420922739876, 17.343787775881882, 47.72243473535646, 35.079065145965245, 20.79950594416985, 46.21124057455876, 44.12907779480523, 38.72537003950035, 44.464179761991, 27.689073725551722, 183.68027427911193, 131.53669266557307, 28.60071111468711, 89.25605251965482, 78.34689749579864, 25.84163487740872], \"Total\": [227.0, 109.0, 394.0, 80.0, 69.0, 230.0, 61.0, 51.0, 48.0, 171.0, 48.0, 164.0, 50.0, 44.0, 167.0, 51.0, 146.0, 49.0, 41.0, 55.0, 135.0, 129.0, 124.0, 45.0, 37.0, 414.0, 32.0, 32.0, 112.0, 107.0, 230.39063483524367, 146.867460812006, 164.40869818078824, 129.17545933236062, 171.47641870993036, 124.92435208723155, 107.49235112387915, 97.24600414220185, 135.84799529827987, 81.60202496514579, 167.49465526912292, 91.7609129253996, 112.95764625339535, 71.67402507734191, 69.02563228978477, 73.26594983120715, 95.54020942728754, 61.380219121465224, 97.47687216812389, 79.25458843904335, 61.19182416390931, 70.0756836635642, 69.77184811473825, 48.18860494489461, 79.92492853253519, 50.621480113410534, 55.22547441802162, 109.82847448091889, 48.96552153610399, 73.21242761896376, 76.426722012109, 65.13958712491663, 59.59866651366094, 72.6051083005724, 117.98188868529658, 72.6319749471532, 72.88450325460087, 303.37219446061243, 414.5875814808734, 128.5522185248247, 102.5151492341033, 264.66480832488946, 394.174041824091, 227.54324499252303, 51.6096230798947, 48.19271948969333, 80.09314718918641, 44.49943602323944, 32.28410568295401, 32.961991649302774, 27.064496788593154, 109.17045034646117, 41.08536135940708, 26.580132195183214, 25.36245564645061, 26.602776848226984, 48.73905330962014, 17.61285105249341, 22.40693123662664, 24.405920687058146, 17.77472419362881, 69.35325329101333, 18.389682108744537, 12.549038792407497, 25.959499699813506, 21.455748005312202, 16.72077697627286, 12.94585846269316, 12.17904147367633, 12.178181559755108, 12.181678398239573, 29.09010204634764, 10.749236986725572, 61.53156856160181, 18.0642355141718, 50.456933009269974, 37.02667108534643, 21.74228788174491, 51.38261857279785, 49.02170292705927, 45.33260877926044, 55.319039657422856, 31.2374751570646, 394.174041824091, 414.5875814808734, 36.344662836273294, 264.66480832488946, 303.37219446061243, 44.01465059539051], \"Category\": [\"Default\", \"Default\", \"Default\", \"Default\", \"Default\", \"Default\", \"Default\", \"Default\", \"Default\", \"Default\", \"Default\", \"Default\", \"Default\", \"Default\", \"Default\", \"Default\", \"Default\", \"Default\", \"Default\", \"Default\", \"Default\", \"Default\", \"Default\", \"Default\", \"Default\", \"Default\", \"Default\", \"Default\", \"Default\", \"Default\", \"Topic1\", \"Topic1\", \"Topic1\", \"Topic1\", \"Topic1\", \"Topic1\", \"Topic1\", \"Topic1\", \"Topic1\", \"Topic1\", \"Topic1\", \"Topic1\", \"Topic1\", \"Topic1\", \"Topic1\", \"Topic1\", \"Topic1\", \"Topic1\", \"Topic1\", \"Topic1\", \"Topic1\", \"Topic1\", \"Topic1\", \"Topic1\", \"Topic1\", \"Topic1\", \"Topic1\", \"Topic1\", \"Topic1\", \"Topic1\", \"Topic1\", \"Topic1\", \"Topic1\", \"Topic1\", \"Topic1\", \"Topic1\", \"Topic1\", \"Topic1\", \"Topic1\", \"Topic1\", \"Topic1\", \"Topic1\", \"Topic1\", \"Topic2\", \"Topic2\", \"Topic2\", \"Topic2\", \"Topic2\", \"Topic2\", \"Topic2\", \"Topic2\", \"Topic2\", \"Topic2\", \"Topic2\", \"Topic2\", \"Topic2\", \"Topic2\", \"Topic2\", \"Topic2\", \"Topic2\", \"Topic2\", \"Topic2\", \"Topic2\", \"Topic2\", \"Topic2\", \"Topic2\", \"Topic2\", \"Topic2\", \"Topic2\", \"Topic2\", \"Topic2\", \"Topic2\", \"Topic2\", \"Topic2\", \"Topic2\", \"Topic2\", \"Topic2\", \"Topic2\", \"Topic2\", \"Topic2\", \"Topic2\", \"Topic2\", \"Topic2\", \"Topic2\", \"Topic2\", \"Topic2\", \"Topic2\", \"Topic2\", \"Topic2\"], \"logprob\": [30.0, 29.0, 28.0, 27.0, 26.0, 25.0, 24.0, 23.0, 22.0, 21.0, 20.0, 19.0, 18.0, 17.0, 16.0, 15.0, 14.0, 13.0, 12.0, 11.0, 10.0, 9.0, 8.0, 7.0, 6.0, 5.0, 4.0, 3.0, 2.0, 1.0, -4.1083, -4.5594, -4.4469, -4.6884, -4.4051, -4.7221, -4.8733, -4.9742, -4.6399, -5.1497, -4.4309, -5.0333, -4.8255, -5.2809, -5.3187, -5.259, -4.9938, -5.4363, -4.9741, -5.1811, -5.4401, -5.3048, -5.3094, -5.6797, -5.1738, -5.6306, -5.5436, -4.8562, -5.664, -5.262, -5.22, -5.3794, -5.4681, -5.2773, -4.8305, -5.2842, -5.2877, -4.1293, -3.8999, -4.8369, -5.0356, -4.3784, -4.196, -3.3057, -4.7941, -4.8642, -4.3565, -4.9447, -5.2666, -5.2463, -5.4449, -4.0504, -5.03, -5.4658, -5.5132, -5.4683, -4.8632, -5.8814, -5.6408, -5.5569, -5.8747, -4.5142, -5.8465, -6.2288, -5.5031, -5.6954, -5.9454, -6.204, -6.2663, -6.2663, -6.2661, -5.3959, -6.3942, -4.6512, -5.876, -4.8639, -5.1717, -5.6944, -4.8961, -4.9422, -5.0728, -4.9346, -5.4082, -3.5161, -3.85, -5.3759, -4.2378, -4.3681, -5.4773], \"loglift\": [30.0, 29.0, 28.0, 27.0, 26.0, 25.0, 24.0, 23.0, 22.0, 21.0, 20.0, 19.0, 18.0, 17.0, 16.0, 15.0, 14.0, 13.0, 12.0, 11.0, 10.0, 9.0, 8.0, 7.0, 6.0, 5.0, 4.0, 3.0, 2.0, 1.0, 0.3635, 0.3627, 0.3624, 0.3621, 0.3621, 0.3618, 0.3609, 0.3602, 0.3602, 0.36, 0.3597, 0.3591, 0.3591, 0.3585, 0.3585, 0.3585, 0.3582, 0.3582, 0.3578, 0.3578, 0.3574, 0.3572, 0.3569, 0.3568, 0.3567, 0.3567, 0.3566, 0.3565, 0.3565, 0.3563, 0.3552, 0.3557, 0.3559, 0.3492, 0.3106, 0.342, 0.335, 0.0674, -0.0156, 0.2184, 0.246, -0.0452, -0.2612, 1.1785, 1.1738, 1.1722, 1.1719, 1.1714, 1.1704, 1.17, 1.1685, 1.1683, 1.1659, 1.1656, 1.1651, 1.1623, 1.1619, 1.1616, 1.1614, 1.1599, 1.1591, 1.1582, 1.1533, 1.1531, 1.152, 1.1502, 1.1496, 1.1469, 1.1456, 1.1456, 1.1455, 1.1454, 1.1426, 1.1408, 1.1416, 1.1266, 1.1283, 1.138, 1.0762, 1.0772, 1.0248, 0.9639, 1.0617, 0.4187, 0.0343, 0.9427, 0.0954, -0.1715, 0.6498]}, \"token.table\": {\"Topic\": [1, 1, 2, 1, 2, 1, 2, 1, 2, 1, 2, 1, 2, 1, 2, 1, 2, 1, 1, 2, 2, 1, 2, 2, 2, 2, 1, 2, 1, 2, 1, 2, 1, 2, 1, 2, 1, 2, 1, 2, 2, 2, 2, 1, 2, 1, 2, 1, 1, 2, 1, 2, 1, 2, 1, 2, 1, 2, 1, 2, 1, 2, 1, 2, 1, 2, 1, 2, 1, 2, 2, 2, 2, 2, 1, 2, 1, 2, 1, 2, 1, 1, 2, 1, 2, 1, 2, 1, 2, 1, 1, 2, 1, 2, 1, 2, 1, 2, 1, 2, 1, 2, 1, 2, 1, 2, 2, 1, 2, 1, 2, 1, 2, 2, 1, 2, 2, 1, 2, 1, 2, 1, 2, 1, 2, 1, 2, 1, 2, 1, 2, 1, 2, 2, 1, 2, 1, 2, 2, 1, 2, 1, 2, 1, 2, 1, 2], \"Freq\": [0.992622426154217, 0.5327595876892299, 0.4667988768324682, 0.10199564073568877, 0.8975616384740611, 0.9968651994522097, 0.016342052450036226, 0.9967877135689228, 0.012617565994543327, 0.038521543618469045, 0.9630385904617261, 0.9986416976315201, 0.007741408508771474, 0.9974702904826596, 0.010283198870955253, 0.997221666317068, 0.005831705650977005, 0.9877229960084495, 0.9951078429424633, 0.01025884374167488, 0.985708968740914, 0.04599331981247531, 0.9658597160619815, 0.9960010663076495, 0.9302985888532537, 0.9881878021284718, 0.9910764002187331, 0.005970339760353814, 0.19884654665229698, 0.7953861866091879, 0.012485462678073071, 0.9863515515677725, 0.9825054598100035, 0.015351647809531304, 0.054378318999026454, 0.9788097419824763, 0.040973664252308875, 0.983367942055413, 0.1544142326792912, 0.8603078677846223, 1.0011530963026025, 0.9887765763373133, 0.9781742170835274, 0.992456651293442, 0.009105106892600384, 0.03437595366309667, 0.9625267025667067, 0.9940935806528557, 0.9775309022184704, 0.027536081752632967, 0.05535800279040193, 0.9410860474368328, 0.9963700759790891, 0.013648905150398481, 0.9846496872049283, 0.014270285321810555, 0.22011484976593892, 0.7979163304015287, 0.4089547402174555, 0.5907124025363246, 0.9937577636208916, 0.007361168619414012, 0.9915220767680739, 0.00885287568542923, 0.9943457374593817, 0.010466797236414544, 0.028837868522299824, 0.980487529758194, 0.9889375423527701, 0.014332428150040146, 0.9269373703243478, 0.9976169226756014, 0.9850859305015122, 0.9564142776456411, 0.6826060708069133, 0.3183886973375002, 0.12805132232639385, 0.896359256284757, 0.995917202696804, 0.018107585503578254, 0.9802816041611631, 0.9741439788919476, 0.027440675461745005, 0.9975141328572603, 0.0060824032491296354, 0.024339569299444308, 0.9735827719777723, 0.00439476900328489, 0.9976125637456701, 0.9938055105226521, 0.9926007053725914, 0.00800484439816606, 0.054015117788742135, 0.9452645613029874, 0.9917076574203418, 0.010897886345278482, 0.018319975722852107, 0.9892786890340138, 0.9960861090477658, 0.9853687877060447, 0.9778926257650147, 0.013773135574155135, 0.9996286554873245, 0.014487371818656877, 0.04660755708691262, 0.978758698825165, 0.9818390464839083, 0.6612137106841142, 0.33627440143363524, 0.09730917066665455, 0.8952443701332219, 0.887673682181281, 0.11705587017775133, 0.9911998279975891, 0.863462344514613, 0.1400209207320994, 0.9852992147154348, 0.03759006083106124, 0.9773415816075923, 0.04875546114181333, 0.9588574024556622, 0.9983044673863457, 0.00434045420602759, 0.05980583327072787, 0.956893332331646, 0.9954196636436788, 0.009302987510688587, 0.0594566459171991, 0.9513063346751855, 0.020517427649802536, 0.9848365271905217, 0.7416632246077921, 0.25710991786403464, 0.9562485381159488, 0.9905959644848383, 0.013952055837814625, 0.9492982460956139, 0.0508552631836936, 0.9652043243500517, 0.9834395927249692, 0.013658883232291238, 0.9884275338180794, 0.012511740934406067, 0.9899550350925433, 0.016778898899873617, 0.9944165862295993, 0.013084428766178938], \"Term\": [\"airbnb\", \"apartment\", \"apartment\", \"appartement\", \"appartement\", \"arrive\", \"arrive\", \"ask\", \"ask\", \"available\", \"available\", \"bad\", \"bad\", \"bathroom\", \"bathroom\", \"bed\", \"bed\", \"book\", \"break\", \"break\", \"cafe\", \"center\", \"center\", \"central\", \"choice\", \"city\", \"clean\", \"clean\", \"cleanliness\", \"cleanliness\", \"close\", \"close\", \"come\", \"come\", \"come_back\", \"come_back\", \"comfy\", \"comfy\", \"communication\", \"communication\", \"convenient\", \"cosy\", \"cozy\", \"day\", \"day\", \"describe\", \"describe\", \"dirty\", \"door\", \"door\", \"exactly\", \"exactly\", \"experience\", \"experience\", \"find\", \"find\", \"flat\", \"flat\", \"food\", \"food\", \"get\", \"get\", \"go\", \"go\", \"good\", \"good\", \"great\", \"great\", \"guest\", \"guest\", \"gut\", \"heart\", \"historic\", \"home\", \"host\", \"host\", \"hostel\", \"hostel\", \"hour\", \"hour\", \"house\", \"kitchen\", \"kitchen\", \"leave\", \"leave\", \"locate\", \"locate\", \"location\", \"location\", \"look\", \"make\", \"make\", \"minute\", \"minute\", \"money\", \"money\", \"need\", \"need\", \"never\", \"newly\", \"nice\", \"nice\", \"night\", \"night\", \"old_town\", \"old_town\", \"perfect\", \"place\", \"place\", \"price\", \"price\", \"problem\", \"problem\", \"quiet\", \"really\", \"really\", \"renovate\", \"restaurant\", \"restaurant\", \"right\", \"right\", \"room\", \"room\", \"shop\", \"shop\", \"shower\", \"shower\", \"space\", \"space\", \"spacious\", \"spacious\", \"stay\", \"stay\", \"stockholm\", \"thing\", \"thing\", \"time\", \"time\", \"transport\", \"uncomfortable\", \"uncomfortable\", \"want\", \"want\", \"window\", \"window\", \"work\", \"work\"]}, \"R\": 30, \"lambda.step\": 0.01, \"plot.opts\": {\"xlab\": \"PC1\", \"ylab\": \"PC2\"}, \"topic.order\": [2, 1]};\n",
       "\n",
       "function LDAvis_load_lib(url, callback){\n",
       "  var s = document.createElement('script');\n",
       "  s.src = url;\n",
       "  s.async = true;\n",
       "  s.onreadystatechange = s.onload = callback;\n",
       "  s.onerror = function(){console.warn(\"failed to load library \" + url);};\n",
       "  document.getElementsByTagName(\"head\")[0].appendChild(s);\n",
       "}\n",
       "\n",
       "if(typeof(LDAvis) !== \"undefined\"){\n",
       "   // already loaded: just create the visualization\n",
       "   !function(LDAvis){\n",
       "       new LDAvis(\"#\" + \"ldavis_el82087119274962722663690746\", ldavis_el82087119274962722663690746_data);\n",
       "   }(LDAvis);\n",
       "}else if(typeof define === \"function\" && define.amd){\n",
       "   // require.js is available: use it to load d3/LDAvis\n",
       "   require.config({paths: {d3: \"https://d3js.org/d3.v5\"}});\n",
       "   require([\"d3\"], function(d3){\n",
       "      window.d3 = d3;\n",
       "      LDAvis_load_lib(\"https://cdn.jsdelivr.net/gh/bmabey/pyLDAvis@3.4.0/pyLDAvis/js/ldavis.v3.0.0.js\", function(){\n",
       "        new LDAvis(\"#\" + \"ldavis_el82087119274962722663690746\", ldavis_el82087119274962722663690746_data);\n",
       "      });\n",
       "    });\n",
       "}else{\n",
       "    // require.js not available: dynamically load d3 & LDAvis\n",
       "    LDAvis_load_lib(\"https://d3js.org/d3.v5.js\", function(){\n",
       "         LDAvis_load_lib(\"https://cdn.jsdelivr.net/gh/bmabey/pyLDAvis@3.4.0/pyLDAvis/js/ldavis.v3.0.0.js\", function(){\n",
       "                 new LDAvis(\"#\" + \"ldavis_el82087119274962722663690746\", ldavis_el82087119274962722663690746_data);\n",
       "            })\n",
       "         });\n",
       "}\n",
       "</script>"
      ],
      "text/plain": [
       "PreparedData(topic_coordinates=              x    y  topics  cluster       Freq\n",
       "topic                                           \n",
       "1      0.148938  0.0       1        1  69.343392\n",
       "0     -0.148938  0.0       2        1  30.656608, topic_info=          Term        Freq       Total Category  logprob  loglift\n",
       "34    location  227.000000  227.000000  Default  30.0000  30.0000\n",
       "140       need  109.000000  109.000000  Default  29.0000  29.0000\n",
       "24   apartment  394.000000  394.000000  Default  28.0000  28.0000\n",
       "156      close   80.000000   80.000000  Default  27.0000  27.0000\n",
       "171      great   69.000000   69.000000  Default  26.0000  26.0000\n",
       "..         ...         ...         ...      ...      ...      ...\n",
       "29        host  131.536693  414.587581   Topic2  -3.8500   0.0343\n",
       "23        flat   28.600711   36.344663   Topic2  -5.3759   0.9427\n",
       "10       place   89.256053  264.664808   Topic2  -4.2378   0.0954\n",
       "17        stay   78.346897  303.372194   Topic2  -4.3681  -0.1715\n",
       "655       food   25.841635   44.014651   Topic2  -5.4773   0.6498\n",
       "\n",
       "[119 rows x 6 columns], token_table=      Topic      Freq         Term\n",
       "term                              \n",
       "268       1  0.992622       airbnb\n",
       "24        1  0.532760    apartment\n",
       "24        2  0.466799    apartment\n",
       "186       1  0.101996  appartement\n",
       "186       2  0.897562  appartement\n",
       "...     ...       ...          ...\n",
       "150       2  0.012512         want\n",
       "351       1  0.989955       window\n",
       "351       2  0.016779       window\n",
       "531       1  0.994417         work\n",
       "531       2  0.013084         work\n",
       "\n",
       "[147 rows x 3 columns], R=30, lambda_step=0.01, plot_opts={'xlab': 'PC1', 'ylab': 'PC2'}, topic_order=[2, 1])"
      ]
     },
     "execution_count": 24,
     "metadata": {},
     "output_type": "execute_result"
    }
   ],
   "source": [
    "pyLDAvis.enable_notebook()\n",
    "vis = pyLDAvis.gensim_models.prepare(lda_model, corpus, dictionary=lda_model.id2word)\n",
    "vis"
   ]
  },
  {
   "cell_type": "code",
   "execution_count": 25,
   "metadata": {},
   "outputs": [],
   "source": [
    "topics = lda_model.show_topics(formatted=False)"
   ]
  },
  {
   "cell_type": "code",
   "execution_count": 26,
   "metadata": {},
   "outputs": [
    {
     "data": {
      "image/png": "[encoded data removed]",
      "text/plain": [
       "<Figure size 1000x1000 with 2 Axes>"
      ]
     },
     "metadata": {},
     "output_type": "display_data"
    }
   ],
   "source": [
    "cols = [color for name, color in mcolors.TABLEAU_COLORS.items()]\n",
    "cloud = WordCloud(stopwords=stop_words,\n",
    "                  background_color='white',\n",
    "                  width=2500,\n",
    "                  height=1800,\n",
    "                  max_words=20,\n",
    "                  colormap='tab10',\n",
    "                  color_func=lambda *args, **kwargs: cols[i],\n",
    "                  prefer_horizontal=1.0)\n",
    "\n",
    "fig, axes = plt.subplots(1, 2, figsize=(10,10), sharex=True, sharey=True)\n",
    "\n",
    "groups = {0: 'Issues and Complaints',\n",
    "          1: 'Location and Accessibility',\n",
    "          2: 'Host and Service Experience'\n",
    "        }\n",
    "\n",
    "for i, ax in enumerate(axes.flatten()):\n",
    "    fig.add_subplot(ax)\n",
    "    topic_words = dict(topics[i][1])\n",
    "    cloud.generate_from_frequencies(topic_words, max_font_size=350)\n",
    "    plt.gca().imshow(cloud)\n",
    "    plt.gca().set_title(groups.get(i), fontdict=dict(size=14))\n",
    "    plt.gca().axis('off')\n",
    "\n",
    "\n",
    "plt.subplots_adjust(wspace=30, hspace=10)\n",
    "plt.axis('off')\n",
    "#plt.margins(x=0, y=0)\n",
    "plt.tight_layout()\n",
    "plt.show()"
   ]
  },
  {
   "cell_type": "code",
   "execution_count": 27,
   "metadata": {},
   "outputs": [
    {
     "data": {
      "text/html": [
       "<div>\n",
       "<style scoped>\n",
       "    .dataframe tbody tr th:only-of-type {\n",
       "        vertical-align: middle;\n",
       "    }\n",
       "\n",
       "    .dataframe tbody tr th {\n",
       "        vertical-align: top;\n",
       "    }\n",
       "\n",
       "    .dataframe thead th {\n",
       "        text-align: right;\n",
       "    }\n",
       "</style>\n",
       "<table border=\"1\" class=\"dataframe\">\n",
       "  <thead>\n",
       "    <tr style=\"text-align: right;\">\n",
       "      <th></th>\n",
       "      <th>neighbourhood</th>\n",
       "      <th>dominant_topic</th>\n",
       "      <th>number_of_reviews</th>\n",
       "    </tr>\n",
       "  </thead>\n",
       "  <tbody>\n",
       "    <tr>\n",
       "      <th>0</th>\n",
       "      <td>Södermalm</td>\n",
       "      <td>1</td>\n",
       "      <td>312</td>\n",
       "    </tr>\n",
       "    <tr>\n",
       "      <th>1</th>\n",
       "      <td>Södermalm</td>\n",
       "      <td>0</td>\n",
       "      <td>285</td>\n",
       "    </tr>\n",
       "    <tr>\n",
       "      <th>2</th>\n",
       "      <td>Kungsholmen</td>\n",
       "      <td>0</td>\n",
       "      <td>83</td>\n",
       "    </tr>\n",
       "    <tr>\n",
       "      <th>3</th>\n",
       "      <td>Kungsholmen</td>\n",
       "      <td>1</td>\n",
       "      <td>83</td>\n",
       "    </tr>\n",
       "    <tr>\n",
       "      <th>4</th>\n",
       "      <td>Norrmalm</td>\n",
       "      <td>1</td>\n",
       "      <td>78</td>\n",
       "    </tr>\n",
       "    <tr>\n",
       "      <th>5</th>\n",
       "      <td>Norrmalm</td>\n",
       "      <td>0</td>\n",
       "      <td>70</td>\n",
       "    </tr>\n",
       "    <tr>\n",
       "      <th>6</th>\n",
       "      <td>Enskede-Årsta-Vantör</td>\n",
       "      <td>0</td>\n",
       "      <td>39</td>\n",
       "    </tr>\n",
       "    <tr>\n",
       "      <th>7</th>\n",
       "      <td>Enskede-Årsta-Vantör</td>\n",
       "      <td>1</td>\n",
       "      <td>29</td>\n",
       "    </tr>\n",
       "    <tr>\n",
       "      <th>8</th>\n",
       "      <td>Hägersten-Liljeholmen</td>\n",
       "      <td>0</td>\n",
       "      <td>21</td>\n",
       "    </tr>\n",
       "    <tr>\n",
       "      <th>9</th>\n",
       "      <td>Hägersten-Liljeholmen</td>\n",
       "      <td>1</td>\n",
       "      <td>21</td>\n",
       "    </tr>\n",
       "    <tr>\n",
       "      <th>10</th>\n",
       "      <td>Östermalm</td>\n",
       "      <td>1</td>\n",
       "      <td>20</td>\n",
       "    </tr>\n",
       "    <tr>\n",
       "      <th>11</th>\n",
       "      <td>Östermalm</td>\n",
       "      <td>0</td>\n",
       "      <td>20</td>\n",
       "    </tr>\n",
       "    <tr>\n",
       "      <th>12</th>\n",
       "      <td>Älvsjö</td>\n",
       "      <td>1</td>\n",
       "      <td>19</td>\n",
       "    </tr>\n",
       "    <tr>\n",
       "      <th>13</th>\n",
       "      <td>Skarpnäck</td>\n",
       "      <td>1</td>\n",
       "      <td>19</td>\n",
       "    </tr>\n",
       "    <tr>\n",
       "      <th>14</th>\n",
       "      <td>Skarpnäck</td>\n",
       "      <td>0</td>\n",
       "      <td>18</td>\n",
       "    </tr>\n",
       "    <tr>\n",
       "      <th>15</th>\n",
       "      <td>Skärholmen</td>\n",
       "      <td>0</td>\n",
       "      <td>15</td>\n",
       "    </tr>\n",
       "    <tr>\n",
       "      <th>16</th>\n",
       "      <td>Bromma</td>\n",
       "      <td>0</td>\n",
       "      <td>14</td>\n",
       "    </tr>\n",
       "    <tr>\n",
       "      <th>17</th>\n",
       "      <td>Farsta</td>\n",
       "      <td>0</td>\n",
       "      <td>13</td>\n",
       "    </tr>\n",
       "    <tr>\n",
       "      <th>18</th>\n",
       "      <td>Hässelby-Vällingby</td>\n",
       "      <td>0</td>\n",
       "      <td>12</td>\n",
       "    </tr>\n",
       "    <tr>\n",
       "      <th>19</th>\n",
       "      <td>Skärholmen</td>\n",
       "      <td>1</td>\n",
       "      <td>9</td>\n",
       "    </tr>\n",
       "    <tr>\n",
       "      <th>20</th>\n",
       "      <td>Farsta</td>\n",
       "      <td>1</td>\n",
       "      <td>9</td>\n",
       "    </tr>\n",
       "    <tr>\n",
       "      <th>21</th>\n",
       "      <td>Bromma</td>\n",
       "      <td>1</td>\n",
       "      <td>8</td>\n",
       "    </tr>\n",
       "    <tr>\n",
       "      <th>22</th>\n",
       "      <td>Älvsjö</td>\n",
       "      <td>0</td>\n",
       "      <td>8</td>\n",
       "    </tr>\n",
       "    <tr>\n",
       "      <th>23</th>\n",
       "      <td>Rinkeby-Tensta</td>\n",
       "      <td>1</td>\n",
       "      <td>4</td>\n",
       "    </tr>\n",
       "    <tr>\n",
       "      <th>24</th>\n",
       "      <td>Spånga-Tensta</td>\n",
       "      <td>0</td>\n",
       "      <td>4</td>\n",
       "    </tr>\n",
       "    <tr>\n",
       "      <th>25</th>\n",
       "      <td>Spånga-Tensta</td>\n",
       "      <td>1</td>\n",
       "      <td>4</td>\n",
       "    </tr>\n",
       "    <tr>\n",
       "      <th>26</th>\n",
       "      <td>Hässelby-Vällingby</td>\n",
       "      <td>1</td>\n",
       "      <td>4</td>\n",
       "    </tr>\n",
       "    <tr>\n",
       "      <th>27</th>\n",
       "      <td>Rinkeby-Tensta</td>\n",
       "      <td>0</td>\n",
       "      <td>4</td>\n",
       "    </tr>\n",
       "  </tbody>\n",
       "</table>\n",
       "</div>"
      ],
      "text/plain": [
       "            neighbourhood  dominant_topic  number_of_reviews\n",
       "0               Södermalm               1                312\n",
       "1               Södermalm               0                285\n",
       "2             Kungsholmen               0                 83\n",
       "3             Kungsholmen               1                 83\n",
       "4                Norrmalm               1                 78\n",
       "5                Norrmalm               0                 70\n",
       "6    Enskede-Årsta-Vantör               0                 39\n",
       "7    Enskede-Årsta-Vantör               1                 29\n",
       "8   Hägersten-Liljeholmen               0                 21\n",
       "9   Hägersten-Liljeholmen               1                 21\n",
       "10              Östermalm               1                 20\n",
       "11              Östermalm               0                 20\n",
       "12                 Älvsjö               1                 19\n",
       "13              Skarpnäck               1                 19\n",
       "14              Skarpnäck               0                 18\n",
       "15             Skärholmen               0                 15\n",
       "16                 Bromma               0                 14\n",
       "17                 Farsta               0                 13\n",
       "18     Hässelby-Vällingby               0                 12\n",
       "19             Skärholmen               1                  9\n",
       "20                 Farsta               1                  9\n",
       "21                 Bromma               1                  8\n",
       "22                 Älvsjö               0                  8\n",
       "23         Rinkeby-Tensta               1                  4\n",
       "24          Spånga-Tensta               0                  4\n",
       "25          Spånga-Tensta               1                  4\n",
       "26     Hässelby-Vällingby               1                  4\n",
       "27         Rinkeby-Tensta               0                  4"
      ]
     },
     "execution_count": 27,
     "metadata": {},
     "output_type": "execute_result"
    }
   ],
   "source": [
    "numnber_topic_by_neighbourhood = (df_dominant_topic.groupby(['neighbourhood', 'dominant_topic'])\n",
    "        .agg(number_of_reviews=('number_of_reviews', 'count'))\n",
    "        .sort_values('number_of_reviews', ascending=False)\n",
    "        .reset_index())\n",
    "numnber_topic_by_neighbourhood "
   ]
  },
  {
   "cell_type": "code",
   "execution_count": 30,
   "metadata": {},
   "outputs": [
    {
     "data": {
      "application/vnd.plotly.v1+json": {
       "config": {
        "plotlyServerURL": "https://plotly.com"
       },
       "data": [
        {
         "branchvalues": "total",
         "domain": {
          "x": [
           0,
           1
          ],
          "y": [
           0,
           1
          ]
         },
         "hovertemplate": "labels=%{label}<br>number_of_reviews=%{value}<br>parent=%{parent}<br>id=%{id}<extra></extra>",
         "ids": [
          "Bromma/0",
          "Enskede-Årsta-Vantör/0",
          "Farsta/0",
          "Hägersten-Liljeholmen/0",
          "Hässelby-Vällingby/0",
          "Kungsholmen/0",
          "Norrmalm/0",
          "Rinkeby-Tensta/0",
          "Skarpnäck/0",
          "Skärholmen/0",
          "Spånga-Tensta/0",
          "Södermalm/0",
          "Älvsjö/0",
          "Östermalm/0",
          "Bromma/1",
          "Enskede-Årsta-Vantör/1",
          "Farsta/1",
          "Hägersten-Liljeholmen/1",
          "Hässelby-Vällingby/1",
          "Kungsholmen/1",
          "Norrmalm/1",
          "Rinkeby-Tensta/1",
          "Skarpnäck/1",
          "Skärholmen/1",
          "Spånga-Tensta/1",
          "Södermalm/1",
          "Älvsjö/1",
          "Östermalm/1",
          "Bromma",
          "Enskede-Årsta-Vantör",
          "Farsta",
          "Hägersten-Liljeholmen",
          "Hässelby-Vällingby",
          "Kungsholmen",
          "Norrmalm",
          "Rinkeby-Tensta",
          "Skarpnäck",
          "Skärholmen",
          "Spånga-Tensta",
          "Södermalm",
          "Älvsjö",
          "Östermalm"
         ],
         "labels": [
          "0",
          "0",
          "0",
          "0",
          "0",
          "0",
          "0",
          "0",
          "0",
          "0",
          "0",
          "0",
          "0",
          "0",
          "1",
          "1",
          "1",
          "1",
          "1",
          "1",
          "1",
          "1",
          "1",
          "1",
          "1",
          "1",
          "1",
          "1",
          "Bromma",
          "Enskede-Årsta-Vantör",
          "Farsta",
          "Hägersten-Liljeholmen",
          "Hässelby-Vällingby",
          "Kungsholmen",
          "Norrmalm",
          "Rinkeby-Tensta",
          "Skarpnäck",
          "Skärholmen",
          "Spånga-Tensta",
          "Södermalm",
          "Älvsjö",
          "Östermalm"
         ],
         "marker": {
          "colors": [
           null,
           null,
           null,
           null,
           null,
           null,
           null,
           null,
           null,
           null,
           null,
           null,
           null,
           null,
           null,
           null,
           null,
           null,
           null,
           null,
           null,
           null,
           null,
           null,
           null,
           null,
           null,
           null,
           null,
           null,
           null,
           null,
           null,
           null,
           null,
           null,
           null,
           null,
           null,
           null,
           null,
           null
          ]
         },
         "name": "",
         "parents": [
          "Bromma",
          "Enskede-Årsta-Vantör",
          "Farsta",
          "Hägersten-Liljeholmen",
          "Hässelby-Vällingby",
          "Kungsholmen",
          "Norrmalm",
          "Rinkeby-Tensta",
          "Skarpnäck",
          "Skärholmen",
          "Spånga-Tensta",
          "Södermalm",
          "Älvsjö",
          "Östermalm",
          "Bromma",
          "Enskede-Årsta-Vantör",
          "Farsta",
          "Hägersten-Liljeholmen",
          "Hässelby-Vällingby",
          "Kungsholmen",
          "Norrmalm",
          "Rinkeby-Tensta",
          "Skarpnäck",
          "Skärholmen",
          "Spånga-Tensta",
          "Södermalm",
          "Älvsjö",
          "Östermalm",
          "",
          "",
          "",
          "",
          "",
          "",
          "",
          "",
          "",
          "",
          "",
          "",
          "",
          ""
         ],
         "type": "treemap",
         "values": [
          14,
          39,
          13,
          21,
          12,
          83,
          70,
          4,
          18,
          15,
          4,
          285,
          8,
          20,
          8,
          29,
          9,
          21,
          4,
          83,
          78,
          4,
          19,
          9,
          4,
          312,
          19,
          20,
          22,
          68,
          22,
          42,
          16,
          166,
          148,
          8,
          37,
          24,
          8,
          597,
          27,
          40
         ]
        }
       ],
       "layout": {
        "legend": {
         "tracegroupgap": 0
        },
        "margin": {
         "t": 60
        },
        "template": {
         "data": {
          "bar": [
           {
            "error_x": {
             "color": "#2a3f5f"
            },
            "error_y": {
             "color": "#2a3f5f"
            },
            "marker": {
             "line": {
              "color": "#E5ECF6",
              "width": 0.5
             },
             "pattern": {
              "fillmode": "overlay",
              "size": 10,
              "solidity": 0.2
             }
            },
            "type": "bar"
           }
          ],
          "barpolar": [
           {
            "marker": {
             "line": {
              "color": "#E5ECF6",
              "width": 0.5
             },
             "pattern": {
              "fillmode": "overlay",
              "size": 10,
              "solidity": 0.2
             }
            },
            "type": "barpolar"
           }
          ],
          "carpet": [
           {
            "aaxis": {
             "endlinecolor": "#2a3f5f",
             "gridcolor": "white",
             "linecolor": "white",
             "minorgridcolor": "white",
             "startlinecolor": "#2a3f5f"
            },
            "baxis": {
             "endlinecolor": "#2a3f5f",
             "gridcolor": "white",
             "linecolor": "white",
             "minorgridcolor": "white",
             "startlinecolor": "#2a3f5f"
            },
            "type": "carpet"
           }
          ],
          "choropleth": [
           {
            "colorbar": {
             "outlinewidth": 0,
             "ticks": ""
            },
            "type": "choropleth"
           }
          ],
          "contour": [
           {
            "colorbar": {
             "outlinewidth": 0,
             "ticks": ""
            },
            "colorscale": [
             [
              0,
              "#0d0887"
             ],
             [
              0.1111111111111111,
              "#46039f"
             ],
             [
              0.2222222222222222,
              "#7201a8"
             ],
             [
              0.3333333333333333,
              "#9c179e"
             ],
             [
              0.4444444444444444,
              "#bd3786"
             ],
             [
              0.5555555555555556,
              "#d8576b"
             ],
             [
              0.6666666666666666,
              "#ed7953"
             ],
             [
              0.7777777777777778,
              "#fb9f3a"
             ],
             [
              0.8888888888888888,
              "#fdca26"
             ],
             [
              1,
              "#f0f921"
             ]
            ],
            "type": "contour"
           }
          ],
          "contourcarpet": [
           {
            "colorbar": {
             "outlinewidth": 0,
             "ticks": ""
            },
            "type": "contourcarpet"
           }
          ],
          "heatmap": [
           {
            "colorbar": {
             "outlinewidth": 0,
             "ticks": ""
            },
            "colorscale": [
             [
              0,
              "#0d0887"
             ],
             [
              0.1111111111111111,
              "#46039f"
             ],
             [
              0.2222222222222222,
              "#7201a8"
             ],
             [
              0.3333333333333333,
              "#9c179e"
             ],
             [
              0.4444444444444444,
              "#bd3786"
             ],
             [
              0.5555555555555556,
              "#d8576b"
             ],
             [
              0.6666666666666666,
              "#ed7953"
             ],
             [
              0.7777777777777778,
              "#fb9f3a"
             ],
             [
              0.8888888888888888,
              "#fdca26"
             ],
             [
              1,
              "#f0f921"
             ]
            ],
            "type": "heatmap"
           }
          ],
          "heatmapgl": [
           {
            "colorbar": {
             "outlinewidth": 0,
             "ticks": ""
            },
            "colorscale": [
             [
              0,
              "#0d0887"
             ],
             [
              0.1111111111111111,
              "#46039f"
             ],
             [
              0.2222222222222222,
              "#7201a8"
             ],
             [
              0.3333333333333333,
              "#9c179e"
             ],
             [
              0.4444444444444444,
              "#bd3786"
             ],
             [
              0.5555555555555556,
              "#d8576b"
             ],
             [
              0.6666666666666666,
              "#ed7953"
             ],
             [
              0.7777777777777778,
              "#fb9f3a"
             ],
             [
              0.8888888888888888,
              "#fdca26"
             ],
             [
              1,
              "#f0f921"
             ]
            ],
            "type": "heatmapgl"
           }
          ],
          "histogram": [
           {
            "marker": {
             "pattern": {
              "fillmode": "overlay",
              "size": 10,
              "solidity": 0.2
             }
            },
            "type": "histogram"
           }
          ],
          "histogram2d": [
           {
            "colorbar": {
             "outlinewidth": 0,
             "ticks": ""
            },
            "colorscale": [
             [
              0,
              "#0d0887"
             ],
             [
              0.1111111111111111,
              "#46039f"
             ],
             [
              0.2222222222222222,
              "#7201a8"
             ],
             [
              0.3333333333333333,
              "#9c179e"
             ],
             [
              0.4444444444444444,
              "#bd3786"
             ],
             [
              0.5555555555555556,
              "#d8576b"
             ],
             [
              0.6666666666666666,
              "#ed7953"
             ],
             [
              0.7777777777777778,
              "#fb9f3a"
             ],
             [
              0.8888888888888888,
              "#fdca26"
             ],
             [
              1,
              "#f0f921"
             ]
            ],
            "type": "histogram2d"
           }
          ],
          "histogram2dcontour": [
           {
            "colorbar": {
             "outlinewidth": 0,
             "ticks": ""
            },
            "colorscale": [
             [
              0,
              "#0d0887"
             ],
             [
              0.1111111111111111,
              "#46039f"
             ],
             [
              0.2222222222222222,
              "#7201a8"
             ],
             [
              0.3333333333333333,
              "#9c179e"
             ],
             [
              0.4444444444444444,
              "#bd3786"
             ],
             [
              0.5555555555555556,
              "#d8576b"
             ],
             [
              0.6666666666666666,
              "#ed7953"
             ],
             [
              0.7777777777777778,
              "#fb9f3a"
             ],
             [
              0.8888888888888888,
              "#fdca26"
             ],
             [
              1,
              "#f0f921"
             ]
            ],
            "type": "histogram2dcontour"
           }
          ],
          "mesh3d": [
           {
            "colorbar": {
             "outlinewidth": 0,
             "ticks": ""
            },
            "type": "mesh3d"
           }
          ],
          "parcoords": [
           {
            "line": {
             "colorbar": {
              "outlinewidth": 0,
              "ticks": ""
             }
            },
            "type": "parcoords"
           }
          ],
          "pie": [
           {
            "automargin": true,
            "type": "pie"
           }
          ],
          "scatter": [
           {
            "fillpattern": {
             "fillmode": "overlay",
             "size": 10,
             "solidity": 0.2
            },
            "type": "scatter"
           }
          ],
          "scatter3d": [
           {
            "line": {
             "colorbar": {
              "outlinewidth": 0,
              "ticks": ""
             }
            },
            "marker": {
             "colorbar": {
              "outlinewidth": 0,
              "ticks": ""
             }
            },
            "type": "scatter3d"
           }
          ],
          "scattercarpet": [
           {
            "marker": {
             "colorbar": {
              "outlinewidth": 0,
              "ticks": ""
             }
            },
            "type": "scattercarpet"
           }
          ],
          "scattergeo": [
           {
            "marker": {
             "colorbar": {
              "outlinewidth": 0,
              "ticks": ""
             }
            },
            "type": "scattergeo"
           }
          ],
          "scattergl": [
           {
            "marker": {
             "colorbar": {
              "outlinewidth": 0,
              "ticks": ""
             }
            },
            "type": "scattergl"
           }
          ],
          "scattermapbox": [
           {
            "marker": {
             "colorbar": {
              "outlinewidth": 0,
              "ticks": ""
             }
            },
            "type": "scattermapbox"
           }
          ],
          "scatterpolar": [
           {
            "marker": {
             "colorbar": {
              "outlinewidth": 0,
              "ticks": ""
             }
            },
            "type": "scatterpolar"
           }
          ],
          "scatterpolargl": [
           {
            "marker": {
             "colorbar": {
              "outlinewidth": 0,
              "ticks": ""
             }
            },
            "type": "scatterpolargl"
           }
          ],
          "scatterternary": [
           {
            "marker": {
             "colorbar": {
              "outlinewidth": 0,
              "ticks": ""
             }
            },
            "type": "scatterternary"
           }
          ],
          "surface": [
           {
            "colorbar": {
             "outlinewidth": 0,
             "ticks": ""
            },
            "colorscale": [
             [
              0,
              "#0d0887"
             ],
             [
              0.1111111111111111,
              "#46039f"
             ],
             [
              0.2222222222222222,
              "#7201a8"
             ],
             [
              0.3333333333333333,
              "#9c179e"
             ],
             [
              0.4444444444444444,
              "#bd3786"
             ],
             [
              0.5555555555555556,
              "#d8576b"
             ],
             [
              0.6666666666666666,
              "#ed7953"
             ],
             [
              0.7777777777777778,
              "#fb9f3a"
             ],
             [
              0.8888888888888888,
              "#fdca26"
             ],
             [
              1,
              "#f0f921"
             ]
            ],
            "type": "surface"
           }
          ],
          "table": [
           {
            "cells": {
             "fill": {
              "color": "#EBF0F8"
             },
             "line": {
              "color": "white"
             }
            },
            "header": {
             "fill": {
              "color": "#C8D4E3"
             },
             "line": {
              "color": "white"
             }
            },
            "type": "table"
           }
          ]
         },
         "layout": {
          "annotationdefaults": {
           "arrowcolor": "#2a3f5f",
           "arrowhead": 0,
           "arrowwidth": 1
          },
          "autotypenumbers": "strict",
          "coloraxis": {
           "colorbar": {
            "outlinewidth": 0,
            "ticks": ""
           }
          },
          "colorscale": {
           "diverging": [
            [
             0,
             "#8e0152"
            ],
            [
             0.1,
             "#c51b7d"
            ],
            [
             0.2,
             "#de77ae"
            ],
            [
             0.3,
             "#f1b6da"
            ],
            [
             0.4,
             "#fde0ef"
            ],
            [
             0.5,
             "#f7f7f7"
            ],
            [
             0.6,
             "#e6f5d0"
            ],
            [
             0.7,
             "#b8e186"
            ],
            [
             0.8,
             "#7fbc41"
            ],
            [
             0.9,
             "#4d9221"
            ],
            [
             1,
             "#276419"
            ]
           ],
           "sequential": [
            [
             0,
             "#0d0887"
            ],
            [
             0.1111111111111111,
             "#46039f"
            ],
            [
             0.2222222222222222,
             "#7201a8"
            ],
            [
             0.3333333333333333,
             "#9c179e"
            ],
            [
             0.4444444444444444,
             "#bd3786"
            ],
            [
             0.5555555555555556,
             "#d8576b"
            ],
            [
             0.6666666666666666,
             "#ed7953"
            ],
            [
             0.7777777777777778,
             "#fb9f3a"
            ],
            [
             0.8888888888888888,
             "#fdca26"
            ],
            [
             1,
             "#f0f921"
            ]
           ],
           "sequentialminus": [
            [
             0,
             "#0d0887"
            ],
            [
             0.1111111111111111,
             "#46039f"
            ],
            [
             0.2222222222222222,
             "#7201a8"
            ],
            [
             0.3333333333333333,
             "#9c179e"
            ],
            [
             0.4444444444444444,
             "#bd3786"
            ],
            [
             0.5555555555555556,
             "#d8576b"
            ],
            [
             0.6666666666666666,
             "#ed7953"
            ],
            [
             0.7777777777777778,
             "#fb9f3a"
            ],
            [
             0.8888888888888888,
             "#fdca26"
            ],
            [
             1,
             "#f0f921"
            ]
           ]
          },
          "colorway": [
           "#636efa",
           "#EF553B",
           "#00cc96",
           "#ab63fa",
           "#FFA15A",
           "#19d3f3",
           "#FF6692",
           "#B6E880",
           "#FF97FF",
           "#FECB52"
          ],
          "font": {
           "color": "#2a3f5f"
          },
          "geo": {
           "bgcolor": "white",
           "lakecolor": "white",
           "landcolor": "#E5ECF6",
           "showlakes": true,
           "showland": true,
           "subunitcolor": "white"
          },
          "hoverlabel": {
           "align": "left"
          },
          "hovermode": "closest",
          "mapbox": {
           "style": "light"
          },
          "paper_bgcolor": "white",
          "plot_bgcolor": "#E5ECF6",
          "polar": {
           "angularaxis": {
            "gridcolor": "white",
            "linecolor": "white",
            "ticks": ""
           },
           "bgcolor": "#E5ECF6",
           "radialaxis": {
            "gridcolor": "white",
            "linecolor": "white",
            "ticks": ""
           }
          },
          "scene": {
           "xaxis": {
            "backgroundcolor": "#E5ECF6",
            "gridcolor": "white",
            "gridwidth": 2,
            "linecolor": "white",
            "showbackground": true,
            "ticks": "",
            "zerolinecolor": "white"
           },
           "yaxis": {
            "backgroundcolor": "#E5ECF6",
            "gridcolor": "white",
            "gridwidth": 2,
            "linecolor": "white",
            "showbackground": true,
            "ticks": "",
            "zerolinecolor": "white"
           },
           "zaxis": {
            "backgroundcolor": "#E5ECF6",
            "gridcolor": "white",
            "gridwidth": 2,
            "linecolor": "white",
            "showbackground": true,
            "ticks": "",
            "zerolinecolor": "white"
           }
          },
          "shapedefaults": {
           "line": {
            "color": "#2a3f5f"
           }
          },
          "ternary": {
           "aaxis": {
            "gridcolor": "white",
            "linecolor": "white",
            "ticks": ""
           },
           "baxis": {
            "gridcolor": "white",
            "linecolor": "white",
            "ticks": ""
           },
           "bgcolor": "#E5ECF6",
           "caxis": {
            "gridcolor": "white",
            "linecolor": "white",
            "ticks": ""
           }
          },
          "title": {
           "x": 0.05
          },
          "xaxis": {
           "automargin": true,
           "gridcolor": "white",
           "linecolor": "white",
           "ticks": "",
           "title": {
            "standoff": 15
           },
           "zerolinecolor": "white",
           "zerolinewidth": 2
          },
          "yaxis": {
           "automargin": true,
           "gridcolor": "white",
           "linecolor": "white",
           "ticks": "",
           "title": {
            "standoff": 15
           },
           "zerolinecolor": "white",
           "zerolinewidth": 2
          }
         }
        },
        "treemapcolorway": [
         "rgb(95, 70, 144)",
         "rgb(29, 105, 150)",
         "rgb(56, 166, 165)",
         "rgb(15, 133, 84)",
         "rgb(115, 175, 72)",
         "rgb(237, 173, 8)",
         "rgb(225, 124, 5)",
         "rgb(204, 80, 62)",
         "rgb(148, 52, 110)",
         "rgb(111, 64, 112)",
         "rgb(102, 102, 102)"
        ]
       }
      }
     },
     "metadata": {},
     "output_type": "display_data"
    }
   ],
   "source": [
    "# Define a custom color mapping function\n",
    "def get_tile_color(tile_path):\n",
    "    # Get the name of the neighbourhood and the dominant topic from the tile path\n",
    "    neighbourhood, dominant_topic = tile_path[-2:]\n",
    "\n",
    "    # Assign a specific color to each combination of neighbourhood and dominant topic\n",
    "    if dominant_topic == 'topic 0' and neighbourhood == 'Neighbourhood 1':\n",
    "        return 'red'\n",
    "    elif dominant_topic == 'topic 1' and neighbourhood == 'Neighbourhood 2':\n",
    "        return 'green'\n",
    "    else:\n",
    "        # Use the default color scale for all other tiles\n",
    "        return None\n",
    "\n",
    "# Create the treemap with the custom color mapping function\n",
    "fig = px.treemap(\n",
    "    numnber_topic_by_neighbourhood,\n",
    "    path=['neighbourhood', 'dominant_topic'],\n",
    "    values='number_of_reviews',\n",
    "    color_discrete_sequence=PALETTE,\n",
    "    color_continuous_midpoint=np.average(numnber_topic_by_neighbourhood['number_of_reviews']),\n",
    ")\n",
    "\n",
    "# Apply the custom color mapping function to each tile\n",
    "fig.data[0].marker.colors = [get_tile_color(tile_path) for tile_path in fig.data[0].ids]\n",
    "\n",
    "# Show the figure\n",
    "fig.show()"
   ]
  }
 ],
 "metadata": {
  "kernelspec": {
   "display_name": "Python 3",
   "language": "python",
   "name": "python3"
  },
  "language_info": {
   "codemirror_mode": {
    "name": "ipython",
    "version": 3
   },
   "file_extension": ".py",
   "mimetype": "text/x-python",
   "name": "python",
   "nbconvert_exporter": "python",
   "pygments_lexer": "ipython3",
   "version": "3.10.10 (v3.10.10:aad5f6a891, Feb  7 2023, 08:47:40) [Clang 13.0.0 (clang-1300.0.29.30)]"
  },
  "orig_nbformat": 4,
  "vscode": {
   "interpreter": {
    "hash": "aee8b7b246df8f9039afb4144a1f6fd8d2ca17a180786b69acc140d282b71a49"
   }
  }
 },
 "nbformat": 4,
 "nbformat_minor": 2
}
