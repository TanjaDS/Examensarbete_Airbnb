{
 "cells": [
  {
   "cell_type": "code",
   "execution_count": 1,
   "metadata": {},
   "outputs": [],
   "source": [
    "from pathlib import Path\n",
    "import pandas as pd\n",
    "import numpy as np\n",
    "import gensim, spacy\n",
    "import gensim.corpora as corpora\n",
    "from gensim.utils import simple_preprocess\n",
    "from nltk.corpus import stopwords\n",
    "from wordcloud import WordCloud\n",
    "from matplotlib import pyplot as plt\n",
    "import matplotlib.colors as mcolors\n",
    "import plotly.express as px\n",
    "import pyLDAvis\n",
    "import pyLDAvis.gensim_models\n",
    "import warnings\n",
    "warnings.filterwarnings(\"ignore\")"
   ]
  },
  {
   "cell_type": "code",
   "execution_count": 2,
   "metadata": {},
   "outputs": [],
   "source": [
    "BASE_DIR = Path.cwd().parent\n",
    "stop_words = stopwords.words('english')\n",
    "PALETTE = px.colors.qualitative.Prism"
   ]
  },
  {
   "cell_type": "code",
   "execution_count": 3,
   "metadata": {},
   "outputs": [],
   "source": [
    "df_hosts_reviews_en = pd.read_parquet(BASE_DIR / 'processed_data' / 'hosts_reviews_en_labeled.parquet')"
   ]
  },
  {
   "cell_type": "code",
   "execution_count": 4,
   "metadata": {},
   "outputs": [],
   "source": [
    "df_hosts_reviews_en = df_hosts_reviews_en.query('sentiment_label_class == 0').reset_index()"
   ]
  },
  {
   "cell_type": "code",
   "execution_count": 5,
   "metadata": {},
   "outputs": [
    {
     "name": "stdout",
     "output_type": "stream",
     "text": [
      "['stayed', 'three', 'nights', 'couldnt', 'helpful', 'soon', 'got', 'showed', 'us', 'get', 'around', 'visit', 'place', 'conveniently', 'located', 'metro', 'station', 'walking', 'distance', 'market', 'many', 'restaurants', 'clean', 'privacy', 'issue', 'despite', 'guests', 'staying', 'well', 'wifi', 'reliable', 'youre', 'vacation', 'doesnt', 'really', 'matter']\n"
     ]
    }
   ],
   "source": [
    "def sent_to_words(sentences):\n",
    "    for sent in sentences:\n",
    "        sent = gensim.utils.simple_preprocess(str(sent), deacc=True) \n",
    "        yield(sent)  \n",
    "\n",
    "# Convert to list\n",
    "data = df_hosts_reviews_en['comments'].values.tolist()\n",
    "data_words = list(sent_to_words(data))\n",
    "print(data_words[0])"
   ]
  },
  {
   "cell_type": "code",
   "execution_count": 6,
   "metadata": {},
   "outputs": [],
   "source": [
    "nlp = spacy.load(\"en_core_web_sm\")\n",
    "stop_words.append('also')\n",
    "bigram = gensim.models.Phrases(data_words, min_count=1, threshold=10) # higher threshold fewer phrases.\n",
    "trigram = gensim.models.Phrases(bigram[data_words], threshold=100)  \n",
    "bigram_mod = gensim.models.phrases.Phraser(bigram)\n",
    "trigram_mod = gensim.models.phrases.Phraser(trigram)\n",
    "\n",
    "# !python3 -m spacy download en  # run in terminal once\n",
    "def process_words(texts, stop_words=stop_words, allowed_postags=['NOUN', 'ADJ', 'VERB', 'ADV']):\n",
    "    \"\"\"Remove Stopwords, Form Bigrams, Trigrams and Lemmatization\"\"\"\n",
    "    #texts = [[word for word in simple_preprocess(str(doc)) if word not in stop_words] for doc in texts]\n",
    "    texts = [bigram_mod[doc] for doc in texts]\n",
    "    texts = [trigram_mod[bigram_mod[doc]] for doc in texts]\n",
    "    texts_out = []\n",
    "    for sent in texts:\n",
    "        doc = nlp(\" \".join(sent)) \n",
    "        texts_out.append([token.lemma_ for token in doc if token.pos_ in allowed_postags])\n",
    "    # remove stopwords once more after lemmatization\n",
    "    texts_out = [[word for word in simple_preprocess(str(doc)) if word not in stop_words] for doc in texts_out]    \n",
    "    return texts_out\n",
    "\n",
    "# call the cached function\n",
    "data_ready = process_words(data_words)"
   ]
  },
  {
   "cell_type": "code",
   "execution_count": 7,
   "metadata": {},
   "outputs": [
    {
     "data": {
      "text/plain": [
       "[(0,\n",
       "  '0.028*\"host\" + 0.016*\"apartment\" + 0.014*\"room\" + 0.012*\"stay\" + 0.012*\"leave\" + 0.011*\"bed\" + 0.010*\"clean\" + 0.009*\"get\" + 0.009*\"place\" + 0.008*\"go\"'),\n",
       " (1,\n",
       "  '0.025*\"apartment\" + 0.020*\"place\" + 0.019*\"stay\" + 0.018*\"location\" + 0.014*\"need\" + 0.011*\"photo\" + 0.010*\"space\" + 0.008*\"price\" + 0.007*\"cosy\" + 0.006*\"center\"')]"
      ]
     },
     "execution_count": 7,
     "metadata": {},
     "output_type": "execute_result"
    }
   ],
   "source": [
    "# Create Dictionary\n",
    "id2word = corpora.Dictionary(data_ready)\n",
    "\n",
    "# Create Corpus: Term Document Frequency\n",
    "corpus = [id2word.doc2bow(text) for text in data_ready]\n",
    "\n",
    "# Build LDA model\n",
    "lda_model = gensim.models.ldamodel.LdaModel(corpus=corpus,\n",
    "                                           id2word=id2word,\n",
    "                                           num_topics=2, \n",
    "                                           random_state=42,\n",
    "                                           update_every=1,\n",
    "                                           chunksize=5,\n",
    "                                           passes=5,\n",
    "                                           alpha='symmetric',\n",
    "                                           iterations=100,\n",
    "                                           per_word_topics=True)\n",
    "\n",
    "lda_model.print_topics()"
   ]
  },
  {
   "cell_type": "code",
   "execution_count": 8,
   "metadata": {},
   "outputs": [
    {
     "data": {
      "text/html": [
       "<div>\n",
       "<style scoped>\n",
       "    .dataframe tbody tr th:only-of-type {\n",
       "        vertical-align: middle;\n",
       "    }\n",
       "\n",
       "    .dataframe tbody tr th {\n",
       "        vertical-align: top;\n",
       "    }\n",
       "\n",
       "    .dataframe thead th {\n",
       "        text-align: right;\n",
       "    }\n",
       "</style>\n",
       "<table border=\"1\" class=\"dataframe\">\n",
       "  <thead>\n",
       "    <tr style=\"text-align: right;\">\n",
       "      <th></th>\n",
       "      <th>level_0</th>\n",
       "      <th>date</th>\n",
       "      <th>listing_id_encod</th>\n",
       "      <th>listing_id</th>\n",
       "      <th>reviewer_id</th>\n",
       "      <th>reviewer_name</th>\n",
       "      <th>comments</th>\n",
       "      <th>host_id</th>\n",
       "      <th>host_name</th>\n",
       "      <th>host_description</th>\n",
       "      <th>...</th>\n",
       "      <th>review_scores_location</th>\n",
       "      <th>review_scores_value</th>\n",
       "      <th>comments_language</th>\n",
       "      <th>description_language</th>\n",
       "      <th>sentiment_label</th>\n",
       "      <th>sentiment_label_class</th>\n",
       "      <th>dominant_topic</th>\n",
       "      <th>percent_contribution</th>\n",
       "      <th>topic_keywords</th>\n",
       "      <th>text</th>\n",
       "    </tr>\n",
       "  </thead>\n",
       "  <tbody>\n",
       "    <tr>\n",
       "      <th>0</th>\n",
       "      <td>74</td>\n",
       "      <td>2014-06-08</td>\n",
       "      <td>2.0</td>\n",
       "      <td>1.644480e+05</td>\n",
       "      <td>13461507.0</td>\n",
       "      <td>Sherry</td>\n",
       "      <td>stayed three nights couldnt helpful soon got s...</td>\n",
       "      <td>784312.0</td>\n",
       "      <td>Li</td>\n",
       "      <td>double room central stockholm wifi renting nic...</td>\n",
       "      <td>...</td>\n",
       "      <td>4.83</td>\n",
       "      <td>4.77</td>\n",
       "      <td>en</td>\n",
       "      <td>en</td>\n",
       "      <td>-0.1869</td>\n",
       "      <td>0</td>\n",
       "      <td>1</td>\n",
       "      <td>0.580</td>\n",
       "      <td>apartment, place, stay, location, need, photo,...</td>\n",
       "      <td>[night, couldnt_helpful, soon, get, get_around...</td>\n",
       "    </tr>\n",
       "    <tr>\n",
       "      <th>1</th>\n",
       "      <td>339</td>\n",
       "      <td>2016-10-29</td>\n",
       "      <td>103.0</td>\n",
       "      <td>2.106913e+06</td>\n",
       "      <td>97097053.0</td>\n",
       "      <td>Maxim</td>\n",
       "      <td>cozy flat</td>\n",
       "      <td>10741379.0</td>\n",
       "      <td>Moa</td>\n",
       "      <td>cosy quiet studio kungsholmen set district cen...</td>\n",
       "      <td>...</td>\n",
       "      <td>4.73</td>\n",
       "      <td>4.61</td>\n",
       "      <td>en</td>\n",
       "      <td>en</td>\n",
       "      <td>0.0000</td>\n",
       "      <td>0</td>\n",
       "      <td>1</td>\n",
       "      <td>0.833</td>\n",
       "      <td>apartment, place, stay, location, need, photo,...</td>\n",
       "      <td>[cozy, flat]</td>\n",
       "    </tr>\n",
       "    <tr>\n",
       "      <th>2</th>\n",
       "      <td>345</td>\n",
       "      <td>2018-07-28</td>\n",
       "      <td>103.0</td>\n",
       "      <td>2.106913e+06</td>\n",
       "      <td>196417596.0</td>\n",
       "      <td>Elena</td>\n",
       "      <td>smallclean apartment every time</td>\n",
       "      <td>10741379.0</td>\n",
       "      <td>Moa</td>\n",
       "      <td>cosy quiet studio kungsholmen set district cen...</td>\n",
       "      <td>...</td>\n",
       "      <td>4.73</td>\n",
       "      <td>4.61</td>\n",
       "      <td>en</td>\n",
       "      <td>en</td>\n",
       "      <td>0.0000</td>\n",
       "      <td>0</td>\n",
       "      <td>1</td>\n",
       "      <td>0.594</td>\n",
       "      <td>apartment, place, stay, location, need, photo,...</td>\n",
       "      <td>[smallclean, apartment, every_time]</td>\n",
       "    </tr>\n",
       "    <tr>\n",
       "      <th>3</th>\n",
       "      <td>486</td>\n",
       "      <td>2017-03-27</td>\n",
       "      <td>105.0</td>\n",
       "      <td>2.166026e+06</td>\n",
       "      <td>110430708.0</td>\n",
       "      <td>Jerome</td>\n",
       "      <td>nothing short amazing 1010 would book thank host</td>\n",
       "      <td>4455221.0</td>\n",
       "      <td>Janu</td>\n",
       "      <td>stockholm house close fairtown cool retro vill...</td>\n",
       "      <td>...</td>\n",
       "      <td>4.70</td>\n",
       "      <td>4.74</td>\n",
       "      <td>en</td>\n",
       "      <td>en</td>\n",
       "      <td>-0.1461</td>\n",
       "      <td>0</td>\n",
       "      <td>1</td>\n",
       "      <td>0.696</td>\n",
       "      <td>apartment, place, stay, location, need, photo,...</td>\n",
       "      <td>[short, amazing, would_book, thank, host]</td>\n",
       "    </tr>\n",
       "    <tr>\n",
       "      <th>4</th>\n",
       "      <td>520</td>\n",
       "      <td>2018-08-16</td>\n",
       "      <td>105.0</td>\n",
       "      <td>2.166026e+06</td>\n",
       "      <td>116636414.0</td>\n",
       "      <td>宇星</td>\n",
       "      <td>house really big location convenient get city ...</td>\n",
       "      <td>4455221.0</td>\n",
       "      <td>Janu</td>\n",
       "      <td>stockholm house close fairtown cool retro vill...</td>\n",
       "      <td>...</td>\n",
       "      <td>4.70</td>\n",
       "      <td>4.74</td>\n",
       "      <td>en</td>\n",
       "      <td>en</td>\n",
       "      <td>0.0000</td>\n",
       "      <td>0</td>\n",
       "      <td>1</td>\n",
       "      <td>0.878</td>\n",
       "      <td>apartment, place, stay, location, need, photo,...</td>\n",
       "      <td>[really, big, location, convenient, get_city, ...</td>\n",
       "    </tr>\n",
       "    <tr>\n",
       "      <th>...</th>\n",
       "      <td>...</td>\n",
       "      <td>...</td>\n",
       "      <td>...</td>\n",
       "      <td>...</td>\n",
       "      <td>...</td>\n",
       "      <td>...</td>\n",
       "      <td>...</td>\n",
       "      <td>...</td>\n",
       "      <td>...</td>\n",
       "      <td>...</td>\n",
       "      <td>...</td>\n",
       "      <td>...</td>\n",
       "      <td>...</td>\n",
       "      <td>...</td>\n",
       "      <td>...</td>\n",
       "      <td>...</td>\n",
       "      <td>...</td>\n",
       "      <td>...</td>\n",
       "      <td>...</td>\n",
       "      <td>...</td>\n",
       "      <td>...</td>\n",
       "    </tr>\n",
       "    <tr>\n",
       "      <th>1222</th>\n",
       "      <td>69318</td>\n",
       "      <td>2023-03-30</td>\n",
       "      <td>2697.0</td>\n",
       "      <td>7.914385e+17</td>\n",
       "      <td>446637412.0</td>\n",
       "      <td>Liliana</td>\n",
       "      <td>apartment gut located host always available qu...</td>\n",
       "      <td>493068067.0</td>\n",
       "      <td>Nazar</td>\n",
       "      <td>mysig lägenhet bright beautiful spacious apart...</td>\n",
       "      <td>...</td>\n",
       "      <td>5.00</td>\n",
       "      <td>5.00</td>\n",
       "      <td>en</td>\n",
       "      <td>en</td>\n",
       "      <td>0.0000</td>\n",
       "      <td>0</td>\n",
       "      <td>1</td>\n",
       "      <td>0.920</td>\n",
       "      <td>apartment, place, stay, location, need, photo,...</td>\n",
       "      <td>[apartment, gut, locate, host_alway, available...</td>\n",
       "    </tr>\n",
       "    <tr>\n",
       "      <th>1223</th>\n",
       "      <td>69329</td>\n",
       "      <td>2023-02-17</td>\n",
       "      <td>2640.0</td>\n",
       "      <td>7.614526e+17</td>\n",
       "      <td>27141590.0</td>\n",
       "      <td>Martynas</td>\n",
       "      <td>cosy place close city</td>\n",
       "      <td>168568871.0</td>\n",
       "      <td>Casper Fredrik</td>\n",
       "      <td>private apartment house private stylish apartm...</td>\n",
       "      <td>...</td>\n",
       "      <td>4.86</td>\n",
       "      <td>4.71</td>\n",
       "      <td>en</td>\n",
       "      <td>en</td>\n",
       "      <td>0.0000</td>\n",
       "      <td>0</td>\n",
       "      <td>1</td>\n",
       "      <td>0.869</td>\n",
       "      <td>apartment, place, stay, location, need, photo,...</td>\n",
       "      <td>[cosy, place, close_city]</td>\n",
       "    </tr>\n",
       "    <tr>\n",
       "      <th>1224</th>\n",
       "      <td>69455</td>\n",
       "      <td>2023-02-24</td>\n",
       "      <td>2723.0</td>\n",
       "      <td>8.021823e+17</td>\n",
       "      <td>286560136.0</td>\n",
       "      <td>Valerie</td>\n",
       "      <td>difficult locate reach landlord particularly s...</td>\n",
       "      <td>465046893.0</td>\n",
       "      <td>Thomas</td>\n",
       "      <td>apartment stockholm city one room apartment 28...</td>\n",
       "      <td>...</td>\n",
       "      <td>3.00</td>\n",
       "      <td>1.00</td>\n",
       "      <td>en</td>\n",
       "      <td>en</td>\n",
       "      <td>-0.0534</td>\n",
       "      <td>0</td>\n",
       "      <td>1</td>\n",
       "      <td>0.804</td>\n",
       "      <td>apartment, place, stay, location, need, photo,...</td>\n",
       "      <td>[difficult, locate, reach, particularly, safe,...</td>\n",
       "    </tr>\n",
       "    <tr>\n",
       "      <th>1225</th>\n",
       "      <td>69518</td>\n",
       "      <td>2023-03-10</td>\n",
       "      <td>2777.0</td>\n",
       "      <td>8.308865e+17</td>\n",
       "      <td>7781365.0</td>\n",
       "      <td>Lotta</td>\n",
       "      <td>wanted cancel place bed space bedding two peop...</td>\n",
       "      <td>501923445.0</td>\n",
       "      <td>Sidar</td>\n",
       "      <td>super apartment good location enjoy stylish ex...</td>\n",
       "      <td>...</td>\n",
       "      <td>4.00</td>\n",
       "      <td>3.00</td>\n",
       "      <td>en</td>\n",
       "      <td>en</td>\n",
       "      <td>-0.6705</td>\n",
       "      <td>0</td>\n",
       "      <td>0</td>\n",
       "      <td>0.870</td>\n",
       "      <td>host, apartment, room, stay, leave, bed, clean...</td>\n",
       "      <td>[want, cancel, place, bed, space, bed, two_peo...</td>\n",
       "    </tr>\n",
       "    <tr>\n",
       "      <th>1226</th>\n",
       "      <td>69526</td>\n",
       "      <td>2023-03-03</td>\n",
       "      <td>2737.0</td>\n",
       "      <td>8.088709e+17</td>\n",
       "      <td>167539477.0</td>\n",
       "      <td>Albert</td>\n",
       "      <td>dont go like photos dirty wont want stay save ...</td>\n",
       "      <td>495419064.0</td>\n",
       "      <td>Anastasiya</td>\n",
       "      <td>family living wellness option big beautiful pl...</td>\n",
       "      <td>...</td>\n",
       "      <td>3.00</td>\n",
       "      <td>3.00</td>\n",
       "      <td>en</td>\n",
       "      <td>en</td>\n",
       "      <td>-0.7820</td>\n",
       "      <td>0</td>\n",
       "      <td>0</td>\n",
       "      <td>0.694</td>\n",
       "      <td>host, apartment, room, stay, leave, bed, clean...</td>\n",
       "      <td>[go, photo, dirty, wont_want, stay, save, time]</td>\n",
       "    </tr>\n",
       "  </tbody>\n",
       "</table>\n",
       "<p>1227 rows × 34 columns</p>\n",
       "</div>"
      ],
      "text/plain": [
       "      level_0       date  listing_id_encod    listing_id  reviewer_id  \\\n",
       "0          74 2014-06-08               2.0  1.644480e+05   13461507.0   \n",
       "1         339 2016-10-29             103.0  2.106913e+06   97097053.0   \n",
       "2         345 2018-07-28             103.0  2.106913e+06  196417596.0   \n",
       "3         486 2017-03-27             105.0  2.166026e+06  110430708.0   \n",
       "4         520 2018-08-16             105.0  2.166026e+06  116636414.0   \n",
       "...       ...        ...               ...           ...          ...   \n",
       "1222    69318 2023-03-30            2697.0  7.914385e+17  446637412.0   \n",
       "1223    69329 2023-02-17            2640.0  7.614526e+17   27141590.0   \n",
       "1224    69455 2023-02-24            2723.0  8.021823e+17  286560136.0   \n",
       "1225    69518 2023-03-10            2777.0  8.308865e+17    7781365.0   \n",
       "1226    69526 2023-03-03            2737.0  8.088709e+17  167539477.0   \n",
       "\n",
       "     reviewer_name                                           comments  \\\n",
       "0           Sherry  stayed three nights couldnt helpful soon got s...   \n",
       "1            Maxim                                          cozy flat   \n",
       "2            Elena                    smallclean apartment every time   \n",
       "3           Jerome   nothing short amazing 1010 would book thank host   \n",
       "4               宇星  house really big location convenient get city ...   \n",
       "...            ...                                                ...   \n",
       "1222       Liliana  apartment gut located host always available qu...   \n",
       "1223      Martynas                              cosy place close city   \n",
       "1224       Valerie  difficult locate reach landlord particularly s...   \n",
       "1225         Lotta  wanted cancel place bed space bedding two peop...   \n",
       "1226        Albert  dont go like photos dirty wont want stay save ...   \n",
       "\n",
       "          host_id       host_name  \\\n",
       "0        784312.0              Li   \n",
       "1      10741379.0             Moa   \n",
       "2      10741379.0             Moa   \n",
       "3       4455221.0            Janu   \n",
       "4       4455221.0            Janu   \n",
       "...           ...             ...   \n",
       "1222  493068067.0           Nazar   \n",
       "1223  168568871.0  Casper Fredrik   \n",
       "1224  465046893.0          Thomas   \n",
       "1225  501923445.0           Sidar   \n",
       "1226  495419064.0      Anastasiya   \n",
       "\n",
       "                                       host_description  ...  \\\n",
       "0     double room central stockholm wifi renting nic...  ...   \n",
       "1     cosy quiet studio kungsholmen set district cen...  ...   \n",
       "2     cosy quiet studio kungsholmen set district cen...  ...   \n",
       "3     stockholm house close fairtown cool retro vill...  ...   \n",
       "4     stockholm house close fairtown cool retro vill...  ...   \n",
       "...                                                 ...  ...   \n",
       "1222  mysig lägenhet bright beautiful spacious apart...  ...   \n",
       "1223  private apartment house private stylish apartm...  ...   \n",
       "1224  apartment stockholm city one room apartment 28...  ...   \n",
       "1225  super apartment good location enjoy stylish ex...  ...   \n",
       "1226  family living wellness option big beautiful pl...  ...   \n",
       "\n",
       "     review_scores_location  review_scores_value  comments_language  \\\n",
       "0                      4.83                 4.77                 en   \n",
       "1                      4.73                 4.61                 en   \n",
       "2                      4.73                 4.61                 en   \n",
       "3                      4.70                 4.74                 en   \n",
       "4                      4.70                 4.74                 en   \n",
       "...                     ...                  ...                ...   \n",
       "1222                   5.00                 5.00                 en   \n",
       "1223                   4.86                 4.71                 en   \n",
       "1224                   3.00                 1.00                 en   \n",
       "1225                   4.00                 3.00                 en   \n",
       "1226                   3.00                 3.00                 en   \n",
       "\n",
       "     description_language  sentiment_label  sentiment_label_class  \\\n",
       "0                      en          -0.1869                      0   \n",
       "1                      en           0.0000                      0   \n",
       "2                      en           0.0000                      0   \n",
       "3                      en          -0.1461                      0   \n",
       "4                      en           0.0000                      0   \n",
       "...                   ...              ...                    ...   \n",
       "1222                   en           0.0000                      0   \n",
       "1223                   en           0.0000                      0   \n",
       "1224                   en          -0.0534                      0   \n",
       "1225                   en          -0.6705                      0   \n",
       "1226                   en          -0.7820                      0   \n",
       "\n",
       "     dominant_topic  percent_contribution  \\\n",
       "0                 1                 0.580   \n",
       "1                 1                 0.833   \n",
       "2                 1                 0.594   \n",
       "3                 1                 0.696   \n",
       "4                 1                 0.878   \n",
       "...             ...                   ...   \n",
       "1222              1                 0.920   \n",
       "1223              1                 0.869   \n",
       "1224              1                 0.804   \n",
       "1225              0                 0.870   \n",
       "1226              0                 0.694   \n",
       "\n",
       "                                         topic_keywords  \\\n",
       "0     apartment, place, stay, location, need, photo,...   \n",
       "1     apartment, place, stay, location, need, photo,...   \n",
       "2     apartment, place, stay, location, need, photo,...   \n",
       "3     apartment, place, stay, location, need, photo,...   \n",
       "4     apartment, place, stay, location, need, photo,...   \n",
       "...                                                 ...   \n",
       "1222  apartment, place, stay, location, need, photo,...   \n",
       "1223  apartment, place, stay, location, need, photo,...   \n",
       "1224  apartment, place, stay, location, need, photo,...   \n",
       "1225  host, apartment, room, stay, leave, bed, clean...   \n",
       "1226  host, apartment, room, stay, leave, bed, clean...   \n",
       "\n",
       "                                                   text  \n",
       "0     [night, couldnt_helpful, soon, get, get_around...  \n",
       "1                                          [cozy, flat]  \n",
       "2                   [smallclean, apartment, every_time]  \n",
       "3             [short, amazing, would_book, thank, host]  \n",
       "4     [really, big, location, convenient, get_city, ...  \n",
       "...                                                 ...  \n",
       "1222  [apartment, gut, locate, host_alway, available...  \n",
       "1223                          [cosy, place, close_city]  \n",
       "1224  [difficult, locate, reach, particularly, safe,...  \n",
       "1225  [want, cancel, place, bed, space, bed, two_peo...  \n",
       "1226    [go, photo, dirty, wont_want, stay, save, time]  \n",
       "\n",
       "[1227 rows x 34 columns]"
      ]
     },
     "execution_count": 8,
     "metadata": {},
     "output_type": "execute_result"
    }
   ],
   "source": [
    "def format_topics_sentences(ldamodel=None, corpus=corpus, texts=data):\n",
    "    # Init output\n",
    "    sent_topics_df = pd.DataFrame()\n",
    "\n",
    "    # Get main topic in each document\n",
    "    for i, row_list in enumerate(ldamodel[corpus]):\n",
    "        row = row_list[0] if ldamodel.per_word_topics else row_list            \n",
    "        # print(row)\n",
    "        row = sorted(row, key=lambda x: (x[1]), reverse=True)\n",
    "        # Get the Dominant topic, Perc Contribution and Keywords for each document\n",
    "        for j, (topic_num, prop_topic) in enumerate(row):\n",
    "            if j == 0:  # => dominant topic\n",
    "                wp = ldamodel.show_topic(topic_num)\n",
    "                topic_keywords = \", \".join([word for word, prop in wp])\n",
    "                sent_topics_df = sent_topics_df.append(pd.Series([int(topic_num), round(prop_topic,3), topic_keywords]), ignore_index=True)\n",
    "            else:\n",
    "                break\n",
    "    sent_topics_df.columns = ['dominant_topic', 'percent_contribution', 'topic_keywords']\n",
    "\n",
    "    # Add original text to the end of the output\n",
    "    contents = pd.Series(texts)\n",
    "    contents.name = 'text'\n",
    "    sent_topics_df = (df_hosts_reviews_en.merge(sent_topics_df, left_index=True, right_index=True)\n",
    "                                    .merge(contents, left_index=True, right_index=True)\n",
    "                                    .drop('index', axis=1))\n",
    "    return(sent_topics_df)\n",
    "\n",
    "\n",
    "df_dominant_topic = format_topics_sentences(ldamodel=lda_model, corpus=corpus, texts=data_ready)\n",
    "df_dominant_topic"
   ]
  },
  {
   "cell_type": "code",
   "execution_count": 9,
   "metadata": {},
   "outputs": [
    {
     "data": {
      "text/html": [
       "\n",
       "<link rel=\"stylesheet\" type=\"text/css\" href=\"https://cdn.jsdelivr.net/gh/bmabey/pyLDAvis@3.4.0/pyLDAvis/js/ldavis.v1.0.0.css\">\n",
       "\n",
       "\n",
       "<div id=\"ldavis_el99420116128484163030002664\" style=\"background-color:white;\"></div>\n",
       "<script type=\"text/javascript\">\n",
       "\n",
       "var ldavis_el99420116128484163030002664_data = {\"mdsDat\": {\"x\": [0.13161800811438176, -0.13161800811438176], \"y\": [0.0, 0.0], \"topics\": [1, 2], \"cluster\": [1, 1], \"Freq\": [67.4831925128037, 32.5168074871963]}, \"tinfo\": {\"Term\": [\"host\", \"location\", \"need\", \"photo\", \"place\", \"space\", \"apartment\", \"room\", \"leave\", \"price\", \"bed\", \"cosy\", \"stay\", \"clean\", \"center\", \"get\", \"locate\", \"close\", \"city\", \"little\", \"advertise\", \"old_town\", \"spacious\", \"go\", \"time\", \"flat\", \"bathroom\", \"shower\", \"cozy\", \"dirty\", \"host\", \"room\", \"leave\", \"bed\", \"get\", \"clean\", \"airbnb\", \"make\", \"dirty\", \"bad\", \"bathroom\", \"wait\", \"shower\", \"break\", \"arrive\", \"money\", \"hour\", \"time\", \"guest\", \"go\", \"book\", \"ask\", \"find\", \"come\", \"message\", \"floor\", \"look\", \"owner\", \"towel\", \"thing\", \"problem\", \"good\", \"kitchen\", \"work\", \"want\", \"nice\", \"rule\", \"apartment\", \"stay\", \"really\", \"place\", \"location\", \"cosy\", \"locate\", \"cozy\", \"city\", \"convenient\", \"cafe\", \"old_town\", \"quiet\", \"need\", \"restaurant\", \"perfect\", \"available\", \"close\", \"central\", \"area\", \"center\", \"close_city\", \"elevator\", \"host_alway\", \"spacious\", \"recommend\", \"incredible\", \"great\", \"close_transport\", \"renovate\", \"newly\", \"cant_beat\", \"price\", \"choice\", \"flat\", \"space\", \"exactly\", \"hostel\", \"functional\", \"little\", \"photo\", \"people\", \"absolutely\", \"small\", \"advertise\", \"place\", \"still\", \"apartment\", \"stay\", \"appartement\", \"really\", \"thin\"], \"Freq\": [343.0, 109.0, 82.0, 76.0, 234.0, 62.0, 343.0, 169.0, 144.0, 49.0, 139.0, 39.0, 262.0, 117.0, 38.0, 115.0, 31.0, 32.0, 31.0, 36.0, 42.0, 30.0, 31.0, 103.0, 99.0, 30.0, 89.0, 84.0, 24.0, 78.0, 343.0206976963306, 168.49734014357972, 144.34601965059113, 138.86240103364912, 114.67149013681421, 117.08440726660045, 75.36335458442633, 64.6853051305525, 77.73584914812012, 75.67180179066699, 89.14240535080103, 70.30482268197593, 83.86669620133704, 71.5258953838489, 57.30467577797142, 80.6947730064492, 66.79598207249552, 98.98356747292249, 51.72225214365594, 102.33506102098892, 43.72959880762989, 73.14003935270344, 48.94754392775605, 52.411801159913416, 34.158228245494314, 38.88937270099264, 46.24020950521428, 43.520181758548446, 41.275740435282735, 34.25597596083588, 83.89826706901697, 54.95875910848083, 65.50273924486642, 53.811275767975545, 60.92197676677687, 66.06097761847897, 49.26228364851534, 193.61864263002747, 151.24199999092735, 81.96761645956549, 114.22308008046552, 108.32465892743687, 39.098951651153214, 31.353244983651177, 23.63194028479163, 31.33805177143618, 19.81603677903956, 23.098881545595468, 30.288692966387295, 19.44459542281697, 80.30632677140053, 20.508657203569577, 17.326003322445555, 17.230514313245063, 31.89939042859652, 11.804242916047652, 17.483079494935126, 37.20746813738494, 11.675909433803207, 11.845437888321486, 11.767856930503475, 30.689643264881038, 22.806236439382708, 12.883610512359581, 16.237502496339523, 11.26769141336009, 11.26568652454647, 11.264521354574994, 8.851479748058557, 47.075212292952486, 9.696121553487094, 29.068149613731624, 59.45702110664716, 15.678017674726025, 22.624689637674837, 16.29678541070446, 33.542622018047034, 67.24023567350208, 22.3843240670945, 19.4940914587061, 26.188148804350266, 35.723350566314004, 120.56993755934704, 26.967652321508886, 149.70269677491484, 111.1743804228865, 23.259717571216335, 34.73285309969459, 19.940554106480544], \"Total\": [343.0, 109.0, 82.0, 76.0, 234.0, 62.0, 343.0, 169.0, 144.0, 49.0, 139.0, 39.0, 262.0, 117.0, 38.0, 115.0, 31.0, 32.0, 31.0, 36.0, 42.0, 30.0, 31.0, 103.0, 99.0, 30.0, 89.0, 84.0, 24.0, 78.0, 343.9039208233891, 169.08270017522827, 144.92114560885105, 139.53342393075556, 115.28740481130349, 117.76265205472191, 75.83896115768579, 65.13397727565648, 78.30368064971897, 76.22619096764683, 89.8554525111985, 70.86868311334716, 84.59896999656253, 72.17168208631678, 57.82315873518055, 81.43871420749619, 67.41953321913911, 99.91432208514478, 52.26910904090524, 103.43581072216782, 44.201579330055154, 73.93682293445305, 49.48340736564829, 53.06426458842439, 34.616569773663734, 39.421735865642994, 46.889666287110586, 44.17182220423263, 41.89450825708688, 34.77392795722971, 85.34286052292639, 55.83730095748066, 67.19453737766105, 55.04769627800699, 62.58124523526764, 68.88786106155159, 51.18417984938385, 343.3213394049423, 262.41638041381384, 116.70046955926009, 234.79301763981255, 109.15257059140102, 39.53691751024478, 31.787681945811936, 24.051023523995138, 31.906380513046038, 20.18767677340203, 23.579496343210003, 30.92092093008479, 19.86582247725899, 82.3506357462277, 21.031600819074196, 17.807401923562672, 17.71002367273032, 32.83122191538353, 12.187710964805724, 18.052787663025097, 38.46708961536122, 12.09491501402998, 12.298295746786717, 12.237953968573288, 31.919033670642996, 23.72278406957399, 13.427567649514133, 16.932074587833064, 11.760023142677314, 11.758658984950992, 11.75774740894311, 9.241665253775038, 49.212721836293035, 10.142960306904552, 30.466162505297, 62.897243597972505, 16.466437611617035, 24.08343612385359, 17.175322890355837, 36.401340681901466, 76.24082415611309, 24.09155532210187, 21.01681300025081, 29.31968861886787, 42.34872499611013, 234.79301763981255, 33.35051201631295, 343.3213394049423, 262.41638041381384, 29.016651257038234, 116.70046955926009, 27.305757821398288], \"Category\": [\"Default\", \"Default\", \"Default\", \"Default\", \"Default\", \"Default\", \"Default\", \"Default\", \"Default\", \"Default\", \"Default\", \"Default\", \"Default\", \"Default\", \"Default\", \"Default\", \"Default\", \"Default\", \"Default\", \"Default\", \"Default\", \"Default\", \"Default\", \"Default\", \"Default\", \"Default\", \"Default\", \"Default\", \"Default\", \"Default\", \"Topic1\", \"Topic1\", \"Topic1\", \"Topic1\", \"Topic1\", \"Topic1\", \"Topic1\", \"Topic1\", \"Topic1\", \"Topic1\", \"Topic1\", \"Topic1\", \"Topic1\", \"Topic1\", \"Topic1\", \"Topic1\", \"Topic1\", \"Topic1\", \"Topic1\", \"Topic1\", \"Topic1\", \"Topic1\", \"Topic1\", \"Topic1\", \"Topic1\", \"Topic1\", \"Topic1\", \"Topic1\", \"Topic1\", \"Topic1\", \"Topic1\", \"Topic1\", \"Topic1\", \"Topic1\", \"Topic1\", \"Topic1\", \"Topic1\", \"Topic1\", \"Topic1\", \"Topic1\", \"Topic1\", \"Topic2\", \"Topic2\", \"Topic2\", \"Topic2\", \"Topic2\", \"Topic2\", \"Topic2\", \"Topic2\", \"Topic2\", \"Topic2\", \"Topic2\", \"Topic2\", \"Topic2\", \"Topic2\", \"Topic2\", \"Topic2\", \"Topic2\", \"Topic2\", \"Topic2\", \"Topic2\", \"Topic2\", \"Topic2\", \"Topic2\", \"Topic2\", \"Topic2\", \"Topic2\", \"Topic2\", \"Topic2\", \"Topic2\", \"Topic2\", \"Topic2\", \"Topic2\", \"Topic2\", \"Topic2\", \"Topic2\", \"Topic2\", \"Topic2\", \"Topic2\", \"Topic2\", \"Topic2\", \"Topic2\", \"Topic2\", \"Topic2\", \"Topic2\", \"Topic2\", \"Topic2\", \"Topic2\", \"Topic2\"], \"logprob\": [30.0, 29.0, 28.0, 27.0, 26.0, 25.0, 24.0, 23.0, 22.0, 21.0, 20.0, 19.0, 18.0, 17.0, 16.0, 15.0, 14.0, 13.0, 12.0, 11.0, 10.0, 9.0, 8.0, 7.0, 6.0, 5.0, 4.0, 3.0, 2.0, 1.0, -3.5747, -4.2856, -4.4403, -4.479, -4.6704, -4.6496, -5.0902, -5.2429, -5.0592, -5.0861, -4.9222, -5.1596, -4.9832, -5.1424, -5.3641, -5.0218, -5.2108, -4.8175, -5.4666, -4.7842, -5.6344, -5.1201, -5.5217, -5.4533, -5.8815, -5.7518, -5.5786, -5.6392, -5.6922, -5.8786, -4.9829, -5.4059, -5.2304, -5.427, -5.3029, -5.2219, -5.5153, -4.1466, -4.3936, -5.0061, -4.6743, -3.9972, -5.0163, -5.237, -5.5198, -5.2375, -5.6959, -5.5426, -5.2716, -5.7148, -4.2965, -5.6615, -5.8301, -5.8357, -5.2198, -6.2139, -5.8211, -5.0658, -6.2248, -6.2104, -6.217, -5.2584, -5.5553, -6.1264, -5.895, -6.2604, -6.2606, -6.2607, -6.5018, -4.8306, -6.4106, -5.3127, -4.5971, -5.9301, -5.5633, -5.8914, -5.1695, -4.4741, -5.574, -5.7122, -5.417, -5.1065, -3.8901, -5.3877, -3.6737, -3.9713, -5.5356, -5.1347, -5.6896], \"loglift\": [30.0, 29.0, 28.0, 27.0, 26.0, 25.0, 24.0, 23.0, 22.0, 21.0, 20.0, 19.0, 18.0, 17.0, 16.0, 15.0, 14.0, 13.0, 12.0, 11.0, 10.0, 9.0, 8.0, 7.0, 6.0, 5.0, 4.0, 3.0, 2.0, 1.0, 0.3907, 0.3898, 0.3893, 0.3885, 0.3879, 0.3875, 0.387, 0.3864, 0.386, 0.386, 0.3853, 0.3853, 0.3846, 0.3843, 0.3843, 0.3841, 0.384, 0.3839, 0.3828, 0.3826, 0.3826, 0.3825, 0.3824, 0.3809, 0.38, 0.3797, 0.3793, 0.3784, 0.3784, 0.3783, 0.3762, 0.3774, 0.3678, 0.3706, 0.3664, 0.3514, 0.355, -0.1795, -0.1578, 0.04, -0.3273, 1.1158, 1.1123, 1.1097, 1.1058, 1.1054, 1.1048, 1.1028, 1.1028, 1.102, 1.0983, 1.0982, 1.096, 1.096, 1.0946, 1.0914, 1.0913, 1.0901, 1.0882, 1.0859, 1.0842, 1.0841, 1.084, 1.0821, 1.0815, 1.0806, 1.0806, 1.0806, 1.0803, 1.079, 1.0784, 1.0764, 1.0672, 1.0743, 1.0609, 1.0709, 1.0416, 0.9978, 1.0499, 1.0482, 1.0105, 0.9533, 0.4569, 0.911, 0.2934, 0.2646, 0.9023, -0.0885, 0.8091]}, \"token.table\": {\"Topic\": [1, 2, 1, 2, 1, 1, 2, 1, 2, 1, 2, 1, 2, 1, 2, 2, 1, 2, 1, 2, 1, 2, 1, 1, 2, 2, 2, 1, 2, 2, 2, 1, 2, 1, 2, 1, 2, 2, 2, 1, 2, 2, 2, 2, 1, 2, 2, 1, 2, 1, 2, 1, 2, 1, 2, 1, 2, 1, 2, 1, 2, 1, 2, 1, 2, 1, 2, 1, 2, 2, 1, 2, 1, 2, 1, 2, 1, 2, 1, 2, 1, 2, 2, 1, 2, 1, 2, 1, 1, 1, 2, 1, 2, 2, 1, 2, 1, 2, 1, 2, 1, 2, 2, 1, 2, 1, 2, 1, 2, 1, 2, 2, 1, 2, 1, 2, 2, 1, 2, 1, 2, 1, 2, 1, 2, 1, 2, 1, 2, 1, 2, 1, 2, 1, 2, 1, 2, 1, 2, 1, 2, 1, 2, 1, 2, 1, 2, 1, 2], \"Freq\": [0.09516190680176545, 0.9040381146167717, 0.16529423260423953, 0.8500846248218032, 0.9889375969174815, 0.5650682836559132, 0.4369084667442628, 0.20677782376919354, 0.7926483244485752, 0.05539310707388171, 0.9416828202559892, 0.9857642032502848, 0.017294108828952364, 0.9873294131763876, 0.013525060454471062, 0.9599083724645945, 0.997032634521344, 0.013118850454228212, 0.9904796816743883, 0.011128985187352678, 0.9961770885016032, 0.007166741643896426, 0.9954395446246399, 0.9976211987672471, 0.013855849982878433, 0.9754237183536417, 0.973850464484599, 0.025996247961547526, 0.9618611745772584, 0.9845983412842843, 0.9859054652114496, 0.03134169353967038, 0.9715924997297819, 0.993523820656081, 0.00849165658680411, 0.030458811511107235, 0.9746819683554315, 0.9921524860720494, 0.9353723089269121, 0.9799438549336542, 0.018845074133339506, 0.9907033991326184, 0.9864198439317974, 0.9978785300366019, 0.9961217576594203, 0.012770791764864363, 0.975744952558597, 0.06072958970156983, 0.9716734352251173, 0.9902309199914985, 0.020208794285540788, 0.032823300270460216, 0.9518757078433464, 0.9893019458331224, 0.02536671655982365, 0.05822306843276366, 0.9315690949242186, 0.9975070580192702, 0.008673974417558872, 0.9861188237212695, 0.009667831605110484, 0.9850046305404653, 0.01790917510073573, 0.05905950832029604, 0.9449521331247367, 0.9948514706708577, 0.019131759051362645, 0.9973715890728291, 0.0029077888894251578, 0.9805560660561115, 0.04152231412732437, 0.9550132249284605, 0.9937772749363976, 0.014832496640841755, 0.07447365197494904, 0.9681574756743375, 0.9822227010664981, 0.029764324274742366, 0.993643815021051, 0.006900304270979521, 0.08241454693155251, 0.9340315318909285, 0.9752205289094471, 0.009161488314767912, 0.9894407379949345, 0.9810263890200654, 0.021326660630870988, 0.9979430509043005, 0.9821885941416177, 0.9946129526753283, 0.012279172255250968, 0.024286394171421023, 0.9714557668568409, 0.935553351965466, 0.9580788107360269, 0.043549036851637586, 0.03234056327950572, 0.9702168983851716, 0.9961101400019633, 0.02263886681822644, 0.0830166410287831, 0.9131830513166141, 0.954659195820457, 0.1180469925347517, 0.8787942777587072, 0.4855340296996534, 0.5153475227513865, 0.040639898086779966, 0.9550376050393292, 0.9842651099963348, 0.011717441785670652, 0.9564164796977259, 0.7026535566625178, 0.29991310345351374, 0.04215356836142031, 0.9695320723126672, 0.935480824308117, 0.047547498100718504, 0.9984974601150886, 0.9935966235806134, 0.00591426561655127, 0.9573270519169969, 0.039074573547632524, 0.992919890199764, 0.011820474883330524, 0.10232032266773235, 0.8867761297870137, 0.047696843746849106, 0.9380379270213658, 0.031329269247888716, 0.9712073466845501, 0.5754213961867878, 0.4229918872631354, 0.17990728289464286, 0.809582773025893, 0.256356188529381, 0.7324462529410887, 0.9777440167765458, 0.028757176964016053, 0.9908489387100519, 0.010008575138485373, 0.9786485557582463, 0.023869476969713324, 0.9877423556473063, 0.014110605080675805, 0.974732921511499, 0.031958456442999966, 0.9809674818594439, 0.018166064478878592], \"Term\": [\"absolutely\", \"absolutely\", \"advertise\", \"advertise\", \"airbnb\", \"apartment\", \"apartment\", \"appartement\", \"appartement\", \"area\", \"area\", \"arrive\", \"arrive\", \"ask\", \"ask\", \"available\", \"bad\", \"bad\", \"bathroom\", \"bathroom\", \"bed\", \"bed\", \"book\", \"break\", \"break\", \"cafe\", \"cant_beat\", \"center\", \"center\", \"central\", \"choice\", \"city\", \"city\", \"clean\", \"clean\", \"close\", \"close\", \"close_city\", \"close_transport\", \"come\", \"come\", \"convenient\", \"cosy\", \"cozy\", \"dirty\", \"dirty\", \"elevator\", \"exactly\", \"exactly\", \"find\", \"find\", \"flat\", \"flat\", \"floor\", \"floor\", \"functional\", \"functional\", \"get\", \"get\", \"go\", \"go\", \"good\", \"good\", \"great\", \"great\", \"guest\", \"guest\", \"host\", \"host\", \"host_alway\", \"hostel\", \"hostel\", \"hour\", \"hour\", \"incredible\", \"incredible\", \"kitchen\", \"kitchen\", \"leave\", \"leave\", \"little\", \"little\", \"locate\", \"location\", \"location\", \"look\", \"look\", \"make\", \"message\", \"money\", \"money\", \"need\", \"need\", \"newly\", \"nice\", \"nice\", \"old_town\", \"old_town\", \"owner\", \"owner\", \"people\", \"people\", \"perfect\", \"photo\", \"photo\", \"place\", \"place\", \"price\", \"price\", \"problem\", \"problem\", \"quiet\", \"really\", \"really\", \"recommend\", \"recommend\", \"renovate\", \"restaurant\", \"restaurant\", \"room\", \"room\", \"rule\", \"rule\", \"shower\", \"shower\", \"small\", \"small\", \"space\", \"space\", \"spacious\", \"spacious\", \"stay\", \"stay\", \"still\", \"still\", \"thin\", \"thin\", \"thing\", \"thing\", \"time\", \"time\", \"towel\", \"towel\", \"wait\", \"wait\", \"want\", \"want\", \"work\", \"work\"]}, \"R\": 30, \"lambda.step\": 0.01, \"plot.opts\": {\"xlab\": \"PC1\", \"ylab\": \"PC2\"}, \"topic.order\": [1, 2]};\n",
       "\n",
       "function LDAvis_load_lib(url, callback){\n",
       "  var s = document.createElement('script');\n",
       "  s.src = url;\n",
       "  s.async = true;\n",
       "  s.onreadystatechange = s.onload = callback;\n",
       "  s.onerror = function(){console.warn(\"failed to load library \" + url);};\n",
       "  document.getElementsByTagName(\"head\")[0].appendChild(s);\n",
       "}\n",
       "\n",
       "if(typeof(LDAvis) !== \"undefined\"){\n",
       "   // already loaded: just create the visualization\n",
       "   !function(LDAvis){\n",
       "       new LDAvis(\"#\" + \"ldavis_el99420116128484163030002664\", ldavis_el99420116128484163030002664_data);\n",
       "   }(LDAvis);\n",
       "}else if(typeof define === \"function\" && define.amd){\n",
       "   // require.js is available: use it to load d3/LDAvis\n",
       "   require.config({paths: {d3: \"https://d3js.org/d3.v5\"}});\n",
       "   require([\"d3\"], function(d3){\n",
       "      window.d3 = d3;\n",
       "      LDAvis_load_lib(\"https://cdn.jsdelivr.net/gh/bmabey/pyLDAvis@3.4.0/pyLDAvis/js/ldavis.v3.0.0.js\", function(){\n",
       "        new LDAvis(\"#\" + \"ldavis_el99420116128484163030002664\", ldavis_el99420116128484163030002664_data);\n",
       "      });\n",
       "    });\n",
       "}else{\n",
       "    // require.js not available: dynamically load d3 & LDAvis\n",
       "    LDAvis_load_lib(\"https://d3js.org/d3.v5.js\", function(){\n",
       "         LDAvis_load_lib(\"https://cdn.jsdelivr.net/gh/bmabey/pyLDAvis@3.4.0/pyLDAvis/js/ldavis.v3.0.0.js\", function(){\n",
       "                 new LDAvis(\"#\" + \"ldavis_el99420116128484163030002664\", ldavis_el99420116128484163030002664_data);\n",
       "            })\n",
       "         });\n",
       "}\n",
       "</script>"
      ],
      "text/plain": [
       "PreparedData(topic_coordinates=              x    y  topics  cluster       Freq\n",
       "topic                                           \n",
       "0      0.131618  0.0       1        1  67.483193\n",
       "1     -0.131618  0.0       2        1  32.516807, topic_info=             Term        Freq       Total Category  logprob  loglift\n",
       "26           host  343.000000  343.000000  Default  30.0000  30.0000\n",
       "34       location  109.000000  109.000000  Default  29.0000  29.0000\n",
       "144          need   82.000000   82.000000  Default  28.0000  28.0000\n",
       "182         photo   76.000000   76.000000  Default  27.0000  27.0000\n",
       "11          place  234.000000  234.000000  Default  26.0000  26.0000\n",
       "...           ...         ...         ...      ...      ...      ...\n",
       "22      apartment  149.702697  343.321339   Topic2  -3.6737   0.2934\n",
       "35           stay  111.174380  262.416380   Topic2  -3.9713   0.2646\n",
       "582   appartement   23.259718   29.016651   Topic2  -5.5356   0.9023\n",
       "13         really   34.732853  116.700470   Topic2  -5.1347  -0.0885\n",
       "1254         thin   19.940554   27.305758   Topic2  -5.6896   0.8091\n",
       "\n",
       "[119 rows x 6 columns], token_table=      Topic      Freq        Term\n",
       "term                             \n",
       "680       1  0.095162  absolutely\n",
       "680       2  0.904038  absolutely\n",
       "135       1  0.165294   advertise\n",
       "135       2  0.850085   advertise\n",
       "267       1  0.988938      airbnb\n",
       "...     ...       ...         ...\n",
       "134       2  0.014111        wait\n",
       "369       1  0.974733        want\n",
       "369       2  0.031958        want\n",
       "544       1  0.980967        work\n",
       "544       2  0.018166        work\n",
       "\n",
       "[149 rows x 3 columns], R=30, lambda_step=0.01, plot_opts={'xlab': 'PC1', 'ylab': 'PC2'}, topic_order=[1, 2])"
      ]
     },
     "execution_count": 9,
     "metadata": {},
     "output_type": "execute_result"
    }
   ],
   "source": [
    "pyLDAvis.enable_notebook()\n",
    "vis = pyLDAvis.gensim_models.prepare(lda_model, corpus, dictionary=lda_model.id2word)\n",
    "vis"
   ]
  },
  {
   "cell_type": "code",
   "execution_count": 10,
   "metadata": {},
   "outputs": [],
   "source": [
    "topics = lda_model.show_topics(formatted=False)"
   ]
  },
  {
   "cell_type": "code",
   "execution_count": 11,
   "metadata": {},
   "outputs": [
    {
     "data": {
      "image/png": "[encoded data removed]",
      "text/plain": [
       "<Figure size 1000x1000 with 2 Axes>"
      ]
     },
     "metadata": {},
     "output_type": "display_data"
    }
   ],
   "source": [
    "cols = [color for name, color in mcolors.TABLEAU_COLORS.items()]\n",
    "cloud = WordCloud(stopwords=stop_words,\n",
    "                  background_color='white',\n",
    "                  width=2500,\n",
    "                  height=1800,\n",
    "                  max_words=20,\n",
    "                  colormap='tab10',\n",
    "                  color_func=lambda *args, **kwargs: cols[i],\n",
    "                  prefer_horizontal=1.0)\n",
    "\n",
    "fig, axes = plt.subplots(1, 2, figsize=(10,10), sharex=True, sharey=True)\n",
    "\n",
    "groups = {0: 'Issues and Complaints',\n",
    "          1: 'Location and Accessibility',\n",
    "          2: 'Host and Service Experience'\n",
    "        }\n",
    "\n",
    "for i, ax in enumerate(axes.flatten()):\n",
    "    fig.add_subplot(ax)\n",
    "    topic_words = dict(topics[i][1])\n",
    "    cloud.generate_from_frequencies(topic_words, max_font_size=350)\n",
    "    plt.gca().imshow(cloud)\n",
    "    plt.gca().set_title(groups.get(i), fontdict=dict(size=14))\n",
    "    plt.gca().axis('off')\n",
    "\n",
    "\n",
    "plt.subplots_adjust(wspace=30, hspace=10)\n",
    "plt.axis('off')\n",
    "#plt.margins(x=0, y=0)\n",
    "plt.tight_layout()\n",
    "plt.show()"
   ]
  },
  {
   "cell_type": "code",
   "execution_count": 12,
   "metadata": {},
   "outputs": [
    {
     "data": {
      "text/html": [
       "<div>\n",
       "<style scoped>\n",
       "    .dataframe tbody tr th:only-of-type {\n",
       "        vertical-align: middle;\n",
       "    }\n",
       "\n",
       "    .dataframe tbody tr th {\n",
       "        vertical-align: top;\n",
       "    }\n",
       "\n",
       "    .dataframe thead th {\n",
       "        text-align: right;\n",
       "    }\n",
       "</style>\n",
       "<table border=\"1\" class=\"dataframe\">\n",
       "  <thead>\n",
       "    <tr style=\"text-align: right;\">\n",
       "      <th></th>\n",
       "      <th>neighbourhood</th>\n",
       "      <th>dominant_topic</th>\n",
       "      <th>number_of_reviews</th>\n",
       "    </tr>\n",
       "  </thead>\n",
       "  <tbody>\n",
       "    <tr>\n",
       "      <th>0</th>\n",
       "      <td>Södermalms</td>\n",
       "      <td>0</td>\n",
       "      <td>312</td>\n",
       "    </tr>\n",
       "    <tr>\n",
       "      <th>1</th>\n",
       "      <td>Södermalms</td>\n",
       "      <td>1</td>\n",
       "      <td>284</td>\n",
       "    </tr>\n",
       "    <tr>\n",
       "      <th>2</th>\n",
       "      <td>Kungsholmens</td>\n",
       "      <td>0</td>\n",
       "      <td>92</td>\n",
       "    </tr>\n",
       "    <tr>\n",
       "      <th>3</th>\n",
       "      <td>Norrmalms</td>\n",
       "      <td>1</td>\n",
       "      <td>77</td>\n",
       "    </tr>\n",
       "    <tr>\n",
       "      <th>4</th>\n",
       "      <td>Kungsholmens</td>\n",
       "      <td>1</td>\n",
       "      <td>73</td>\n",
       "    </tr>\n",
       "    <tr>\n",
       "      <th>5</th>\n",
       "      <td>Norrmalms</td>\n",
       "      <td>0</td>\n",
       "      <td>72</td>\n",
       "    </tr>\n",
       "    <tr>\n",
       "      <th>6</th>\n",
       "      <td>Enskede-Årsta-Vantörs</td>\n",
       "      <td>1</td>\n",
       "      <td>41</td>\n",
       "    </tr>\n",
       "    <tr>\n",
       "      <th>7</th>\n",
       "      <td>Enskede-Årsta-Vantörs</td>\n",
       "      <td>0</td>\n",
       "      <td>28</td>\n",
       "    </tr>\n",
       "    <tr>\n",
       "      <th>8</th>\n",
       "      <td>Östermalms</td>\n",
       "      <td>0</td>\n",
       "      <td>22</td>\n",
       "    </tr>\n",
       "    <tr>\n",
       "      <th>9</th>\n",
       "      <td>Hägersten-Liljeholmens</td>\n",
       "      <td>0</td>\n",
       "      <td>22</td>\n",
       "    </tr>\n",
       "    <tr>\n",
       "      <th>10</th>\n",
       "      <td>Hägersten-Liljeholmens</td>\n",
       "      <td>1</td>\n",
       "      <td>21</td>\n",
       "    </tr>\n",
       "    <tr>\n",
       "      <th>11</th>\n",
       "      <td>Skarpnäcks</td>\n",
       "      <td>1</td>\n",
       "      <td>20</td>\n",
       "    </tr>\n",
       "    <tr>\n",
       "      <th>12</th>\n",
       "      <td>Skarpnäcks</td>\n",
       "      <td>0</td>\n",
       "      <td>18</td>\n",
       "    </tr>\n",
       "    <tr>\n",
       "      <th>13</th>\n",
       "      <td>Älvsjö</td>\n",
       "      <td>0</td>\n",
       "      <td>18</td>\n",
       "    </tr>\n",
       "    <tr>\n",
       "      <th>14</th>\n",
       "      <td>Östermalms</td>\n",
       "      <td>1</td>\n",
       "      <td>17</td>\n",
       "    </tr>\n",
       "    <tr>\n",
       "      <th>15</th>\n",
       "      <td>Bromma</td>\n",
       "      <td>1</td>\n",
       "      <td>14</td>\n",
       "    </tr>\n",
       "    <tr>\n",
       "      <th>16</th>\n",
       "      <td>Skärholmens</td>\n",
       "      <td>0</td>\n",
       "      <td>13</td>\n",
       "    </tr>\n",
       "    <tr>\n",
       "      <th>17</th>\n",
       "      <td>Farsta</td>\n",
       "      <td>1</td>\n",
       "      <td>13</td>\n",
       "    </tr>\n",
       "    <tr>\n",
       "      <th>18</th>\n",
       "      <td>Skärholmens</td>\n",
       "      <td>1</td>\n",
       "      <td>11</td>\n",
       "    </tr>\n",
       "    <tr>\n",
       "      <th>19</th>\n",
       "      <td>Hässelby-Vällingby</td>\n",
       "      <td>1</td>\n",
       "      <td>10</td>\n",
       "    </tr>\n",
       "    <tr>\n",
       "      <th>20</th>\n",
       "      <td>Älvsjö</td>\n",
       "      <td>1</td>\n",
       "      <td>9</td>\n",
       "    </tr>\n",
       "    <tr>\n",
       "      <th>21</th>\n",
       "      <td>Farsta</td>\n",
       "      <td>0</td>\n",
       "      <td>9</td>\n",
       "    </tr>\n",
       "    <tr>\n",
       "      <th>22</th>\n",
       "      <td>Bromma</td>\n",
       "      <td>0</td>\n",
       "      <td>8</td>\n",
       "    </tr>\n",
       "    <tr>\n",
       "      <th>23</th>\n",
       "      <td>Hässelby-Vällingby</td>\n",
       "      <td>0</td>\n",
       "      <td>6</td>\n",
       "    </tr>\n",
       "    <tr>\n",
       "      <th>24</th>\n",
       "      <td>Spånga-Tensta</td>\n",
       "      <td>1</td>\n",
       "      <td>5</td>\n",
       "    </tr>\n",
       "    <tr>\n",
       "      <th>25</th>\n",
       "      <td>Spånga-Tensta</td>\n",
       "      <td>0</td>\n",
       "      <td>4</td>\n",
       "    </tr>\n",
       "    <tr>\n",
       "      <th>26</th>\n",
       "      <td>Rinkeby-Tensta</td>\n",
       "      <td>1</td>\n",
       "      <td>4</td>\n",
       "    </tr>\n",
       "    <tr>\n",
       "      <th>27</th>\n",
       "      <td>Rinkeby-Tensta</td>\n",
       "      <td>0</td>\n",
       "      <td>4</td>\n",
       "    </tr>\n",
       "  </tbody>\n",
       "</table>\n",
       "</div>"
      ],
      "text/plain": [
       "             neighbourhood  dominant_topic  number_of_reviews\n",
       "0               Södermalms               0                312\n",
       "1               Södermalms               1                284\n",
       "2             Kungsholmens               0                 92\n",
       "3                Norrmalms               1                 77\n",
       "4             Kungsholmens               1                 73\n",
       "5                Norrmalms               0                 72\n",
       "6    Enskede-Årsta-Vantörs               1                 41\n",
       "7    Enskede-Årsta-Vantörs               0                 28\n",
       "8               Östermalms               0                 22\n",
       "9   Hägersten-Liljeholmens               0                 22\n",
       "10  Hägersten-Liljeholmens               1                 21\n",
       "11              Skarpnäcks               1                 20\n",
       "12              Skarpnäcks               0                 18\n",
       "13                  Älvsjö               0                 18\n",
       "14              Östermalms               1                 17\n",
       "15                  Bromma               1                 14\n",
       "16             Skärholmens               0                 13\n",
       "17                  Farsta               1                 13\n",
       "18             Skärholmens               1                 11\n",
       "19      Hässelby-Vällingby               1                 10\n",
       "20                  Älvsjö               1                  9\n",
       "21                  Farsta               0                  9\n",
       "22                  Bromma               0                  8\n",
       "23      Hässelby-Vällingby               0                  6\n",
       "24           Spånga-Tensta               1                  5\n",
       "25           Spånga-Tensta               0                  4\n",
       "26          Rinkeby-Tensta               1                  4\n",
       "27          Rinkeby-Tensta               0                  4"
      ]
     },
     "execution_count": 12,
     "metadata": {},
     "output_type": "execute_result"
    }
   ],
   "source": [
    "numnber_topic_by_neighbourhood = (df_dominant_topic.groupby(['neighbourhood', 'dominant_topic'])\n",
    "        .agg(number_of_reviews=('number_of_reviews', 'count'))\n",
    "        .sort_values('number_of_reviews', ascending=False)\n",
    "        .reset_index())\n",
    "numnber_topic_by_neighbourhood "
   ]
  },
  {
   "cell_type": "code",
   "execution_count": 13,
   "metadata": {},
   "outputs": [
    {
     "data": {
      "application/vnd.plotly.v1+json": {
       "config": {
        "plotlyServerURL": "https://plot.ly"
       },
       "data": [
        {
         "branchvalues": "total",
         "domain": {
          "x": [
           0,
           1
          ],
          "y": [
           0,
           1
          ]
         },
         "hovertemplate": "labels=%{label}<br>number_of_reviews=%{value}<br>parent=%{parent}<br>id=%{id}<extra></extra>",
         "ids": [
          "Bromma/0",
          "Enskede-Årsta-Vantörs/0",
          "Farsta/0",
          "Hägersten-Liljeholmens/0",
          "Hässelby-Vällingby/0",
          "Kungsholmens/0",
          "Norrmalms/0",
          "Rinkeby-Tensta/0",
          "Skarpnäcks/0",
          "Skärholmens/0",
          "Spånga-Tensta/0",
          "Södermalms/0",
          "Älvsjö/0",
          "Östermalms/0",
          "Bromma/1",
          "Enskede-Årsta-Vantörs/1",
          "Farsta/1",
          "Hägersten-Liljeholmens/1",
          "Hässelby-Vällingby/1",
          "Kungsholmens/1",
          "Norrmalms/1",
          "Rinkeby-Tensta/1",
          "Skarpnäcks/1",
          "Skärholmens/1",
          "Spånga-Tensta/1",
          "Södermalms/1",
          "Älvsjö/1",
          "Östermalms/1",
          "Bromma",
          "Enskede-Årsta-Vantörs",
          "Farsta",
          "Hägersten-Liljeholmens",
          "Hässelby-Vällingby",
          "Kungsholmens",
          "Norrmalms",
          "Rinkeby-Tensta",
          "Skarpnäcks",
          "Skärholmens",
          "Spånga-Tensta",
          "Södermalms",
          "Älvsjö",
          "Östermalms"
         ],
         "labels": [
          "0",
          "0",
          "0",
          "0",
          "0",
          "0",
          "0",
          "0",
          "0",
          "0",
          "0",
          "0",
          "0",
          "0",
          "1",
          "1",
          "1",
          "1",
          "1",
          "1",
          "1",
          "1",
          "1",
          "1",
          "1",
          "1",
          "1",
          "1",
          "Bromma",
          "Enskede-Årsta-Vantörs",
          "Farsta",
          "Hägersten-Liljeholmens",
          "Hässelby-Vällingby",
          "Kungsholmens",
          "Norrmalms",
          "Rinkeby-Tensta",
          "Skarpnäcks",
          "Skärholmens",
          "Spånga-Tensta",
          "Södermalms",
          "Älvsjö",
          "Östermalms"
         ],
         "marker": {
          "colors": [
           null,
           null,
           null,
           null,
           null,
           null,
           null,
           null,
           null,
           null,
           null,
           null,
           null,
           null,
           null,
           null,
           null,
           null,
           null,
           null,
           null,
           null,
           null,
           null,
           null,
           null,
           null,
           null,
           null,
           null,
           null,
           null,
           null,
           null,
           null,
           null,
           null,
           null,
           null,
           null,
           null,
           null
          ]
         },
         "name": "",
         "parents": [
          "Bromma",
          "Enskede-Årsta-Vantörs",
          "Farsta",
          "Hägersten-Liljeholmens",
          "Hässelby-Vällingby",
          "Kungsholmens",
          "Norrmalms",
          "Rinkeby-Tensta",
          "Skarpnäcks",
          "Skärholmens",
          "Spånga-Tensta",
          "Södermalms",
          "Älvsjö",
          "Östermalms",
          "Bromma",
          "Enskede-Årsta-Vantörs",
          "Farsta",
          "Hägersten-Liljeholmens",
          "Hässelby-Vällingby",
          "Kungsholmens",
          "Norrmalms",
          "Rinkeby-Tensta",
          "Skarpnäcks",
          "Skärholmens",
          "Spånga-Tensta",
          "Södermalms",
          "Älvsjö",
          "Östermalms",
          "",
          "",
          "",
          "",
          "",
          "",
          "",
          "",
          "",
          "",
          "",
          "",
          "",
          ""
         ],
         "type": "treemap",
         "values": [
          8,
          28,
          9,
          22,
          6,
          92,
          72,
          4,
          18,
          13,
          4,
          312,
          18,
          22,
          14,
          41,
          13,
          21,
          10,
          73,
          77,
          4,
          20,
          11,
          5,
          284,
          9,
          17,
          22,
          69,
          22,
          43,
          16,
          165,
          149,
          8,
          38,
          24,
          9,
          596,
          27,
          39
         ]
        }
       ],
       "layout": {
        "legend": {
         "tracegroupgap": 0
        },
        "margin": {
         "t": 60
        },
        "template": {
         "data": {
          "bar": [
           {
            "error_x": {
             "color": "#2a3f5f"
            },
            "error_y": {
             "color": "#2a3f5f"
            },
            "marker": {
             "line": {
              "color": "#E5ECF6",
              "width": 0.5
             },
             "pattern": {
              "fillmode": "overlay",
              "size": 10,
              "solidity": 0.2
             }
            },
            "type": "bar"
           }
          ],
          "barpolar": [
           {
            "marker": {
             "line": {
              "color": "#E5ECF6",
              "width": 0.5
             },
             "pattern": {
              "fillmode": "overlay",
              "size": 10,
              "solidity": 0.2
             }
            },
            "type": "barpolar"
           }
          ],
          "carpet": [
           {
            "aaxis": {
             "endlinecolor": "#2a3f5f",
             "gridcolor": "white",
             "linecolor": "white",
             "minorgridcolor": "white",
             "startlinecolor": "#2a3f5f"
            },
            "baxis": {
             "endlinecolor": "#2a3f5f",
             "gridcolor": "white",
             "linecolor": "white",
             "minorgridcolor": "white",
             "startlinecolor": "#2a3f5f"
            },
            "type": "carpet"
           }
          ],
          "choropleth": [
           {
            "colorbar": {
             "outlinewidth": 0,
             "ticks": ""
            },
            "type": "choropleth"
           }
          ],
          "contour": [
           {
            "colorbar": {
             "outlinewidth": 0,
             "ticks": ""
            },
            "colorscale": [
             [
              0,
              "#0d0887"
             ],
             [
              0.1111111111111111,
              "#46039f"
             ],
             [
              0.2222222222222222,
              "#7201a8"
             ],
             [
              0.3333333333333333,
              "#9c179e"
             ],
             [
              0.4444444444444444,
              "#bd3786"
             ],
             [
              0.5555555555555556,
              "#d8576b"
             ],
             [
              0.6666666666666666,
              "#ed7953"
             ],
             [
              0.7777777777777778,
              "#fb9f3a"
             ],
             [
              0.8888888888888888,
              "#fdca26"
             ],
             [
              1,
              "#f0f921"
             ]
            ],
            "type": "contour"
           }
          ],
          "contourcarpet": [
           {
            "colorbar": {
             "outlinewidth": 0,
             "ticks": ""
            },
            "type": "contourcarpet"
           }
          ],
          "heatmap": [
           {
            "colorbar": {
             "outlinewidth": 0,
             "ticks": ""
            },
            "colorscale": [
             [
              0,
              "#0d0887"
             ],
             [
              0.1111111111111111,
              "#46039f"
             ],
             [
              0.2222222222222222,
              "#7201a8"
             ],
             [
              0.3333333333333333,
              "#9c179e"
             ],
             [
              0.4444444444444444,
              "#bd3786"
             ],
             [
              0.5555555555555556,
              "#d8576b"
             ],
             [
              0.6666666666666666,
              "#ed7953"
             ],
             [
              0.7777777777777778,
              "#fb9f3a"
             ],
             [
              0.8888888888888888,
              "#fdca26"
             ],
             [
              1,
              "#f0f921"
             ]
            ],
            "type": "heatmap"
           }
          ],
          "heatmapgl": [
           {
            "colorbar": {
             "outlinewidth": 0,
             "ticks": ""
            },
            "colorscale": [
             [
              0,
              "#0d0887"
             ],
             [
              0.1111111111111111,
              "#46039f"
             ],
             [
              0.2222222222222222,
              "#7201a8"
             ],
             [
              0.3333333333333333,
              "#9c179e"
             ],
             [
              0.4444444444444444,
              "#bd3786"
             ],
             [
              0.5555555555555556,
              "#d8576b"
             ],
             [
              0.6666666666666666,
              "#ed7953"
             ],
             [
              0.7777777777777778,
              "#fb9f3a"
             ],
             [
              0.8888888888888888,
              "#fdca26"
             ],
             [
              1,
              "#f0f921"
             ]
            ],
            "type": "heatmapgl"
           }
          ],
          "histogram": [
           {
            "marker": {
             "pattern": {
              "fillmode": "overlay",
              "size": 10,
              "solidity": 0.2
             }
            },
            "type": "histogram"
           }
          ],
          "histogram2d": [
           {
            "colorbar": {
             "outlinewidth": 0,
             "ticks": ""
            },
            "colorscale": [
             [
              0,
              "#0d0887"
             ],
             [
              0.1111111111111111,
              "#46039f"
             ],
             [
              0.2222222222222222,
              "#7201a8"
             ],
             [
              0.3333333333333333,
              "#9c179e"
             ],
             [
              0.4444444444444444,
              "#bd3786"
             ],
             [
              0.5555555555555556,
              "#d8576b"
             ],
             [
              0.6666666666666666,
              "#ed7953"
             ],
             [
              0.7777777777777778,
              "#fb9f3a"
             ],
             [
              0.8888888888888888,
              "#fdca26"
             ],
             [
              1,
              "#f0f921"
             ]
            ],
            "type": "histogram2d"
           }
          ],
          "histogram2dcontour": [
           {
            "colorbar": {
             "outlinewidth": 0,
             "ticks": ""
            },
            "colorscale": [
             [
              0,
              "#0d0887"
             ],
             [
              0.1111111111111111,
              "#46039f"
             ],
             [
              0.2222222222222222,
              "#7201a8"
             ],
             [
              0.3333333333333333,
              "#9c179e"
             ],
             [
              0.4444444444444444,
              "#bd3786"
             ],
             [
              0.5555555555555556,
              "#d8576b"
             ],
             [
              0.6666666666666666,
              "#ed7953"
             ],
             [
              0.7777777777777778,
              "#fb9f3a"
             ],
             [
              0.8888888888888888,
              "#fdca26"
             ],
             [
              1,
              "#f0f921"
             ]
            ],
            "type": "histogram2dcontour"
           }
          ],
          "mesh3d": [
           {
            "colorbar": {
             "outlinewidth": 0,
             "ticks": ""
            },
            "type": "mesh3d"
           }
          ],
          "parcoords": [
           {
            "line": {
             "colorbar": {
              "outlinewidth": 0,
              "ticks": ""
             }
            },
            "type": "parcoords"
           }
          ],
          "pie": [
           {
            "automargin": true,
            "type": "pie"
           }
          ],
          "scatter": [
           {
            "fillpattern": {
             "fillmode": "overlay",
             "size": 10,
             "solidity": 0.2
            },
            "type": "scatter"
           }
          ],
          "scatter3d": [
           {
            "line": {
             "colorbar": {
              "outlinewidth": 0,
              "ticks": ""
             }
            },
            "marker": {
             "colorbar": {
              "outlinewidth": 0,
              "ticks": ""
             }
            },
            "type": "scatter3d"
           }
          ],
          "scattercarpet": [
           {
            "marker": {
             "colorbar": {
              "outlinewidth": 0,
              "ticks": ""
             }
            },
            "type": "scattercarpet"
           }
          ],
          "scattergeo": [
           {
            "marker": {
             "colorbar": {
              "outlinewidth": 0,
              "ticks": ""
             }
            },
            "type": "scattergeo"
           }
          ],
          "scattergl": [
           {
            "marker": {
             "colorbar": {
              "outlinewidth": 0,
              "ticks": ""
             }
            },
            "type": "scattergl"
           }
          ],
          "scattermapbox": [
           {
            "marker": {
             "colorbar": {
              "outlinewidth": 0,
              "ticks": ""
             }
            },
            "type": "scattermapbox"
           }
          ],
          "scatterpolar": [
           {
            "marker": {
             "colorbar": {
              "outlinewidth": 0,
              "ticks": ""
             }
            },
            "type": "scatterpolar"
           }
          ],
          "scatterpolargl": [
           {
            "marker": {
             "colorbar": {
              "outlinewidth": 0,
              "ticks": ""
             }
            },
            "type": "scatterpolargl"
           }
          ],
          "scatterternary": [
           {
            "marker": {
             "colorbar": {
              "outlinewidth": 0,
              "ticks": ""
             }
            },
            "type": "scatterternary"
           }
          ],
          "surface": [
           {
            "colorbar": {
             "outlinewidth": 0,
             "ticks": ""
            },
            "colorscale": [
             [
              0,
              "#0d0887"
             ],
             [
              0.1111111111111111,
              "#46039f"
             ],
             [
              0.2222222222222222,
              "#7201a8"
             ],
             [
              0.3333333333333333,
              "#9c179e"
             ],
             [
              0.4444444444444444,
              "#bd3786"
             ],
             [
              0.5555555555555556,
              "#d8576b"
             ],
             [
              0.6666666666666666,
              "#ed7953"
             ],
             [
              0.7777777777777778,
              "#fb9f3a"
             ],
             [
              0.8888888888888888,
              "#fdca26"
             ],
             [
              1,
              "#f0f921"
             ]
            ],
            "type": "surface"
           }
          ],
          "table": [
           {
            "cells": {
             "fill": {
              "color": "#EBF0F8"
             },
             "line": {
              "color": "white"
             }
            },
            "header": {
             "fill": {
              "color": "#C8D4E3"
             },
             "line": {
              "color": "white"
             }
            },
            "type": "table"
           }
          ]
         },
         "layout": {
          "annotationdefaults": {
           "arrowcolor": "#2a3f5f",
           "arrowhead": 0,
           "arrowwidth": 1
          },
          "autotypenumbers": "strict",
          "coloraxis": {
           "colorbar": {
            "outlinewidth": 0,
            "ticks": ""
           }
          },
          "colorscale": {
           "diverging": [
            [
             0,
             "#8e0152"
            ],
            [
             0.1,
             "#c51b7d"
            ],
            [
             0.2,
             "#de77ae"
            ],
            [
             0.3,
             "#f1b6da"
            ],
            [
             0.4,
             "#fde0ef"
            ],
            [
             0.5,
             "#f7f7f7"
            ],
            [
             0.6,
             "#e6f5d0"
            ],
            [
             0.7,
             "#b8e186"
            ],
            [
             0.8,
             "#7fbc41"
            ],
            [
             0.9,
             "#4d9221"
            ],
            [
             1,
             "#276419"
            ]
           ],
           "sequential": [
            [
             0,
             "#0d0887"
            ],
            [
             0.1111111111111111,
             "#46039f"
            ],
            [
             0.2222222222222222,
             "#7201a8"
            ],
            [
             0.3333333333333333,
             "#9c179e"
            ],
            [
             0.4444444444444444,
             "#bd3786"
            ],
            [
             0.5555555555555556,
             "#d8576b"
            ],
            [
             0.6666666666666666,
             "#ed7953"
            ],
            [
             0.7777777777777778,
             "#fb9f3a"
            ],
            [
             0.8888888888888888,
             "#fdca26"
            ],
            [
             1,
             "#f0f921"
            ]
           ],
           "sequentialminus": [
            [
             0,
             "#0d0887"
            ],
            [
             0.1111111111111111,
             "#46039f"
            ],
            [
             0.2222222222222222,
             "#7201a8"
            ],
            [
             0.3333333333333333,
             "#9c179e"
            ],
            [
             0.4444444444444444,
             "#bd3786"
            ],
            [
             0.5555555555555556,
             "#d8576b"
            ],
            [
             0.6666666666666666,
             "#ed7953"
            ],
            [
             0.7777777777777778,
             "#fb9f3a"
            ],
            [
             0.8888888888888888,
             "#fdca26"
            ],
            [
             1,
             "#f0f921"
            ]
           ]
          },
          "colorway": [
           "#636efa",
           "#EF553B",
           "#00cc96",
           "#ab63fa",
           "#FFA15A",
           "#19d3f3",
           "#FF6692",
           "#B6E880",
           "#FF97FF",
           "#FECB52"
          ],
          "font": {
           "color": "#2a3f5f"
          },
          "geo": {
           "bgcolor": "white",
           "lakecolor": "white",
           "landcolor": "#E5ECF6",
           "showlakes": true,
           "showland": true,
           "subunitcolor": "white"
          },
          "hoverlabel": {
           "align": "left"
          },
          "hovermode": "closest",
          "mapbox": {
           "style": "light"
          },
          "paper_bgcolor": "white",
          "plot_bgcolor": "#E5ECF6",
          "polar": {
           "angularaxis": {
            "gridcolor": "white",
            "linecolor": "white",
            "ticks": ""
           },
           "bgcolor": "#E5ECF6",
           "radialaxis": {
            "gridcolor": "white",
            "linecolor": "white",
            "ticks": ""
           }
          },
          "scene": {
           "xaxis": {
            "backgroundcolor": "#E5ECF6",
            "gridcolor": "white",
            "gridwidth": 2,
            "linecolor": "white",
            "showbackground": true,
            "ticks": "",
            "zerolinecolor": "white"
           },
           "yaxis": {
            "backgroundcolor": "#E5ECF6",
            "gridcolor": "white",
            "gridwidth": 2,
            "linecolor": "white",
            "showbackground": true,
            "ticks": "",
            "zerolinecolor": "white"
           },
           "zaxis": {
            "backgroundcolor": "#E5ECF6",
            "gridcolor": "white",
            "gridwidth": 2,
            "linecolor": "white",
            "showbackground": true,
            "ticks": "",
            "zerolinecolor": "white"
           }
          },
          "shapedefaults": {
           "line": {
            "color": "#2a3f5f"
           }
          },
          "ternary": {
           "aaxis": {
            "gridcolor": "white",
            "linecolor": "white",
            "ticks": ""
           },
           "baxis": {
            "gridcolor": "white",
            "linecolor": "white",
            "ticks": ""
           },
           "bgcolor": "#E5ECF6",
           "caxis": {
            "gridcolor": "white",
            "linecolor": "white",
            "ticks": ""
           }
          },
          "title": {
           "x": 0.05
          },
          "xaxis": {
           "automargin": true,
           "gridcolor": "white",
           "linecolor": "white",
           "ticks": "",
           "title": {
            "standoff": 15
           },
           "zerolinecolor": "white",
           "zerolinewidth": 2
          },
          "yaxis": {
           "automargin": true,
           "gridcolor": "white",
           "linecolor": "white",
           "ticks": "",
           "title": {
            "standoff": 15
           },
           "zerolinecolor": "white",
           "zerolinewidth": 2
          }
         }
        },
        "treemapcolorway": [
         "rgb(95, 70, 144)",
         "rgb(29, 105, 150)",
         "rgb(56, 166, 165)",
         "rgb(15, 133, 84)",
         "rgb(115, 175, 72)",
         "rgb(237, 173, 8)",
         "rgb(225, 124, 5)",
         "rgb(204, 80, 62)",
         "rgb(148, 52, 110)",
         "rgb(111, 64, 112)",
         "rgb(102, 102, 102)"
        ]
       }
      }
     },
     "metadata": {},
     "output_type": "display_data"
    }
   ],
   "source": [
    "# Define a custom color mapping function\n",
    "def get_tile_color(tile_path):\n",
    "    # Get the name of the neighbourhood and the dominant topic from the tile path\n",
    "    neighbourhood, dominant_topic = tile_path[-2:]\n",
    "\n",
    "    # Assign a specific color to each combination of neighbourhood and dominant topic\n",
    "    if dominant_topic == 'topic 0' and neighbourhood == 'Neighbourhood 1':\n",
    "        return 'red'\n",
    "    elif dominant_topic == 'topic 1' and neighbourhood == 'Neighbourhood 2':\n",
    "        return 'green'\n",
    "    else:\n",
    "        # Use the default color scale for all other tiles\n",
    "        return None\n",
    "\n",
    "# Create the treemap with the custom color mapping function\n",
    "fig = px.treemap(\n",
    "    numnber_topic_by_neighbourhood,\n",
    "    path=['neighbourhood', 'dominant_topic'],\n",
    "    values='number_of_reviews',\n",
    "    color_discrete_sequence=PALETTE,\n",
    "    color_continuous_midpoint=np.average(numnber_topic_by_neighbourhood['number_of_reviews']),\n",
    ")\n",
    "\n",
    "# Apply the custom color mapping function to each tile\n",
    "fig.data[0].marker.colors = [get_tile_color(tile_path) for tile_path in fig.data[0].ids]\n",
    "\n",
    "# Show the figure\n",
    "fig.show()"
   ]
  }
 ],
 "metadata": {
  "kernelspec": {
   "display_name": "Python 3",
   "language": "python",
   "name": "python3"
  },
  "language_info": {
   "codemirror_mode": {
    "name": "ipython",
    "version": 3
   },
   "file_extension": ".py",
   "mimetype": "text/x-python",
   "name": "python",
   "nbconvert_exporter": "python",
   "pygments_lexer": "ipython3",
   "version": "3.10.10"
  },
  "orig_nbformat": 4,
  "vscode": {
   "interpreter": {
    "hash": "aee8b7b246df8f9039afb4144a1f6fd8d2ca17a180786b69acc140d282b71a49"
   }
  }
 },
 "nbformat": 4,
 "nbformat_minor": 2
}
