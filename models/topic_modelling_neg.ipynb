{
 "cells": [
  {
   "cell_type": "code",
   "execution_count": 14,
   "metadata": {},
   "outputs": [],
   "source": [
    "from pathlib import Path\n",
    "import pandas as pd\n",
    "import numpy as np\n",
    "import gensim, spacy\n",
    "import gensim.corpora as corpora\n",
    "from gensim.utils import simple_preprocess\n",
    "from nltk.corpus import stopwords\n",
    "from wordcloud import WordCloud\n",
    "from matplotlib import pyplot as plt\n",
    "import matplotlib.colors as mcolors\n",
    "import plotly.express as px\n",
    "import pyLDAvis\n",
    "import pyLDAvis.gensim_models\n",
    "import warnings\n",
    "warnings.filterwarnings(\"ignore\")"
   ]
  },
  {
   "cell_type": "code",
   "execution_count": 15,
   "metadata": {},
   "outputs": [],
   "source": [
    "BASE_DIR = Path.cwd().parent\n",
    "stop_words = stopwords.words('english')\n",
    "PALETTE = px.colors.qualitative.Prism"
   ]
  },
  {
   "cell_type": "code",
   "execution_count": 16,
   "metadata": {},
   "outputs": [],
   "source": [
    "df_hosts_reviews_en = pd.read_parquet(BASE_DIR / 'processed_data' / 'hosts_reviews_en_labeled.parquet')"
   ]
  },
  {
   "cell_type": "code",
   "execution_count": 17,
   "metadata": {},
   "outputs": [],
   "source": [
    "df_hosts_reviews_en = df_hosts_reviews_en.query('sentiment_label_class == 0').reset_index()"
   ]
  },
  {
   "cell_type": "code",
   "execution_count": 18,
   "metadata": {},
   "outputs": [
    {
     "name": "stdout",
     "output_type": "stream",
     "text": [
      "['stayed', 'three', 'nights', 'couldnt', 'helpful', 'soon', 'got', 'showed', 'us', 'get', 'around', 'visit', 'place', 'conveniently', 'located', 'metro', 'station', 'walking', 'distance', 'market', 'many', 'restaurants', 'clean', 'privacy', 'issue', 'despite', 'guests', 'staying', 'well', 'wifi', 'reliable', 'youre', 'vacation', 'doesnt', 'really', 'matter']\n"
     ]
    }
   ],
   "source": [
    "def sent_to_words(sentences):\n",
    "    for sent in sentences:\n",
    "        sent = gensim.utils.simple_preprocess(str(sent), deacc=True) \n",
    "        yield(sent)  \n",
    "\n",
    "# Convert to list\n",
    "data = df_hosts_reviews_en['comments'].values.tolist()\n",
    "data_words = list(sent_to_words(data))\n",
    "print(data_words[0])"
   ]
  },
  {
   "cell_type": "code",
   "execution_count": 19,
   "metadata": {},
   "outputs": [],
   "source": [
    "nlp = spacy.load(\"en_core_web_sm\")\n",
    "stop_words.append('also')\n",
    "bigram = gensim.models.Phrases(data_words, min_count=1, threshold=10) # higher threshold fewer phrases.\n",
    "trigram = gensim.models.Phrases(bigram[data_words], threshold=100)  \n",
    "bigram_mod = gensim.models.phrases.Phraser(bigram)\n",
    "trigram_mod = gensim.models.phrases.Phraser(trigram)\n",
    "\n",
    "# !python3 -m spacy download en  # run in terminal once\n",
    "def process_words(texts, stop_words=stop_words, allowed_postags=['NOUN', 'ADJ', 'VERB', 'ADV']):\n",
    "    \"\"\"Remove Stopwords, Form Bigrams, Trigrams and Lemmatization\"\"\"\n",
    "    #texts = [[word for word in simple_preprocess(str(doc)) if word not in stop_words] for doc in texts]\n",
    "    texts = [bigram_mod[doc] for doc in texts]\n",
    "    texts = [trigram_mod[bigram_mod[doc]] for doc in texts]\n",
    "    texts_out = []\n",
    "    for sent in texts:\n",
    "        doc = nlp(\" \".join(sent)) \n",
    "        texts_out.append([token.lemma_ for token in doc if token.pos_ in allowed_postags])\n",
    "    # remove stopwords once more after lemmatization\n",
    "    texts_out = [[word for word in simple_preprocess(str(doc)) if word not in stop_words] for doc in texts_out]    \n",
    "    return texts_out\n",
    "\n",
    "# call the cached function\n",
    "data_ready = process_words(data_words)"
   ]
  },
  {
   "cell_type": "code",
   "execution_count": 20,
   "metadata": {},
   "outputs": [
    {
     "data": {
      "text/plain": [
       "[(0,\n",
       "  '0.023*\"host\" + 0.015*\"room\" + 0.013*\"leave\" + 0.010*\"clean\" + 0.010*\"place\" + 0.009*\"bed\" + 0.009*\"get\" + 0.009*\"really\" + 0.008*\"bathroom\" + 0.008*\"go\"'),\n",
       " (1,\n",
       "  '0.054*\"apartment\" + 0.033*\"stay\" + 0.017*\"location\" + 0.017*\"place\" + 0.013*\"need\" + 0.010*\"host\" + 0.009*\"photo\" + 0.008*\"price\" + 0.007*\"problem\" + 0.006*\"cosy\"')]"
      ]
     },
     "execution_count": 20,
     "metadata": {},
     "output_type": "execute_result"
    }
   ],
   "source": [
    "# Create Dictionary\n",
    "id2word = corpora.Dictionary(data_ready)\n",
    "\n",
    "# Create Corpus: Term Document Frequency\n",
    "corpus = [id2word.doc2bow(text) for text in data_ready]\n",
    "\n",
    "# Build LDA model\n",
    "lda_model = gensim.models.ldamodel.LdaModel(corpus=corpus,\n",
    "                                           id2word=id2word,\n",
    "                                           num_topics=2, \n",
    "                                           random_state=42,\n",
    "                                           update_every=1,\n",
    "                                           chunksize=5,\n",
    "                                           passes=5,\n",
    "                                           alpha='symmetric',\n",
    "                                           iterations=100,\n",
    "                                           per_word_topics=True)\n",
    "\n",
    "lda_model.print_topics()"
   ]
  },
  {
   "cell_type": "code",
   "execution_count": 21,
   "metadata": {},
   "outputs": [
    {
     "data": {
      "text/html": [
       "<div>\n",
       "<style scoped>\n",
       "    .dataframe tbody tr th:only-of-type {\n",
       "        vertical-align: middle;\n",
       "    }\n",
       "\n",
       "    .dataframe tbody tr th {\n",
       "        vertical-align: top;\n",
       "    }\n",
       "\n",
       "    .dataframe thead th {\n",
       "        text-align: right;\n",
       "    }\n",
       "</style>\n",
       "<table border=\"1\" class=\"dataframe\">\n",
       "  <thead>\n",
       "    <tr style=\"text-align: right;\">\n",
       "      <th></th>\n",
       "      <th>level_0</th>\n",
       "      <th>date</th>\n",
       "      <th>listing_id_encod</th>\n",
       "      <th>listing_id</th>\n",
       "      <th>reviewer_id</th>\n",
       "      <th>reviewer_name</th>\n",
       "      <th>comments</th>\n",
       "      <th>host_id</th>\n",
       "      <th>host_name</th>\n",
       "      <th>host_description</th>\n",
       "      <th>...</th>\n",
       "      <th>review_scores_location</th>\n",
       "      <th>review_scores_value</th>\n",
       "      <th>comments_language</th>\n",
       "      <th>description_language</th>\n",
       "      <th>sentiment_label</th>\n",
       "      <th>sentiment_label_class</th>\n",
       "      <th>dominant_topic</th>\n",
       "      <th>percent_contribution</th>\n",
       "      <th>topic_keywords</th>\n",
       "      <th>text</th>\n",
       "    </tr>\n",
       "  </thead>\n",
       "  <tbody>\n",
       "    <tr>\n",
       "      <th>0</th>\n",
       "      <td>74</td>\n",
       "      <td>2014-06-08</td>\n",
       "      <td>2.0</td>\n",
       "      <td>1.644480e+05</td>\n",
       "      <td>13461507.0</td>\n",
       "      <td>Sherry</td>\n",
       "      <td>stayed three nights couldnt helpful soon got s...</td>\n",
       "      <td>784312.0</td>\n",
       "      <td>Li</td>\n",
       "      <td>double room central stockholm wifi renting nic...</td>\n",
       "      <td>...</td>\n",
       "      <td>4.83</td>\n",
       "      <td>4.77</td>\n",
       "      <td>en</td>\n",
       "      <td>en</td>\n",
       "      <td>-0.1869</td>\n",
       "      <td>0</td>\n",
       "      <td>1</td>\n",
       "      <td>0.631</td>\n",
       "      <td>apartment, stay, location, place, need, host, ...</td>\n",
       "      <td>[night, couldnt_helpful, soon, get, get_around...</td>\n",
       "    </tr>\n",
       "    <tr>\n",
       "      <th>1</th>\n",
       "      <td>341</td>\n",
       "      <td>2016-10-29</td>\n",
       "      <td>103.0</td>\n",
       "      <td>2.106913e+06</td>\n",
       "      <td>97097053.0</td>\n",
       "      <td>Maxim</td>\n",
       "      <td>cozy flat</td>\n",
       "      <td>10741379.0</td>\n",
       "      <td>Moa</td>\n",
       "      <td>cosy quiet studio kungsholmen set district cen...</td>\n",
       "      <td>...</td>\n",
       "      <td>4.73</td>\n",
       "      <td>4.61</td>\n",
       "      <td>en</td>\n",
       "      <td>en</td>\n",
       "      <td>0.0000</td>\n",
       "      <td>0</td>\n",
       "      <td>1</td>\n",
       "      <td>0.507</td>\n",
       "      <td>apartment, stay, location, place, need, host, ...</td>\n",
       "      <td>[cozy, flat]</td>\n",
       "    </tr>\n",
       "    <tr>\n",
       "      <th>2</th>\n",
       "      <td>347</td>\n",
       "      <td>2018-07-28</td>\n",
       "      <td>103.0</td>\n",
       "      <td>2.106913e+06</td>\n",
       "      <td>196417596.0</td>\n",
       "      <td>Elena</td>\n",
       "      <td>smallclean apartment every time</td>\n",
       "      <td>10741379.0</td>\n",
       "      <td>Moa</td>\n",
       "      <td>cosy quiet studio kungsholmen set district cen...</td>\n",
       "      <td>...</td>\n",
       "      <td>4.73</td>\n",
       "      <td>4.61</td>\n",
       "      <td>en</td>\n",
       "      <td>en</td>\n",
       "      <td>0.0000</td>\n",
       "      <td>0</td>\n",
       "      <td>1</td>\n",
       "      <td>0.831</td>\n",
       "      <td>apartment, stay, location, place, need, host, ...</td>\n",
       "      <td>[smallclean, apartment, every_time]</td>\n",
       "    </tr>\n",
       "    <tr>\n",
       "      <th>3</th>\n",
       "      <td>488</td>\n",
       "      <td>2017-03-27</td>\n",
       "      <td>105.0</td>\n",
       "      <td>2.166026e+06</td>\n",
       "      <td>110430708.0</td>\n",
       "      <td>Jerome</td>\n",
       "      <td>nothing short amazing 1010 would book thank host</td>\n",
       "      <td>4455221.0</td>\n",
       "      <td>Janu</td>\n",
       "      <td>stockholm house close fairtown cool retro vill...</td>\n",
       "      <td>...</td>\n",
       "      <td>4.70</td>\n",
       "      <td>4.74</td>\n",
       "      <td>en</td>\n",
       "      <td>en</td>\n",
       "      <td>-0.1461</td>\n",
       "      <td>0</td>\n",
       "      <td>1</td>\n",
       "      <td>0.890</td>\n",
       "      <td>apartment, stay, location, place, need, host, ...</td>\n",
       "      <td>[short, amazing, would_book, thank, host]</td>\n",
       "    </tr>\n",
       "    <tr>\n",
       "      <th>4</th>\n",
       "      <td>522</td>\n",
       "      <td>2018-08-16</td>\n",
       "      <td>105.0</td>\n",
       "      <td>2.166026e+06</td>\n",
       "      <td>116636414.0</td>\n",
       "      <td>宇星</td>\n",
       "      <td>house really big location convenient get city ...</td>\n",
       "      <td>4455221.0</td>\n",
       "      <td>Janu</td>\n",
       "      <td>stockholm house close fairtown cool retro vill...</td>\n",
       "      <td>...</td>\n",
       "      <td>4.70</td>\n",
       "      <td>4.74</td>\n",
       "      <td>en</td>\n",
       "      <td>en</td>\n",
       "      <td>0.0000</td>\n",
       "      <td>0</td>\n",
       "      <td>1</td>\n",
       "      <td>0.711</td>\n",
       "      <td>apartment, stay, location, place, need, host, ...</td>\n",
       "      <td>[really, big, location, convenient, get_city, ...</td>\n",
       "    </tr>\n",
       "    <tr>\n",
       "      <th>...</th>\n",
       "      <td>...</td>\n",
       "      <td>...</td>\n",
       "      <td>...</td>\n",
       "      <td>...</td>\n",
       "      <td>...</td>\n",
       "      <td>...</td>\n",
       "      <td>...</td>\n",
       "      <td>...</td>\n",
       "      <td>...</td>\n",
       "      <td>...</td>\n",
       "      <td>...</td>\n",
       "      <td>...</td>\n",
       "      <td>...</td>\n",
       "      <td>...</td>\n",
       "      <td>...</td>\n",
       "      <td>...</td>\n",
       "      <td>...</td>\n",
       "      <td>...</td>\n",
       "      <td>...</td>\n",
       "      <td>...</td>\n",
       "      <td>...</td>\n",
       "    </tr>\n",
       "    <tr>\n",
       "      <th>1230</th>\n",
       "      <td>69340</td>\n",
       "      <td>2023-03-30</td>\n",
       "      <td>2697.0</td>\n",
       "      <td>7.914385e+17</td>\n",
       "      <td>446637412.0</td>\n",
       "      <td>Liliana</td>\n",
       "      <td>apartment gut located host always available qu...</td>\n",
       "      <td>493068067.0</td>\n",
       "      <td>Nazar</td>\n",
       "      <td>mysig lägenhet bright beautiful spacious apart...</td>\n",
       "      <td>...</td>\n",
       "      <td>5.00</td>\n",
       "      <td>5.00</td>\n",
       "      <td>en</td>\n",
       "      <td>en</td>\n",
       "      <td>0.0000</td>\n",
       "      <td>0</td>\n",
       "      <td>1</td>\n",
       "      <td>0.928</td>\n",
       "      <td>apartment, stay, location, place, need, host, ...</td>\n",
       "      <td>[apartment, gut, locate, host_alway, available...</td>\n",
       "    </tr>\n",
       "    <tr>\n",
       "      <th>1231</th>\n",
       "      <td>69351</td>\n",
       "      <td>2023-02-17</td>\n",
       "      <td>2640.0</td>\n",
       "      <td>7.614526e+17</td>\n",
       "      <td>27141590.0</td>\n",
       "      <td>Martynas</td>\n",
       "      <td>cosy place close city</td>\n",
       "      <td>168568871.0</td>\n",
       "      <td>Casper Fredrik</td>\n",
       "      <td>private apartment house private stylish apartm...</td>\n",
       "      <td>...</td>\n",
       "      <td>4.86</td>\n",
       "      <td>4.71</td>\n",
       "      <td>en</td>\n",
       "      <td>en</td>\n",
       "      <td>0.0000</td>\n",
       "      <td>0</td>\n",
       "      <td>1</td>\n",
       "      <td>0.867</td>\n",
       "      <td>apartment, stay, location, place, need, host, ...</td>\n",
       "      <td>[cosy, place, close_city]</td>\n",
       "    </tr>\n",
       "    <tr>\n",
       "      <th>1232</th>\n",
       "      <td>69477</td>\n",
       "      <td>2023-02-24</td>\n",
       "      <td>2723.0</td>\n",
       "      <td>8.021823e+17</td>\n",
       "      <td>286560136.0</td>\n",
       "      <td>Valerie</td>\n",
       "      <td>difficult locate reach landlord particularly s...</td>\n",
       "      <td>465046893.0</td>\n",
       "      <td>Thomas</td>\n",
       "      <td>apartment stockholm city one room apartment 28...</td>\n",
       "      <td>...</td>\n",
       "      <td>3.00</td>\n",
       "      <td>1.00</td>\n",
       "      <td>en</td>\n",
       "      <td>en</td>\n",
       "      <td>-0.0534</td>\n",
       "      <td>0</td>\n",
       "      <td>1</td>\n",
       "      <td>0.820</td>\n",
       "      <td>apartment, stay, location, place, need, host, ...</td>\n",
       "      <td>[difficult, locate, reach, particularly, safe,...</td>\n",
       "    </tr>\n",
       "    <tr>\n",
       "      <th>1233</th>\n",
       "      <td>69540</td>\n",
       "      <td>2023-03-10</td>\n",
       "      <td>2777.0</td>\n",
       "      <td>8.308865e+17</td>\n",
       "      <td>7781365.0</td>\n",
       "      <td>Lotta</td>\n",
       "      <td>wanted cancel place bed space bedding two peop...</td>\n",
       "      <td>501923445.0</td>\n",
       "      <td>Sidar</td>\n",
       "      <td>super apartment good location enjoy stylish ex...</td>\n",
       "      <td>...</td>\n",
       "      <td>4.00</td>\n",
       "      <td>3.00</td>\n",
       "      <td>en</td>\n",
       "      <td>en</td>\n",
       "      <td>-0.6705</td>\n",
       "      <td>0</td>\n",
       "      <td>0</td>\n",
       "      <td>0.911</td>\n",
       "      <td>host, room, leave, clean, place, bed, get, rea...</td>\n",
       "      <td>[want, cancel, place, bed, space, bed, two_peo...</td>\n",
       "    </tr>\n",
       "    <tr>\n",
       "      <th>1234</th>\n",
       "      <td>69548</td>\n",
       "      <td>2023-03-03</td>\n",
       "      <td>2737.0</td>\n",
       "      <td>8.088709e+17</td>\n",
       "      <td>167539477.0</td>\n",
       "      <td>Albert</td>\n",
       "      <td>dont go like photos dirty wont want stay save ...</td>\n",
       "      <td>495419064.0</td>\n",
       "      <td>Anastasiya</td>\n",
       "      <td>family living wellness option big beautiful pl...</td>\n",
       "      <td>...</td>\n",
       "      <td>3.00</td>\n",
       "      <td>3.00</td>\n",
       "      <td>en</td>\n",
       "      <td>en</td>\n",
       "      <td>-0.7820</td>\n",
       "      <td>0</td>\n",
       "      <td>1</td>\n",
       "      <td>0.507</td>\n",
       "      <td>apartment, stay, location, place, need, host, ...</td>\n",
       "      <td>[go, photo, dirty, wont_want, stay, save, time]</td>\n",
       "    </tr>\n",
       "  </tbody>\n",
       "</table>\n",
       "<p>1235 rows × 34 columns</p>\n",
       "</div>"
      ],
      "text/plain": [
       "      level_0       date  listing_id_encod    listing_id  reviewer_id  \\\n",
       "0          74 2014-06-08               2.0  1.644480e+05   13461507.0   \n",
       "1         341 2016-10-29             103.0  2.106913e+06   97097053.0   \n",
       "2         347 2018-07-28             103.0  2.106913e+06  196417596.0   \n",
       "3         488 2017-03-27             105.0  2.166026e+06  110430708.0   \n",
       "4         522 2018-08-16             105.0  2.166026e+06  116636414.0   \n",
       "...       ...        ...               ...           ...          ...   \n",
       "1230    69340 2023-03-30            2697.0  7.914385e+17  446637412.0   \n",
       "1231    69351 2023-02-17            2640.0  7.614526e+17   27141590.0   \n",
       "1232    69477 2023-02-24            2723.0  8.021823e+17  286560136.0   \n",
       "1233    69540 2023-03-10            2777.0  8.308865e+17    7781365.0   \n",
       "1234    69548 2023-03-03            2737.0  8.088709e+17  167539477.0   \n",
       "\n",
       "     reviewer_name                                           comments  \\\n",
       "0           Sherry  stayed three nights couldnt helpful soon got s...   \n",
       "1            Maxim                                          cozy flat   \n",
       "2            Elena                    smallclean apartment every time   \n",
       "3           Jerome   nothing short amazing 1010 would book thank host   \n",
       "4               宇星  house really big location convenient get city ...   \n",
       "...            ...                                                ...   \n",
       "1230       Liliana  apartment gut located host always available qu...   \n",
       "1231      Martynas                              cosy place close city   \n",
       "1232       Valerie  difficult locate reach landlord particularly s...   \n",
       "1233         Lotta  wanted cancel place bed space bedding two peop...   \n",
       "1234        Albert  dont go like photos dirty wont want stay save ...   \n",
       "\n",
       "          host_id       host_name  \\\n",
       "0        784312.0              Li   \n",
       "1      10741379.0             Moa   \n",
       "2      10741379.0             Moa   \n",
       "3       4455221.0            Janu   \n",
       "4       4455221.0            Janu   \n",
       "...           ...             ...   \n",
       "1230  493068067.0           Nazar   \n",
       "1231  168568871.0  Casper Fredrik   \n",
       "1232  465046893.0          Thomas   \n",
       "1233  501923445.0           Sidar   \n",
       "1234  495419064.0      Anastasiya   \n",
       "\n",
       "                                       host_description  ...  \\\n",
       "0     double room central stockholm wifi renting nic...  ...   \n",
       "1     cosy quiet studio kungsholmen set district cen...  ...   \n",
       "2     cosy quiet studio kungsholmen set district cen...  ...   \n",
       "3     stockholm house close fairtown cool retro vill...  ...   \n",
       "4     stockholm house close fairtown cool retro vill...  ...   \n",
       "...                                                 ...  ...   \n",
       "1230  mysig lägenhet bright beautiful spacious apart...  ...   \n",
       "1231  private apartment house private stylish apartm...  ...   \n",
       "1232  apartment stockholm city one room apartment 28...  ...   \n",
       "1233  super apartment good location enjoy stylish ex...  ...   \n",
       "1234  family living wellness option big beautiful pl...  ...   \n",
       "\n",
       "     review_scores_location  review_scores_value  comments_language  \\\n",
       "0                      4.83                 4.77                 en   \n",
       "1                      4.73                 4.61                 en   \n",
       "2                      4.73                 4.61                 en   \n",
       "3                      4.70                 4.74                 en   \n",
       "4                      4.70                 4.74                 en   \n",
       "...                     ...                  ...                ...   \n",
       "1230                   5.00                 5.00                 en   \n",
       "1231                   4.86                 4.71                 en   \n",
       "1232                   3.00                 1.00                 en   \n",
       "1233                   4.00                 3.00                 en   \n",
       "1234                   3.00                 3.00                 en   \n",
       "\n",
       "     description_language  sentiment_label  sentiment_label_class  \\\n",
       "0                      en          -0.1869                      0   \n",
       "1                      en           0.0000                      0   \n",
       "2                      en           0.0000                      0   \n",
       "3                      en          -0.1461                      0   \n",
       "4                      en           0.0000                      0   \n",
       "...                   ...              ...                    ...   \n",
       "1230                   en           0.0000                      0   \n",
       "1231                   en           0.0000                      0   \n",
       "1232                   en          -0.0534                      0   \n",
       "1233                   en          -0.6705                      0   \n",
       "1234                   en          -0.7820                      0   \n",
       "\n",
       "     dominant_topic  percent_contribution  \\\n",
       "0                 1                 0.631   \n",
       "1                 1                 0.507   \n",
       "2                 1                 0.831   \n",
       "3                 1                 0.890   \n",
       "4                 1                 0.711   \n",
       "...             ...                   ...   \n",
       "1230              1                 0.928   \n",
       "1231              1                 0.867   \n",
       "1232              1                 0.820   \n",
       "1233              0                 0.911   \n",
       "1234              1                 0.507   \n",
       "\n",
       "                                         topic_keywords  \\\n",
       "0     apartment, stay, location, place, need, host, ...   \n",
       "1     apartment, stay, location, place, need, host, ...   \n",
       "2     apartment, stay, location, place, need, host, ...   \n",
       "3     apartment, stay, location, place, need, host, ...   \n",
       "4     apartment, stay, location, place, need, host, ...   \n",
       "...                                                 ...   \n",
       "1230  apartment, stay, location, place, need, host, ...   \n",
       "1231  apartment, stay, location, place, need, host, ...   \n",
       "1232  apartment, stay, location, place, need, host, ...   \n",
       "1233  host, room, leave, clean, place, bed, get, rea...   \n",
       "1234  apartment, stay, location, place, need, host, ...   \n",
       "\n",
       "                                                   text  \n",
       "0     [night, couldnt_helpful, soon, get, get_around...  \n",
       "1                                          [cozy, flat]  \n",
       "2                   [smallclean, apartment, every_time]  \n",
       "3             [short, amazing, would_book, thank, host]  \n",
       "4     [really, big, location, convenient, get_city, ...  \n",
       "...                                                 ...  \n",
       "1230  [apartment, gut, locate, host_alway, available...  \n",
       "1231                          [cosy, place, close_city]  \n",
       "1232  [difficult, locate, reach, particularly, safe,...  \n",
       "1233  [want, cancel, place, bed, space, bed, two_peo...  \n",
       "1234    [go, photo, dirty, wont_want, stay, save, time]  \n",
       "\n",
       "[1235 rows x 34 columns]"
      ]
     },
     "execution_count": 21,
     "metadata": {},
     "output_type": "execute_result"
    }
   ],
   "source": [
    "def format_topics_sentences(ldamodel=None, corpus=corpus, texts=data):\n",
    "    # Init output\n",
    "    sent_topics_df = pd.DataFrame()\n",
    "\n",
    "    # Get main topic in each document\n",
    "    for i, row_list in enumerate(ldamodel[corpus]):\n",
    "        row = row_list[0] if ldamodel.per_word_topics else row_list            \n",
    "        # print(row)\n",
    "        row = sorted(row, key=lambda x: (x[1]), reverse=True)\n",
    "        # Get the Dominant topic, Perc Contribution and Keywords for each document\n",
    "        for j, (topic_num, prop_topic) in enumerate(row):\n",
    "            if j == 0:  # => dominant topic\n",
    "                wp = ldamodel.show_topic(topic_num)\n",
    "                topic_keywords = \", \".join([word for word, prop in wp])\n",
    "                sent_topics_df = sent_topics_df.append(pd.Series([int(topic_num), round(prop_topic,3), topic_keywords]), ignore_index=True)\n",
    "            else:\n",
    "                break\n",
    "    sent_topics_df.columns = ['dominant_topic', 'percent_contribution', 'topic_keywords']\n",
    "\n",
    "    # Add original text to the end of the output\n",
    "    contents = pd.Series(texts)\n",
    "    contents.name = 'text'\n",
    "    sent_topics_df = (df_hosts_reviews_en.merge(sent_topics_df, left_index=True, right_index=True)\n",
    "                                    .merge(contents, left_index=True, right_index=True)\n",
    "                                    .drop('index', axis=1))\n",
    "    return(sent_topics_df)\n",
    "\n",
    "\n",
    "df_dominant_topic = format_topics_sentences(ldamodel=lda_model, corpus=corpus, texts=data_ready)\n",
    "df_dominant_topic"
   ]
  },
  {
   "cell_type": "code",
   "execution_count": 22,
   "metadata": {},
   "outputs": [
    {
     "data": {
      "text/html": [
       "\n",
       "<link rel=\"stylesheet\" type=\"text/css\" href=\"https://cdn.jsdelivr.net/gh/bmabey/pyLDAvis@3.4.0/pyLDAvis/js/ldavis.v1.0.0.css\">\n",
       "\n",
       "\n",
       "<div id=\"ldavis_el99420120444747848787389424\" style=\"background-color:white;\"></div>\n",
       "<script type=\"text/javascript\">\n",
       "\n",
       "var ldavis_el99420120444747848787389424_data = {\"mdsDat\": {\"x\": [0.12990054284072608, -0.12990054284072608], \"y\": [0.0, 0.0], \"topics\": [1, 2], \"cluster\": [1, 1], \"Freq\": [65.05145617298554, 34.948543827014454]}, \"tinfo\": {\"Term\": [\"apartment\", \"stay\", \"location\", \"need\", \"room\", \"leave\", \"photo\", \"price\", \"clean\", \"bed\", \"cosy\", \"place\", \"bathroom\", \"get\", \"locate\", \"close\", \"shower\", \"city\", \"spacious\", \"old_town\", \"go\", \"bad\", \"ask\", \"break\", \"make\", \"issue\", \"cozy\", \"dirty\", \"recommend\", \"cafe\", \"room\", \"leave\", \"bed\", \"bathroom\", \"clean\", \"shower\", \"make\", \"dirty\", \"airbnb\", \"arrive\", \"break\", \"bad\", \"ask\", \"find\", \"hour\", \"wait\", \"get\", \"look\", \"owner\", \"money\", \"good\", \"check\", \"thing\", \"towel\", \"floor\", \"toilet\", \"cold\", \"guest\", \"window\", \"kitchen\", \"go\", \"work\", \"come\", \"pay\", \"door\", \"host\", \"really\", \"time\", \"nice\", \"place\", \"rule\", \"location\", \"locate\", \"need\", \"cosy\", \"cozy\", \"city\", \"convenient\", \"recommend\", \"quiet\", \"close\", \"restaurant\", \"perfect\", \"cafe\", \"available\", \"host_alway\", \"old_town\", \"price\", \"central\", \"elevator\", \"close_city\", \"great\", \"exactly\", \"gut\", \"spacious\", \"cant_beat\", \"incredible\", \"choice\", \"close_transport\", \"renovate\", \"newly\", \"describe\", \"hostel\", \"question\", \"center\", \"apartment\", \"photo\", \"stay\", \"absolutely\", \"minute\", \"area\", \"advertise\", \"issue\", \"many\", \"place\", \"different\", \"problem\", \"little\", \"host\", \"general\"], \"Freq\": [374.0, 262.0, 111.0, 84.0, 175.0, 152.0, 59.0, 49.0, 124.0, 111.0, 39.0, 223.0, 94.0, 104.0, 32.0, 33.0, 87.0, 31.0, 31.0, 30.0, 91.0, 78.0, 78.0, 76.0, 68.0, 39.0, 24.0, 64.0, 23.0, 23.0, 175.07184346760525, 151.90432730576782, 110.98107539377757, 94.40139707681814, 123.32262447100779, 86.62186659444694, 68.17654471846122, 64.41472335392292, 63.083626883292816, 59.87795951456854, 75.95290530874493, 77.9183043279525, 77.37934576062, 51.0376963385196, 52.355124366318385, 56.08765856496692, 103.54047614614717, 48.697997340621065, 46.66599762509355, 50.59602653891207, 57.5723162550588, 31.794987283864373, 36.48618310159884, 43.987925007786764, 40.754357644320194, 34.23279087093501, 36.536651409504735, 54.38643736345607, 41.87877660147141, 69.92899511185391, 89.74222705791212, 55.96819154012377, 54.27877090742387, 38.87586421078327, 52.11186673764967, 267.2489322110059, 101.75710694397046, 76.14968583678949, 63.11852316499077, 115.84218456927262, 51.524074252179076, 110.22424804784114, 32.364549210452566, 82.81734528369046, 39.34538618066801, 24.080282897395644, 30.657917365617116, 19.85429064498911, 23.215785270279845, 20.063967161672764, 32.9765516377892, 20.492778231916137, 17.93684005838933, 23.281997431384315, 17.636405347310575, 12.302776478618265, 29.929139394825448, 47.596318410879455, 11.632933780206479, 12.332303882399637, 12.084957549941523, 16.0071452321327, 15.484209797715115, 11.714239102826005, 30.510478834143527, 8.975516139401963, 13.357513611387184, 9.706822795821207, 10.950562023739174, 10.948396370889178, 10.947471080029247, 22.99086580416681, 23.13262567658296, 21.85755273545371, 19.298851971034093, 345.20757305260383, 54.400255116403365, 211.8234984332352, 20.316964114071347, 24.53486634336123, 16.722929285824385, 22.14681902352137, 32.05944524852721, 25.359052574735625, 108.08505822128966, 24.83076019323423, 46.210699037490976, 26.6008814533423, 61.30186239652638, 20.15931196530656], \"Total\": [374.0, 262.0, 111.0, 84.0, 175.0, 152.0, 59.0, 49.0, 124.0, 111.0, 39.0, 223.0, 94.0, 104.0, 32.0, 33.0, 87.0, 31.0, 31.0, 30.0, 91.0, 78.0, 78.0, 76.0, 68.0, 39.0, 24.0, 64.0, 23.0, 23.0, 175.6044433123338, 152.51618487970578, 111.52888037202119, 94.94730982971917, 124.10759320113826, 87.17943771703449, 68.63526176668199, 64.92114361009568, 63.60157744233003, 60.39453076118901, 76.61222692803523, 78.63163809486339, 78.13138153329872, 51.572473642042155, 52.9282705266269, 56.73059814570102, 104.72886975429466, 49.28700155848744, 47.2419726463789, 51.23473175181438, 58.33238620320508, 32.23414492661969, 37.002814300278615, 44.621791305514634, 41.355901942197605, 34.73820669952956, 37.08599595663132, 55.23008375657928, 42.53487671991339, 71.04669159145725, 91.19517333177241, 57.02845081095837, 55.95404229120619, 39.537359922328825, 54.205066878338066, 328.5507946075323, 116.80735827986415, 88.97791831886641, 71.84288629287052, 223.92724279056227, 54.842625494090946, 111.01285681949356, 32.79493927422793, 84.05990538415365, 39.958246076282514, 24.48901854142458, 31.244969053624672, 20.245986573931425, 23.718249605141146, 20.498377489501728, 33.808054556866814, 21.03206281880422, 18.410460976200397, 23.90612371474229, 18.119018069878372, 12.67210465908671, 30.852069425131987, 49.09215639139667, 12.038602840345698, 12.776567245685982, 12.531501848359712, 16.627975739338346, 16.093289952392063, 12.181272073603973, 31.737665970892028, 9.36931261113909, 13.94720663292155, 10.148320143273088, 11.458281986117496, 11.4568527529008, 11.456027164967095, 24.07657890935245, 24.323274158764416, 22.981331671065597, 20.26935098420464, 374.46903095272785, 59.524694699102064, 262.8431587999641, 21.763581725676598, 26.8902055242679, 17.77614619008455, 24.579483210162472, 39.98364257377502, 30.159245708741793, 223.92724279056227, 30.36953165980024, 92.87285653334857, 36.5732905418649, 328.5507946075323, 23.51626717226306], \"Category\": [\"Default\", \"Default\", \"Default\", \"Default\", \"Default\", \"Default\", \"Default\", \"Default\", \"Default\", \"Default\", \"Default\", \"Default\", \"Default\", \"Default\", \"Default\", \"Default\", \"Default\", \"Default\", \"Default\", \"Default\", \"Default\", \"Default\", \"Default\", \"Default\", \"Default\", \"Default\", \"Default\", \"Default\", \"Default\", \"Default\", \"Topic1\", \"Topic1\", \"Topic1\", \"Topic1\", \"Topic1\", \"Topic1\", \"Topic1\", \"Topic1\", \"Topic1\", \"Topic1\", \"Topic1\", \"Topic1\", \"Topic1\", \"Topic1\", \"Topic1\", \"Topic1\", \"Topic1\", \"Topic1\", \"Topic1\", \"Topic1\", \"Topic1\", \"Topic1\", \"Topic1\", \"Topic1\", \"Topic1\", \"Topic1\", \"Topic1\", \"Topic1\", \"Topic1\", \"Topic1\", \"Topic1\", \"Topic1\", \"Topic1\", \"Topic1\", \"Topic1\", \"Topic1\", \"Topic1\", \"Topic1\", \"Topic1\", \"Topic1\", \"Topic1\", \"Topic2\", \"Topic2\", \"Topic2\", \"Topic2\", \"Topic2\", \"Topic2\", \"Topic2\", \"Topic2\", \"Topic2\", \"Topic2\", \"Topic2\", \"Topic2\", \"Topic2\", \"Topic2\", \"Topic2\", \"Topic2\", \"Topic2\", \"Topic2\", \"Topic2\", \"Topic2\", \"Topic2\", \"Topic2\", \"Topic2\", \"Topic2\", \"Topic2\", \"Topic2\", \"Topic2\", \"Topic2\", \"Topic2\", \"Topic2\", \"Topic2\", \"Topic2\", \"Topic2\", \"Topic2\", \"Topic2\", \"Topic2\", \"Topic2\", \"Topic2\", \"Topic2\", \"Topic2\", \"Topic2\", \"Topic2\", \"Topic2\", \"Topic2\", \"Topic2\", \"Topic2\", \"Topic2\", \"Topic2\", \"Topic2\"], \"logprob\": [30.0, 29.0, 28.0, 27.0, 26.0, 25.0, 24.0, 23.0, 22.0, 21.0, 20.0, 19.0, 18.0, 17.0, 16.0, 15.0, 14.0, 13.0, 12.0, 11.0, 10.0, 9.0, 8.0, 7.0, 6.0, 5.0, 4.0, 3.0, 2.0, 1.0, -4.2105, -4.3524, -4.6663, -4.8281, -4.5609, -4.9141, -5.1536, -5.2103, -5.2312, -5.2834, -5.0455, -5.02, -5.0269, -5.4431, -5.4176, -5.3487, -4.7357, -5.49, -5.5326, -5.4518, -5.3226, -5.9164, -5.7787, -5.5917, -5.6681, -5.8425, -5.7773, -5.3795, -5.6409, -5.1282, -4.8787, -5.3509, -5.3815, -5.7153, -5.4223, -3.7875, -4.7531, -5.043, -5.2306, -4.6234, -5.4336, -4.0518, -5.2773, -4.3377, -5.082, -5.573, -5.3315, -5.7659, -5.6095, -5.7554, -5.2586, -5.7343, -5.8675, -5.6067, -5.8844, -6.2445, -5.3555, -4.8916, -6.3005, -6.2421, -6.2624, -5.9813, -6.0145, -6.2936, -5.3363, -6.5599, -6.1623, -6.4815, -6.361, -6.3612, -6.3613, -5.6193, -5.6131, -5.6698, -5.7943, -2.9102, -4.758, -3.3986, -5.7429, -5.5543, -5.9376, -5.6567, -5.2868, -5.5212, -4.0714, -5.5423, -4.9211, -5.4734, -4.6386, -5.7507], \"loglift\": [30.0, 29.0, 28.0, 27.0, 26.0, 25.0, 24.0, 23.0, 22.0, 21.0, 20.0, 19.0, 18.0, 17.0, 16.0, 15.0, 14.0, 13.0, 12.0, 11.0, 10.0, 9.0, 8.0, 7.0, 6.0, 5.0, 4.0, 3.0, 2.0, 1.0, 0.427, 0.426, 0.4251, 0.4242, 0.4236, 0.4236, 0.4233, 0.4222, 0.4218, 0.4214, 0.4213, 0.4209, 0.4203, 0.4196, 0.4191, 0.4186, 0.4186, 0.418, 0.4177, 0.4174, 0.4169, 0.4163, 0.4159, 0.4157, 0.4153, 0.4153, 0.4151, 0.4146, 0.4144, 0.4141, 0.4139, 0.4112, 0.3996, 0.4131, 0.3906, 0.2235, 0.2921, 0.2743, 0.3005, -0.2291, 0.3676, 1.0442, 1.0381, 1.0364, 1.0358, 1.0345, 1.0323, 1.0318, 1.0299, 1.0299, 1.0264, 1.0253, 1.0252, 1.0248, 1.0243, 1.0217, 1.0209, 1.0203, 1.017, 1.0159, 1.015, 1.0132, 1.0127, 1.0122, 1.0119, 1.0084, 1.0081, 1.0068, 1.006, 1.0059, 1.0059, 1.0052, 1.0011, 1.0012, 1.0022, 0.9699, 0.9613, 0.8355, 0.9825, 0.9596, 0.9902, 0.9471, 0.8304, 0.8779, 0.3229, 0.8499, 0.3533, 0.7329, -0.6276, 0.8973]}, \"token.table\": {\"Topic\": [1, 2, 1, 2, 1, 2, 1, 2, 1, 2, 1, 2, 1, 2, 2, 1, 2, 1, 2, 1, 2, 1, 2, 1, 2, 2, 1, 2, 2, 1, 2, 1, 2, 1, 2, 1, 2, 2, 1, 2, 1, 2, 1, 2, 2, 1, 2, 2, 1, 2, 1, 2, 1, 2, 1, 2, 2, 1, 2, 1, 2, 1, 2, 1, 2, 1, 2, 1, 2, 1, 2, 1, 2, 1, 2, 2, 1, 2, 2, 1, 2, 1, 2, 1, 2, 1, 2, 1, 2, 1, 2, 1, 2, 2, 1, 2, 1, 2, 1, 1, 2, 1, 2, 1, 2, 1, 2, 1, 2, 1, 2, 1, 2, 1, 2, 1, 2, 2, 1, 2, 1, 2, 1, 2, 1, 2, 1, 2, 2, 1, 2, 1, 2, 1, 2, 1, 2, 1, 2, 1, 2, 1, 2, 1, 2, 1, 2, 1, 2, 1, 2, 1, 2, 1, 2, 1, 2, 1, 2, 1, 2], \"Freq\": [0.045948319196936385, 0.9189663839387278, 0.0813686757731787, 0.8950554335049659, 0.9905414697791811, 0.015722880472685413, 0.07744298620961501, 0.9213044911143855, 0.05625516291927186, 0.9563377696276215, 0.9934674422300083, 0.01655779070383347, 0.9855194991935917, 0.012798954534981711, 0.9934313178882341, 0.9919671253179113, 0.01271752724766553, 0.9900227838848925, 0.010532157275371197, 0.995257906559655, 0.008966287446483378, 0.9920087569232218, 0.01305274680162134, 0.04183028632882569, 0.9620965855629908, 0.960582742142682, 0.0493355707728024, 0.9373758446832456, 0.9967934119218281, 0.9927361210557092, 0.9853847591346039, 0.03200515251859377, 0.9921597280764068, 0.9910755404035335, 0.008057524718727914, 0.029578750185638474, 0.9760987561260697, 0.9575867398184774, 0.0872731183620345, 0.9600043019823795, 0.9976811744052422, 0.026964356065006544, 0.965077727878236, 0.035743619551045776, 0.9878501068331165, 0.025026123471259085, 0.9760188153791043, 0.9800311090214833, 0.04153414003563247, 0.9552852208195469, 0.19756643162008727, 0.823193465083697, 0.9858113465217448, 0.015403302289402263, 0.9593199122272594, 0.03689691970104844, 0.9392194138884847, 0.062137698566188, 0.93206547849282, 0.988899628006684, 0.019390188784444783, 0.9913941680513935, 0.02418034556222911, 0.12757126707330646, 0.850475113822043, 0.993040412295056, 0.009548465502837078, 0.9868943356527838, 0.010965492618364265, 0.9943018582842267, 0.01714313548765908, 0.060139611440147046, 0.9622337830423527, 0.977728012110198, 0.018106074298337, 0.9851187895230764, 0.8126597298872544, 0.18566383341993453, 0.9469618759339422, 0.04111288609718974, 0.945596380235364, 0.98246172570177, 0.01889349472503404, 0.07169894490840623, 0.9320862838092808, 0.2000818205904817, 0.8003272823619269, 0.9852675533791766, 0.014075250762559666, 0.9966155403106044, 0.006556681186253976, 0.27342357911583454, 0.7382436636127532, 0.9757603065649634, 0.009007965641547228, 0.9908762205701952, 0.9941769320629728, 0.020289325144142303, 0.9907443819644559, 0.16578663963570972, 0.8289331981785485, 0.07437652338488221, 0.9297065423110276, 0.9954185033513703, 0.01951800986963471, 0.011896277963078846, 0.9873910709355443, 0.08729029580673767, 0.9601932538741144, 0.8769135435786625, 0.12527336336838035, 0.0324127366051304, 0.9723820981539121, 0.9948780156114534, 0.02116761735343518, 0.9864088061675218, 0.02529253349147492, 0.9777050136478924, 0.08399875085920307, 0.9071865092793931, 0.5180254021548154, 0.48229951235103496, 0.0203698528137022, 0.9777529350577057, 0.5060682071636652, 0.4953007985006085, 0.043513579383175585, 0.9572987464298628, 0.9756869786519946, 0.8732326584735653, 0.12841656742258314, 0.042161627297456254, 0.9697174278414938, 0.08728400561374122, 0.9601240617511534, 0.04754645365103826, 0.9509290730207652, 0.9965579270038245, 0.00569461672573614, 0.9481675891976173, 0.05470197629986254, 0.9979417426662363, 0.01147059474329007, 0.031508303128438706, 0.9767573969815999, 0.19403206167832346, 0.8065646485451877, 0.9728989721662586, 0.02702497144906274, 0.8541445050179979, 0.14610366533202596, 0.9787494298161465, 0.028786747935769016, 0.9860652993229837, 0.022410574984613265, 0.9871216209667906, 0.017627171802978403, 0.9874249848322005, 0.023510118686480966, 0.9819660047514258, 0.017535107227704034], \"Term\": [\"absolutely\", \"absolutely\", \"advertise\", \"advertise\", \"airbnb\", \"airbnb\", \"apartment\", \"apartment\", \"area\", \"area\", \"arrive\", \"arrive\", \"ask\", \"ask\", \"available\", \"bad\", \"bad\", \"bathroom\", \"bathroom\", \"bed\", \"bed\", \"break\", \"break\", \"cafe\", \"cafe\", \"cant_beat\", \"center\", \"center\", \"central\", \"check\", \"choice\", \"city\", \"city\", \"clean\", \"clean\", \"close\", \"close\", \"close_city\", \"close_transport\", \"close_transport\", \"cold\", \"cold\", \"come\", \"come\", \"convenient\", \"cosy\", \"cosy\", \"cozy\", \"describe\", \"describe\", \"different\", \"different\", \"dirty\", \"dirty\", \"door\", \"door\", \"elevator\", \"exactly\", \"exactly\", \"find\", \"find\", \"floor\", \"floor\", \"general\", \"general\", \"get\", \"get\", \"go\", \"go\", \"good\", \"good\", \"great\", \"great\", \"guest\", \"guest\", \"gut\", \"host\", \"host\", \"host_alway\", \"hostel\", \"hostel\", \"hour\", \"hour\", \"incredible\", \"incredible\", \"issue\", \"issue\", \"kitchen\", \"kitchen\", \"leave\", \"leave\", \"little\", \"little\", \"locate\", \"location\", \"location\", \"look\", \"look\", \"make\", \"many\", \"many\", \"minute\", \"minute\", \"money\", \"money\", \"need\", \"need\", \"newly\", \"newly\", \"nice\", \"nice\", \"old_town\", \"old_town\", \"owner\", \"owner\", \"pay\", \"pay\", \"perfect\", \"photo\", \"photo\", \"place\", \"place\", \"price\", \"price\", \"problem\", \"problem\", \"question\", \"question\", \"quiet\", \"really\", \"really\", \"recommend\", \"recommend\", \"renovate\", \"renovate\", \"restaurant\", \"restaurant\", \"room\", \"room\", \"rule\", \"rule\", \"shower\", \"shower\", \"spacious\", \"spacious\", \"stay\", \"stay\", \"thing\", \"thing\", \"time\", \"time\", \"toilet\", \"toilet\", \"towel\", \"towel\", \"wait\", \"wait\", \"window\", \"window\", \"work\", \"work\"]}, \"R\": 30, \"lambda.step\": 0.01, \"plot.opts\": {\"xlab\": \"PC1\", \"ylab\": \"PC2\"}, \"topic.order\": [1, 2]};\n",
       "\n",
       "function LDAvis_load_lib(url, callback){\n",
       "  var s = document.createElement('script');\n",
       "  s.src = url;\n",
       "  s.async = true;\n",
       "  s.onreadystatechange = s.onload = callback;\n",
       "  s.onerror = function(){console.warn(\"failed to load library \" + url);};\n",
       "  document.getElementsByTagName(\"head\")[0].appendChild(s);\n",
       "}\n",
       "\n",
       "if(typeof(LDAvis) !== \"undefined\"){\n",
       "   // already loaded: just create the visualization\n",
       "   !function(LDAvis){\n",
       "       new LDAvis(\"#\" + \"ldavis_el99420120444747848787389424\", ldavis_el99420120444747848787389424_data);\n",
       "   }(LDAvis);\n",
       "}else if(typeof define === \"function\" && define.amd){\n",
       "   // require.js is available: use it to load d3/LDAvis\n",
       "   require.config({paths: {d3: \"https://d3js.org/d3.v5\"}});\n",
       "   require([\"d3\"], function(d3){\n",
       "      window.d3 = d3;\n",
       "      LDAvis_load_lib(\"https://cdn.jsdelivr.net/gh/bmabey/pyLDAvis@3.4.0/pyLDAvis/js/ldavis.v3.0.0.js\", function(){\n",
       "        new LDAvis(\"#\" + \"ldavis_el99420120444747848787389424\", ldavis_el99420120444747848787389424_data);\n",
       "      });\n",
       "    });\n",
       "}else{\n",
       "    // require.js not available: dynamically load d3 & LDAvis\n",
       "    LDAvis_load_lib(\"https://d3js.org/d3.v5.js\", function(){\n",
       "         LDAvis_load_lib(\"https://cdn.jsdelivr.net/gh/bmabey/pyLDAvis@3.4.0/pyLDAvis/js/ldavis.v3.0.0.js\", function(){\n",
       "                 new LDAvis(\"#\" + \"ldavis_el99420120444747848787389424\", ldavis_el99420120444747848787389424_data);\n",
       "            })\n",
       "         });\n",
       "}\n",
       "</script>"
      ],
      "text/plain": [
       "PreparedData(topic_coordinates=              x    y  topics  cluster       Freq\n",
       "topic                                           \n",
       "0      0.129901  0.0       1        1  65.051456\n",
       "1     -0.129901  0.0       2        1  34.948544, topic_info=           Term        Freq       Total Category  logprob  loglift\n",
       "22    apartment  374.000000  374.000000  Default  30.0000  30.0000\n",
       "35         stay  262.000000  262.000000  Default  29.0000  29.0000\n",
       "34     location  111.000000  111.000000  Default  28.0000  28.0000\n",
       "144        need   84.000000   84.000000  Default  27.0000  27.0000\n",
       "331        room  175.000000  175.000000  Default  26.0000  26.0000\n",
       "...         ...         ...         ...      ...      ...      ...\n",
       "496   different   24.830760   30.369532   Topic2  -5.5423   0.8499\n",
       "239     problem   46.210699   92.872857   Topic2  -4.9211   0.3533\n",
       "187      little   26.600881   36.573291   Topic2  -5.4734   0.7329\n",
       "26         host   61.301862  328.550795   Topic2  -4.6386  -0.6276\n",
       "1236    general   20.159312   23.516267   Topic2  -5.7507   0.8973\n",
       "\n",
       "[120 rows x 6 columns], token_table=      Topic      Freq        Term\n",
       "term                             \n",
       "680       1  0.045948  absolutely\n",
       "680       2  0.918966  absolutely\n",
       "135       1  0.081369   advertise\n",
       "135       2  0.895055   advertise\n",
       "267       1  0.990541      airbnb\n",
       "...     ...       ...         ...\n",
       "134       2  0.017627        wait\n",
       "350       1  0.987425      window\n",
       "350       2  0.023510      window\n",
       "544       1  0.981966        work\n",
       "544       2  0.017535        work\n",
       "\n",
       "[161 rows x 3 columns], R=30, lambda_step=0.01, plot_opts={'xlab': 'PC1', 'ylab': 'PC2'}, topic_order=[1, 2])"
      ]
     },
     "execution_count": 22,
     "metadata": {},
     "output_type": "execute_result"
    }
   ],
   "source": [
    "pyLDAvis.enable_notebook()\n",
    "vis = pyLDAvis.gensim_models.prepare(lda_model, corpus, dictionary=lda_model.id2word)\n",
    "vis"
   ]
  },
  {
   "cell_type": "code",
   "execution_count": 23,
   "metadata": {},
   "outputs": [],
   "source": [
    "topics = lda_model.show_topics(formatted=False)"
   ]
  },
  {
   "cell_type": "code",
   "execution_count": 24,
   "metadata": {},
   "outputs": [
    {
     "data": {
      "image/png": "[encoded data removed]",
      "text/plain": [
       "<Figure size 1000x1000 with 2 Axes>"
      ]
     },
     "metadata": {},
     "output_type": "display_data"
    }
   ],
   "source": [
    "cols = [color for name, color in mcolors.TABLEAU_COLORS.items()]\n",
    "cloud = WordCloud(stopwords=stop_words,\n",
    "                  background_color='white',\n",
    "                  width=2500,\n",
    "                  height=1800,\n",
    "                  max_words=20,\n",
    "                  colormap='tab10',\n",
    "                  color_func=lambda *args, **kwargs: cols[i],\n",
    "                  prefer_horizontal=1.0)\n",
    "\n",
    "fig, axes = plt.subplots(1, 2, figsize=(10,10), sharex=True, sharey=True)\n",
    "\n",
    "groups = {0: 'Issues and Complaints',\n",
    "          1: 'Location and Accessibility',\n",
    "          2: 'Host and Service Experience'\n",
    "        }\n",
    "\n",
    "for i, ax in enumerate(axes.flatten()):\n",
    "    fig.add_subplot(ax)\n",
    "    topic_words = dict(topics[i][1])\n",
    "    cloud.generate_from_frequencies(topic_words, max_font_size=350)\n",
    "    plt.gca().imshow(cloud)\n",
    "    plt.gca().set_title(groups.get(i), fontdict=dict(size=14))\n",
    "    plt.gca().axis('off')\n",
    "\n",
    "\n",
    "plt.subplots_adjust(wspace=30, hspace=10)\n",
    "plt.axis('off')\n",
    "#plt.margins(x=0, y=0)\n",
    "plt.tight_layout()\n",
    "plt.show()"
   ]
  },
  {
   "cell_type": "code",
   "execution_count": 25,
   "metadata": {},
   "outputs": [
    {
     "data": {
      "text/html": [
       "<div>\n",
       "<style scoped>\n",
       "    .dataframe tbody tr th:only-of-type {\n",
       "        vertical-align: middle;\n",
       "    }\n",
       "\n",
       "    .dataframe tbody tr th {\n",
       "        vertical-align: top;\n",
       "    }\n",
       "\n",
       "    .dataframe thead th {\n",
       "        text-align: right;\n",
       "    }\n",
       "</style>\n",
       "<table border=\"1\" class=\"dataframe\">\n",
       "  <thead>\n",
       "    <tr style=\"text-align: right;\">\n",
       "      <th></th>\n",
       "      <th>neighbourhood</th>\n",
       "      <th>dominant_topic</th>\n",
       "      <th>number_of_reviews</th>\n",
       "    </tr>\n",
       "  </thead>\n",
       "  <tbody>\n",
       "    <tr>\n",
       "      <th>0</th>\n",
       "      <td>Södermalms</td>\n",
       "      <td>0</td>\n",
       "      <td>313</td>\n",
       "    </tr>\n",
       "    <tr>\n",
       "      <th>1</th>\n",
       "      <td>Södermalms</td>\n",
       "      <td>1</td>\n",
       "      <td>287</td>\n",
       "    </tr>\n",
       "    <tr>\n",
       "      <th>2</th>\n",
       "      <td>Kungsholmens</td>\n",
       "      <td>0</td>\n",
       "      <td>85</td>\n",
       "    </tr>\n",
       "    <tr>\n",
       "      <th>3</th>\n",
       "      <td>Kungsholmens</td>\n",
       "      <td>1</td>\n",
       "      <td>83</td>\n",
       "    </tr>\n",
       "    <tr>\n",
       "      <th>4</th>\n",
       "      <td>Norrmalms</td>\n",
       "      <td>1</td>\n",
       "      <td>78</td>\n",
       "    </tr>\n",
       "    <tr>\n",
       "      <th>5</th>\n",
       "      <td>Norrmalms</td>\n",
       "      <td>0</td>\n",
       "      <td>71</td>\n",
       "    </tr>\n",
       "    <tr>\n",
       "      <th>6</th>\n",
       "      <td>Enskede-Årsta-Vantörs</td>\n",
       "      <td>1</td>\n",
       "      <td>38</td>\n",
       "    </tr>\n",
       "    <tr>\n",
       "      <th>7</th>\n",
       "      <td>Enskede-Årsta-Vantörs</td>\n",
       "      <td>0</td>\n",
       "      <td>31</td>\n",
       "    </tr>\n",
       "    <tr>\n",
       "      <th>8</th>\n",
       "      <td>Hägersten-Liljeholmens</td>\n",
       "      <td>1</td>\n",
       "      <td>24</td>\n",
       "    </tr>\n",
       "    <tr>\n",
       "      <th>9</th>\n",
       "      <td>Östermalms</td>\n",
       "      <td>1</td>\n",
       "      <td>23</td>\n",
       "    </tr>\n",
       "    <tr>\n",
       "      <th>10</th>\n",
       "      <td>Hägersten-Liljeholmens</td>\n",
       "      <td>0</td>\n",
       "      <td>19</td>\n",
       "    </tr>\n",
       "    <tr>\n",
       "      <th>11</th>\n",
       "      <td>Skarpnäcks</td>\n",
       "      <td>1</td>\n",
       "      <td>19</td>\n",
       "    </tr>\n",
       "    <tr>\n",
       "      <th>12</th>\n",
       "      <td>Östermalms</td>\n",
       "      <td>0</td>\n",
       "      <td>18</td>\n",
       "    </tr>\n",
       "    <tr>\n",
       "      <th>13</th>\n",
       "      <td>Skarpnäcks</td>\n",
       "      <td>0</td>\n",
       "      <td>18</td>\n",
       "    </tr>\n",
       "    <tr>\n",
       "      <th>14</th>\n",
       "      <td>Älvsjö</td>\n",
       "      <td>0</td>\n",
       "      <td>16</td>\n",
       "    </tr>\n",
       "    <tr>\n",
       "      <th>15</th>\n",
       "      <td>Bromma</td>\n",
       "      <td>1</td>\n",
       "      <td>15</td>\n",
       "    </tr>\n",
       "    <tr>\n",
       "      <th>16</th>\n",
       "      <td>Skärholmens</td>\n",
       "      <td>1</td>\n",
       "      <td>15</td>\n",
       "    </tr>\n",
       "    <tr>\n",
       "      <th>17</th>\n",
       "      <td>Farsta</td>\n",
       "      <td>1</td>\n",
       "      <td>14</td>\n",
       "    </tr>\n",
       "    <tr>\n",
       "      <th>18</th>\n",
       "      <td>Hässelby-Vällingby</td>\n",
       "      <td>1</td>\n",
       "      <td>11</td>\n",
       "    </tr>\n",
       "    <tr>\n",
       "      <th>19</th>\n",
       "      <td>Älvsjö</td>\n",
       "      <td>1</td>\n",
       "      <td>11</td>\n",
       "    </tr>\n",
       "    <tr>\n",
       "      <th>20</th>\n",
       "      <td>Skärholmens</td>\n",
       "      <td>0</td>\n",
       "      <td>9</td>\n",
       "    </tr>\n",
       "    <tr>\n",
       "      <th>21</th>\n",
       "      <td>Farsta</td>\n",
       "      <td>0</td>\n",
       "      <td>8</td>\n",
       "    </tr>\n",
       "    <tr>\n",
       "      <th>22</th>\n",
       "      <td>Bromma</td>\n",
       "      <td>0</td>\n",
       "      <td>7</td>\n",
       "    </tr>\n",
       "    <tr>\n",
       "      <th>23</th>\n",
       "      <td>Spånga-Tensta</td>\n",
       "      <td>1</td>\n",
       "      <td>5</td>\n",
       "    </tr>\n",
       "    <tr>\n",
       "      <th>24</th>\n",
       "      <td>Rinkeby-Tensta</td>\n",
       "      <td>1</td>\n",
       "      <td>5</td>\n",
       "    </tr>\n",
       "    <tr>\n",
       "      <th>25</th>\n",
       "      <td>Hässelby-Vällingby</td>\n",
       "      <td>0</td>\n",
       "      <td>5</td>\n",
       "    </tr>\n",
       "    <tr>\n",
       "      <th>26</th>\n",
       "      <td>Spånga-Tensta</td>\n",
       "      <td>0</td>\n",
       "      <td>4</td>\n",
       "    </tr>\n",
       "    <tr>\n",
       "      <th>27</th>\n",
       "      <td>Rinkeby-Tensta</td>\n",
       "      <td>0</td>\n",
       "      <td>3</td>\n",
       "    </tr>\n",
       "  </tbody>\n",
       "</table>\n",
       "</div>"
      ],
      "text/plain": [
       "             neighbourhood  dominant_topic  number_of_reviews\n",
       "0               Södermalms               0                313\n",
       "1               Södermalms               1                287\n",
       "2             Kungsholmens               0                 85\n",
       "3             Kungsholmens               1                 83\n",
       "4                Norrmalms               1                 78\n",
       "5                Norrmalms               0                 71\n",
       "6    Enskede-Årsta-Vantörs               1                 38\n",
       "7    Enskede-Årsta-Vantörs               0                 31\n",
       "8   Hägersten-Liljeholmens               1                 24\n",
       "9               Östermalms               1                 23\n",
       "10  Hägersten-Liljeholmens               0                 19\n",
       "11              Skarpnäcks               1                 19\n",
       "12              Östermalms               0                 18\n",
       "13              Skarpnäcks               0                 18\n",
       "14                  Älvsjö               0                 16\n",
       "15                  Bromma               1                 15\n",
       "16             Skärholmens               1                 15\n",
       "17                  Farsta               1                 14\n",
       "18      Hässelby-Vällingby               1                 11\n",
       "19                  Älvsjö               1                 11\n",
       "20             Skärholmens               0                  9\n",
       "21                  Farsta               0                  8\n",
       "22                  Bromma               0                  7\n",
       "23           Spånga-Tensta               1                  5\n",
       "24          Rinkeby-Tensta               1                  5\n",
       "25      Hässelby-Vällingby               0                  5\n",
       "26           Spånga-Tensta               0                  4\n",
       "27          Rinkeby-Tensta               0                  3"
      ]
     },
     "execution_count": 25,
     "metadata": {},
     "output_type": "execute_result"
    }
   ],
   "source": [
    "numnber_topic_by_neighbourhood = (df_dominant_topic.groupby(['neighbourhood', 'dominant_topic'])\n",
    "        .agg(number_of_reviews=('number_of_reviews', 'count'))\n",
    "        .sort_values('number_of_reviews', ascending=False)\n",
    "        .reset_index())\n",
    "numnber_topic_by_neighbourhood "
   ]
  },
  {
   "cell_type": "code",
   "execution_count": 26,
   "metadata": {},
   "outputs": [
    {
     "data": {
      "application/vnd.plotly.v1+json": {
       "config": {
        "plotlyServerURL": "https://plot.ly"
       },
       "data": [
        {
         "branchvalues": "total",
         "domain": {
          "x": [
           0,
           1
          ],
          "y": [
           0,
           1
          ]
         },
         "hovertemplate": "labels=%{label}<br>number_of_reviews=%{value}<br>parent=%{parent}<br>id=%{id}<extra></extra>",
         "ids": [
          "Bromma/0",
          "Enskede-Årsta-Vantörs/0",
          "Farsta/0",
          "Hägersten-Liljeholmens/0",
          "Hässelby-Vällingby/0",
          "Kungsholmens/0",
          "Norrmalms/0",
          "Rinkeby-Tensta/0",
          "Skarpnäcks/0",
          "Skärholmens/0",
          "Spånga-Tensta/0",
          "Södermalms/0",
          "Älvsjö/0",
          "Östermalms/0",
          "Bromma/1",
          "Enskede-Årsta-Vantörs/1",
          "Farsta/1",
          "Hägersten-Liljeholmens/1",
          "Hässelby-Vällingby/1",
          "Kungsholmens/1",
          "Norrmalms/1",
          "Rinkeby-Tensta/1",
          "Skarpnäcks/1",
          "Skärholmens/1",
          "Spånga-Tensta/1",
          "Södermalms/1",
          "Älvsjö/1",
          "Östermalms/1",
          "Bromma",
          "Enskede-Årsta-Vantörs",
          "Farsta",
          "Hägersten-Liljeholmens",
          "Hässelby-Vällingby",
          "Kungsholmens",
          "Norrmalms",
          "Rinkeby-Tensta",
          "Skarpnäcks",
          "Skärholmens",
          "Spånga-Tensta",
          "Södermalms",
          "Älvsjö",
          "Östermalms"
         ],
         "labels": [
          "0",
          "0",
          "0",
          "0",
          "0",
          "0",
          "0",
          "0",
          "0",
          "0",
          "0",
          "0",
          "0",
          "0",
          "1",
          "1",
          "1",
          "1",
          "1",
          "1",
          "1",
          "1",
          "1",
          "1",
          "1",
          "1",
          "1",
          "1",
          "Bromma",
          "Enskede-Årsta-Vantörs",
          "Farsta",
          "Hägersten-Liljeholmens",
          "Hässelby-Vällingby",
          "Kungsholmens",
          "Norrmalms",
          "Rinkeby-Tensta",
          "Skarpnäcks",
          "Skärholmens",
          "Spånga-Tensta",
          "Södermalms",
          "Älvsjö",
          "Östermalms"
         ],
         "marker": {
          "colors": [
           null,
           null,
           null,
           null,
           null,
           null,
           null,
           null,
           null,
           null,
           null,
           null,
           null,
           null,
           null,
           null,
           null,
           null,
           null,
           null,
           null,
           null,
           null,
           null,
           null,
           null,
           null,
           null,
           null,
           null,
           null,
           null,
           null,
           null,
           null,
           null,
           null,
           null,
           null,
           null,
           null,
           null
          ]
         },
         "name": "",
         "parents": [
          "Bromma",
          "Enskede-Årsta-Vantörs",
          "Farsta",
          "Hägersten-Liljeholmens",
          "Hässelby-Vällingby",
          "Kungsholmens",
          "Norrmalms",
          "Rinkeby-Tensta",
          "Skarpnäcks",
          "Skärholmens",
          "Spånga-Tensta",
          "Södermalms",
          "Älvsjö",
          "Östermalms",
          "Bromma",
          "Enskede-Årsta-Vantörs",
          "Farsta",
          "Hägersten-Liljeholmens",
          "Hässelby-Vällingby",
          "Kungsholmens",
          "Norrmalms",
          "Rinkeby-Tensta",
          "Skarpnäcks",
          "Skärholmens",
          "Spånga-Tensta",
          "Södermalms",
          "Älvsjö",
          "Östermalms",
          "",
          "",
          "",
          "",
          "",
          "",
          "",
          "",
          "",
          "",
          "",
          "",
          "",
          ""
         ],
         "type": "treemap",
         "values": [
          7,
          31,
          8,
          19,
          5,
          85,
          71,
          3,
          18,
          9,
          4,
          313,
          16,
          18,
          15,
          38,
          14,
          24,
          11,
          83,
          78,
          5,
          19,
          15,
          5,
          287,
          11,
          23,
          22,
          69,
          22,
          43,
          16,
          168,
          149,
          8,
          37,
          24,
          9,
          600,
          27,
          41
         ]
        }
       ],
       "layout": {
        "legend": {
         "tracegroupgap": 0
        },
        "margin": {
         "t": 60
        },
        "template": {
         "data": {
          "bar": [
           {
            "error_x": {
             "color": "#2a3f5f"
            },
            "error_y": {
             "color": "#2a3f5f"
            },
            "marker": {
             "line": {
              "color": "#E5ECF6",
              "width": 0.5
             },
             "pattern": {
              "fillmode": "overlay",
              "size": 10,
              "solidity": 0.2
             }
            },
            "type": "bar"
           }
          ],
          "barpolar": [
           {
            "marker": {
             "line": {
              "color": "#E5ECF6",
              "width": 0.5
             },
             "pattern": {
              "fillmode": "overlay",
              "size": 10,
              "solidity": 0.2
             }
            },
            "type": "barpolar"
           }
          ],
          "carpet": [
           {
            "aaxis": {
             "endlinecolor": "#2a3f5f",
             "gridcolor": "white",
             "linecolor": "white",
             "minorgridcolor": "white",
             "startlinecolor": "#2a3f5f"
            },
            "baxis": {
             "endlinecolor": "#2a3f5f",
             "gridcolor": "white",
             "linecolor": "white",
             "minorgridcolor": "white",
             "startlinecolor": "#2a3f5f"
            },
            "type": "carpet"
           }
          ],
          "choropleth": [
           {
            "colorbar": {
             "outlinewidth": 0,
             "ticks": ""
            },
            "type": "choropleth"
           }
          ],
          "contour": [
           {
            "colorbar": {
             "outlinewidth": 0,
             "ticks": ""
            },
            "colorscale": [
             [
              0,
              "#0d0887"
             ],
             [
              0.1111111111111111,
              "#46039f"
             ],
             [
              0.2222222222222222,
              "#7201a8"
             ],
             [
              0.3333333333333333,
              "#9c179e"
             ],
             [
              0.4444444444444444,
              "#bd3786"
             ],
             [
              0.5555555555555556,
              "#d8576b"
             ],
             [
              0.6666666666666666,
              "#ed7953"
             ],
             [
              0.7777777777777778,
              "#fb9f3a"
             ],
             [
              0.8888888888888888,
              "#fdca26"
             ],
             [
              1,
              "#f0f921"
             ]
            ],
            "type": "contour"
           }
          ],
          "contourcarpet": [
           {
            "colorbar": {
             "outlinewidth": 0,
             "ticks": ""
            },
            "type": "contourcarpet"
           }
          ],
          "heatmap": [
           {
            "colorbar": {
             "outlinewidth": 0,
             "ticks": ""
            },
            "colorscale": [
             [
              0,
              "#0d0887"
             ],
             [
              0.1111111111111111,
              "#46039f"
             ],
             [
              0.2222222222222222,
              "#7201a8"
             ],
             [
              0.3333333333333333,
              "#9c179e"
             ],
             [
              0.4444444444444444,
              "#bd3786"
             ],
             [
              0.5555555555555556,
              "#d8576b"
             ],
             [
              0.6666666666666666,
              "#ed7953"
             ],
             [
              0.7777777777777778,
              "#fb9f3a"
             ],
             [
              0.8888888888888888,
              "#fdca26"
             ],
             [
              1,
              "#f0f921"
             ]
            ],
            "type": "heatmap"
           }
          ],
          "heatmapgl": [
           {
            "colorbar": {
             "outlinewidth": 0,
             "ticks": ""
            },
            "colorscale": [
             [
              0,
              "#0d0887"
             ],
             [
              0.1111111111111111,
              "#46039f"
             ],
             [
              0.2222222222222222,
              "#7201a8"
             ],
             [
              0.3333333333333333,
              "#9c179e"
             ],
             [
              0.4444444444444444,
              "#bd3786"
             ],
             [
              0.5555555555555556,
              "#d8576b"
             ],
             [
              0.6666666666666666,
              "#ed7953"
             ],
             [
              0.7777777777777778,
              "#fb9f3a"
             ],
             [
              0.8888888888888888,
              "#fdca26"
             ],
             [
              1,
              "#f0f921"
             ]
            ],
            "type": "heatmapgl"
           }
          ],
          "histogram": [
           {
            "marker": {
             "pattern": {
              "fillmode": "overlay",
              "size": 10,
              "solidity": 0.2
             }
            },
            "type": "histogram"
           }
          ],
          "histogram2d": [
           {
            "colorbar": {
             "outlinewidth": 0,
             "ticks": ""
            },
            "colorscale": [
             [
              0,
              "#0d0887"
             ],
             [
              0.1111111111111111,
              "#46039f"
             ],
             [
              0.2222222222222222,
              "#7201a8"
             ],
             [
              0.3333333333333333,
              "#9c179e"
             ],
             [
              0.4444444444444444,
              "#bd3786"
             ],
             [
              0.5555555555555556,
              "#d8576b"
             ],
             [
              0.6666666666666666,
              "#ed7953"
             ],
             [
              0.7777777777777778,
              "#fb9f3a"
             ],
             [
              0.8888888888888888,
              "#fdca26"
             ],
             [
              1,
              "#f0f921"
             ]
            ],
            "type": "histogram2d"
           }
          ],
          "histogram2dcontour": [
           {
            "colorbar": {
             "outlinewidth": 0,
             "ticks": ""
            },
            "colorscale": [
             [
              0,
              "#0d0887"
             ],
             [
              0.1111111111111111,
              "#46039f"
             ],
             [
              0.2222222222222222,
              "#7201a8"
             ],
             [
              0.3333333333333333,
              "#9c179e"
             ],
             [
              0.4444444444444444,
              "#bd3786"
             ],
             [
              0.5555555555555556,
              "#d8576b"
             ],
             [
              0.6666666666666666,
              "#ed7953"
             ],
             [
              0.7777777777777778,
              "#fb9f3a"
             ],
             [
              0.8888888888888888,
              "#fdca26"
             ],
             [
              1,
              "#f0f921"
             ]
            ],
            "type": "histogram2dcontour"
           }
          ],
          "mesh3d": [
           {
            "colorbar": {
             "outlinewidth": 0,
             "ticks": ""
            },
            "type": "mesh3d"
           }
          ],
          "parcoords": [
           {
            "line": {
             "colorbar": {
              "outlinewidth": 0,
              "ticks": ""
             }
            },
            "type": "parcoords"
           }
          ],
          "pie": [
           {
            "automargin": true,
            "type": "pie"
           }
          ],
          "scatter": [
           {
            "fillpattern": {
             "fillmode": "overlay",
             "size": 10,
             "solidity": 0.2
            },
            "type": "scatter"
           }
          ],
          "scatter3d": [
           {
            "line": {
             "colorbar": {
              "outlinewidth": 0,
              "ticks": ""
             }
            },
            "marker": {
             "colorbar": {
              "outlinewidth": 0,
              "ticks": ""
             }
            },
            "type": "scatter3d"
           }
          ],
          "scattercarpet": [
           {
            "marker": {
             "colorbar": {
              "outlinewidth": 0,
              "ticks": ""
             }
            },
            "type": "scattercarpet"
           }
          ],
          "scattergeo": [
           {
            "marker": {
             "colorbar": {
              "outlinewidth": 0,
              "ticks": ""
             }
            },
            "type": "scattergeo"
           }
          ],
          "scattergl": [
           {
            "marker": {
             "colorbar": {
              "outlinewidth": 0,
              "ticks": ""
             }
            },
            "type": "scattergl"
           }
          ],
          "scattermapbox": [
           {
            "marker": {
             "colorbar": {
              "outlinewidth": 0,
              "ticks": ""
             }
            },
            "type": "scattermapbox"
           }
          ],
          "scatterpolar": [
           {
            "marker": {
             "colorbar": {
              "outlinewidth": 0,
              "ticks": ""
             }
            },
            "type": "scatterpolar"
           }
          ],
          "scatterpolargl": [
           {
            "marker": {
             "colorbar": {
              "outlinewidth": 0,
              "ticks": ""
             }
            },
            "type": "scatterpolargl"
           }
          ],
          "scatterternary": [
           {
            "marker": {
             "colorbar": {
              "outlinewidth": 0,
              "ticks": ""
             }
            },
            "type": "scatterternary"
           }
          ],
          "surface": [
           {
            "colorbar": {
             "outlinewidth": 0,
             "ticks": ""
            },
            "colorscale": [
             [
              0,
              "#0d0887"
             ],
             [
              0.1111111111111111,
              "#46039f"
             ],
             [
              0.2222222222222222,
              "#7201a8"
             ],
             [
              0.3333333333333333,
              "#9c179e"
             ],
             [
              0.4444444444444444,
              "#bd3786"
             ],
             [
              0.5555555555555556,
              "#d8576b"
             ],
             [
              0.6666666666666666,
              "#ed7953"
             ],
             [
              0.7777777777777778,
              "#fb9f3a"
             ],
             [
              0.8888888888888888,
              "#fdca26"
             ],
             [
              1,
              "#f0f921"
             ]
            ],
            "type": "surface"
           }
          ],
          "table": [
           {
            "cells": {
             "fill": {
              "color": "#EBF0F8"
             },
             "line": {
              "color": "white"
             }
            },
            "header": {
             "fill": {
              "color": "#C8D4E3"
             },
             "line": {
              "color": "white"
             }
            },
            "type": "table"
           }
          ]
         },
         "layout": {
          "annotationdefaults": {
           "arrowcolor": "#2a3f5f",
           "arrowhead": 0,
           "arrowwidth": 1
          },
          "autotypenumbers": "strict",
          "coloraxis": {
           "colorbar": {
            "outlinewidth": 0,
            "ticks": ""
           }
          },
          "colorscale": {
           "diverging": [
            [
             0,
             "#8e0152"
            ],
            [
             0.1,
             "#c51b7d"
            ],
            [
             0.2,
             "#de77ae"
            ],
            [
             0.3,
             "#f1b6da"
            ],
            [
             0.4,
             "#fde0ef"
            ],
            [
             0.5,
             "#f7f7f7"
            ],
            [
             0.6,
             "#e6f5d0"
            ],
            [
             0.7,
             "#b8e186"
            ],
            [
             0.8,
             "#7fbc41"
            ],
            [
             0.9,
             "#4d9221"
            ],
            [
             1,
             "#276419"
            ]
           ],
           "sequential": [
            [
             0,
             "#0d0887"
            ],
            [
             0.1111111111111111,
             "#46039f"
            ],
            [
             0.2222222222222222,
             "#7201a8"
            ],
            [
             0.3333333333333333,
             "#9c179e"
            ],
            [
             0.4444444444444444,
             "#bd3786"
            ],
            [
             0.5555555555555556,
             "#d8576b"
            ],
            [
             0.6666666666666666,
             "#ed7953"
            ],
            [
             0.7777777777777778,
             "#fb9f3a"
            ],
            [
             0.8888888888888888,
             "#fdca26"
            ],
            [
             1,
             "#f0f921"
            ]
           ],
           "sequentialminus": [
            [
             0,
             "#0d0887"
            ],
            [
             0.1111111111111111,
             "#46039f"
            ],
            [
             0.2222222222222222,
             "#7201a8"
            ],
            [
             0.3333333333333333,
             "#9c179e"
            ],
            [
             0.4444444444444444,
             "#bd3786"
            ],
            [
             0.5555555555555556,
             "#d8576b"
            ],
            [
             0.6666666666666666,
             "#ed7953"
            ],
            [
             0.7777777777777778,
             "#fb9f3a"
            ],
            [
             0.8888888888888888,
             "#fdca26"
            ],
            [
             1,
             "#f0f921"
            ]
           ]
          },
          "colorway": [
           "#636efa",
           "#EF553B",
           "#00cc96",
           "#ab63fa",
           "#FFA15A",
           "#19d3f3",
           "#FF6692",
           "#B6E880",
           "#FF97FF",
           "#FECB52"
          ],
          "font": {
           "color": "#2a3f5f"
          },
          "geo": {
           "bgcolor": "white",
           "lakecolor": "white",
           "landcolor": "#E5ECF6",
           "showlakes": true,
           "showland": true,
           "subunitcolor": "white"
          },
          "hoverlabel": {
           "align": "left"
          },
          "hovermode": "closest",
          "mapbox": {
           "style": "light"
          },
          "paper_bgcolor": "white",
          "plot_bgcolor": "#E5ECF6",
          "polar": {
           "angularaxis": {
            "gridcolor": "white",
            "linecolor": "white",
            "ticks": ""
           },
           "bgcolor": "#E5ECF6",
           "radialaxis": {
            "gridcolor": "white",
            "linecolor": "white",
            "ticks": ""
           }
          },
          "scene": {
           "xaxis": {
            "backgroundcolor": "#E5ECF6",
            "gridcolor": "white",
            "gridwidth": 2,
            "linecolor": "white",
            "showbackground": true,
            "ticks": "",
            "zerolinecolor": "white"
           },
           "yaxis": {
            "backgroundcolor": "#E5ECF6",
            "gridcolor": "white",
            "gridwidth": 2,
            "linecolor": "white",
            "showbackground": true,
            "ticks": "",
            "zerolinecolor": "white"
           },
           "zaxis": {
            "backgroundcolor": "#E5ECF6",
            "gridcolor": "white",
            "gridwidth": 2,
            "linecolor": "white",
            "showbackground": true,
            "ticks": "",
            "zerolinecolor": "white"
           }
          },
          "shapedefaults": {
           "line": {
            "color": "#2a3f5f"
           }
          },
          "ternary": {
           "aaxis": {
            "gridcolor": "white",
            "linecolor": "white",
            "ticks": ""
           },
           "baxis": {
            "gridcolor": "white",
            "linecolor": "white",
            "ticks": ""
           },
           "bgcolor": "#E5ECF6",
           "caxis": {
            "gridcolor": "white",
            "linecolor": "white",
            "ticks": ""
           }
          },
          "title": {
           "x": 0.05
          },
          "xaxis": {
           "automargin": true,
           "gridcolor": "white",
           "linecolor": "white",
           "ticks": "",
           "title": {
            "standoff": 15
           },
           "zerolinecolor": "white",
           "zerolinewidth": 2
          },
          "yaxis": {
           "automargin": true,
           "gridcolor": "white",
           "linecolor": "white",
           "ticks": "",
           "title": {
            "standoff": 15
           },
           "zerolinecolor": "white",
           "zerolinewidth": 2
          }
         }
        },
        "treemapcolorway": [
         "rgb(95, 70, 144)",
         "rgb(29, 105, 150)",
         "rgb(56, 166, 165)",
         "rgb(15, 133, 84)",
         "rgb(115, 175, 72)",
         "rgb(237, 173, 8)",
         "rgb(225, 124, 5)",
         "rgb(204, 80, 62)",
         "rgb(148, 52, 110)",
         "rgb(111, 64, 112)",
         "rgb(102, 102, 102)"
        ]
       }
      }
     },
     "metadata": {},
     "output_type": "display_data"
    }
   ],
   "source": [
    "# Define a custom color mapping function\n",
    "def get_tile_color(tile_path):\n",
    "    # Get the name of the neighbourhood and the dominant topic from the tile path\n",
    "    neighbourhood, dominant_topic = tile_path[-2:]\n",
    "\n",
    "    # Assign a specific color to each combination of neighbourhood and dominant topic\n",
    "    if dominant_topic == 'topic 0' and neighbourhood == 'Neighbourhood 1':\n",
    "        return 'red'\n",
    "    elif dominant_topic == 'topic 1' and neighbourhood == 'Neighbourhood 2':\n",
    "        return 'green'\n",
    "    else:\n",
    "        # Use the default color scale for all other tiles\n",
    "        return None\n",
    "\n",
    "# Create the treemap with the custom color mapping function\n",
    "fig = px.treemap(\n",
    "    numnber_topic_by_neighbourhood,\n",
    "    path=['neighbourhood', 'dominant_topic'],\n",
    "    values='number_of_reviews',\n",
    "    color_discrete_sequence=PALETTE,\n",
    "    color_continuous_midpoint=np.average(numnber_topic_by_neighbourhood['number_of_reviews']),\n",
    ")\n",
    "\n",
    "# Apply the custom color mapping function to each tile\n",
    "fig.data[0].marker.colors = [get_tile_color(tile_path) for tile_path in fig.data[0].ids]\n",
    "\n",
    "# Show the figure\n",
    "fig.show()"
   ]
  }
 ],
 "metadata": {
  "kernelspec": {
   "display_name": "Python 3",
   "language": "python",
   "name": "python3"
  },
  "language_info": {
   "codemirror_mode": {
    "name": "ipython",
    "version": 3
   },
   "file_extension": ".py",
   "mimetype": "text/x-python",
   "name": "python",
   "nbconvert_exporter": "python",
   "pygments_lexer": "ipython3",
   "version": "3.10.10"
  },
  "orig_nbformat": 4,
  "vscode": {
   "interpreter": {
    "hash": "aee8b7b246df8f9039afb4144a1f6fd8d2ca17a180786b69acc140d282b71a49"
   }
  }
 },
 "nbformat": 4,
 "nbformat_minor": 2
}
