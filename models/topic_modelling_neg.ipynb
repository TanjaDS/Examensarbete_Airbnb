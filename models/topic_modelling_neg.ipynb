{
 "cells": [
  {
   "cell_type": "code",
   "execution_count": 16,
   "metadata": {},
   "outputs": [],
   "source": [
    "from pathlib import Path\n",
    "import pandas as pd\n",
    "import numpy as np\n",
    "import gensim, spacy\n",
    "import gensim.corpora as corpora\n",
    "from gensim.utils import simple_preprocess\n",
    "from nltk.corpus import stopwords\n",
    "from joblib import Memory\n",
    "import os\n",
    "from wordcloud import WordCloud\n",
    "from matplotlib import pyplot as plt\n",
    "import matplotlib.colors as mcolors\n",
    "import plotly.express as px\n",
    "import pyLDAvis\n",
    "import pyLDAvis.gensim_models\n",
    "import warnings\n",
    "warnings.filterwarnings(\"ignore\")"
   ]
  },
  {
   "cell_type": "code",
   "execution_count": 17,
   "metadata": {},
   "outputs": [],
   "source": [
    "BASE_DIR = Path.cwd().parent\n",
    "stop_words = stopwords.words('english')\n",
    "PALETTE = px.colors.qualitative.Prism"
   ]
  },
  {
   "cell_type": "code",
   "execution_count": 18,
   "metadata": {},
   "outputs": [],
   "source": [
    "df_hosts_reviews_en = pd.read_parquet(BASE_DIR / 'processed_data' / 'hosts_reviews_en_labeled.parquet')"
   ]
  },
  {
   "cell_type": "code",
   "execution_count": 19,
   "metadata": {},
   "outputs": [],
   "source": [
    "df_hosts_reviews_en = df_hosts_reviews_en.query('sentiment_label_class == 0').reset_index()"
   ]
  },
  {
   "cell_type": "code",
   "execution_count": 20,
   "metadata": {},
   "outputs": [
    {
     "name": "stdout",
     "output_type": "stream",
     "text": [
      "['stayed', 'three', 'nights', 'couldnt', 'helpful', 'soon', 'got', 'showed', 'us', 'get', 'around', 'visit', 'place', 'conveniently', 'located', 'metro', 'station', 'walking', 'distance', 'market', 'many', 'restaurants', 'clean', 'privacy', 'issue', 'despite', 'guests', 'staying', 'well', 'wifi', 'reliable', 'youre', 'vacation', 'doesnt', 'really', 'matter']\n"
     ]
    }
   ],
   "source": [
    "def sent_to_words(sentences):\n",
    "    for sent in sentences:\n",
    "        sent = gensim.utils.simple_preprocess(str(sent), deacc=True) \n",
    "        yield(sent)  \n",
    "\n",
    "# Convert to list\n",
    "data = df_hosts_reviews_en['comments'].values.tolist()\n",
    "data_words = list(sent_to_words(data))\n",
    "print(data_words[0])"
   ]
  },
  {
   "cell_type": "code",
   "execution_count": 21,
   "metadata": {},
   "outputs": [],
   "source": [
    "nlp = spacy.load(\"en_core_web_sm\")\n",
    "stop_words.append('also')\n",
    "bigram = gensim.models.Phrases(data_words, min_count=1, threshold=100) # higher threshold fewer phrases.\n",
    "trigram = gensim.models.Phrases(bigram[data_words], threshold=100)  \n",
    "bigram_mod = gensim.models.phrases.Phraser(bigram)\n",
    "trigram_mod = gensim.models.phrases.Phraser(trigram)\n",
    "\n",
    "# !python3 -m spacy download en  # run in terminal once\n",
    "def process_words(texts, stop_words=stop_words, allowed_postags=['NOUN', 'ADJ', 'VERB', 'ADV']):\n",
    "    \"\"\"Remove Stopwords, Form Bigrams, Trigrams and Lemmatization\"\"\"\n",
    "    #texts = [[word for word in simple_preprocess(str(doc)) if word not in stop_words] for doc in texts]\n",
    "    texts = [bigram_mod[doc] for doc in texts]\n",
    "    texts = [trigram_mod[bigram_mod[doc]] for doc in texts]\n",
    "    texts_out = []\n",
    "    for sent in texts:\n",
    "        doc = nlp(\" \".join(sent)) \n",
    "        texts_out.append([token.lemma_ for token in doc if token.pos_ in allowed_postags])\n",
    "    # remove stopwords once more after lemmatization\n",
    "    texts_out = [[word for word in simple_preprocess(str(doc)) if word not in stop_words] for doc in texts_out]    \n",
    "    return texts_out\n",
    "\n",
    "# call the cached function\n",
    "data_ready = process_words(data_words)"
   ]
  },
  {
   "cell_type": "code",
   "execution_count": 22,
   "metadata": {},
   "outputs": [
    {
     "data": {
      "text/plain": [
       "[(0,\n",
       "  '0.020*\"host\" + 0.016*\"room\" + 0.016*\"stay\" + 0.015*\"apartment\" + 0.013*\"bed\" + 0.013*\"place\" + 0.012*\"leave\" + 0.012*\"clean\" + 0.010*\"dirty\" + 0.010*\"get\"'),\n",
       " (1,\n",
       "  '0.038*\"location\" + 0.030*\"apartment\" + 0.022*\"host\" + 0.018*\"need\" + 0.015*\"stay\" + 0.015*\"place\" + 0.014*\"close\" + 0.011*\"great\" + 0.009*\"cleanliness\" + 0.009*\"right\"')]"
      ]
     },
     "execution_count": 22,
     "metadata": {},
     "output_type": "execute_result"
    }
   ],
   "source": [
    "# Create Dictionary\n",
    "id2word = corpora.Dictionary(data_ready)\n",
    "\n",
    "# Create Corpus: Term Document Frequency\n",
    "corpus = [id2word.doc2bow(text) for text in data_ready]\n",
    "\n",
    "# Build LDA model\n",
    "lda_model = gensim.models.ldamodel.LdaModel(corpus=corpus,\n",
    "                                           id2word=id2word,\n",
    "                                           num_topics=2, \n",
    "                                           random_state=42,\n",
    "                                           update_every=1,\n",
    "                                           chunksize=5,\n",
    "                                           passes=5,\n",
    "                                           alpha='symmetric',\n",
    "                                           iterations=100,\n",
    "                                           per_word_topics=True)\n",
    "\n",
    "lda_model.print_topics()"
   ]
  },
  {
   "cell_type": "code",
   "execution_count": 23,
   "metadata": {},
   "outputs": [
    {
     "data": {
      "text/html": [
       "<div>\n",
       "<style scoped>\n",
       "    .dataframe tbody tr th:only-of-type {\n",
       "        vertical-align: middle;\n",
       "    }\n",
       "\n",
       "    .dataframe tbody tr th {\n",
       "        vertical-align: top;\n",
       "    }\n",
       "\n",
       "    .dataframe thead th {\n",
       "        text-align: right;\n",
       "    }\n",
       "</style>\n",
       "<table border=\"1\" class=\"dataframe\">\n",
       "  <thead>\n",
       "    <tr style=\"text-align: right;\">\n",
       "      <th></th>\n",
       "      <th>level_0</th>\n",
       "      <th>date</th>\n",
       "      <th>listing_id_encod</th>\n",
       "      <th>listing_id</th>\n",
       "      <th>reviewer_id</th>\n",
       "      <th>reviewer_name</th>\n",
       "      <th>comments</th>\n",
       "      <th>host_id</th>\n",
       "      <th>host_name</th>\n",
       "      <th>host_description</th>\n",
       "      <th>...</th>\n",
       "      <th>review_scores_location</th>\n",
       "      <th>review_scores_value</th>\n",
       "      <th>comments_language</th>\n",
       "      <th>description_language</th>\n",
       "      <th>sentiment_label</th>\n",
       "      <th>sentiment_label_class</th>\n",
       "      <th>dominant_topic</th>\n",
       "      <th>percent_contribution</th>\n",
       "      <th>topic_keywords</th>\n",
       "      <th>text</th>\n",
       "    </tr>\n",
       "  </thead>\n",
       "  <tbody>\n",
       "    <tr>\n",
       "      <th>490</th>\n",
       "      <td>35795</td>\n",
       "      <td>2019-10-25</td>\n",
       "      <td>861.0</td>\n",
       "      <td>2.405385e+07</td>\n",
       "      <td>13516786.0</td>\n",
       "      <td>Stu</td>\n",
       "      <td>second stay</td>\n",
       "      <td>167667174.0</td>\n",
       "      <td>Emi</td>\n",
       "      <td>enkelt boende bright clean simple accommodatio...</td>\n",
       "      <td>...</td>\n",
       "      <td>4.68</td>\n",
       "      <td>4.83</td>\n",
       "      <td>en</td>\n",
       "      <td>en</td>\n",
       "      <td>0.0</td>\n",
       "      <td>0</td>\n",
       "      <td>0</td>\n",
       "      <td>0.801</td>\n",
       "      <td>host, room, stay, apartment, bed, place, leave...</td>\n",
       "      <td>[second, stay]</td>\n",
       "    </tr>\n",
       "    <tr>\n",
       "      <th>572</th>\n",
       "      <td>40475</td>\n",
       "      <td>2022-05-31</td>\n",
       "      <td>1038.0</td>\n",
       "      <td>2.945529e+07</td>\n",
       "      <td>139552837.0</td>\n",
       "      <td>Karlo</td>\n",
       "      <td>hospitable host</td>\n",
       "      <td>1293314.0</td>\n",
       "      <td>Tommy</td>\n",
       "      <td>fluffy doglux apt centralroom one many 5star r...</td>\n",
       "      <td>...</td>\n",
       "      <td>4.95</td>\n",
       "      <td>4.82</td>\n",
       "      <td>en</td>\n",
       "      <td>en</td>\n",
       "      <td>0.0</td>\n",
       "      <td>0</td>\n",
       "      <td>1</td>\n",
       "      <td>0.799</td>\n",
       "      <td>location, apartment, host, need, stay, place, ...</td>\n",
       "      <td>[hospitable, host]</td>\n",
       "    </tr>\n",
       "    <tr>\n",
       "      <th>1152</th>\n",
       "      <td>65736</td>\n",
       "      <td>2022-03-12</td>\n",
       "      <td>2068.0</td>\n",
       "      <td>5.670530e+17</td>\n",
       "      <td>35702592.0</td>\n",
       "      <td>Bernhard</td>\n",
       "      <td>clean rooms stink</td>\n",
       "      <td>445786422.0</td>\n",
       "      <td>Acco</td>\n",
       "      <td>acco private single room stockholm södermalm p...</td>\n",
       "      <td>...</td>\n",
       "      <td>4.36</td>\n",
       "      <td>3.86</td>\n",
       "      <td>en</td>\n",
       "      <td>en</td>\n",
       "      <td>0.0</td>\n",
       "      <td>0</td>\n",
       "      <td>0</td>\n",
       "      <td>0.872</td>\n",
       "      <td>host, room, stay, apartment, bed, place, leave...</td>\n",
       "      <td>[clean, room, stink]</td>\n",
       "    </tr>\n",
       "  </tbody>\n",
       "</table>\n",
       "<p>3 rows × 34 columns</p>\n",
       "</div>"
      ],
      "text/plain": [
       "      level_0       date  listing_id_encod    listing_id  reviewer_id   \n",
       "490     35795 2019-10-25             861.0  2.405385e+07   13516786.0  \\\n",
       "572     40475 2022-05-31            1038.0  2.945529e+07  139552837.0   \n",
       "1152    65736 2022-03-12            2068.0  5.670530e+17   35702592.0   \n",
       "\n",
       "     reviewer_name           comments      host_id host_name   \n",
       "490            Stu        second stay  167667174.0       Emi  \\\n",
       "572          Karlo    hospitable host    1293314.0     Tommy   \n",
       "1152      Bernhard  clean rooms stink  445786422.0      Acco   \n",
       "\n",
       "                                       host_description  ...   \n",
       "490   enkelt boende bright clean simple accommodatio...  ...  \\\n",
       "572   fluffy doglux apt centralroom one many 5star r...  ...   \n",
       "1152  acco private single room stockholm södermalm p...  ...   \n",
       "\n",
       "     review_scores_location  review_scores_value  comments_language   \n",
       "490                    4.68                 4.83                 en  \\\n",
       "572                    4.95                 4.82                 en   \n",
       "1152                   4.36                 3.86                 en   \n",
       "\n",
       "     description_language  sentiment_label  sentiment_label_class   \n",
       "490                    en              0.0                      0  \\\n",
       "572                    en              0.0                      0   \n",
       "1152                   en              0.0                      0   \n",
       "\n",
       "     dominant_topic  percent_contribution   \n",
       "490               0                 0.801  \\\n",
       "572               1                 0.799   \n",
       "1152              0                 0.872   \n",
       "\n",
       "                                         topic_keywords                  text  \n",
       "490   host, room, stay, apartment, bed, place, leave...        [second, stay]  \n",
       "572   location, apartment, host, need, stay, place, ...    [hospitable, host]  \n",
       "1152  host, room, stay, apartment, bed, place, leave...  [clean, room, stink]  \n",
       "\n",
       "[3 rows x 34 columns]"
      ]
     },
     "execution_count": 23,
     "metadata": {},
     "output_type": "execute_result"
    }
   ],
   "source": [
    "def format_topics_sentences(ldamodel=None, corpus=corpus, texts=data):\n",
    "    # create a dataframe\n",
    "    sent_topics_df = pd.DataFrame(columns=['dominant_topic', 'percent_contribution', 'topic_keywords'])\n",
    "\n",
    "    # get main topic in each document\n",
    "    for i, row_list in enumerate(ldamodel[corpus]):\n",
    "        row = row_list[0] if ldamodel.per_word_topics else row_list            \n",
    "        row = sorted(row, key=lambda x: (x[1]), reverse=True)\n",
    "        # get the dominant topic, perc contribution and keywords for each document\n",
    "        for j, (topic_num, prop_topic) in enumerate(row):\n",
    "            if j == 0:  # => dominant topic\n",
    "                wp = ldamodel.show_topic(topic_num)\n",
    "                topic_keywords = \", \".join([word for word, prop in wp])\n",
    "                sent_topics_df.loc[len(sent_topics_df)] = [int(topic_num), round(prop_topic,3), topic_keywords]\n",
    "            else:\n",
    "                break\n",
    "\n",
    "\n",
    "    # merge the original dataframe to the end of the output\n",
    "    contents = pd.Series(texts)\n",
    "    contents.name = 'text'\n",
    "    sent_topics_df = (df_hosts_reviews_en.merge(sent_topics_df, left_index=True, right_index=True)\n",
    "                                    .merge(contents, left_index=True, right_index=True)\n",
    "                                    .drop('index', axis=1))\n",
    "    return(sent_topics_df)\n",
    "\n",
    "\n",
    "df_dominant_topic = format_topics_sentences(ldamodel=lda_model, corpus=corpus, texts=data_ready)\n",
    "df_dominant_topic.sample(3)"
   ]
  },
  {
   "cell_type": "code",
   "execution_count": 24,
   "metadata": {},
   "outputs": [
    {
     "data": {
      "text/html": [
       "\n",
       "<link rel=\"stylesheet\" type=\"text/css\" href=\"https://cdn.jsdelivr.net/gh/bmabey/pyLDAvis@3.4.0/pyLDAvis/js/ldavis.v1.0.0.css\">\n",
       "\n",
       "\n",
       "<div id=\"ldavis_el562951403560516190568582483564\" style=\"background-color:white;\"></div>\n",
       "<script type=\"text/javascript\">\n",
       "\n",
       "var ldavis_el562951403560516190568582483564_data = {\"mdsDat\": {\"x\": [0.15372158564336807, -0.15372158564336807], \"y\": [0.0, 0.0], \"topics\": [1, 2], \"cluster\": [1, 1], \"Freq\": [69.5047008636492, 30.49529913635079]}, \"tinfo\": {\"Term\": [\"location\", \"need\", \"apartment\", \"close\", \"great\", \"room\", \"right\", \"cleanliness\", \"city\", \"cosy\", \"bed\", \"central\", \"spacious\", \"leave\", \"clean\", \"price\", \"locate\", \"appartement\", \"dirty\", \"communication\", \"get\", \"host\", \"old_town\", \"airbnb\", \"minute\", \"bad\", \"make\", \"quiet\", \"shower\", \"convenient\", \"room\", \"leave\", \"dirty\", \"bed\", \"bad\", \"airbnb\", \"make\", \"get\", \"shower\", \"bathroom\", \"money\", \"experience\", \"good\", \"clean\", \"ask\", \"night\", \"look\", \"thing\", \"go\", \"find\", \"arrive\", \"book\", \"want\", \"work\", \"photo\", \"never\", \"owner\", \"towel\", \"wait\", \"come\", \"day\", \"break\", \"uncomfortable\", \"guest\", \"window\", \"nice\", \"kitchen\", \"time\", \"door\", \"problem\", \"host\", \"stay\", \"really\", \"place\", \"apartment\", \"location\", \"city\", \"close\", \"central\", \"cosy\", \"quiet\", \"old_town\", \"heart\", \"convenient\", \"locate\", \"cafe\", \"great\", \"cozy\", \"perfect\", \"transport\", \"spacious\", \"restaurant\", \"gamla_stan\", \"home\", \"comfy\", \"available\", \"come_back\", \"shop\", \"need\", \"describe\", \"minute\", \"gut\", \"newly\", \"renovate\", \"historic\", \"center\", \"exactly\", \"right\", \"area\", \"price\", \"cleanliness\", \"appartement\", \"communication\", \"advertise\", \"super\", \"apartment\", \"host\", \"place\", \"stay\", \"poor\", \"space\"], \"Freq\": [232.0, 117.0, 395.0, 90.0, 70.0, 227.0, 61.0, 66.0, 52.0, 50.0, 178.0, 48.0, 49.0, 170.0, 166.0, 47.0, 41.0, 49.0, 142.0, 46.0, 137.0, 414.0, 37.0, 131.0, 37.0, 127.0, 123.0, 32.0, 119.0, 31.0, 227.2395487141599, 169.6902946427581, 141.53922436587678, 177.66098409334316, 127.23409255873071, 131.39404967963327, 123.01091269217987, 137.3112638276538, 118.73222464330932, 99.16439193325601, 90.13438422649952, 72.11706741477091, 93.77686965764778, 165.0897953528315, 77.77897404890108, 66.74304889942024, 60.2344984098776, 70.3329076489827, 104.61948540107461, 68.70243010529181, 59.992557130073465, 54.432089145075125, 88.22155235521132, 83.5625782469821, 54.54917303341906, 47.21074378364308, 47.10971116416013, 52.222626419826106, 56.40227270426623, 63.79218913306506, 100.20336286492683, 78.87173736018188, 71.66316556052598, 68.30754662516975, 67.55122472003494, 70.92819295628338, 79.79951510785003, 111.58847351243594, 72.66145494092613, 92.88773021527533, 278.9205217590953, 219.3709953668616, 107.4769845436509, 175.9734200907942, 209.78319460667183, 232.03355820270409, 52.1088208440897, 89.42342482372572, 48.45895655965309, 50.00490894109145, 32.56424753492011, 36.66197988700866, 27.253891507773258, 31.324108898029042, 41.32423730867169, 25.45607206186385, 69.63080597256187, 24.458330009681834, 22.420582165384836, 17.615356703212935, 48.70859679711699, 26.563991767708917, 15.584634138957822, 17.719872469627507, 24.3603381280669, 25.745433146484828, 18.2066841499779, 16.558526155562053, 113.9419280091283, 28.773834549768203, 36.66004326584374, 12.825867006337313, 12.02135679020312, 12.022059318207308, 12.022663434824407, 21.71456450777654, 17.72947512234734, 56.75797015632488, 18.678497072938253, 43.82875395359222, 58.35091864425204, 44.606807309887685, 41.56364563520342, 24.217901652714577, 27.28763583857568, 185.5855097569303, 135.31222649826324, 89.5566494185814, 91.72090115016027, 31.308702128464788, 32.156870365570946], \"Total\": [232.0, 117.0, 395.0, 90.0, 70.0, 227.0, 61.0, 66.0, 52.0, 50.0, 178.0, 48.0, 49.0, 170.0, 166.0, 47.0, 41.0, 49.0, 142.0, 46.0, 137.0, 414.0, 37.0, 131.0, 37.0, 127.0, 123.0, 32.0, 119.0, 31.0, 227.84184557361604, 170.2436525340574, 142.03180258536585, 178.35932831160508, 127.75027613220101, 131.94834768701182, 123.5476017956252, 137.9492038817887, 119.38517144626991, 99.72552773620906, 90.75411166414547, 72.64601991061183, 94.49205142672176, 166.35909850957742, 78.3822828575657, 67.26573462816859, 60.709093519725705, 70.89394171826643, 105.4632411984244, 69.31067465805948, 60.52604943478807, 54.91675849213667, 89.00726518828864, 84.32168857855112, 55.05912889906082, 47.66572018839262, 47.57848550085697, 52.742948030498994, 56.973914910496646, 64.44919302627069, 101.33266935855586, 79.69042420354171, 72.42393514758956, 69.02512335566905, 68.28694097681418, 71.77403819978059, 80.95852307397516, 116.64687160620323, 74.03016841421571, 101.18548098553468, 414.2327482573586, 311.09189651702184, 128.0858188193623, 265.5300695093756, 395.3687043636021, 232.8634590141948, 52.54462623930431, 90.23168230050469, 48.94578513655113, 50.59849466435662, 32.955082358138306, 37.12779909005421, 27.618861459564368, 31.745265581562524, 41.932629965227, 25.874639155218055, 70.8303440302853, 24.9332052701831, 22.863553502969708, 17.97010495068716, 49.71968358125604, 27.133367103389034, 15.931353451987402, 18.131592366164938, 24.977455049956845, 26.483093190163693, 18.752522147472018, 17.063638601596747, 117.54941016452887, 29.688453478193477, 37.869872558414905, 13.256450858220933, 12.42729662240882, 12.428124243972922, 12.430489340237761, 22.614864035235776, 18.422504137346913, 61.00923278521304, 19.51171938705053, 47.23156217046328, 66.32766252081097, 49.82063362172441, 46.38289217054656, 26.927240494557356, 31.696853414868176, 395.3687043636021, 414.2327482573586, 265.5300695093756, 311.09189651702184, 45.396015401155324, 48.8599019482336], \"Category\": [\"Default\", \"Default\", \"Default\", \"Default\", \"Default\", \"Default\", \"Default\", \"Default\", \"Default\", \"Default\", \"Default\", \"Default\", \"Default\", \"Default\", \"Default\", \"Default\", \"Default\", \"Default\", \"Default\", \"Default\", \"Default\", \"Default\", \"Default\", \"Default\", \"Default\", \"Default\", \"Default\", \"Default\", \"Default\", \"Default\", \"Topic1\", \"Topic1\", \"Topic1\", \"Topic1\", \"Topic1\", \"Topic1\", \"Topic1\", \"Topic1\", \"Topic1\", \"Topic1\", \"Topic1\", \"Topic1\", \"Topic1\", \"Topic1\", \"Topic1\", \"Topic1\", \"Topic1\", \"Topic1\", \"Topic1\", \"Topic1\", \"Topic1\", \"Topic1\", \"Topic1\", \"Topic1\", \"Topic1\", \"Topic1\", \"Topic1\", \"Topic1\", \"Topic1\", \"Topic1\", \"Topic1\", \"Topic1\", \"Topic1\", \"Topic1\", \"Topic1\", \"Topic1\", \"Topic1\", \"Topic1\", \"Topic1\", \"Topic1\", \"Topic1\", \"Topic1\", \"Topic1\", \"Topic1\", \"Topic1\", \"Topic2\", \"Topic2\", \"Topic2\", \"Topic2\", \"Topic2\", \"Topic2\", \"Topic2\", \"Topic2\", \"Topic2\", \"Topic2\", \"Topic2\", \"Topic2\", \"Topic2\", \"Topic2\", \"Topic2\", \"Topic2\", \"Topic2\", \"Topic2\", \"Topic2\", \"Topic2\", \"Topic2\", \"Topic2\", \"Topic2\", \"Topic2\", \"Topic2\", \"Topic2\", \"Topic2\", \"Topic2\", \"Topic2\", \"Topic2\", \"Topic2\", \"Topic2\", \"Topic2\", \"Topic2\", \"Topic2\", \"Topic2\", \"Topic2\", \"Topic2\", \"Topic2\", \"Topic2\", \"Topic2\", \"Topic2\", \"Topic2\", \"Topic2\", \"Topic2\", \"Topic2\"], \"logprob\": [30.0, 29.0, 28.0, 27.0, 26.0, 25.0, 24.0, 23.0, 22.0, 21.0, 20.0, 19.0, 18.0, 17.0, 16.0, 15.0, 14.0, 13.0, 12.0, 11.0, 10.0, 9.0, 8.0, 7.0, 6.0, 5.0, 4.0, 3.0, 2.0, 1.0, -4.1253, -4.4174, -4.5988, -4.3715, -4.7053, -4.6731, -4.7391, -4.6291, -4.7745, -4.9546, -5.05, -5.2731, -5.0104, -4.4449, -5.1975, -5.3505, -5.4531, -5.2981, -4.901, -5.3216, -5.4571, -5.5544, -5.0715, -5.1257, -5.5522, -5.6967, -5.6989, -5.5958, -5.5188, -5.3957, -4.9441, -5.1835, -5.2794, -5.3273, -5.3385, -5.2897, -5.1718, -4.8365, -5.2655, -5.02, -3.9204, -4.1606, -4.8741, -4.381, -4.2053, -3.2806, -4.7742, -4.2341, -4.8468, -4.8154, -5.2443, -5.1258, -5.4223, -5.2831, -5.0061, -5.4906, -4.4843, -5.5306, -5.6175, -5.8588, -4.8417, -5.448, -5.9812, -5.8528, -5.5346, -5.4793, -5.8257, -5.9206, -3.9918, -5.3681, -5.1258, -6.1761, -6.2408, -6.2408, -6.2407, -5.6495, -5.8523, -4.6887, -5.8001, -4.9472, -4.661, -4.9296, -5.0003, -5.5404, -5.4211, -3.504, -3.8199, -4.2327, -4.2088, -5.2836, -5.2569], \"loglift\": [30.0, 29.0, 28.0, 27.0, 26.0, 25.0, 24.0, 23.0, 22.0, 21.0, 20.0, 19.0, 18.0, 17.0, 16.0, 15.0, 14.0, 13.0, 12.0, 11.0, 10.0, 9.0, 8.0, 7.0, 6.0, 5.0, 4.0, 3.0, 2.0, 1.0, 0.3611, 0.3605, 0.3603, 0.3599, 0.3597, 0.3596, 0.3594, 0.3591, 0.3583, 0.3581, 0.3569, 0.3565, 0.3562, 0.3561, 0.356, 0.356, 0.3559, 0.3558, 0.3557, 0.355, 0.3549, 0.3549, 0.3549, 0.3547, 0.3545, 0.3542, 0.3539, 0.3539, 0.3537, 0.3535, 0.3526, 0.3534, 0.3532, 0.3533, 0.3529, 0.3519, 0.3494, 0.3194, 0.3451, 0.2782, -0.0317, 0.0145, 0.1884, -0.0476, -0.27, 1.184, 1.1793, 1.1786, 1.1776, 1.1758, 1.1757, 1.175, 1.1743, 1.1742, 1.173, 1.1713, 1.1705, 1.1684, 1.168, 1.1677, 1.1671, 1.1664, 1.1656, 1.1646, 1.1626, 1.1593, 1.1581, 1.1575, 1.1564, 1.1563, 1.1551, 1.1546, 1.1544, 1.1544, 1.1542, 1.147, 1.1493, 1.1154, 1.144, 1.1128, 1.0595, 1.0771, 1.0779, 1.0816, 1.0378, 0.4313, 0.0688, 0.1007, -0.0337, 0.8161, 0.7693]}, \"token.table\": {\"Topic\": [1, 2, 1, 2, 1, 2, 1, 2, 1, 2, 1, 2, 1, 2, 1, 2, 1, 2, 1, 2, 1, 2, 1, 1, 2, 2, 1, 2, 2, 2, 1, 2, 1, 2, 1, 2, 1, 2, 1, 2, 1, 2, 1, 2, 2, 1, 2, 2, 1, 2, 1, 2, 1, 1, 2, 1, 2, 1, 2, 1, 2, 2, 1, 2, 1, 2, 1, 2, 1, 2, 1, 2, 2, 2, 2, 2, 1, 2, 1, 2, 1, 2, 1, 2, 1, 2, 1, 1, 2, 1, 2, 1, 2, 1, 2, 1, 2, 1, 2, 1, 2, 2, 1, 2, 1, 2, 1, 2, 1, 2, 1, 2, 1, 2, 2, 1, 2, 2, 1, 2, 1, 2, 1, 2, 1, 2, 1, 2, 1, 2, 1, 2, 1, 2, 1, 2, 1, 2, 1, 2, 1, 2, 2, 1, 2, 1, 2, 1, 2, 1, 2, 1, 2], \"Freq\": [0.11141134200537081, 0.8912907360429665, 0.9928127354102125, 0.007578723171070325, 0.5311497791359653, 0.4704469472347121, 0.10036002428158075, 0.9032402185342268, 0.05125124957791657, 0.9737737419804148, 0.9913087102214585, 0.01652181183702431, 0.9951228409835884, 0.012757985140815236, 0.037759939627120986, 0.9817584303051456, 0.9941270097027063, 0.007827771729942569, 0.9927247541058073, 0.010027522768745528, 0.9979853685534332, 0.005606659373895692, 0.9833063983143153, 0.9913361710589185, 0.012548559127328081, 0.96619704916574, 0.04421870493857136, 0.9728115086485699, 0.980676882924392, 0.9896349773842921, 0.9918303325651937, 0.0060110929246375375, 0.12061332626473786, 0.8744466154193495, 0.011082581799479614, 0.9863497801536856, 0.993030276948734, 0.01551609807732397, 0.05332616018986052, 0.9598708834174894, 0.04003610447901608, 0.9608665074963859, 0.10779836629452427, 0.9055062768740039, 0.9765235675963168, 0.019763433806350678, 0.9881716903175338, 0.9625717889027652, 0.9868485714726379, 0.009868485714726379, 0.03368312871987461, 0.9768107328763638, 0.9997760882789138, 0.9860844783109005, 0.013508006552204117, 0.054281437124107136, 0.9770658682339285, 0.9911072910614136, 0.013765379042519633, 0.9955176506419512, 0.014427792038289148, 1.0043088961788136, 0.9931191782549026, 0.007249045096751114, 0.9956075577313916, 0.009481976740298968, 0.9947926685970688, 0.010582900729756052, 0.014118242875855929, 0.988277001309915, 0.9851485472849233, 0.01448747863654299, 0.9806546366773655, 0.9775927961233878, 0.9653682708335336, 0.9927423712431072, 0.6735343865827338, 0.3259037354432583, 0.9881603191661573, 0.012352003989576966, 0.9985688010658216, 0.005873934123916597, 0.02384777679886186, 0.9777588487533362, 0.0042943620447510504, 0.9962919943822437, 0.9883198137442901, 0.9955676857529695, 0.0080940462256339, 0.026406215084497142, 0.9770299581263943, 0.9916906060748386, 0.011018784511942652, 0.0340282439052767, 0.9698049513003859, 0.986033564881398, 0.9656162852314701, 0.9892156242118343, 0.013932614425518793, 0.9960494800266805, 0.014866410149651949, 0.9965578597927598, 0.9878414477727218, 0.9622301274009072, 0.9989260836441997, 0.018162292429894537, 0.662825119298911, 0.33894466327785217, 0.3083971109861704, 0.682879317183663, 0.06351684894885987, 0.9315804512499447, 0.9191041945365179, 0.07906272641174347, 1.0013629958916064, 0.835377413255254, 0.16395257643327416, 0.9655519822968825, 0.03685499098543863, 0.995084756606843, 0.0655638469357951, 0.9342848188350802, 0.9963051318712038, 0.004389009391503101, 0.058604147881239355, 0.996270513981069, 0.9967737078097404, 0.008376249645460004, 0.34793356765249484, 0.6549337744046962, 0.0201127587299649, 0.9855251777682801, 0.7039720495838023, 0.29573255051009045, 0.1261954916358891, 0.8518195685422515, 0.9873904356761686, 0.014105577652516695, 0.960162912710673, 0.042864415746012186, 0.985913794009592, 0.018959880654030616, 1.0016635990382292, 0.9941464773113248, 0.013807589962657288, 0.9829059506964438, 0.01755189197672221, 0.9886833374089424, 0.011235037925101618, 0.9957980109709175, 0.014644088396631139, 0.9961849841485154, 0.011859345049387088], \"Term\": [\"advertise\", \"advertise\", \"airbnb\", \"airbnb\", \"apartment\", \"apartment\", \"appartement\", \"appartement\", \"area\", \"area\", \"arrive\", \"arrive\", \"ask\", \"ask\", \"available\", \"available\", \"bad\", \"bad\", \"bathroom\", \"bathroom\", \"bed\", \"bed\", \"book\", \"break\", \"break\", \"cafe\", \"center\", \"center\", \"central\", \"city\", \"clean\", \"clean\", \"cleanliness\", \"cleanliness\", \"close\", \"close\", \"come\", \"come\", \"come_back\", \"come_back\", \"comfy\", \"comfy\", \"communication\", \"communication\", \"convenient\", \"cosy\", \"cosy\", \"cozy\", \"day\", \"day\", \"describe\", \"describe\", \"dirty\", \"door\", \"door\", \"exactly\", \"exactly\", \"experience\", \"experience\", \"find\", \"find\", \"gamla_stan\", \"get\", \"get\", \"go\", \"go\", \"good\", \"good\", \"great\", \"great\", \"guest\", \"guest\", \"gut\", \"heart\", \"historic\", \"home\", \"host\", \"host\", \"kitchen\", \"kitchen\", \"leave\", \"leave\", \"locate\", \"locate\", \"location\", \"location\", \"look\", \"make\", \"make\", \"minute\", \"minute\", \"money\", \"money\", \"need\", \"need\", \"never\", \"newly\", \"nice\", \"nice\", \"night\", \"night\", \"old_town\", \"owner\", \"perfect\", \"photo\", \"photo\", \"place\", \"place\", \"poor\", \"poor\", \"price\", \"price\", \"problem\", \"problem\", \"quiet\", \"really\", \"really\", \"renovate\", \"restaurant\", \"restaurant\", \"right\", \"right\", \"room\", \"room\", \"shop\", \"shop\", \"shower\", \"shower\", \"space\", \"space\", \"spacious\", \"spacious\", \"stay\", \"stay\", \"super\", \"super\", \"thing\", \"thing\", \"time\", \"time\", \"towel\", \"towel\", \"transport\", \"uncomfortable\", \"uncomfortable\", \"wait\", \"wait\", \"want\", \"want\", \"window\", \"window\", \"work\", \"work\"]}, \"R\": 30, \"lambda.step\": 0.01, \"plot.opts\": {\"xlab\": \"PC1\", \"ylab\": \"PC2\"}, \"topic.order\": [1, 2]};\n",
       "\n",
       "function LDAvis_load_lib(url, callback){\n",
       "  var s = document.createElement('script');\n",
       "  s.src = url;\n",
       "  s.async = true;\n",
       "  s.onreadystatechange = s.onload = callback;\n",
       "  s.onerror = function(){console.warn(\"failed to load library \" + url);};\n",
       "  document.getElementsByTagName(\"head\")[0].appendChild(s);\n",
       "}\n",
       "\n",
       "if(typeof(LDAvis) !== \"undefined\"){\n",
       "   // already loaded: just create the visualization\n",
       "   !function(LDAvis){\n",
       "       new LDAvis(\"#\" + \"ldavis_el562951403560516190568582483564\", ldavis_el562951403560516190568582483564_data);\n",
       "   }(LDAvis);\n",
       "}else if(typeof define === \"function\" && define.amd){\n",
       "   // require.js is available: use it to load d3/LDAvis\n",
       "   require.config({paths: {d3: \"https://d3js.org/d3.v5\"}});\n",
       "   require([\"d3\"], function(d3){\n",
       "      window.d3 = d3;\n",
       "      LDAvis_load_lib(\"https://cdn.jsdelivr.net/gh/bmabey/pyLDAvis@3.4.0/pyLDAvis/js/ldavis.v3.0.0.js\", function(){\n",
       "        new LDAvis(\"#\" + \"ldavis_el562951403560516190568582483564\", ldavis_el562951403560516190568582483564_data);\n",
       "      });\n",
       "    });\n",
       "}else{\n",
       "    // require.js not available: dynamically load d3 & LDAvis\n",
       "    LDAvis_load_lib(\"https://d3js.org/d3.v5.js\", function(){\n",
       "         LDAvis_load_lib(\"https://cdn.jsdelivr.net/gh/bmabey/pyLDAvis@3.4.0/pyLDAvis/js/ldavis.v3.0.0.js\", function(){\n",
       "                 new LDAvis(\"#\" + \"ldavis_el562951403560516190568582483564\", ldavis_el562951403560516190568582483564_data);\n",
       "            })\n",
       "         });\n",
       "}\n",
       "</script>"
      ],
      "text/plain": [
       "PreparedData(topic_coordinates=              x    y  topics  cluster       Freq\n",
       "topic                                           \n",
       "0      0.153722  0.0       1        1  69.504701\n",
       "1     -0.153722  0.0       2        1  30.495299, topic_info=          Term        Freq       Total Category  logprob  loglift\n",
       "33    location  232.000000  232.000000  Default  30.0000  30.0000\n",
       "138       need  117.000000  117.000000  Default  29.0000  29.0000\n",
       "22   apartment  395.000000  395.000000  Default  28.0000  28.0000\n",
       "154      close   90.000000   90.000000  Default  27.0000  27.0000\n",
       "168      great   70.000000   70.000000  Default  26.0000  26.0000\n",
       "..         ...         ...         ...      ...      ...      ...\n",
       "27        host  135.312226  414.232748   Topic2  -3.8199   0.0688\n",
       "10       place   89.556649  265.530070   Topic2  -4.2327   0.1007\n",
       "17        stay   91.720901  311.091897   Topic2  -4.2088  -0.0337\n",
       "533       poor   31.308702   45.396015   Topic2  -5.2836   0.8161\n",
       "176      space   32.156870   48.859902   Topic2  -5.2569   0.7693\n",
       "\n",
       "[121 rows x 6 columns], token_table=      Topic      Freq       Term\n",
       "term                            \n",
       "127       1  0.111411  advertise\n",
       "127       2  0.891291  advertise\n",
       "261       1  0.992813     airbnb\n",
       "261       2  0.007579     airbnb\n",
       "22        1  0.531150  apartment\n",
       "...     ...       ...        ...\n",
       "148       2  0.011235       want\n",
       "338       1  0.995798     window\n",
       "338       2  0.014644     window\n",
       "515       1  0.996185       work\n",
       "515       2  0.011859       work\n",
       "\n",
       "[153 rows x 3 columns], R=30, lambda_step=0.01, plot_opts={'xlab': 'PC1', 'ylab': 'PC2'}, topic_order=[1, 2])"
      ]
     },
     "execution_count": 24,
     "metadata": {},
     "output_type": "execute_result"
    }
   ],
   "source": [
    "pyLDAvis.enable_notebook()\n",
    "vis = pyLDAvis.gensim_models.prepare(lda_model, corpus, dictionary=lda_model.id2word)\n",
    "vis"
   ]
  },
  {
   "cell_type": "code",
   "execution_count": 25,
   "metadata": {},
   "outputs": [],
   "source": [
    "topics = lda_model.show_topics(formatted=False)"
   ]
  },
  {
   "cell_type": "code",
   "execution_count": 26,
   "metadata": {},
   "outputs": [
    {
     "data": {
      "image/png": "[encoded data removed]",
      "text/plain": [
       "<Figure size 1000x1000 with 2 Axes>"
      ]
     },
     "metadata": {},
     "output_type": "display_data"
    }
   ],
   "source": [
    "cols = [color for name, color in mcolors.TABLEAU_COLORS.items()]\n",
    "cloud = WordCloud(stopwords=stop_words,\n",
    "                  background_color='white',\n",
    "                  width=2500,\n",
    "                  height=1800,\n",
    "                  max_words=20,\n",
    "                  colormap='tab10',\n",
    "                  color_func=lambda *args, **kwargs: cols[i],\n",
    "                  prefer_horizontal=1.0)\n",
    "\n",
    "fig, axes = plt.subplots(1, 2, figsize=(10,10), sharex=True, sharey=True)\n",
    "\n",
    "groups = {0: 'Issues and Complaints',\n",
    "          1: 'Location and Accessibility',\n",
    "          2: 'Host and Service Experience'\n",
    "        }\n",
    "\n",
    "for i, ax in enumerate(axes.flatten()):\n",
    "    fig.add_subplot(ax)\n",
    "    topic_words = dict(topics[i][1])\n",
    "    cloud.generate_from_frequencies(topic_words, max_font_size=350)\n",
    "    plt.gca().imshow(cloud)\n",
    "    plt.gca().set_title(groups.get(i), fontdict=dict(size=14))\n",
    "    plt.gca().axis('off')\n",
    "\n",
    "\n",
    "plt.subplots_adjust(wspace=30, hspace=10)\n",
    "plt.axis('off')\n",
    "#plt.margins(x=0, y=0)\n",
    "plt.tight_layout()\n",
    "plt.show()"
   ]
  },
  {
   "cell_type": "code",
   "execution_count": 27,
   "metadata": {},
   "outputs": [
    {
     "data": {
      "text/html": [
       "<div>\n",
       "<style scoped>\n",
       "    .dataframe tbody tr th:only-of-type {\n",
       "        vertical-align: middle;\n",
       "    }\n",
       "\n",
       "    .dataframe tbody tr th {\n",
       "        vertical-align: top;\n",
       "    }\n",
       "\n",
       "    .dataframe thead th {\n",
       "        text-align: right;\n",
       "    }\n",
       "</style>\n",
       "<table border=\"1\" class=\"dataframe\">\n",
       "  <thead>\n",
       "    <tr style=\"text-align: right;\">\n",
       "      <th></th>\n",
       "      <th>neighbourhood</th>\n",
       "      <th>dominant_topic</th>\n",
       "      <th>number_of_reviews</th>\n",
       "    </tr>\n",
       "  </thead>\n",
       "  <tbody>\n",
       "    <tr>\n",
       "      <th>0</th>\n",
       "      <td>Södermalm</td>\n",
       "      <td>0</td>\n",
       "      <td>321</td>\n",
       "    </tr>\n",
       "    <tr>\n",
       "      <th>1</th>\n",
       "      <td>Södermalm</td>\n",
       "      <td>1</td>\n",
       "      <td>276</td>\n",
       "    </tr>\n",
       "    <tr>\n",
       "      <th>2</th>\n",
       "      <td>Kungsholmen</td>\n",
       "      <td>0</td>\n",
       "      <td>86</td>\n",
       "    </tr>\n",
       "    <tr>\n",
       "      <th>3</th>\n",
       "      <td>Norrmalm</td>\n",
       "      <td>0</td>\n",
       "      <td>81</td>\n",
       "    </tr>\n",
       "    <tr>\n",
       "      <th>4</th>\n",
       "      <td>Kungsholmen</td>\n",
       "      <td>1</td>\n",
       "      <td>80</td>\n",
       "    </tr>\n",
       "    <tr>\n",
       "      <th>5</th>\n",
       "      <td>Norrmalm</td>\n",
       "      <td>1</td>\n",
       "      <td>67</td>\n",
       "    </tr>\n",
       "    <tr>\n",
       "      <th>6</th>\n",
       "      <td>Enskede-Årsta-Vantör</td>\n",
       "      <td>1</td>\n",
       "      <td>38</td>\n",
       "    </tr>\n",
       "    <tr>\n",
       "      <th>7</th>\n",
       "      <td>Enskede-Årsta-Vantör</td>\n",
       "      <td>0</td>\n",
       "      <td>30</td>\n",
       "    </tr>\n",
       "    <tr>\n",
       "      <th>8</th>\n",
       "      <td>Hägersten-Liljeholmen</td>\n",
       "      <td>0</td>\n",
       "      <td>23</td>\n",
       "    </tr>\n",
       "    <tr>\n",
       "      <th>9</th>\n",
       "      <td>Östermalm</td>\n",
       "      <td>0</td>\n",
       "      <td>20</td>\n",
       "    </tr>\n",
       "    <tr>\n",
       "      <th>10</th>\n",
       "      <td>Älvsjö</td>\n",
       "      <td>0</td>\n",
       "      <td>20</td>\n",
       "    </tr>\n",
       "    <tr>\n",
       "      <th>11</th>\n",
       "      <td>Skarpnäck</td>\n",
       "      <td>0</td>\n",
       "      <td>20</td>\n",
       "    </tr>\n",
       "    <tr>\n",
       "      <th>12</th>\n",
       "      <td>Östermalm</td>\n",
       "      <td>1</td>\n",
       "      <td>20</td>\n",
       "    </tr>\n",
       "    <tr>\n",
       "      <th>13</th>\n",
       "      <td>Hägersten-Liljeholmen</td>\n",
       "      <td>1</td>\n",
       "      <td>19</td>\n",
       "    </tr>\n",
       "    <tr>\n",
       "      <th>14</th>\n",
       "      <td>Skarpnäck</td>\n",
       "      <td>1</td>\n",
       "      <td>17</td>\n",
       "    </tr>\n",
       "    <tr>\n",
       "      <th>15</th>\n",
       "      <td>Skärholmen</td>\n",
       "      <td>1</td>\n",
       "      <td>14</td>\n",
       "    </tr>\n",
       "    <tr>\n",
       "      <th>16</th>\n",
       "      <td>Bromma</td>\n",
       "      <td>1</td>\n",
       "      <td>13</td>\n",
       "    </tr>\n",
       "    <tr>\n",
       "      <th>17</th>\n",
       "      <td>Hässelby-Vällingby</td>\n",
       "      <td>1</td>\n",
       "      <td>12</td>\n",
       "    </tr>\n",
       "    <tr>\n",
       "      <th>18</th>\n",
       "      <td>Farsta</td>\n",
       "      <td>1</td>\n",
       "      <td>12</td>\n",
       "    </tr>\n",
       "    <tr>\n",
       "      <th>19</th>\n",
       "      <td>Farsta</td>\n",
       "      <td>0</td>\n",
       "      <td>10</td>\n",
       "    </tr>\n",
       "    <tr>\n",
       "      <th>20</th>\n",
       "      <td>Skärholmen</td>\n",
       "      <td>0</td>\n",
       "      <td>10</td>\n",
       "    </tr>\n",
       "    <tr>\n",
       "      <th>21</th>\n",
       "      <td>Bromma</td>\n",
       "      <td>0</td>\n",
       "      <td>9</td>\n",
       "    </tr>\n",
       "    <tr>\n",
       "      <th>22</th>\n",
       "      <td>Älvsjö</td>\n",
       "      <td>1</td>\n",
       "      <td>7</td>\n",
       "    </tr>\n",
       "    <tr>\n",
       "      <th>23</th>\n",
       "      <td>Spånga-Tensta</td>\n",
       "      <td>1</td>\n",
       "      <td>4</td>\n",
       "    </tr>\n",
       "    <tr>\n",
       "      <th>24</th>\n",
       "      <td>Spånga-Tensta</td>\n",
       "      <td>0</td>\n",
       "      <td>4</td>\n",
       "    </tr>\n",
       "    <tr>\n",
       "      <th>25</th>\n",
       "      <td>Rinkeby-Tensta</td>\n",
       "      <td>1</td>\n",
       "      <td>4</td>\n",
       "    </tr>\n",
       "    <tr>\n",
       "      <th>26</th>\n",
       "      <td>Hässelby-Vällingby</td>\n",
       "      <td>0</td>\n",
       "      <td>4</td>\n",
       "    </tr>\n",
       "    <tr>\n",
       "      <th>27</th>\n",
       "      <td>Rinkeby-Tensta</td>\n",
       "      <td>0</td>\n",
       "      <td>4</td>\n",
       "    </tr>\n",
       "  </tbody>\n",
       "</table>\n",
       "</div>"
      ],
      "text/plain": [
       "            neighbourhood  dominant_topic  number_of_reviews\n",
       "0               Södermalm               0                321\n",
       "1               Södermalm               1                276\n",
       "2             Kungsholmen               0                 86\n",
       "3                Norrmalm               0                 81\n",
       "4             Kungsholmen               1                 80\n",
       "5                Norrmalm               1                 67\n",
       "6    Enskede-Årsta-Vantör               1                 38\n",
       "7    Enskede-Årsta-Vantör               0                 30\n",
       "8   Hägersten-Liljeholmen               0                 23\n",
       "9               Östermalm               0                 20\n",
       "10                 Älvsjö               0                 20\n",
       "11              Skarpnäck               0                 20\n",
       "12              Östermalm               1                 20\n",
       "13  Hägersten-Liljeholmen               1                 19\n",
       "14              Skarpnäck               1                 17\n",
       "15             Skärholmen               1                 14\n",
       "16                 Bromma               1                 13\n",
       "17     Hässelby-Vällingby               1                 12\n",
       "18                 Farsta               1                 12\n",
       "19                 Farsta               0                 10\n",
       "20             Skärholmen               0                 10\n",
       "21                 Bromma               0                  9\n",
       "22                 Älvsjö               1                  7\n",
       "23          Spånga-Tensta               1                  4\n",
       "24          Spånga-Tensta               0                  4\n",
       "25         Rinkeby-Tensta               1                  4\n",
       "26     Hässelby-Vällingby               0                  4\n",
       "27         Rinkeby-Tensta               0                  4"
      ]
     },
     "execution_count": 27,
     "metadata": {},
     "output_type": "execute_result"
    }
   ],
   "source": [
    "numnber_topic_by_neighbourhood = (df_dominant_topic.groupby(['neighbourhood', 'dominant_topic'])\n",
    "        .agg(number_of_reviews=('number_of_reviews', 'count'))\n",
    "        .sort_values('number_of_reviews', ascending=False)\n",
    "        .reset_index())\n",
    "numnber_topic_by_neighbourhood "
   ]
  },
  {
   "cell_type": "code",
   "execution_count": 28,
   "metadata": {},
   "outputs": [
    {
     "data": {
      "application/vnd.plotly.v1+json": {
       "config": {
        "plotlyServerURL": "https://plotly.com"
       },
       "data": [
        {
         "branchvalues": "total",
         "domain": {
          "x": [
           0,
           1
          ],
          "y": [
           0,
           1
          ]
         },
         "hovertemplate": "labels=%{label}<br>number_of_reviews=%{value}<br>parent=%{parent}<br>id=%{id}<extra></extra>",
         "ids": [
          "Bromma/0",
          "Enskede-Årsta-Vantör/0",
          "Farsta/0",
          "Hägersten-Liljeholmen/0",
          "Hässelby-Vällingby/0",
          "Kungsholmen/0",
          "Norrmalm/0",
          "Rinkeby-Tensta/0",
          "Skarpnäck/0",
          "Skärholmen/0",
          "Spånga-Tensta/0",
          "Södermalm/0",
          "Älvsjö/0",
          "Östermalm/0",
          "Bromma/1",
          "Enskede-Årsta-Vantör/1",
          "Farsta/1",
          "Hägersten-Liljeholmen/1",
          "Hässelby-Vällingby/1",
          "Kungsholmen/1",
          "Norrmalm/1",
          "Rinkeby-Tensta/1",
          "Skarpnäck/1",
          "Skärholmen/1",
          "Spånga-Tensta/1",
          "Södermalm/1",
          "Älvsjö/1",
          "Östermalm/1",
          "Bromma",
          "Enskede-Årsta-Vantör",
          "Farsta",
          "Hägersten-Liljeholmen",
          "Hässelby-Vällingby",
          "Kungsholmen",
          "Norrmalm",
          "Rinkeby-Tensta",
          "Skarpnäck",
          "Skärholmen",
          "Spånga-Tensta",
          "Södermalm",
          "Älvsjö",
          "Östermalm"
         ],
         "labels": [
          "0",
          "0",
          "0",
          "0",
          "0",
          "0",
          "0",
          "0",
          "0",
          "0",
          "0",
          "0",
          "0",
          "0",
          "1",
          "1",
          "1",
          "1",
          "1",
          "1",
          "1",
          "1",
          "1",
          "1",
          "1",
          "1",
          "1",
          "1",
          "Bromma",
          "Enskede-Årsta-Vantör",
          "Farsta",
          "Hägersten-Liljeholmen",
          "Hässelby-Vällingby",
          "Kungsholmen",
          "Norrmalm",
          "Rinkeby-Tensta",
          "Skarpnäck",
          "Skärholmen",
          "Spånga-Tensta",
          "Södermalm",
          "Älvsjö",
          "Östermalm"
         ],
         "marker": {
          "colors": [
           null,
           null,
           null,
           null,
           null,
           null,
           null,
           null,
           null,
           null,
           null,
           null,
           null,
           null,
           null,
           null,
           null,
           null,
           null,
           null,
           null,
           null,
           null,
           null,
           null,
           null,
           null,
           null,
           null,
           null,
           null,
           null,
           null,
           null,
           null,
           null,
           null,
           null,
           null,
           null,
           null,
           null
          ]
         },
         "name": "",
         "parents": [
          "Bromma",
          "Enskede-Årsta-Vantör",
          "Farsta",
          "Hägersten-Liljeholmen",
          "Hässelby-Vällingby",
          "Kungsholmen",
          "Norrmalm",
          "Rinkeby-Tensta",
          "Skarpnäck",
          "Skärholmen",
          "Spånga-Tensta",
          "Södermalm",
          "Älvsjö",
          "Östermalm",
          "Bromma",
          "Enskede-Årsta-Vantör",
          "Farsta",
          "Hägersten-Liljeholmen",
          "Hässelby-Vällingby",
          "Kungsholmen",
          "Norrmalm",
          "Rinkeby-Tensta",
          "Skarpnäck",
          "Skärholmen",
          "Spånga-Tensta",
          "Södermalm",
          "Älvsjö",
          "Östermalm",
          "",
          "",
          "",
          "",
          "",
          "",
          "",
          "",
          "",
          "",
          "",
          "",
          "",
          ""
         ],
         "type": "treemap",
         "values": [
          9,
          30,
          10,
          23,
          4,
          86,
          81,
          4,
          20,
          10,
          4,
          321,
          20,
          20,
          13,
          38,
          12,
          19,
          12,
          80,
          67,
          4,
          17,
          14,
          4,
          276,
          7,
          20,
          22,
          68,
          22,
          42,
          16,
          166,
          148,
          8,
          37,
          24,
          8,
          597,
          27,
          40
         ]
        }
       ],
       "layout": {
        "legend": {
         "tracegroupgap": 0
        },
        "margin": {
         "t": 60
        },
        "template": {
         "data": {
          "bar": [
           {
            "error_x": {
             "color": "#2a3f5f"
            },
            "error_y": {
             "color": "#2a3f5f"
            },
            "marker": {
             "line": {
              "color": "#E5ECF6",
              "width": 0.5
             },
             "pattern": {
              "fillmode": "overlay",
              "size": 10,
              "solidity": 0.2
             }
            },
            "type": "bar"
           }
          ],
          "barpolar": [
           {
            "marker": {
             "line": {
              "color": "#E5ECF6",
              "width": 0.5
             },
             "pattern": {
              "fillmode": "overlay",
              "size": 10,
              "solidity": 0.2
             }
            },
            "type": "barpolar"
           }
          ],
          "carpet": [
           {
            "aaxis": {
             "endlinecolor": "#2a3f5f",
             "gridcolor": "white",
             "linecolor": "white",
             "minorgridcolor": "white",
             "startlinecolor": "#2a3f5f"
            },
            "baxis": {
             "endlinecolor": "#2a3f5f",
             "gridcolor": "white",
             "linecolor": "white",
             "minorgridcolor": "white",
             "startlinecolor": "#2a3f5f"
            },
            "type": "carpet"
           }
          ],
          "choropleth": [
           {
            "colorbar": {
             "outlinewidth": 0,
             "ticks": ""
            },
            "type": "choropleth"
           }
          ],
          "contour": [
           {
            "colorbar": {
             "outlinewidth": 0,
             "ticks": ""
            },
            "colorscale": [
             [
              0,
              "#0d0887"
             ],
             [
              0.1111111111111111,
              "#46039f"
             ],
             [
              0.2222222222222222,
              "#7201a8"
             ],
             [
              0.3333333333333333,
              "#9c179e"
             ],
             [
              0.4444444444444444,
              "#bd3786"
             ],
             [
              0.5555555555555556,
              "#d8576b"
             ],
             [
              0.6666666666666666,
              "#ed7953"
             ],
             [
              0.7777777777777778,
              "#fb9f3a"
             ],
             [
              0.8888888888888888,
              "#fdca26"
             ],
             [
              1,
              "#f0f921"
             ]
            ],
            "type": "contour"
           }
          ],
          "contourcarpet": [
           {
            "colorbar": {
             "outlinewidth": 0,
             "ticks": ""
            },
            "type": "contourcarpet"
           }
          ],
          "heatmap": [
           {
            "colorbar": {
             "outlinewidth": 0,
             "ticks": ""
            },
            "colorscale": [
             [
              0,
              "#0d0887"
             ],
             [
              0.1111111111111111,
              "#46039f"
             ],
             [
              0.2222222222222222,
              "#7201a8"
             ],
             [
              0.3333333333333333,
              "#9c179e"
             ],
             [
              0.4444444444444444,
              "#bd3786"
             ],
             [
              0.5555555555555556,
              "#d8576b"
             ],
             [
              0.6666666666666666,
              "#ed7953"
             ],
             [
              0.7777777777777778,
              "#fb9f3a"
             ],
             [
              0.8888888888888888,
              "#fdca26"
             ],
             [
              1,
              "#f0f921"
             ]
            ],
            "type": "heatmap"
           }
          ],
          "heatmapgl": [
           {
            "colorbar": {
             "outlinewidth": 0,
             "ticks": ""
            },
            "colorscale": [
             [
              0,
              "#0d0887"
             ],
             [
              0.1111111111111111,
              "#46039f"
             ],
             [
              0.2222222222222222,
              "#7201a8"
             ],
             [
              0.3333333333333333,
              "#9c179e"
             ],
             [
              0.4444444444444444,
              "#bd3786"
             ],
             [
              0.5555555555555556,
              "#d8576b"
             ],
             [
              0.6666666666666666,
              "#ed7953"
             ],
             [
              0.7777777777777778,
              "#fb9f3a"
             ],
             [
              0.8888888888888888,
              "#fdca26"
             ],
             [
              1,
              "#f0f921"
             ]
            ],
            "type": "heatmapgl"
           }
          ],
          "histogram": [
           {
            "marker": {
             "pattern": {
              "fillmode": "overlay",
              "size": 10,
              "solidity": 0.2
             }
            },
            "type": "histogram"
           }
          ],
          "histogram2d": [
           {
            "colorbar": {
             "outlinewidth": 0,
             "ticks": ""
            },
            "colorscale": [
             [
              0,
              "#0d0887"
             ],
             [
              0.1111111111111111,
              "#46039f"
             ],
             [
              0.2222222222222222,
              "#7201a8"
             ],
             [
              0.3333333333333333,
              "#9c179e"
             ],
             [
              0.4444444444444444,
              "#bd3786"
             ],
             [
              0.5555555555555556,
              "#d8576b"
             ],
             [
              0.6666666666666666,
              "#ed7953"
             ],
             [
              0.7777777777777778,
              "#fb9f3a"
             ],
             [
              0.8888888888888888,
              "#fdca26"
             ],
             [
              1,
              "#f0f921"
             ]
            ],
            "type": "histogram2d"
           }
          ],
          "histogram2dcontour": [
           {
            "colorbar": {
             "outlinewidth": 0,
             "ticks": ""
            },
            "colorscale": [
             [
              0,
              "#0d0887"
             ],
             [
              0.1111111111111111,
              "#46039f"
             ],
             [
              0.2222222222222222,
              "#7201a8"
             ],
             [
              0.3333333333333333,
              "#9c179e"
             ],
             [
              0.4444444444444444,
              "#bd3786"
             ],
             [
              0.5555555555555556,
              "#d8576b"
             ],
             [
              0.6666666666666666,
              "#ed7953"
             ],
             [
              0.7777777777777778,
              "#fb9f3a"
             ],
             [
              0.8888888888888888,
              "#fdca26"
             ],
             [
              1,
              "#f0f921"
             ]
            ],
            "type": "histogram2dcontour"
           }
          ],
          "mesh3d": [
           {
            "colorbar": {
             "outlinewidth": 0,
             "ticks": ""
            },
            "type": "mesh3d"
           }
          ],
          "parcoords": [
           {
            "line": {
             "colorbar": {
              "outlinewidth": 0,
              "ticks": ""
             }
            },
            "type": "parcoords"
           }
          ],
          "pie": [
           {
            "automargin": true,
            "type": "pie"
           }
          ],
          "scatter": [
           {
            "fillpattern": {
             "fillmode": "overlay",
             "size": 10,
             "solidity": 0.2
            },
            "type": "scatter"
           }
          ],
          "scatter3d": [
           {
            "line": {
             "colorbar": {
              "outlinewidth": 0,
              "ticks": ""
             }
            },
            "marker": {
             "colorbar": {
              "outlinewidth": 0,
              "ticks": ""
             }
            },
            "type": "scatter3d"
           }
          ],
          "scattercarpet": [
           {
            "marker": {
             "colorbar": {
              "outlinewidth": 0,
              "ticks": ""
             }
            },
            "type": "scattercarpet"
           }
          ],
          "scattergeo": [
           {
            "marker": {
             "colorbar": {
              "outlinewidth": 0,
              "ticks": ""
             }
            },
            "type": "scattergeo"
           }
          ],
          "scattergl": [
           {
            "marker": {
             "colorbar": {
              "outlinewidth": 0,
              "ticks": ""
             }
            },
            "type": "scattergl"
           }
          ],
          "scattermapbox": [
           {
            "marker": {
             "colorbar": {
              "outlinewidth": 0,
              "ticks": ""
             }
            },
            "type": "scattermapbox"
           }
          ],
          "scatterpolar": [
           {
            "marker": {
             "colorbar": {
              "outlinewidth": 0,
              "ticks": ""
             }
            },
            "type": "scatterpolar"
           }
          ],
          "scatterpolargl": [
           {
            "marker": {
             "colorbar": {
              "outlinewidth": 0,
              "ticks": ""
             }
            },
            "type": "scatterpolargl"
           }
          ],
          "scatterternary": [
           {
            "marker": {
             "colorbar": {
              "outlinewidth": 0,
              "ticks": ""
             }
            },
            "type": "scatterternary"
           }
          ],
          "surface": [
           {
            "colorbar": {
             "outlinewidth": 0,
             "ticks": ""
            },
            "colorscale": [
             [
              0,
              "#0d0887"
             ],
             [
              0.1111111111111111,
              "#46039f"
             ],
             [
              0.2222222222222222,
              "#7201a8"
             ],
             [
              0.3333333333333333,
              "#9c179e"
             ],
             [
              0.4444444444444444,
              "#bd3786"
             ],
             [
              0.5555555555555556,
              "#d8576b"
             ],
             [
              0.6666666666666666,
              "#ed7953"
             ],
             [
              0.7777777777777778,
              "#fb9f3a"
             ],
             [
              0.8888888888888888,
              "#fdca26"
             ],
             [
              1,
              "#f0f921"
             ]
            ],
            "type": "surface"
           }
          ],
          "table": [
           {
            "cells": {
             "fill": {
              "color": "#EBF0F8"
             },
             "line": {
              "color": "white"
             }
            },
            "header": {
             "fill": {
              "color": "#C8D4E3"
             },
             "line": {
              "color": "white"
             }
            },
            "type": "table"
           }
          ]
         },
         "layout": {
          "annotationdefaults": {
           "arrowcolor": "#2a3f5f",
           "arrowhead": 0,
           "arrowwidth": 1
          },
          "autotypenumbers": "strict",
          "coloraxis": {
           "colorbar": {
            "outlinewidth": 0,
            "ticks": ""
           }
          },
          "colorscale": {
           "diverging": [
            [
             0,
             "#8e0152"
            ],
            [
             0.1,
             "#c51b7d"
            ],
            [
             0.2,
             "#de77ae"
            ],
            [
             0.3,
             "#f1b6da"
            ],
            [
             0.4,
             "#fde0ef"
            ],
            [
             0.5,
             "#f7f7f7"
            ],
            [
             0.6,
             "#e6f5d0"
            ],
            [
             0.7,
             "#b8e186"
            ],
            [
             0.8,
             "#7fbc41"
            ],
            [
             0.9,
             "#4d9221"
            ],
            [
             1,
             "#276419"
            ]
           ],
           "sequential": [
            [
             0,
             "#0d0887"
            ],
            [
             0.1111111111111111,
             "#46039f"
            ],
            [
             0.2222222222222222,
             "#7201a8"
            ],
            [
             0.3333333333333333,
             "#9c179e"
            ],
            [
             0.4444444444444444,
             "#bd3786"
            ],
            [
             0.5555555555555556,
             "#d8576b"
            ],
            [
             0.6666666666666666,
             "#ed7953"
            ],
            [
             0.7777777777777778,
             "#fb9f3a"
            ],
            [
             0.8888888888888888,
             "#fdca26"
            ],
            [
             1,
             "#f0f921"
            ]
           ],
           "sequentialminus": [
            [
             0,
             "#0d0887"
            ],
            [
             0.1111111111111111,
             "#46039f"
            ],
            [
             0.2222222222222222,
             "#7201a8"
            ],
            [
             0.3333333333333333,
             "#9c179e"
            ],
            [
             0.4444444444444444,
             "#bd3786"
            ],
            [
             0.5555555555555556,
             "#d8576b"
            ],
            [
             0.6666666666666666,
             "#ed7953"
            ],
            [
             0.7777777777777778,
             "#fb9f3a"
            ],
            [
             0.8888888888888888,
             "#fdca26"
            ],
            [
             1,
             "#f0f921"
            ]
           ]
          },
          "colorway": [
           "#636efa",
           "#EF553B",
           "#00cc96",
           "#ab63fa",
           "#FFA15A",
           "#19d3f3",
           "#FF6692",
           "#B6E880",
           "#FF97FF",
           "#FECB52"
          ],
          "font": {
           "color": "#2a3f5f"
          },
          "geo": {
           "bgcolor": "white",
           "lakecolor": "white",
           "landcolor": "#E5ECF6",
           "showlakes": true,
           "showland": true,
           "subunitcolor": "white"
          },
          "hoverlabel": {
           "align": "left"
          },
          "hovermode": "closest",
          "mapbox": {
           "style": "light"
          },
          "paper_bgcolor": "white",
          "plot_bgcolor": "#E5ECF6",
          "polar": {
           "angularaxis": {
            "gridcolor": "white",
            "linecolor": "white",
            "ticks": ""
           },
           "bgcolor": "#E5ECF6",
           "radialaxis": {
            "gridcolor": "white",
            "linecolor": "white",
            "ticks": ""
           }
          },
          "scene": {
           "xaxis": {
            "backgroundcolor": "#E5ECF6",
            "gridcolor": "white",
            "gridwidth": 2,
            "linecolor": "white",
            "showbackground": true,
            "ticks": "",
            "zerolinecolor": "white"
           },
           "yaxis": {
            "backgroundcolor": "#E5ECF6",
            "gridcolor": "white",
            "gridwidth": 2,
            "linecolor": "white",
            "showbackground": true,
            "ticks": "",
            "zerolinecolor": "white"
           },
           "zaxis": {
            "backgroundcolor": "#E5ECF6",
            "gridcolor": "white",
            "gridwidth": 2,
            "linecolor": "white",
            "showbackground": true,
            "ticks": "",
            "zerolinecolor": "white"
           }
          },
          "shapedefaults": {
           "line": {
            "color": "#2a3f5f"
           }
          },
          "ternary": {
           "aaxis": {
            "gridcolor": "white",
            "linecolor": "white",
            "ticks": ""
           },
           "baxis": {
            "gridcolor": "white",
            "linecolor": "white",
            "ticks": ""
           },
           "bgcolor": "#E5ECF6",
           "caxis": {
            "gridcolor": "white",
            "linecolor": "white",
            "ticks": ""
           }
          },
          "title": {
           "x": 0.05
          },
          "xaxis": {
           "automargin": true,
           "gridcolor": "white",
           "linecolor": "white",
           "ticks": "",
           "title": {
            "standoff": 15
           },
           "zerolinecolor": "white",
           "zerolinewidth": 2
          },
          "yaxis": {
           "automargin": true,
           "gridcolor": "white",
           "linecolor": "white",
           "ticks": "",
           "title": {
            "standoff": 15
           },
           "zerolinecolor": "white",
           "zerolinewidth": 2
          }
         }
        },
        "treemapcolorway": [
         "rgb(95, 70, 144)",
         "rgb(29, 105, 150)",
         "rgb(56, 166, 165)",
         "rgb(15, 133, 84)",
         "rgb(115, 175, 72)",
         "rgb(237, 173, 8)",
         "rgb(225, 124, 5)",
         "rgb(204, 80, 62)",
         "rgb(148, 52, 110)",
         "rgb(111, 64, 112)",
         "rgb(102, 102, 102)"
        ]
       }
      }
     },
     "metadata": {},
     "output_type": "display_data"
    }
   ],
   "source": [
    "# Define a custom color mapping function\n",
    "def get_tile_color(tile_path):\n",
    "    # Get the name of the neighbourhood and the dominant topic from the tile path\n",
    "    neighbourhood, dominant_topic = tile_path[-2:]\n",
    "\n",
    "    # Assign a specific color to each combination of neighbourhood and dominant topic\n",
    "    if dominant_topic == 'topic 0' and neighbourhood == 'Neighbourhood 1':\n",
    "        return 'red'\n",
    "    elif dominant_topic == 'topic 1' and neighbourhood == 'Neighbourhood 2':\n",
    "        return 'green'\n",
    "    else:\n",
    "        # Use the default color scale for all other tiles\n",
    "        return None\n",
    "\n",
    "# Create the treemap with the custom color mapping function\n",
    "fig = px.treemap(\n",
    "    numnber_topic_by_neighbourhood,\n",
    "    path=['neighbourhood', 'dominant_topic'],\n",
    "    values='number_of_reviews',\n",
    "    color_discrete_sequence=PALETTE,\n",
    "    color_continuous_midpoint=np.average(numnber_topic_by_neighbourhood['number_of_reviews']),\n",
    ")\n",
    "\n",
    "# Apply the custom color mapping function to each tile\n",
    "fig.data[0].marker.colors = [get_tile_color(tile_path) for tile_path in fig.data[0].ids]\n",
    "\n",
    "# Show the figure\n",
    "fig.show()"
   ]
  }
 ],
 "metadata": {
  "kernelspec": {
   "display_name": "airbnb",
   "language": "python",
   "name": "python3"
  },
  "language_info": {
   "codemirror_mode": {
    "name": "ipython",
    "version": 3
   },
   "file_extension": ".py",
   "mimetype": "text/x-python",
   "name": "python",
   "nbconvert_exporter": "python",
   "pygments_lexer": "ipython3",
   "version": "3.10.10"
  },
  "orig_nbformat": 4,
  "vscode": {
   "interpreter": {
    "hash": "fa762b15d4608733c906477181386a159a128a764007437e7615b031f1e18e76"
   }
  }
 },
 "nbformat": 4,
 "nbformat_minor": 2
}
