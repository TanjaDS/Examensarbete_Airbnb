{
 "cells": [
  {
   "cell_type": "code",
   "execution_count": 1,
   "metadata": {},
   "outputs": [],
   "source": [
    "from pathlib import Path\n",
    "import pandas as pd\n",
    "import gensim, spacy\n",
    "import gensim.corpora as corpora\n",
    "from gensim.utils import simple_preprocess\n",
    "from nltk.corpus import stopwords\n",
    "from joblib import Memory\n",
    "import plotly.graph_objects as go\n",
    "from plotly.subplots import make_subplots\n",
    "from wordcloud import WordCloud\n",
    "import matplotlib.pyplot as plt\n",
    "import pyLDAvis\n",
    "import pyLDAvis.gensim_models\n",
    "import warnings\n",
    "warnings.filterwarnings(\"ignore\")"
   ]
  },
  {
   "cell_type": "code",
   "execution_count": 2,
   "metadata": {},
   "outputs": [],
   "source": [
    "BASE_DIR = Path.cwd().parent\n",
    "stop_words = stopwords.words('english')\n",
    "cachedir = 'cache'\n",
    "memory = Memory(cachedir, verbose=0)"
   ]
  },
  {
   "cell_type": "code",
   "execution_count": 3,
   "metadata": {},
   "outputs": [],
   "source": [
    "df_hosts_reviews_en = pd.read_parquet(BASE_DIR / 'staging_data' / 'hosts_reviews_en_cleaned.parquet')"
   ]
  },
  {
   "cell_type": "code",
   "execution_count": 4,
   "metadata": {},
   "outputs": [
    {
     "name": "stdout",
     "output_type": "stream",
     "text": [
      "['nice', 'flat', 'great', 'area', 'host', 'sorted', 'things', 'make', 'stay', 'smooth', 'easy', 'leaving', 'key', 'neighbours', 'etc', 'thanks']\n"
     ]
    }
   ],
   "source": [
    "def sent_to_words(sentences):\n",
    "    for sent in sentences:\n",
    "        sent = gensim.utils.simple_preprocess(str(sent), deacc=True) \n",
    "        yield(sent)  \n",
    "\n",
    "# Convert to list\n",
    "data = df_hosts_reviews_en['comments'].values.tolist()\n",
    "data_words = list(sent_to_words(data))\n",
    "print(data_words[1])"
   ]
  },
  {
   "cell_type": "code",
   "execution_count": 5,
   "metadata": {},
   "outputs": [],
   "source": [
    "nlp = spacy.load(\"en_core_web_sm\")\n",
    "bigram = gensim.models.Phrases(data_words, min_count=5, threshold=100) # higher threshold fewer phrases.\n",
    "trigram = gensim.models.Phrases(bigram[data_words], threshold=100)  \n",
    "bigram_mod = gensim.models.phrases.Phraser(bigram)\n",
    "trigram_mod = gensim.models.phrases.Phraser(trigram)\n",
    "\n",
    "# !python3 -m spacy download en  # run in terminal once\n",
    "@memory.cache\n",
    "def process_words_cached(texts, stop_words=stop_words, allowed_postags=['NOUN', 'ADJ', 'VERB', 'ADV']):\n",
    "    \"\"\"Remove Stopwords, Form Bigrams, Trigrams and Lemmatization\"\"\"\n",
    "    #texts = [[word for word in simple_preprocess(str(doc)) if word not in stop_words] for doc in texts]\n",
    "    texts = [bigram_mod[doc] for doc in texts]\n",
    "    texts = [trigram_mod[bigram_mod[doc]] for doc in texts]\n",
    "    texts_out = []\n",
    "    for sent in texts:\n",
    "        doc = nlp(\" \".join(sent)) \n",
    "        texts_out.append([token.lemma_ for token in doc if token.pos_ in allowed_postags])\n",
    "    # remove stopwords once more after lemmatization\n",
    "    texts_out = [[word for word in simple_preprocess(str(doc)) if word not in stop_words] for doc in texts_out]    \n",
    "    return texts_out\n",
    "\n",
    "# call the cached function\n",
    "data_ready = process_words_cached(data_words)"
   ]
  },
  {
   "cell_type": "code",
   "execution_count": 6,
   "metadata": {},
   "outputs": [
    {
     "data": {
      "text/plain": [
       "[(0,\n",
       "  '0.088*\"host\" + 0.052*\"stay\" + 0.049*\"great\" + 0.037*\"place\" + 0.036*\"apartment\" + 0.033*\"location\" + 0.026*\"recommend\" + 0.025*\"nice\" + 0.022*\"clean\" + 0.019*\"really\"'),\n",
       " (1,\n",
       "  '0.038*\"close\" + 0.033*\"walk\" + 0.029*\"apartment\" + 0.028*\"station\" + 0.025*\"city\" + 0.025*\"restaurant\" + 0.023*\"minute\" + 0.020*\"nice\" + 0.017*\"quiet\" + 0.015*\"area\"'),\n",
       " (2,\n",
       "  '0.019*\"bed\" + 0.017*\"room\" + 0.016*\"kitchen\" + 0.013*\"small\" + 0.012*\"good\" + 0.011*\"apartment\" + 0.009*\"bathroom\" + 0.009*\"also\" + 0.009*\"work\" + 0.008*\"get\"')]"
      ]
     },
     "execution_count": 6,
     "metadata": {},
     "output_type": "execute_result"
    }
   ],
   "source": [
    "# Create Dictionary\n",
    "id2word = corpora.Dictionary(data_ready)\n",
    "\n",
    "# Create Corpus: Term Document Frequency\n",
    "corpus = [id2word.doc2bow(text) for text in data_ready]\n",
    "\n",
    "# Build LDA model\n",
    "lda_model = gensim.models.ldamodel.LdaModel(corpus=corpus,\n",
    "                                           id2word=id2word,\n",
    "                                           num_topics=3, \n",
    "                                           random_state=100,\n",
    "                                           update_every=1,\n",
    "                                           chunksize=100,\n",
    "                                           passes=10,\n",
    "                                           alpha='symmetric',\n",
    "                                           iterations=100,\n",
    "                                           per_word_topics=True)\n",
    "\n",
    "lda_model.print_topics()"
   ]
  },
  {
   "cell_type": "code",
   "execution_count": 7,
   "metadata": {},
   "outputs": [
    {
     "data": {
      "text/html": [
       "<div>\n",
       "<style scoped>\n",
       "    .dataframe tbody tr th:only-of-type {\n",
       "        vertical-align: middle;\n",
       "    }\n",
       "\n",
       "    .dataframe tbody tr th {\n",
       "        vertical-align: top;\n",
       "    }\n",
       "\n",
       "    .dataframe thead th {\n",
       "        text-align: right;\n",
       "    }\n",
       "</style>\n",
       "<table border=\"1\" class=\"dataframe\">\n",
       "  <thead>\n",
       "    <tr style=\"text-align: right;\">\n",
       "      <th></th>\n",
       "      <th>Dominant_topic</th>\n",
       "      <th>Topic_percent_contribution</th>\n",
       "      <th>Keywords</th>\n",
       "      <th>Text</th>\n",
       "    </tr>\n",
       "  </thead>\n",
       "  <tbody>\n",
       "    <tr>\n",
       "      <th>0</th>\n",
       "      <td>1</td>\n",
       "      <td>0.477</td>\n",
       "      <td>close, walk, apartment, station, city, restaur...</td>\n",
       "      <td>[great, little, apartment, perfect, spot, town...</td>\n",
       "    </tr>\n",
       "    <tr>\n",
       "      <th>1</th>\n",
       "      <td>0</td>\n",
       "      <td>0.589</td>\n",
       "      <td>host, stay, great, place, apartment, location,...</td>\n",
       "      <td>[nice, flat, great, area, host, sort, thing, m...</td>\n",
       "    </tr>\n",
       "    <tr>\n",
       "      <th>2</th>\n",
       "      <td>2</td>\n",
       "      <td>0.587</td>\n",
       "      <td>bed, room, kitchen, small, good, apartment, ba...</td>\n",
       "      <td>[great, location, host, responsive, email, cou...</td>\n",
       "    </tr>\n",
       "    <tr>\n",
       "      <th>3</th>\n",
       "      <td>1</td>\n",
       "      <td>0.443</td>\n",
       "      <td>close, walk, apartment, station, city, restaur...</td>\n",
       "      <td>[host, place, super, great, close, quite, cent...</td>\n",
       "    </tr>\n",
       "    <tr>\n",
       "      <th>4</th>\n",
       "      <td>0</td>\n",
       "      <td>0.562</td>\n",
       "      <td>host, stay, great, place, apartment, location,...</td>\n",
       "      <td>[nice, apartment, great, location, great, pric...</td>\n",
       "    </tr>\n",
       "  </tbody>\n",
       "</table>\n",
       "</div>"
      ],
      "text/plain": [
       "   Dominant_topic  Topic_percent_contribution  \\\n",
       "0               1                       0.477   \n",
       "1               0                       0.589   \n",
       "2               2                       0.587   \n",
       "3               1                       0.443   \n",
       "4               0                       0.562   \n",
       "\n",
       "                                            Keywords  \\\n",
       "0  close, walk, apartment, station, city, restaur...   \n",
       "1  host, stay, great, place, apartment, location,...   \n",
       "2  bed, room, kitchen, small, good, apartment, ba...   \n",
       "3  close, walk, apartment, station, city, restaur...   \n",
       "4  host, stay, great, place, apartment, location,...   \n",
       "\n",
       "                                                Text  \n",
       "0  [great, little, apartment, perfect, spot, town...  \n",
       "1  [nice, flat, great, area, host, sort, thing, m...  \n",
       "2  [great, location, host, responsive, email, cou...  \n",
       "3  [host, place, super, great, close, quite, cent...  \n",
       "4  [nice, apartment, great, location, great, pric...  "
      ]
     },
     "execution_count": 7,
     "metadata": {},
     "output_type": "execute_result"
    }
   ],
   "source": [
    "def format_topics_sentences(ldamodel=None, corpus=corpus, texts=data):\n",
    "    # Init output\n",
    "    sent_topics_df = pd.DataFrame()\n",
    "\n",
    "    # Get main topic in each document\n",
    "    for i, row_list in enumerate(ldamodel[corpus]):\n",
    "        row = row_list[0] if ldamodel.per_word_topics else row_list            \n",
    "        # print(row)\n",
    "        row = sorted(row, key=lambda x: (x[1]), reverse=True)\n",
    "        # Get the Dominant topic, Perc Contribution and Keywords for each document\n",
    "        for j, (topic_num, prop_topic) in enumerate(row):\n",
    "            if j == 0:  # => dominant topic\n",
    "                wp = ldamodel.show_topic(topic_num)\n",
    "                topic_keywords = \", \".join([word for word, prop in wp])\n",
    "                sent_topics_df = sent_topics_df.append(pd.Series([int(topic_num), round(prop_topic,3), topic_keywords]), ignore_index=True)\n",
    "            else:\n",
    "                break\n",
    "    sent_topics_df.columns = ['Dominant_topic', 'Percent_contribution', 'Topic_keywords']\n",
    "\n",
    "    # Add original text to the end of the output\n",
    "    contents = pd.Series(texts)\n",
    "    contents.name = 'Text'\n",
    "    sent_topics_df = sent_topics_df.merge(contents, left_index=True, right_index=True)\n",
    "    return(sent_topics_df)\n",
    "\n",
    "\n",
    "df_dominant_topic = format_topics_sentences(ldamodel=lda_model, corpus=corpus, texts=data_ready)\n",
    "df_dominant_topic.columns = ['Dominant_topic', 'Topic_percent_contribution', 'Keywords', 'Text']\n",
    "df_dominant_topic.head()"
   ]
  },
  {
   "cell_type": "code",
   "execution_count": 8,
   "metadata": {},
   "outputs": [],
   "source": [
    "df_dominant_topic.to_parquet(BASE_DIR / 'processed_data' / 'hosts_reviews_en_topics.parquet')"
   ]
  },
  {
   "cell_type": "code",
   "execution_count": 9,
   "metadata": {},
   "outputs": [
    {
     "data": {
      "text/html": [
       "\n",
       "<link rel=\"stylesheet\" type=\"text/css\" href=\"https://cdn.jsdelivr.net/gh/bmabey/pyLDAvis@3.4.0/pyLDAvis/js/ldavis.v1.0.0.css\">\n",
       "\n",
       "\n",
       "<div id=\"ldavis_el8117123275753764146210714\" style=\"background-color:white;\"></div>\n",
       "<script type=\"text/javascript\">\n",
       "\n",
       "var ldavis_el8117123275753764146210714_data = {\"mdsDat\": {\"x\": [-0.019304977720161164, -0.23900240544103896, 0.2583073831612001], \"y\": [-0.25270581509165446, 0.14106751876576093, 0.11163829632589367], \"topics\": [1, 2, 3], \"cluster\": [1, 1, 1], \"Freq\": [49.6933601252071, 27.864902631485478, 22.441737243307426]}, \"tinfo\": {\"Term\": [\"host\", \"great\", \"close\", \"walk\", \"stay\", \"station\", \"recommend\", \"restaurant\", \"minute\", \"city\", \"bed\", \"nice\", \"perfect\", \"location\", \"kitchen\", \"quiet\", \"room\", \"center\", \"small\", \"bus\", \"place\", \"right\", \"town\", \"helpful\", \"away\", \"definitely\", \"old\", \"beautiful\", \"area\", \"really\", \"host\", \"great\", \"recommend\", \"perfect\", \"helpful\", \"communication\", \"definitely\", \"friendly\", \"highly\", \"beautiful\", \"thank\", \"super\", \"amazing\", \"wonderful\", \"responsive\", \"kind\", \"back\", \"welcome\", \"always\", \"fantastic\", \"absolutely\", \"recommendation\", \"accommodate\", \"communicative\", \"smooth\", \"flexible\", \"appartement\", \"awesome\", \"tip\", \"stylish\", \"love\", \"question\", \"stay\", \"location\", \"home\", \"place\", \"really\", \"clean\", \"nice\", \"lovely\", \"apartment\", \"cozy\", \"good\", \"easy\", \"need\", \"time\", \"well\", \"comfortable\", \"feel\", \"flat\", \"bed\", \"kitchen\", \"small\", \"bathroom\", \"work\", \"bit\", \"use\", \"shower\", \"bedroom\", \"sleep\", \"door\", \"window\", \"issue\", \"problem\", \"leave\", \"say\", \"arrive\", \"floor\", \"living\", \"however\", \"open\", \"cold\", \"extra\", \"early\", \"fine\", \"towel\", \"light\", \"late\", \"wifi\", \"know\", \"owner\", \"cook\", \"guest\", \"thing\", \"room\", \"night\", \"people\", \"quite\", \"even\", \"little\", \"get\", \"day\", \"overall\", \"also\", \"space\", \"good\", \"make\", \"apartment\", \"find\", \"time\", \"big\", \"clean\", \"stay\", \"need\", \"check\", \"well\", \"close\", \"walk\", \"station\", \"restaurant\", \"minute\", \"center\", \"bus\", \"town\", \"away\", \"shop\", \"min\", \"train\", \"nearby\", \"metro\", \"subway\", \"supermarket\", \"cafe\", \"stop\", \"bar\", \"centre\", \"far\", \"park\", \"corner\", \"grocery_store\", \"local\", \"walkable\", \"charming\", \"foot\", \"surround\", \"transportation\", \"connection\", \"right\", \"old\", \"city\", \"quiet\", \"many\", \"area\", \"lot\", \"neighborhood\", \"apartment\", \"nice\", \"also\", \"locate\", \"easy\", \"well\", \"get\"], \"Freq\": [59676.0, 33027.0, 11683.0, 10023.0, 37573.0, 8515.0, 17510.0, 7481.0, 6928.0, 9700.0, 7081.0, 23157.0, 11634.0, 24271.0, 6132.0, 6891.0, 8509.0, 4091.0, 4783.0, 3863.0, 28607.0, 4010.0, 3598.0, 7667.0, 3521.0, 7384.0, 4435.0, 7339.0, 6765.0, 14017.0, 59675.586455309734, 33027.001978764805, 17509.36137056595, 11633.669743317856, 7666.958067031464, 7000.3573091028275, 7383.326961735067, 6844.119158756357, 5548.660301785916, 7338.5578042465895, 5469.55573014393, 6272.981018547237, 5237.700149506439, 4339.8641106646555, 4266.393823334276, 4112.375792386606, 4097.673556526598, 2855.296879922433, 2954.8801499689957, 2628.2511385775247, 1971.3674135772026, 1656.0247430880636, 1419.305534490207, 1197.2744068397842, 1169.7192744475387, 1226.7642798656614, 1411.3891637180889, 917.49650466119, 872.912068781801, 1119.5846187095517, 4178.6660789523185, 2044.2307697117783, 34932.62815910736, 22357.57997854897, 5596.451061278485, 25248.803284798207, 12692.369128828008, 14792.549235086291, 17115.531439899853, 6721.630723736452, 24003.563541210777, 5095.543620742017, 11802.752375887423, 8972.492076218337, 7532.170585752973, 6016.9954011683485, 7216.532392144654, 6033.552874236364, 4679.92141578449, 4700.990531320202, 7080.836566514945, 6131.934776024375, 4782.375309218522, 3523.9830243493775, 3299.551256375155, 2800.0015795017944, 2589.3286525490876, 2155.225630034039, 2027.6057916981338, 1821.9212956580554, 1712.3827114666726, 1679.7065664270092, 1498.4823497908458, 1521.970765312129, 1465.5543314981157, 1426.9555491838712, 1420.672475639933, 1140.6707302532848, 1195.685986810742, 1040.6457410109826, 1082.393732706796, 978.7366888236324, 1022.7284337773324, 1115.0664383007768, 979.1286092496229, 903.1335277463318, 1045.0195694373992, 925.0158103247398, 966.0829681572214, 853.9967248150709, 1023.1009522020361, 916.3949720075898, 1625.8900007854074, 2693.950240468943, 6273.843130016922, 2742.6817179551426, 2394.099013093238, 2078.050289516115, 2571.321831536774, 2220.6234266254746, 3073.20362896479, 2400.673469420136, 1526.201636265429, 3377.811168765003, 2082.8732742723173, 4393.187037772928, 2470.4058494808396, 4251.771847376722, 1846.1903771583818, 2395.1906402383574, 1719.6581091855082, 2406.3769522710927, 2614.191788052445, 2073.015646564058, 1900.1316447537079, 1832.2302844689743, 11682.943602896914, 10022.869065219955, 8514.249992335655, 7481.0962773053625, 6928.1576302361555, 4090.3260187514707, 3862.349025053378, 3598.0230266412073, 3520.477858214551, 3254.9938374075687, 3283.1068482052606, 2995.051050356328, 3043.9158451976473, 2799.906378054606, 2490.9198084022987, 2266.7556801481633, 2251.3452601952263, 2256.318705001991, 2149.517703137032, 2140.554535933227, 1683.9363050730897, 1258.4900710569982, 1344.6167081871092, 1124.8881381109416, 1222.1115191571832, 721.771621499808, 804.1758104153902, 842.5250033446486, 659.3024074067828, 641.8761733231328, 881.2114319418758, 3891.891949176165, 3925.2441873984694, 7499.18881463274, 5120.273295914285, 2463.2119349782574, 4599.702170281215, 3125.340218182389, 2133.225555386672, 8866.901336247282, 6041.220436681464, 3704.100548616964, 3104.131589190072, 3573.8610996130546, 3129.0100354723254, 2631.1666619289854], \"Total\": [59676.0, 33027.0, 11683.0, 10023.0, 37573.0, 8515.0, 17510.0, 7481.0, 6928.0, 9700.0, 7081.0, 23157.0, 11634.0, 24271.0, 6132.0, 6891.0, 8509.0, 4091.0, 4783.0, 3863.0, 28607.0, 4010.0, 3598.0, 7667.0, 3521.0, 7384.0, 4435.0, 7339.0, 6765.0, 14017.0, 59676.541205598616, 33027.92790033116, 17510.260388260835, 11634.575651802306, 7667.85450393953, 7001.215757884353, 7384.233272564192, 6845.061217670564, 5549.500617580713, 7339.690467611022, 5470.408072308522, 6273.961400658272, 5238.597685348395, 4340.766715391112, 4267.37861710386, 4113.381782920316, 4098.808018105329, 2856.208594086977, 2955.8468045263135, 2629.165764305954, 1972.3129311605346, 1656.9075590197622, 1420.2023928270712, 1198.1724722094239, 1170.598651494707, 1227.694312620996, 1412.463179485617, 918.4041011746211, 873.8236314376134, 1120.8442790866188, 4195.070204283076, 2067.202427462401, 37573.808034092865, 24271.017007514783, 5870.85620116442, 28607.686825077802, 14017.220438281727, 19105.165290037014, 23157.236381190567, 8081.313735522646, 37122.23672483478, 6024.2266722480745, 17509.643799308826, 12546.79599765924, 11825.485071207591, 8412.665886651528, 12177.772712085954, 9159.869184656183, 6147.565121010877, 7541.8226558102915, 7081.762492624909, 6132.848325678447, 4783.252359671935, 3524.7831232044364, 3300.4186210253797, 2800.8261722357697, 2590.176584738817, 2156.034106351694, 2028.4387657469679, 1822.742672216943, 1713.1822084424396, 1680.5029764143242, 1499.291861943265, 1522.811635448512, 1466.3801405007741, 1427.7662316094359, 1421.5349512628397, 1141.4521010725173, 1196.5694740991428, 1041.4368499178352, 1083.2200275977536, 979.5013822318643, 1023.564663538028, 1115.9790333352237, 979.960110781005, 903.9094023907779, 1045.9483800703595, 925.8484986026283, 966.9668398180029, 854.7999800270482, 1024.1183658580405, 917.3067158456681, 1687.3244664280044, 2904.9820352801185, 8509.39012115989, 3337.1855556110145, 3309.947528478523, 2811.0619389566277, 4226.8922816480745, 3417.1143807705566, 6797.964052327295, 4528.287683152228, 2022.0976421601795, 9679.62473301912, 3799.618711718688, 17509.643799308826, 6396.418164957011, 37122.23672483478, 3249.161121512619, 8412.665886651528, 2780.792429899596, 19105.165290037014, 37573.808034092865, 11825.485071207591, 5312.029679078155, 12177.772712085954, 11683.744330147578, 10023.656804322476, 8515.023851500911, 7481.872511487339, 6928.98550530377, 4091.1114351833135, 3863.1096165100025, 3598.7847299771233, 3521.289501557148, 3255.7521415349984, 3283.9051005165175, 2995.843913427028, 3044.7290007426536, 2800.657636629284, 2491.680105074982, 2267.519019651348, 2252.108705782382, 2257.098720940473, 2150.280375939887, 2141.335556694755, 1684.8931803842916, 1259.2482260628647, 1345.4726585728465, 1125.6692896515988, 1222.9791116779218, 722.6046189107215, 805.1164477077702, 843.5460279098492, 660.1200800880911, 642.6840364331774, 882.4615932551418, 4010.121380071379, 4435.249958924974, 9700.331085014092, 6891.998083991672, 3014.521698004591, 6765.57349787479, 5710.3535273436655, 3053.510819927094, 37122.23672483478, 23157.236381190567, 9679.62473301912, 6917.907672427742, 12546.79599765924, 12177.772712085954, 6797.964052327295], \"Category\": [\"Default\", \"Default\", \"Default\", \"Default\", \"Default\", \"Default\", \"Default\", \"Default\", \"Default\", \"Default\", \"Default\", \"Default\", \"Default\", \"Default\", \"Default\", \"Default\", \"Default\", \"Default\", \"Default\", \"Default\", \"Default\", \"Default\", \"Default\", \"Default\", \"Default\", \"Default\", \"Default\", \"Default\", \"Default\", \"Default\", \"Topic1\", \"Topic1\", \"Topic1\", \"Topic1\", \"Topic1\", \"Topic1\", \"Topic1\", \"Topic1\", \"Topic1\", \"Topic1\", \"Topic1\", \"Topic1\", \"Topic1\", \"Topic1\", \"Topic1\", \"Topic1\", \"Topic1\", \"Topic1\", \"Topic1\", \"Topic1\", \"Topic1\", \"Topic1\", \"Topic1\", \"Topic1\", \"Topic1\", \"Topic1\", \"Topic1\", \"Topic1\", \"Topic1\", \"Topic1\", \"Topic1\", \"Topic1\", \"Topic1\", \"Topic1\", \"Topic1\", \"Topic1\", \"Topic1\", \"Topic1\", \"Topic1\", \"Topic1\", \"Topic1\", \"Topic1\", \"Topic1\", \"Topic1\", \"Topic1\", \"Topic1\", \"Topic1\", \"Topic1\", \"Topic1\", \"Topic1\", \"Topic2\", \"Topic2\", \"Topic2\", \"Topic2\", \"Topic2\", \"Topic2\", \"Topic2\", \"Topic2\", \"Topic2\", \"Topic2\", \"Topic2\", \"Topic2\", \"Topic2\", \"Topic2\", \"Topic2\", \"Topic2\", \"Topic2\", \"Topic2\", \"Topic2\", \"Topic2\", \"Topic2\", \"Topic2\", \"Topic2\", \"Topic2\", \"Topic2\", \"Topic2\", \"Topic2\", \"Topic2\", \"Topic2\", \"Topic2\", \"Topic2\", \"Topic2\", \"Topic2\", \"Topic2\", \"Topic2\", \"Topic2\", \"Topic2\", \"Topic2\", \"Topic2\", \"Topic2\", \"Topic2\", \"Topic2\", \"Topic2\", \"Topic2\", \"Topic2\", \"Topic2\", \"Topic2\", \"Topic2\", \"Topic2\", \"Topic2\", \"Topic2\", \"Topic2\", \"Topic2\", \"Topic2\", \"Topic2\", \"Topic2\", \"Topic3\", \"Topic3\", \"Topic3\", \"Topic3\", \"Topic3\", \"Topic3\", \"Topic3\", \"Topic3\", \"Topic3\", \"Topic3\", \"Topic3\", \"Topic3\", \"Topic3\", \"Topic3\", \"Topic3\", \"Topic3\", \"Topic3\", \"Topic3\", \"Topic3\", \"Topic3\", \"Topic3\", \"Topic3\", \"Topic3\", \"Topic3\", \"Topic3\", \"Topic3\", \"Topic3\", \"Topic3\", \"Topic3\", \"Topic3\", \"Topic3\", \"Topic3\", \"Topic3\", \"Topic3\", \"Topic3\", \"Topic3\", \"Topic3\", \"Topic3\", \"Topic3\", \"Topic3\", \"Topic3\", \"Topic3\", \"Topic3\", \"Topic3\", \"Topic3\", \"Topic3\"], \"logprob\": [30.0, 29.0, 28.0, 27.0, 26.0, 25.0, 24.0, 23.0, 22.0, 21.0, 20.0, 19.0, 18.0, 17.0, 16.0, 15.0, 14.0, 13.0, 12.0, 11.0, 10.0, 9.0, 8.0, 7.0, 6.0, 5.0, 4.0, 3.0, 2.0, 1.0, -2.4265, -3.0181, -3.6527, -4.0615, -4.4785, -4.5695, -4.5162, -4.5921, -4.8019, -4.5223, -4.8163, -4.6792, -4.8596, -5.0476, -5.0647, -5.1015, -5.105, -5.4663, -5.432, -5.5491, -5.8367, -6.011, -6.1653, -6.3354, -6.3587, -6.3111, -6.1709, -6.6016, -6.6514, -6.4025, -5.0855, -5.8004, -2.962, -3.4083, -4.7933, -3.2867, -3.9745, -3.8213, -3.6755, -4.6101, -3.3372, -4.8871, -4.0471, -4.3213, -4.4963, -4.7209, -4.5391, -4.7181, -4.9722, -4.9677, -3.9796, -4.1234, -4.372, -4.6774, -4.7432, -4.9073, -4.9855, -5.1691, -5.2301, -5.3371, -5.3991, -5.4183, -5.5325, -5.5169, -5.5547, -5.5814, -5.5858, -5.8053, -5.7582, -5.8971, -5.8578, -5.9584, -5.9145, -5.828, -5.958, -6.0388, -5.8929, -6.0149, -5.9715, -6.0948, -5.9141, -6.0243, -5.4509, -4.9459, -4.1006, -4.928, -5.0639, -5.2055, -4.9925, -5.1392, -4.8142, -5.0612, -5.5142, -4.7197, -5.2032, -4.4569, -5.0326, -4.4896, -5.3238, -5.0635, -5.3948, -5.0588, -4.976, -5.2079, -5.295, -5.3314, -3.2624, -3.4156, -3.5788, -3.7081, -3.7849, -4.3119, -4.3692, -4.4401, -4.4619, -4.5403, -4.5317, -4.6235, -4.6074, -4.6909, -4.8079, -4.9022, -4.909, -4.9068, -4.9553, -4.9594, -5.1994, -5.4906, -5.4244, -5.6028, -5.5199, -6.0465, -5.9384, -5.8919, -6.1371, -6.1639, -5.847, -4.3616, -4.3531, -3.7057, -4.0873, -4.819, -4.1945, -4.581, -4.9629, -3.5382, -3.9219, -4.4111, -4.5878, -4.4469, -4.5798, -4.7531], \"loglift\": [30.0, 29.0, 28.0, 27.0, 26.0, 25.0, 24.0, 23.0, 22.0, 21.0, 20.0, 19.0, 18.0, 17.0, 16.0, 15.0, 14.0, 13.0, 12.0, 11.0, 10.0, 9.0, 8.0, 7.0, 6.0, 5.0, 4.0, 3.0, 2.0, 1.0, 0.6993, 0.6993, 0.6992, 0.6992, 0.6992, 0.6992, 0.6992, 0.6992, 0.6991, 0.6991, 0.6991, 0.6991, 0.6991, 0.6991, 0.6991, 0.6991, 0.699, 0.699, 0.699, 0.699, 0.6988, 0.6988, 0.6987, 0.6985, 0.6985, 0.6985, 0.6985, 0.6983, 0.6983, 0.6982, 0.6954, 0.6881, 0.6264, 0.6172, 0.6514, 0.5744, 0.6, 0.4435, 0.397, 0.5151, 0.2633, 0.5319, 0.3049, 0.364, 0.2482, 0.3641, 0.1761, 0.2818, 0.4265, 0.2266, 1.2777, 1.2777, 1.2776, 1.2776, 1.2775, 1.2775, 1.2775, 1.2774, 1.2774, 1.2774, 1.2773, 1.2773, 1.2773, 1.2772, 1.2772, 1.2772, 1.2772, 1.2771, 1.2771, 1.277, 1.277, 1.277, 1.277, 1.277, 1.277, 1.2769, 1.2769, 1.2769, 1.2769, 1.2769, 1.2768, 1.2768, 1.2407, 1.2024, 0.973, 1.0816, 0.9539, 0.9757, 0.7808, 0.8468, 0.4839, 0.6432, 0.9964, 0.225, 0.6766, -0.1049, 0.3264, -0.8891, 0.7125, 0.0215, 0.7972, -0.794, -1.3875, -0.4635, 0.2498, -0.6163, 1.4942, 1.4942, 1.4942, 1.4941, 1.4941, 1.4941, 1.4941, 1.494, 1.494, 1.494, 1.494, 1.494, 1.494, 1.494, 1.4939, 1.4939, 1.4939, 1.4939, 1.4939, 1.4939, 1.4937, 1.4936, 1.4936, 1.4936, 1.4935, 1.4931, 1.4931, 1.493, 1.493, 1.493, 1.4928, 1.4643, 1.3721, 1.2369, 1.1971, 1.2923, 1.1084, 0.8915, 1.1356, 0.0624, 0.1505, 0.5337, 0.6929, 0.2384, 0.1354, 0.5451]}, \"token.table\": {\"Topic\": [1, 1, 1, 2, 3, 1, 1, 1, 2, 3, 1, 3, 1, 2, 3, 2, 3, 1, 1, 2, 3, 2, 1, 3, 2, 2, 1, 2, 3, 2, 3, 3, 3, 3, 3, 1, 2, 1, 3, 1, 2, 3, 3, 2, 1, 2, 3, 1, 1, 2, 3, 2, 3, 3, 1, 3, 1, 2, 3, 1, 2, 2, 1, 3, 1, 2, 3, 2, 1, 2, 3, 1, 2, 3, 1, 2, 3, 2, 1, 2, 3, 1, 2, 2, 3, 1, 1, 2, 3, 1, 2, 3, 1, 3, 1, 2, 1, 1, 1, 2, 3, 1, 2, 2, 1, 2, 2, 3, 2, 2, 2, 2, 3, 2, 3, 2, 3, 1, 3, 1, 2, 3, 1, 2, 3, 1, 2, 3, 1, 3, 1, 2, 2, 3, 3, 3, 3, 3, 1, 2, 3, 1, 3, 1, 3, 1, 2, 3, 2, 3, 2, 1, 2, 1, 2, 3, 1, 2, 3, 1, 1, 2, 3, 2, 1, 2, 1, 3, 2, 3, 1, 2, 1, 1, 1, 3, 3, 2, 3, 1, 2, 2, 3, 2, 2, 2, 1, 1, 2, 3, 3, 1, 2, 3, 3, 1, 3, 3, 1, 3, 3, 1, 1, 2, 1, 2, 1, 3, 2, 3, 3, 3, 2, 3, 3, 1, 1, 2, 3, 2, 3, 2, 1, 2], \"Freq\": [0.9993343190424848, 0.9991533651589773, 0.26839883483682037, 0.34898047116196274, 0.3826594627542658, 0.9997135154213619, 0.999885907377452, 0.6466205196073577, 0.1145405119717749, 0.23885952955167639, 0.998964093714535, 0.000707983057203781, 0.25378484182299493, 0.06636540126879716, 0.6799127969631781, 0.9996236805416817, 0.9996337984830336, 0.9984711510185709, 0.999802865100839, 0.00024397336874105394, 0.9998696095899752, 0.9997778237193429, 0.9999059268760626, 0.00013624552757542753, 0.999892330104871, 0.9997836928802698, 0.15031686489994237, 0.618528726382538, 0.23158866266881073, 0.9997050255228406, 0.9997127659786664, 0.9995077032562703, 0.999728329281438, 0.9998432956041357, 0.9986133090300803, 0.6421274364174754, 0.3576787244776321, 0.2268994718541406, 0.773066396835166, 0.7742932225618729, 0.12593452940470942, 0.09976359644446224, 0.9999362935265832, 0.9994881250389643, 0.6587430320629067, 0.12969617535477845, 0.21157507393734062, 0.9998263504616347, 0.9990214495520316, 0.0011331937929573723, 0.998343731595445, 0.9985754864506106, 0.0010901479109722823, 0.9996487044386707, 0.8459177048360157, 0.15404466838458059, 0.3816011969445161, 0.5302224964489486, 0.08811277637781362, 0.9998329856982209, 0.999309934205122, 0.9991227135044842, 0.7150829583643377, 0.28485359933059995, 0.31559829565372094, 0.6082482894495626, 0.07617889895089815, 0.9994483362330269, 0.9995566029644154, 0.0005935094352817782, 0.9994698890145144, 0.7612770109591686, 0.23863106305066245, 0.00016266602798272833, 0.2372920182059385, 0.5681466480002108, 0.1945117451441675, 0.9990202552425936, 0.6233241239607119, 0.14611852469787376, 0.23044827216416025, 0.9994344580618658, 0.9996039246218983, 0.0011854717667011186, 0.999352699329043, 0.9998449659342967, 0.16093053619862366, 0.45204710945006443, 0.38702764235701903, 0.6740856716037771, 0.2508903122388708, 0.07504435927199551, 0.9999719055844508, 0.9994054295895325, 0.03615190866587412, 0.9636557949296938, 0.9998885602303629, 0.9999097905171634, 0.9531829444042753, 0.046671216362896964, 0.00017033290643393053, 0.9999909310159791, 0.9995805315340344, 0.9991383519272954, 0.999664076180321, 0.0002431089679426851, 0.9998616750923229, 0.0001630563723242536, 0.9990641319071827, 0.9990835448738007, 0.9997407626506424, 0.9990932821462034, 0.000956070126455697, 0.6499636103779372, 0.35000291670959605, 0.9995240776975599, 0.9991994044145378, 0.5511782146496733, 0.44869057914308574, 0.9211810116188178, 0.07070161087476032, 0.008116676772918288, 0.2866722685664433, 0.1660142398295591, 0.5472515817166373, 0.9961692645175118, 0.0038140005341661134, 0.00023837503338538209, 0.8317954505902208, 0.16816572706815086, 0.6137810097389694, 0.38615361539868936, 0.18278189882153598, 0.8170450395597878, 0.9997651849263249, 0.9997243828646647, 0.9998577706212525, 0.9997605695802563, 0.6369294751670469, 0.17529936298742543, 0.1877301427072284, 0.3012925298957893, 0.6985401807257811, 0.739121012466861, 0.26086877987335283, 0.17799429792007562, 0.8219500996544906, 0.0002996537002021475, 0.11498788224409678, 0.8849557604079998, 0.9988737028796825, 0.2447953005232716, 0.7546618759565907, 0.0009764496305680122, 0.9989079720710764, 0.999008752970995, 0.25498893645240345, 0.7232743055296846, 0.021752610692622097, 0.9999505223207503, 0.882594952691752, 0.046525956752058374, 0.0708900377860063, 0.9994670152042323, 0.9887759286878919, 0.010642402363568308, 0.25696466807116136, 0.7428905141300656, 0.7392224166968318, 0.2607555492968131, 0.9054576872699751, 0.0944552456622634, 0.9999280200160998, 0.9994522573001604, 0.9996769405230803, 0.0002343358979191468, 0.99988338327257, 0.029425543223307527, 0.9705441883484144, 0.2626510205992711, 0.7373031334406384, 0.9994633353888948, 0.9997689807140405, 0.9995203664224757, 0.9995925523507716, 0.9997381782147867, 0.999488593726003, 0.4516242629050005, 0.5482129018829348, 0.00026318430239219144, 0.9998797594089263, 0.929716784849257, 0.06956973851647319, 0.0007185856694509473, 0.9995132153811973, 0.9992467472044316, 0.0008921845957182425, 0.9997270496025566, 0.9998467633769358, 0.9997711068146066, 0.9983032176692131, 0.99992540368047, 0.07263383987834332, 0.9273723442287056, 0.7152310671873041, 0.28468977994242867, 0.9990574397304198, 0.0011443956927038028, 0.9989939230763917, 0.999781945841165, 0.9997183052751027, 0.9989356567233664, 0.9995457511484934, 0.9999344745799564, 0.9991632783753405, 0.999576853704075, 0.5926371078380708, 0.15043801878333737, 0.25694353753988136, 0.9990001313610869, 0.001034161626667792, 0.9997006988851651, 0.9998233686716236, 0.9998731612339378], \"Term\": [\"absolutely\", \"accommodate\", \"also\", \"also\", \"also\", \"always\", \"amazing\", \"apartment\", \"apartment\", \"apartment\", \"appartement\", \"appartement\", \"area\", \"area\", \"area\", \"arrive\", \"away\", \"awesome\", \"back\", \"back\", \"bar\", \"bathroom\", \"beautiful\", \"beautiful\", \"bed\", \"bedroom\", \"big\", \"big\", \"big\", \"bit\", \"bus\", \"cafe\", \"center\", \"centre\", \"charming\", \"check\", \"check\", \"city\", \"city\", \"clean\", \"clean\", \"clean\", \"close\", \"cold\", \"comfortable\", \"comfortable\", \"comfortable\", \"communication\", \"communicative\", \"connection\", \"connection\", \"cook\", \"cook\", \"corner\", \"cozy\", \"cozy\", \"day\", \"day\", \"day\", \"definitely\", \"door\", \"early\", \"easy\", \"easy\", \"even\", \"even\", \"even\", \"extra\", \"fantastic\", \"far\", \"far\", \"feel\", \"feel\", \"feel\", \"find\", \"find\", \"find\", \"fine\", \"flat\", \"flat\", \"flat\", \"flexible\", \"floor\", \"foot\", \"foot\", \"friendly\", \"get\", \"get\", \"get\", \"good\", \"good\", \"good\", \"great\", \"grocery_store\", \"guest\", \"guest\", \"helpful\", \"highly\", \"home\", \"home\", \"home\", \"host\", \"however\", \"issue\", \"kind\", \"kind\", \"kitchen\", \"kitchen\", \"know\", \"late\", \"leave\", \"light\", \"light\", \"little\", \"little\", \"living\", \"local\", \"locate\", \"locate\", \"location\", \"location\", \"location\", \"lot\", \"lot\", \"lot\", \"love\", \"love\", \"love\", \"lovely\", \"lovely\", \"make\", \"make\", \"many\", \"many\", \"metro\", \"min\", \"minute\", \"nearby\", \"need\", \"need\", \"need\", \"neighborhood\", \"neighborhood\", \"nice\", \"nice\", \"night\", \"night\", \"night\", \"old\", \"old\", \"open\", \"overall\", \"overall\", \"owner\", \"owner\", \"park\", \"people\", \"people\", \"people\", \"perfect\", \"place\", \"place\", \"place\", \"problem\", \"question\", \"question\", \"quiet\", \"quiet\", \"quite\", \"quite\", \"really\", \"really\", \"recommend\", \"recommendation\", \"responsive\", \"responsive\", \"restaurant\", \"right\", \"right\", \"room\", \"room\", \"say\", \"shop\", \"shower\", \"sleep\", \"small\", \"smooth\", \"space\", \"space\", \"space\", \"station\", \"stay\", \"stay\", \"stay\", \"stop\", \"stylish\", \"stylish\", \"subway\", \"super\", \"supermarket\", \"surround\", \"thank\", \"thing\", \"thing\", \"time\", \"time\", \"tip\", \"tip\", \"towel\", \"town\", \"train\", \"transportation\", \"use\", \"walk\", \"walkable\", \"welcome\", \"well\", \"well\", \"well\", \"wifi\", \"wifi\", \"window\", \"wonderful\", \"work\"]}, \"R\": 30, \"lambda.step\": 0.01, \"plot.opts\": {\"xlab\": \"PC1\", \"ylab\": \"PC2\"}, \"topic.order\": [1, 3, 2]};\n",
       "\n",
       "function LDAvis_load_lib(url, callback){\n",
       "  var s = document.createElement('script');\n",
       "  s.src = url;\n",
       "  s.async = true;\n",
       "  s.onreadystatechange = s.onload = callback;\n",
       "  s.onerror = function(){console.warn(\"failed to load library \" + url);};\n",
       "  document.getElementsByTagName(\"head\")[0].appendChild(s);\n",
       "}\n",
       "\n",
       "if(typeof(LDAvis) !== \"undefined\"){\n",
       "   // already loaded: just create the visualization\n",
       "   !function(LDAvis){\n",
       "       new LDAvis(\"#\" + \"ldavis_el8117123275753764146210714\", ldavis_el8117123275753764146210714_data);\n",
       "   }(LDAvis);\n",
       "}else if(typeof define === \"function\" && define.amd){\n",
       "   // require.js is available: use it to load d3/LDAvis\n",
       "   require.config({paths: {d3: \"https://d3js.org/d3.v5\"}});\n",
       "   require([\"d3\"], function(d3){\n",
       "      window.d3 = d3;\n",
       "      LDAvis_load_lib(\"https://cdn.jsdelivr.net/gh/bmabey/pyLDAvis@3.4.0/pyLDAvis/js/ldavis.v3.0.0.js\", function(){\n",
       "        new LDAvis(\"#\" + \"ldavis_el8117123275753764146210714\", ldavis_el8117123275753764146210714_data);\n",
       "      });\n",
       "    });\n",
       "}else{\n",
       "    // require.js not available: dynamically load d3 & LDAvis\n",
       "    LDAvis_load_lib(\"https://d3js.org/d3.v5.js\", function(){\n",
       "         LDAvis_load_lib(\"https://cdn.jsdelivr.net/gh/bmabey/pyLDAvis@3.4.0/pyLDAvis/js/ldavis.v3.0.0.js\", function(){\n",
       "                 new LDAvis(\"#\" + \"ldavis_el8117123275753764146210714\", ldavis_el8117123275753764146210714_data);\n",
       "            })\n",
       "         });\n",
       "}\n",
       "</script>"
      ],
      "text/plain": [
       "PreparedData(topic_coordinates=              x         y  topics  cluster       Freq\n",
       "topic                                                \n",
       "0     -0.019305 -0.252706       1        1  49.693360\n",
       "2     -0.239002  0.141068       2        1  27.864903\n",
       "1      0.258307  0.111638       3        1  22.441737, topic_info=       Term          Freq         Total Category  logprob  loglift\n",
       "27     host  59676.000000  59676.000000  Default  30.0000  30.0000\n",
       "8     great  33027.000000  33027.000000  Default  29.0000  29.0000\n",
       "70    close  11683.000000  11683.000000  Default  28.0000  28.0000\n",
       "88     walk  10023.000000  10023.000000  Default  27.0000  27.0000\n",
       "34     stay  37573.000000  37573.000000  Default  26.0000  26.0000\n",
       "..      ...           ...           ...      ...      ...      ...\n",
       "247    also   3704.100549   9679.624733   Topic3  -4.4111   0.5337\n",
       "134  locate   3104.131589   6917.907672   Topic3  -4.5878   0.6929\n",
       "6      easy   3573.861100  12546.795998   Topic3  -4.4469   0.2384\n",
       "162    well   3129.010035  12177.772712   Topic3  -4.5798   0.1354\n",
       "123     get   2631.166662   6797.964052   Topic3  -4.7531   0.5451\n",
       "\n",
       "[182 rows x 6 columns], token_table=      Topic      Freq         Term\n",
       "term                              \n",
       "472       1  0.999334   absolutely\n",
       "650       1  0.999153  accommodate\n",
       "247       1  0.268399         also\n",
       "247       2  0.348980         also\n",
       "247       3  0.382659         also\n",
       "...     ...       ...          ...\n",
       "614       2  0.999000         wifi\n",
       "614       3  0.001034         wifi\n",
       "908       2  0.999701       window\n",
       "237       1  0.999823    wonderful\n",
       "628       2  0.999873         work\n",
       "\n",
       "[224 rows x 3 columns], R=30, lambda_step=0.01, plot_opts={'xlab': 'PC1', 'ylab': 'PC2'}, topic_order=[1, 3, 2])"
      ]
     },
     "execution_count": 9,
     "metadata": {},
     "output_type": "execute_result"
    }
   ],
   "source": [
    "pyLDAvis.enable_notebook()\n",
    "vis = pyLDAvis.gensim_models.prepare(lda_model, corpus, dictionary=lda_model.id2word)\n",
    "vis"
   ]
  }
 ],
 "metadata": {
  "kernelspec": {
   "display_name": "Python 3",
   "language": "python",
   "name": "python3"
  },
  "language_info": {
   "codemirror_mode": {
    "name": "ipython",
    "version": 3
   },
   "file_extension": ".py",
   "mimetype": "text/x-python",
   "name": "python",
   "nbconvert_exporter": "python",
   "pygments_lexer": "ipython3",
   "version": "3.10.10"
  },
  "orig_nbformat": 4,
  "vscode": {
   "interpreter": {
    "hash": "aee8b7b246df8f9039afb4144a1f6fd8d2ca17a180786b69acc140d282b71a49"
   }
  }
 },
 "nbformat": 4,
 "nbformat_minor": 2
}
