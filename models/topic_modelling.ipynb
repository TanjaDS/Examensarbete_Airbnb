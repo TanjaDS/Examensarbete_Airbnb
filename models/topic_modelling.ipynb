{
 "cells": [
  {
   "cell_type": "code",
   "execution_count": 2,
   "metadata": {},
   "outputs": [],
   "source": [
    "from pathlib import Path\n",
    "import pandas as pd\n",
    "import gensim, spacy\n",
    "import gensim.corpora as corpora\n",
    "from gensim.utils import simple_preprocess\n",
    "from nltk.corpus import stopwords\n",
    "from joblib import Memory\n",
    "from wordcloud import WordCloud\n",
    "from matplotlib import pyplot as plt\n",
    "import matplotlib.colors as mcolors\n",
    "import plotly.express as px\n",
    "import pyLDAvis\n",
    "import pyLDAvis.gensim_models\n",
    "import warnings\n",
    "warnings.filterwarnings(\"ignore\")"
   ]
  },
  {
   "cell_type": "code",
   "execution_count": 62,
   "metadata": {},
   "outputs": [],
   "source": [
    "BASE_DIR = Path.cwd().parent\n",
    "stop_words = stopwords.words('english')\n",
    "cachedir = 'cache'\n",
    "memory = Memory(cachedir, verbose=0)\n",
    "PALETTE = px.colors.sequential.Plasma"
   ]
  },
  {
   "cell_type": "code",
   "execution_count": 4,
   "metadata": {},
   "outputs": [],
   "source": [
    "df_hosts_reviews_en = pd.read_parquet(BASE_DIR / 'staging_data' / 'hosts_reviews_en_cleaned.parquet')"
   ]
  },
  {
   "cell_type": "code",
   "execution_count": 5,
   "metadata": {},
   "outputs": [
    {
     "name": "stdout",
     "output_type": "stream",
     "text": [
      "['nice', 'flat', 'great', 'area', 'host', 'sorted', 'things', 'make', 'stay', 'smooth', 'easy', 'leaving', 'key', 'neighbours', 'etc', 'thanks']\n"
     ]
    }
   ],
   "source": [
    "def sent_to_words(sentences):\n",
    "    for sent in sentences:\n",
    "        sent = gensim.utils.simple_preprocess(str(sent), deacc=True) \n",
    "        yield(sent)  \n",
    "\n",
    "# Convert to list\n",
    "data = df_hosts_reviews_en['comments'].values.tolist()\n",
    "data_words = list(sent_to_words(data))\n",
    "print(data_words[1])"
   ]
  },
  {
   "cell_type": "code",
   "execution_count": 6,
   "metadata": {},
   "outputs": [],
   "source": [
    "nlp = spacy.load(\"en_core_web_sm\")\n",
    "bigram = gensim.models.Phrases(data_words, min_count=5, threshold=100) # higher threshold fewer phrases.\n",
    "trigram = gensim.models.Phrases(bigram[data_words], threshold=100)  \n",
    "bigram_mod = gensim.models.phrases.Phraser(bigram)\n",
    "trigram_mod = gensim.models.phrases.Phraser(trigram)\n",
    "\n",
    "# !python3 -m spacy download en  # run in terminal once\n",
    "@memory.cache\n",
    "def process_words_cached(texts, stop_words=stop_words, allowed_postags=['NOUN', 'ADJ', 'VERB', 'ADV']):\n",
    "    \"\"\"Remove Stopwords, Form Bigrams, Trigrams and Lemmatization\"\"\"\n",
    "    #texts = [[word for word in simple_preprocess(str(doc)) if word not in stop_words] for doc in texts]\n",
    "    texts = [bigram_mod[doc] for doc in texts]\n",
    "    texts = [trigram_mod[bigram_mod[doc]] for doc in texts]\n",
    "    texts_out = []\n",
    "    for sent in texts:\n",
    "        doc = nlp(\" \".join(sent)) \n",
    "        texts_out.append([token.lemma_ for token in doc if token.pos_ in allowed_postags])\n",
    "    # remove stopwords once more after lemmatization\n",
    "    texts_out = [[word for word in simple_preprocess(str(doc)) if word not in stop_words] for doc in texts_out]    \n",
    "    return texts_out\n",
    "\n",
    "# call the cached function\n",
    "data_ready = process_words_cached(data_words)"
   ]
  },
  {
   "cell_type": "code",
   "execution_count": 7,
   "metadata": {},
   "outputs": [
    {
     "data": {
      "text/plain": [
       "[(0,\n",
       "  '0.017*\"room\" + 0.016*\"bed\" + 0.013*\"kitchen\" + 0.013*\"good\" + 0.011*\"apartment\" + 0.011*\"small\" + 0.010*\"bathroom\" + 0.009*\"also\" + 0.009*\"work\" + 0.008*\"get\"'),\n",
       " (1,\n",
       "  '0.103*\"host\" + 0.050*\"stay\" + 0.046*\"great\" + 0.038*\"place\" + 0.033*\"apartment\" + 0.031*\"location\" + 0.027*\"nice\" + 0.026*\"recommend\" + 0.023*\"clean\" + 0.021*\"really\"'),\n",
       " (2,\n",
       "  '0.035*\"apartment\" + 0.030*\"walk\" + 0.028*\"close\" + 0.021*\"station\" + 0.019*\"city\" + 0.018*\"restaurant\" + 0.018*\"great\" + 0.016*\"stay\" + 0.016*\"minute\" + 0.015*\"nice\"')]"
      ]
     },
     "execution_count": 7,
     "metadata": {},
     "output_type": "execute_result"
    }
   ],
   "source": [
    "# Create Dictionary\n",
    "id2word = corpora.Dictionary(data_ready)\n",
    "\n",
    "# Create Corpus: Term Document Frequency\n",
    "corpus = [id2word.doc2bow(text) for text in data_ready]\n",
    "\n",
    "# Build LDA model\n",
    "lda_model = gensim.models.ldamodel.LdaModel(corpus=corpus,\n",
    "                                           id2word=id2word,\n",
    "                                           num_topics=3, \n",
    "                                           random_state=42,\n",
    "                                           update_every=1,\n",
    "                                           chunksize=100,\n",
    "                                           passes=10,\n",
    "                                           alpha='symmetric',\n",
    "                                           iterations=100,\n",
    "                                           per_word_topics=True)\n",
    "\n",
    "lda_model.print_topics()"
   ]
  },
  {
   "cell_type": "code",
   "execution_count": 8,
   "metadata": {},
   "outputs": [
    {
     "data": {
      "text/html": [
       "<div>\n",
       "<style scoped>\n",
       "    .dataframe tbody tr th:only-of-type {\n",
       "        vertical-align: middle;\n",
       "    }\n",
       "\n",
       "    .dataframe tbody tr th {\n",
       "        vertical-align: top;\n",
       "    }\n",
       "\n",
       "    .dataframe thead th {\n",
       "        text-align: right;\n",
       "    }\n",
       "</style>\n",
       "<table border=\"1\" class=\"dataframe\">\n",
       "  <thead>\n",
       "    <tr style=\"text-align: right;\">\n",
       "      <th></th>\n",
       "      <th>date</th>\n",
       "      <th>listing_id_encod</th>\n",
       "      <th>listing_id</th>\n",
       "      <th>reviewer_id</th>\n",
       "      <th>reviewer_name</th>\n",
       "      <th>comments</th>\n",
       "      <th>host_id</th>\n",
       "      <th>host_name</th>\n",
       "      <th>host_description</th>\n",
       "      <th>neighbourhood</th>\n",
       "      <th>...</th>\n",
       "      <th>review_scores_checkin</th>\n",
       "      <th>review_scores_communication</th>\n",
       "      <th>review_scores_location</th>\n",
       "      <th>review_scores_value</th>\n",
       "      <th>comments_language</th>\n",
       "      <th>description_language</th>\n",
       "      <th>dominant_topic</th>\n",
       "      <th>percent_contribution</th>\n",
       "      <th>topic_keywords</th>\n",
       "      <th>text</th>\n",
       "    </tr>\n",
       "  </thead>\n",
       "  <tbody>\n",
       "    <tr>\n",
       "      <th>0</th>\n",
       "      <td>2010-09-06</td>\n",
       "      <td>0.0</td>\n",
       "      <td>32984.0</td>\n",
       "      <td>200247.0</td>\n",
       "      <td>Keenan</td>\n",
       "      <td>great little apartment perfect spot town nice ...</td>\n",
       "      <td>53396.0</td>\n",
       "      <td>Chris</td>\n",
       "      <td>city hall stockholm beautiful bright 43 sqm 1b...</td>\n",
       "      <td>Kungsholmens</td>\n",
       "      <td>...</td>\n",
       "      <td>4.29</td>\n",
       "      <td>4.52</td>\n",
       "      <td>4.81</td>\n",
       "      <td>4.2</td>\n",
       "      <td>en</td>\n",
       "      <td>en</td>\n",
       "      <td>2</td>\n",
       "      <td>0.626</td>\n",
       "      <td>apartment, walk, close, station, city, restaur...</td>\n",
       "      <td>[great, little, apartment, perfect, spot, town...</td>\n",
       "    </tr>\n",
       "    <tr>\n",
       "      <th>1</th>\n",
       "      <td>2010-09-12</td>\n",
       "      <td>0.0</td>\n",
       "      <td>32984.0</td>\n",
       "      <td>126543.0</td>\n",
       "      <td>Olaf</td>\n",
       "      <td>nice flat great area host sorted things make s...</td>\n",
       "      <td>53396.0</td>\n",
       "      <td>Chris</td>\n",
       "      <td>city hall stockholm beautiful bright 43 sqm 1b...</td>\n",
       "      <td>Kungsholmens</td>\n",
       "      <td>...</td>\n",
       "      <td>4.29</td>\n",
       "      <td>4.52</td>\n",
       "      <td>4.81</td>\n",
       "      <td>4.2</td>\n",
       "      <td>en</td>\n",
       "      <td>en</td>\n",
       "      <td>1</td>\n",
       "      <td>0.577</td>\n",
       "      <td>host, stay, great, place, apartment, location,...</td>\n",
       "      <td>[nice, flat, great, area, host, sort, thing, m...</td>\n",
       "    </tr>\n",
       "    <tr>\n",
       "      <th>2</th>\n",
       "      <td>2011-05-21</td>\n",
       "      <td>0.0</td>\n",
       "      <td>32984.0</td>\n",
       "      <td>294223.0</td>\n",
       "      <td>Max</td>\n",
       "      <td>great location host responsive email country t...</td>\n",
       "      <td>53396.0</td>\n",
       "      <td>Chris</td>\n",
       "      <td>city hall stockholm beautiful bright 43 sqm 1b...</td>\n",
       "      <td>Kungsholmens</td>\n",
       "      <td>...</td>\n",
       "      <td>4.29</td>\n",
       "      <td>4.52</td>\n",
       "      <td>4.81</td>\n",
       "      <td>4.2</td>\n",
       "      <td>en</td>\n",
       "      <td>en</td>\n",
       "      <td>0</td>\n",
       "      <td>0.587</td>\n",
       "      <td>room, bed, kitchen, good, apartment, small, ba...</td>\n",
       "      <td>[great, location, host, responsive, email, cou...</td>\n",
       "    </tr>\n",
       "    <tr>\n",
       "      <th>3</th>\n",
       "      <td>2011-05-28</td>\n",
       "      <td>0.0</td>\n",
       "      <td>32984.0</td>\n",
       "      <td>577190.0</td>\n",
       "      <td>Eli</td>\n",
       "      <td>host place super great close everything quite ...</td>\n",
       "      <td>53396.0</td>\n",
       "      <td>Chris</td>\n",
       "      <td>city hall stockholm beautiful bright 43 sqm 1b...</td>\n",
       "      <td>Kungsholmens</td>\n",
       "      <td>...</td>\n",
       "      <td>4.29</td>\n",
       "      <td>4.52</td>\n",
       "      <td>4.81</td>\n",
       "      <td>4.2</td>\n",
       "      <td>en</td>\n",
       "      <td>en</td>\n",
       "      <td>2</td>\n",
       "      <td>0.591</td>\n",
       "      <td>apartment, walk, close, station, city, restaur...</td>\n",
       "      <td>[host, place, super, great, close, quite, cent...</td>\n",
       "    </tr>\n",
       "    <tr>\n",
       "      <th>4</th>\n",
       "      <td>2011-06-11</td>\n",
       "      <td>0.0</td>\n",
       "      <td>32984.0</td>\n",
       "      <td>521818.0</td>\n",
       "      <td>Jonathan</td>\n",
       "      <td>nice apartment great location great price host...</td>\n",
       "      <td>53396.0</td>\n",
       "      <td>Chris</td>\n",
       "      <td>city hall stockholm beautiful bright 43 sqm 1b...</td>\n",
       "      <td>Kungsholmens</td>\n",
       "      <td>...</td>\n",
       "      <td>4.29</td>\n",
       "      <td>4.52</td>\n",
       "      <td>4.81</td>\n",
       "      <td>4.2</td>\n",
       "      <td>en</td>\n",
       "      <td>en</td>\n",
       "      <td>1</td>\n",
       "      <td>0.523</td>\n",
       "      <td>host, stay, great, place, apartment, location,...</td>\n",
       "      <td>[nice, apartment, great, location, great, pric...</td>\n",
       "    </tr>\n",
       "  </tbody>\n",
       "</table>\n",
       "<p>5 rows × 31 columns</p>\n",
       "</div>"
      ],
      "text/plain": [
       "        date  listing_id_encod  listing_id  reviewer_id reviewer_name  \\\n",
       "0 2010-09-06               0.0     32984.0     200247.0        Keenan   \n",
       "1 2010-09-12               0.0     32984.0     126543.0          Olaf   \n",
       "2 2011-05-21               0.0     32984.0     294223.0           Max   \n",
       "3 2011-05-28               0.0     32984.0     577190.0           Eli   \n",
       "4 2011-06-11               0.0     32984.0     521818.0      Jonathan   \n",
       "\n",
       "                                            comments  host_id host_name  \\\n",
       "0  great little apartment perfect spot town nice ...  53396.0     Chris   \n",
       "1  nice flat great area host sorted things make s...  53396.0     Chris   \n",
       "2  great location host responsive email country t...  53396.0     Chris   \n",
       "3  host place super great close everything quite ...  53396.0     Chris   \n",
       "4  nice apartment great location great price host...  53396.0     Chris   \n",
       "\n",
       "                                    host_description neighbourhood  ...  \\\n",
       "0  city hall stockholm beautiful bright 43 sqm 1b...  Kungsholmens  ...   \n",
       "1  city hall stockholm beautiful bright 43 sqm 1b...  Kungsholmens  ...   \n",
       "2  city hall stockholm beautiful bright 43 sqm 1b...  Kungsholmens  ...   \n",
       "3  city hall stockholm beautiful bright 43 sqm 1b...  Kungsholmens  ...   \n",
       "4  city hall stockholm beautiful bright 43 sqm 1b...  Kungsholmens  ...   \n",
       "\n",
       "   review_scores_checkin  review_scores_communication review_scores_location  \\\n",
       "0                   4.29                         4.52                   4.81   \n",
       "1                   4.29                         4.52                   4.81   \n",
       "2                   4.29                         4.52                   4.81   \n",
       "3                   4.29                         4.52                   4.81   \n",
       "4                   4.29                         4.52                   4.81   \n",
       "\n",
       "   review_scores_value  comments_language description_language  \\\n",
       "0                  4.2                 en                   en   \n",
       "1                  4.2                 en                   en   \n",
       "2                  4.2                 en                   en   \n",
       "3                  4.2                 en                   en   \n",
       "4                  4.2                 en                   en   \n",
       "\n",
       "   dominant_topic  percent_contribution  \\\n",
       "0               2                 0.626   \n",
       "1               1                 0.577   \n",
       "2               0                 0.587   \n",
       "3               2                 0.591   \n",
       "4               1                 0.523   \n",
       "\n",
       "                                      topic_keywords  \\\n",
       "0  apartment, walk, close, station, city, restaur...   \n",
       "1  host, stay, great, place, apartment, location,...   \n",
       "2  room, bed, kitchen, good, apartment, small, ba...   \n",
       "3  apartment, walk, close, station, city, restaur...   \n",
       "4  host, stay, great, place, apartment, location,...   \n",
       "\n",
       "                                                text  \n",
       "0  [great, little, apartment, perfect, spot, town...  \n",
       "1  [nice, flat, great, area, host, sort, thing, m...  \n",
       "2  [great, location, host, responsive, email, cou...  \n",
       "3  [host, place, super, great, close, quite, cent...  \n",
       "4  [nice, apartment, great, location, great, pric...  \n",
       "\n",
       "[5 rows x 31 columns]"
      ]
     },
     "execution_count": 8,
     "metadata": {},
     "output_type": "execute_result"
    }
   ],
   "source": [
    "def format_topics_sentences(ldamodel=None, corpus=corpus, texts=data):\n",
    "    # Init output\n",
    "    sent_topics_df = pd.DataFrame()\n",
    "\n",
    "    # Get main topic in each document\n",
    "    for i, row_list in enumerate(ldamodel[corpus]):\n",
    "        row = row_list[0] if ldamodel.per_word_topics else row_list            \n",
    "        # print(row)\n",
    "        row = sorted(row, key=lambda x: (x[1]), reverse=True)\n",
    "        # Get the Dominant topic, Perc Contribution and Keywords for each document\n",
    "        for j, (topic_num, prop_topic) in enumerate(row):\n",
    "            if j == 0:  # => dominant topic\n",
    "                wp = ldamodel.show_topic(topic_num)\n",
    "                topic_keywords = \", \".join([word for word, prop in wp])\n",
    "                sent_topics_df = sent_topics_df.append(pd.Series([int(topic_num), round(prop_topic,3), topic_keywords]), ignore_index=True)\n",
    "            else:\n",
    "                break\n",
    "    sent_topics_df.columns = ['dominant_topic', 'percent_contribution', 'topic_keywords']\n",
    "\n",
    "    # Add original text to the end of the output\n",
    "    contents = pd.Series(texts)\n",
    "    contents.name = 'text'\n",
    "    sent_topics_df = (df_hosts_reviews_en.merge(sent_topics_df, left_index=True, right_index=True)\n",
    "                                    .merge(contents, left_index=True, right_index=True)\n",
    "                                    .drop('index', axis=1))\n",
    "    return(sent_topics_df)\n",
    "\n",
    "\n",
    "df_dominant_topic = format_topics_sentences(ldamodel=lda_model, corpus=corpus, texts=data_ready)\n",
    "df_dominant_topic.head()"
   ]
  },
  {
   "cell_type": "code",
   "execution_count": 9,
   "metadata": {},
   "outputs": [],
   "source": [
    "df_dominant_topic.to_parquet(BASE_DIR / 'processed_data' / 'hosts_reviews_en_topics.parquet')"
   ]
  },
  {
   "cell_type": "code",
   "execution_count": 10,
   "metadata": {},
   "outputs": [
    {
     "data": {
      "text/html": [
       "\n",
       "<link rel=\"stylesheet\" type=\"text/css\" href=\"https://cdn.jsdelivr.net/gh/bmabey/pyLDAvis@3.4.0/pyLDAvis/js/ldavis.v1.0.0.css\">\n",
       "\n",
       "\n",
       "<div id=\"ldavis_el75682120524834248768721003\" style=\"background-color:white;\"></div>\n",
       "<script type=\"text/javascript\">\n",
       "\n",
       "var ldavis_el75682120524834248768721003_data = {\"mdsDat\": {\"x\": [-0.11440815870178947, -0.1648922308834793, 0.2793003895852687], \"y\": [0.18758244276482247, -0.16626303054549382, -0.021319412219328555], \"topics\": [1, 2, 3], \"cluster\": [1, 1, 1], \"Freq\": [42.22648865496694, 30.693204440762123, 27.080306904270934]}, \"tinfo\": {\"Term\": [\"host\", \"walk\", \"close\", \"great\", \"station\", \"restaurant\", \"minute\", \"recommend\", \"city\", \"helpful\", \"really\", \"room\", \"bed\", \"stay\", \"friendly\", \"thank\", \"communication\", \"old\", \"kitchen\", \"place\", \"bathroom\", \"bus\", \"distance\", \"center\", \"quiet\", \"work\", \"away\", \"town\", \"right\", \"easy\", \"helpful\", \"thank\", \"friendly\", \"welcome\", \"appartment\", \"recommendation\", \"appartement\", \"smooth\", \"flexible\", \"communicative\", \"tip\", \"awesome\", \"totally\", \"pleasure\", \"attentive\", \"welcoming\", \"hospitality\", \"strongly\", \"thoughtful\", \"ill\", \"hostess\", \"quick_respond\", \"anytime\", \"advice\", \"reactive\", \"uncomplicated\", \"prompt\", \"hospitable\", \"polite\", \"apartament\", \"host\", \"communication\", \"question\", \"accommodate\", \"kind\", \"communicate\", \"always\", \"responsive\", \"really\", \"back\", \"recommend\", \"definitely\", \"super\", \"great\", \"stay\", \"highly\", \"place\", \"amazing\", \"location\", \"clean\", \"nice\", \"perfect\", \"good\", \"easy\", \"apartment\", \"come\", \"time\", \"lovely\", \"cozy\", \"need\", \"home\", \"well\", \"comfortable\", \"beautiful\", \"walk\", \"close\", \"station\", \"restaurant\", \"minute\", \"old\", \"distance\", \"bus\", \"town\", \"away\", \"shop\", \"min\", \"metro\", \"nearby\", \"train\", \"subway\", \"supermarket\", \"cafe\", \"stop\", \"bar\", \"sodermalm\", \"modern\", \"spot\", \"corner\", \"park\", \"heart\", \"plenty\", \"grocery_store\", \"local\", \"ideal\", \"center\", \"centre\", \"right\", \"city\", \"quiet\", \"area\", \"many\", \"lot\", \"apartment\", \"neighborhood\", \"locate\", \"well\", \"great\", \"nice\", \"easy\", \"stay\", \"location\", \"also\", \"place\", \"comfortable\", \"need\", \"clean\", \"bathroom\", \"work\", \"bit\", \"thing\", \"use\", \"shower\", \"bedroom\", \"sleep\", \"window\", \"price\", \"leave\", \"issue\", \"guest\", \"problem\", \"say\", \"arrive\", \"however\", \"floor\", \"early\", \"pretty\", \"open\", \"living\", \"cold\", \"fine\", \"extra\", \"towel\", \"wifi\", \"late\", \"morning\", \"know\", \"let\", \"door\", \"bed\", \"kitchen\", \"small\", \"room\", \"night\", \"overall\", \"people\", \"even\", \"quite\", \"get\", \"good\", \"also\", \"day\", \"make\", \"time\", \"apartment\", \"little\", \"clean\", \"check\", \"stay\", \"find\", \"need\"], \"Freq\": [60574.0, 12572.0, 11641.0, 33836.0, 8649.0, 7451.0, 6915.0, 17891.0, 9925.0, 7696.0, 13928.0, 8498.0, 7261.0, 38400.0, 6839.0, 6479.0, 7249.0, 4446.0, 6310.0, 28901.0, 3628.0, 3841.0, 3791.0, 4154.0, 6909.0, 3301.0, 3623.0, 3597.0, 3976.0, 12718.0, 7695.733342539582, 6478.408579705118, 6838.334132209689, 2852.807697608264, 1933.2424851606763, 1660.5415276463757, 1405.7743570299563, 1174.6985080634636, 1239.8804901490587, 1183.4281956656107, 874.3392679014398, 928.7959451456761, 794.406224212504, 580.22222298798, 549.9344144118384, 493.27417711101924, 413.8235351363767, 353.6902684553522, 297.03987539945405, 276.34068165139485, 283.5906814737395, 293.4263295369526, 282.51846789337844, 257.98569929488457, 234.50297786909584, 210.92882633294556, 223.90006868248173, 205.21623123322743, 352.80202763024306, 197.79795213511957, 59499.311063088615, 7125.411193477979, 2726.542175788266, 1379.849066046328, 3971.2433791898397, 1624.3499028842434, 2762.877688349448, 3995.9837197608617, 12113.990128616731, 3689.662912756856, 15278.126791693025, 6543.484163033965, 5553.732451058853, 26459.81783992526, 28926.132930188083, 5157.504020339276, 22016.07282036844, 4425.907247760088, 17789.100771024012, 13365.845805580431, 15634.08713628451, 8878.766150176314, 11052.528081941402, 8196.414336271746, 19334.78962803051, 3689.3284781348843, 5722.610068119486, 5546.422896926054, 4297.816090491602, 6433.82143225747, 4314.682383652577, 6254.534807293316, 4886.728489249375, 4534.025106347346, 12571.351273683904, 11640.864054732236, 8648.277709163462, 7450.258104346891, 6914.2954650446645, 4445.2282552209435, 3791.1646635926018, 3840.5689445807734, 3596.8100532076514, 3622.6670709657396, 3277.0870562657515, 3242.1956871523244, 2992.523416422323, 3121.2474360004794, 2968.4497832289317, 2534.0810557871005, 2288.5207440814506, 2245.127274804633, 2246.9502596421753, 2143.4869012379795, 1885.7293134142308, 1851.9100922819325, 1700.0491231918318, 1424.9525951111912, 1261.3643580918301, 1317.3812965222144, 1344.344083285159, 1117.0435162005192, 1234.6271164472414, 1226.199707887583, 4039.545416513191, 2191.8307967023025, 3844.3784124120584, 8081.921664411919, 5270.667712772715, 5137.066586324102, 2462.264588696426, 3948.458907741578, 14574.976872667567, 2522.1178525688865, 3807.5046771649368, 4745.915871504652, 7376.225982386456, 6202.76638837183, 4521.749705223868, 6935.132266035382, 5769.703293688148, 4005.7785383157916, 5136.902304004083, 3568.444495393515, 3627.0450575655886, 3418.4974741439264, 3628.1291461601136, 3300.916435379781, 2767.4582175035084, 2966.062132177115, 2585.5106565799747, 2226.1665890519753, 2021.404602512993, 1894.5789022931344, 1689.2113653903994, 1618.7732835325826, 1577.249064030394, 1516.1597388594737, 1695.0084593611307, 1532.3227965120252, 1482.2440754701415, 1438.5447349741316, 1212.6896702118925, 1139.7125490611006, 1281.4507701925993, 1444.1526052665008, 1095.2788857803687, 1203.6675578728814, 1000.040308026672, 1001.4755713566973, 1015.5080464954802, 924.2980823657031, 1046.547648345687, 929.8086598618396, 964.295107655737, 851.757005907005, 893.4589469169784, 1852.091094937057, 6021.626026429617, 4969.1853750367345, 3919.7204130063196, 6296.262574950636, 2774.045415462135, 2042.1884193679577, 2296.281399378843, 2641.7903448000625, 1973.0461910734753, 3119.8061978812475, 4855.380304874839, 3464.0604554022493, 2396.9989020389685, 2521.48940218427, 2740.701747232166, 3950.8485729217196, 1824.0202638504745, 2574.1869858532823, 1955.2934123717237, 2539.0801127081195, 1790.976862810301, 1986.7621403151811], \"Total\": [60574.0, 12572.0, 11641.0, 33836.0, 8649.0, 7451.0, 6915.0, 17891.0, 9925.0, 7696.0, 13928.0, 8498.0, 7261.0, 38400.0, 6839.0, 6479.0, 7249.0, 4446.0, 6310.0, 28901.0, 3628.0, 3841.0, 3791.0, 4154.0, 6909.0, 3301.0, 3623.0, 3597.0, 3976.0, 12718.0, 7696.61498249928, 6479.271808839299, 6839.255063538076, 2853.6949805798245, 1934.180187954587, 1661.4468510835818, 1406.7677275302542, 1175.5527862865817, 1240.795287404094, 1184.326274563745, 875.2175094693421, 929.753716894329, 795.4260410581927, 581.1333876272037, 550.8190325952525, 494.1562157338082, 414.74112555082144, 354.5445874011095, 297.9022077903865, 277.1434441662738, 284.4719287884796, 294.36377710019013, 283.4559078363187, 258.9066184815306, 235.38952045301906, 211.7273698344061, 224.77521603188072, 206.05103132352636, 354.29298435884124, 198.66350740503236, 60574.791380790164, 7249.00760320052, 2753.721506807916, 1401.56963154238, 4118.6894183841705, 1669.4723329397186, 2916.301541849567, 4326.803565511274, 13928.384284656955, 4057.3409874548543, 17891.106158962797, 7502.392385386174, 6357.81365700454, 33836.47965041755, 38400.34530893159, 6039.995742538208, 28901.24935733267, 5354.149958431212, 25140.52375435007, 19358.53026557764, 23209.206121882737, 12106.029112181137, 17781.8334862265, 12718.606653198085, 37860.615073619796, 4726.1471173971895, 8463.800725985471, 8251.428350144655, 6088.3969778759265, 12047.62863013824, 6133.78234520098, 12663.483795815348, 9489.026128383586, 7798.095607276503, 12572.123780367961, 11641.672847261412, 8649.055931588755, 7451.020709736752, 6915.1529712136, 4446.070507168151, 3791.91364346455, 3841.327955262979, 3597.5535361343655, 3623.4891835298067, 3277.8378254799604, 3243.008356264653, 2993.2780511806213, 3122.041952545643, 2969.2503654270363, 2534.8404518109537, 2289.279646791713, 2245.876555886999, 2247.7241973908494, 2144.2412854472996, 1886.550247657816, 1852.7973513722868, 1700.969637923833, 1425.766268826811, 1262.1125043811953, 1318.1665785885054, 1345.1765253900435, 1117.817099824187, 1235.4874446743395, 1227.099494559477, 4154.126024735912, 2225.982358462048, 3976.445769984727, 9925.821100443665, 6909.222691748292, 6865.430201593216, 3003.0640313641115, 5761.802734290233, 37860.615073619796, 3117.45665315749, 7026.503045416392, 12663.483795815348, 33836.47965041755, 23209.206121882737, 12718.606653198085, 38400.34530893159, 25140.52375435007, 9852.947828855715, 28901.24935733267, 9489.026128383586, 12047.62863013824, 19358.53026557764, 3628.9231074961917, 3301.7834223156005, 2768.259850249861, 2966.940289091467, 2586.340291743464, 2226.968333362076, 2022.2357371815922, 1895.3866860665796, 1690.0015042872647, 1619.582600235546, 1578.0588612029583, 1516.9551377313442, 1695.9066041513447, 1533.1465856882999, 1483.0419162444791, 1439.3872494478614, 1213.4624584408718, 1140.4829727687631, 1282.3210584099452, 1445.201528391085, 1096.0876728204448, 1204.5703057706035, 1000.7947081956079, 1002.294972186399, 1016.3428068658465, 925.0620123058269, 1047.417804082555, 930.630005083697, 965.1871391550918, 852.5461829454155, 894.3495125434634, 1952.7173547606965, 7261.635289369965, 6310.153838216214, 4896.451908758658, 8498.757729646473, 3466.6688227386726, 2522.659535450084, 3356.173180424962, 4225.075324501615, 2819.1239499637013, 6765.193450948933, 17781.8334862265, 9852.947828855715, 4669.364896914472, 6390.02217660984, 8463.800725985471, 37860.615073619796, 3449.135976988027, 19358.53026557764, 5315.184054107244, 38400.34530893159, 3267.127703698869, 12047.62863013824], \"Category\": [\"Default\", \"Default\", \"Default\", \"Default\", \"Default\", \"Default\", \"Default\", \"Default\", \"Default\", \"Default\", \"Default\", \"Default\", \"Default\", \"Default\", \"Default\", \"Default\", \"Default\", \"Default\", \"Default\", \"Default\", \"Default\", \"Default\", \"Default\", \"Default\", \"Default\", \"Default\", \"Default\", \"Default\", \"Default\", \"Default\", \"Topic1\", \"Topic1\", \"Topic1\", \"Topic1\", \"Topic1\", \"Topic1\", \"Topic1\", \"Topic1\", \"Topic1\", \"Topic1\", \"Topic1\", \"Topic1\", \"Topic1\", \"Topic1\", \"Topic1\", \"Topic1\", \"Topic1\", \"Topic1\", \"Topic1\", \"Topic1\", \"Topic1\", \"Topic1\", \"Topic1\", \"Topic1\", \"Topic1\", \"Topic1\", \"Topic1\", \"Topic1\", \"Topic1\", \"Topic1\", \"Topic1\", \"Topic1\", \"Topic1\", \"Topic1\", \"Topic1\", \"Topic1\", \"Topic1\", \"Topic1\", \"Topic1\", \"Topic1\", \"Topic1\", \"Topic1\", \"Topic1\", \"Topic1\", \"Topic1\", \"Topic1\", \"Topic1\", \"Topic1\", \"Topic1\", \"Topic1\", \"Topic1\", \"Topic1\", \"Topic1\", \"Topic1\", \"Topic1\", \"Topic1\", \"Topic1\", \"Topic1\", \"Topic1\", \"Topic1\", \"Topic1\", \"Topic1\", \"Topic1\", \"Topic1\", \"Topic2\", \"Topic2\", \"Topic2\", \"Topic2\", \"Topic2\", \"Topic2\", \"Topic2\", \"Topic2\", \"Topic2\", \"Topic2\", \"Topic2\", \"Topic2\", \"Topic2\", \"Topic2\", \"Topic2\", \"Topic2\", \"Topic2\", \"Topic2\", \"Topic2\", \"Topic2\", \"Topic2\", \"Topic2\", \"Topic2\", \"Topic2\", \"Topic2\", \"Topic2\", \"Topic2\", \"Topic2\", \"Topic2\", \"Topic2\", \"Topic2\", \"Topic2\", \"Topic2\", \"Topic2\", \"Topic2\", \"Topic2\", \"Topic2\", \"Topic2\", \"Topic2\", \"Topic2\", \"Topic2\", \"Topic2\", \"Topic2\", \"Topic2\", \"Topic2\", \"Topic2\", \"Topic2\", \"Topic2\", \"Topic2\", \"Topic2\", \"Topic2\", \"Topic2\", \"Topic3\", \"Topic3\", \"Topic3\", \"Topic3\", \"Topic3\", \"Topic3\", \"Topic3\", \"Topic3\", \"Topic3\", \"Topic3\", \"Topic3\", \"Topic3\", \"Topic3\", \"Topic3\", \"Topic3\", \"Topic3\", \"Topic3\", \"Topic3\", \"Topic3\", \"Topic3\", \"Topic3\", \"Topic3\", \"Topic3\", \"Topic3\", \"Topic3\", \"Topic3\", \"Topic3\", \"Topic3\", \"Topic3\", \"Topic3\", \"Topic3\", \"Topic3\", \"Topic3\", \"Topic3\", \"Topic3\", \"Topic3\", \"Topic3\", \"Topic3\", \"Topic3\", \"Topic3\", \"Topic3\", \"Topic3\", \"Topic3\", \"Topic3\", \"Topic3\", \"Topic3\", \"Topic3\", \"Topic3\", \"Topic3\", \"Topic3\", \"Topic3\", \"Topic3\", \"Topic3\", \"Topic3\"], \"logprob\": [30.0, 29.0, 28.0, 27.0, 26.0, 25.0, 24.0, 23.0, 22.0, 21.0, 20.0, 19.0, 18.0, 17.0, 16.0, 15.0, 14.0, 13.0, 12.0, 11.0, 10.0, 9.0, 8.0, 7.0, 6.0, 5.0, 4.0, 3.0, 2.0, 1.0, -4.321, -4.4932, -4.4391, -5.3133, -5.7024, -5.8545, -6.021, -6.2006, -6.1466, -6.1932, -6.4959, -6.4355, -6.5918, -6.906, -6.9596, -7.0683, -7.2439, -7.401, -7.5755, -7.6477, -7.6219, -7.5878, -7.6256, -7.7165, -7.8119, -7.9179, -7.8582, -7.9453, -7.4035, -7.9821, -2.2757, -4.398, -5.3586, -6.0397, -4.9825, -5.8765, -5.3454, -4.9763, -3.8673, -5.0561, -3.6352, -4.4832, -4.6472, -3.086, -2.9969, -4.7212, -3.2699, -4.8742, -3.483, -3.7689, -3.6122, -4.178, -3.959, -4.2579, -3.3997, -5.0562, -4.6172, -4.6485, -4.9035, -4.5001, -4.8996, -4.5283, -4.7751, -4.85, -3.5112, -3.5881, -3.8853, -4.0344, -4.109, -4.5508, -4.7099, -4.697, -4.7626, -4.7554, -4.8557, -4.8664, -4.9465, -4.9044, -4.9546, -5.1128, -5.2147, -5.2339, -5.233, -5.2802, -5.4083, -5.4264, -5.512, -5.6885, -5.8104, -5.767, -5.7467, -5.9319, -5.8319, -5.8387, -4.6465, -5.2579, -4.696, -3.953, -4.3805, -4.4061, -5.1415, -4.6693, -3.3633, -5.1175, -4.7056, -4.4853, -4.0444, -4.2176, -4.5337, -4.106, -4.29, -4.6549, -4.4062, -4.7705, -4.7542, -4.8134, -4.6287, -4.7232, -4.8995, -4.8302, -4.9675, -5.1171, -5.2136, -5.2784, -5.3931, -5.4357, -5.4617, -5.5012, -5.3897, -5.4906, -5.5238, -5.5538, -5.7245, -5.7866, -5.6694, -5.5499, -5.8264, -5.732, -5.9173, -5.9159, -5.902, -5.9961, -5.8719, -5.9902, -5.9537, -6.0778, -6.03, -5.3011, -4.122, -4.3141, -4.5514, -4.0774, -4.8971, -5.2034, -5.0861, -4.9459, -5.2378, -4.7796, -4.3373, -4.6749, -5.0432, -4.9925, -4.9092, -4.5435, -5.3163, -4.9719, -5.2468, -4.9856, -5.3346, -5.2309], \"loglift\": [30.0, 29.0, 28.0, 27.0, 26.0, 25.0, 24.0, 23.0, 22.0, 21.0, 20.0, 19.0, 18.0, 17.0, 16.0, 15.0, 14.0, 13.0, 12.0, 11.0, 10.0, 9.0, 8.0, 7.0, 6.0, 5.0, 4.0, 3.0, 2.0, 1.0, 0.862, 0.862, 0.862, 0.8618, 0.8616, 0.8616, 0.8614, 0.8614, 0.8614, 0.8614, 0.8611, 0.8611, 0.8608, 0.8606, 0.8605, 0.8603, 0.8599, 0.8597, 0.8592, 0.8592, 0.859, 0.8589, 0.8588, 0.8586, 0.8583, 0.8583, 0.8582, 0.8581, 0.8579, 0.8578, 0.8442, 0.8449, 0.8522, 0.8465, 0.8257, 0.8347, 0.8081, 0.7826, 0.7226, 0.7671, 0.7042, 0.7254, 0.7269, 0.6162, 0.5788, 0.7042, 0.59, 0.6717, 0.5162, 0.4917, 0.467, 0.5521, 0.3866, 0.4228, 0.1901, 0.6145, 0.4707, 0.4649, 0.5138, 0.2348, 0.5103, 0.1567, 0.1985, 0.3199, 1.1811, 1.1811, 1.181, 1.181, 1.181, 1.1809, 1.1809, 1.1809, 1.1809, 1.1809, 1.1809, 1.1809, 1.1809, 1.1809, 1.1809, 1.1808, 1.1808, 1.1808, 1.1808, 1.1808, 1.1807, 1.1806, 1.1806, 1.1806, 1.1805, 1.1805, 1.1805, 1.1804, 1.1804, 1.1804, 1.1532, 1.1657, 1.1474, 0.9756, 0.9104, 0.8911, 0.9826, 0.8032, 0.2265, 0.9692, 0.5684, 0.1997, -0.3421, -0.1384, 0.147, -0.5303, -0.2907, 0.2811, -0.5463, 0.2031, -0.0193, -0.5528, 1.3061, 1.3061, 1.3061, 1.3061, 1.306, 1.306, 1.306, 1.3059, 1.3059, 1.3059, 1.3059, 1.3058, 1.3058, 1.3058, 1.3058, 1.3058, 1.3057, 1.3057, 1.3057, 1.3056, 1.3056, 1.3056, 1.3056, 1.3055, 1.3055, 1.3055, 1.3055, 1.3055, 1.3054, 1.3054, 1.3054, 1.2535, 1.1191, 1.0675, 1.0839, 1.0064, 1.0835, 1.0951, 0.9269, 0.8368, 0.9495, 0.5323, 0.0083, 0.261, 0.6396, 0.3765, 0.1788, -0.9536, 0.6693, -0.7112, 0.3063, -1.4099, 0.7052, -0.496]}, \"token.table\": {\"Topic\": [1, 2, 3, 1, 1, 2, 3, 1, 3, 1, 2, 1, 2, 1, 1, 2, 3, 1, 2, 1, 1, 2, 3, 3, 1, 2, 1, 2, 1, 3, 2, 3, 1, 2, 2, 3, 3, 3, 2, 2, 1, 2, 1, 2, 1, 3, 1, 2, 1, 2, 3, 2, 3, 1, 3, 1, 2, 3, 1, 3, 1, 3, 1, 2, 1, 2, 1, 2, 3, 1, 2, 2, 2, 3, 3, 1, 2, 1, 2, 3, 3, 1, 2, 3, 3, 1, 3, 1, 1, 2, 3, 1, 2, 3, 1, 2, 2, 3, 2, 1, 1, 2, 1, 2, 3, 1, 1, 1, 3, 1, 3, 2, 1, 3, 1, 3, 2, 3, 3, 3, 3, 3, 2, 3, 2, 3, 2, 1, 2, 1, 2, 3, 1, 2, 3, 1, 2, 1, 2, 3, 2, 3, 2, 2, 2, 2, 2, 3, 2, 1, 2, 3, 1, 2, 1, 2, 3, 1, 2, 3, 2, 3, 1, 3, 2, 1, 2, 3, 1, 2, 1, 2, 3, 1, 2, 1, 3, 2, 3, 3, 3, 1, 1, 3, 1, 2, 1, 2, 1, 2, 3, 1, 1, 3, 1, 2, 1, 1, 2, 2, 2, 3, 1, 3, 3, 2, 3, 3, 2, 3, 1, 2, 2, 3, 2, 1, 2, 3, 2, 1, 2, 1, 2, 3, 2, 1, 3, 1, 1, 3, 1, 1, 3, 3, 2, 2, 1, 3, 2, 1, 1, 1, 2, 3, 2, 3, 3, 3], \"Freq\": [0.984610374642148, 0.0014269715574523883, 0.014269715574523884, 0.9964982800098049, 0.24185655312423926, 0.40657882996882183, 0.35156991188517195, 0.9474328907180357, 0.052463710560933574, 0.8266484940397216, 0.17332349807249472, 0.9983916093342391, 0.0035278855453506684, 0.9966601445142131, 0.5106890092092582, 0.38496469145202683, 0.1043564662728616, 0.9994542613430563, 0.0007108494035156872, 0.9993898252283129, 0.19823958004615086, 0.7482415302697112, 0.053456227683275064, 0.9997309622910652, 0.9985130640976702, 0.9998649965530378, 0.9991893370463237, 0.001075553645905623, 0.9094626287042034, 0.09045332919632591, 0.9994211073838919, 0.9997456249501995, 0.5814240076473628, 0.41856373201609887, 0.17076043488650405, 0.829289789424619, 0.9993889252578859, 0.9995448945120715, 0.9999146245082955, 0.9996097043336146, 0.027442595463205103, 0.9725270672925318, 0.015274155192986756, 0.9847337700890285, 0.6319630638951013, 0.36781416788178717, 0.1856773340310981, 0.814239942289384, 0.6904449778280299, 0.17656299073890516, 0.13296463960267463, 0.9999422035586947, 0.999205922864, 0.7805512415008415, 0.21920604125640333, 0.5150159704357858, 0.37601329701552766, 0.10896797901178688, 0.9727624519181771, 0.0269546245913288, 0.9828931613831156, 0.016967839838613785, 0.9988801442708568, 0.9994625564908044, 0.7059329435347452, 0.294001854101255, 0.27369889229357625, 0.2128769162283371, 0.5133460444661208, 0.8721218064713645, 0.12769260134488267, 0.9997590547806581, 0.05121068840618508, 0.9484219492825477, 0.9989697912225014, 0.6444102112348228, 0.3555420906788517, 0.2807050546820486, 0.09396282184550868, 0.6253142955058789, 0.9996627054734577, 0.20813389058228118, 0.2436390836816115, 0.5481879382836259, 0.9987079929338823, 0.9993590502702844, 0.9995765190885835, 0.9998164911929127, 0.14589383247592966, 0.3930412366296828, 0.4611841512916925, 0.6215894445621405, 0.10538845735180052, 0.27303146234951525, 0.7819962440943079, 0.21798958036430893, 0.9992690218960548, 0.9994654162268574, 0.9991149991150932, 0.9999200970165874, 0.8539741118811511, 0.14602659299712586, 0.7034811079294361, 0.2639480680736401, 0.032769340137616836, 0.99489916979898, 0.9982130406049384, 0.9822402792272542, 0.017746656249168862, 0.9983410356498461, 0.999618893491385, 0.9991039890698743, 0.9958741792730706, 0.9993703586166875, 0.9641416471645217, 0.03569096502976195, 0.212514628705008, 0.787460991823404, 0.9993593508992926, 0.9993230337725459, 0.9993290103246523, 0.9984910680617184, 0.47113248385731615, 0.528828092649689, 0.0008301715518051617, 0.9995265483734147, 0.9996054636763484, 0.4581226221911132, 0.5419481035426403, 0.7075827128272125, 0.22950993608482861, 0.0629262944343499, 0.16713519091323542, 0.6852022157065976, 0.14769683018397023, 0.6721260568060042, 0.327822030952081, 0.5483549044361863, 0.05712030254543607, 0.39452132251245026, 0.819829339063963, 0.1798163456923396, 0.9999071081350055, 0.9996890676329264, 0.9998332688780134, 0.9995696499826621, 0.0010360685088234628, 0.9987700425058181, 0.9996662592747052, 0.5340470060560103, 0.3010550965130789, 0.16492872257278404, 0.1908607131385, 0.8089928042610034, 0.6736120105917593, 0.26726463487915336, 0.05911447348931136, 0.09980763023295071, 0.09980763023295071, 0.8001918100179344, 0.9997592239784715, 0.9990076771708909, 0.1902753793188188, 0.809463176185475, 0.9991185378662096, 0.163579163078374, 0.15225674377604576, 0.6841124925827808, 0.7334362008981057, 0.2665613943347434, 0.7617663765256646, 0.17774318115063314, 0.0604818144152826, 0.9980496945256728, 0.99912537472381, 0.9963505222628635, 0.0028225227259571204, 0.0006919450196771385, 0.999168608413788, 0.9996402775409781, 0.9992521356411689, 0.9965511498751234, 0.9902962203179031, 0.009804913072454487, 0.9953670349197689, 0.003397157115767129, 0.23707442545689963, 0.7628933434574591, 0.05817410050455981, 0.24191912526896214, 0.6998628066798568, 0.9983452090294019, 0.8697347626561668, 0.1302376473054554, 0.8539438458558514, 0.14605022052764366, 0.9997310470188737, 0.923545508710381, 0.07626877324184828, 0.9998630107502696, 0.9666924239267983, 0.03319547345430213, 0.25909669036907557, 0.7408141519362851, 0.9992974465299554, 0.9997443969090088, 0.9995651786567552, 0.9997959856585349, 0.19932800692970234, 0.8005796999635586, 0.9995297648110486, 0.9997083313002136, 0.9994299498931583, 0.0005878999705253872, 0.9998779136593512, 0.753274476239464, 0.18059733432623531, 0.06611919709507015, 0.9996778086067276, 0.9984639804964971, 0.9996684399563084, 0.8735707429677557, 0.12645856632086344, 0.0001572867740309247, 0.9998778450714377, 0.9998037111458167, 0.9996830778513055, 0.9969714632292308, 0.6761737646338135, 0.3238497796367784, 0.9986089064076423, 0.9982071984262728, 0.001257187907337875, 0.9988519555535745, 0.9998461354004031, 0.9995788952519481, 0.996564592310503, 0.9998684273123106, 0.999910613322968, 0.9997564629070191, 0.9976602222192201, 0.4939399063365933, 0.37477838456810103, 0.13132247230020058, 0.0009547288542377903, 0.9996011103869664, 0.9994073944403458, 0.9997627275277035], \"Term\": [\"accommodate\", \"accommodate\", \"accommodate\", \"advice\", \"also\", \"also\", \"also\", \"always\", \"always\", \"amazing\", \"amazing\", \"anytime\", \"anytime\", \"apartament\", \"apartment\", \"apartment\", \"apartment\", \"appartement\", \"appartement\", \"appartment\", \"area\", \"area\", \"area\", \"arrive\", \"attentive\", \"away\", \"awesome\", \"awesome\", \"back\", \"back\", \"bar\", \"bathroom\", \"beautiful\", \"beautiful\", \"bed\", \"bed\", \"bedroom\", \"bit\", \"bus\", \"cafe\", \"center\", \"center\", \"centre\", \"centre\", \"check\", \"check\", \"city\", \"city\", \"clean\", \"clean\", \"clean\", \"close\", \"cold\", \"come\", \"come\", \"comfortable\", \"comfortable\", \"comfortable\", \"communicate\", \"communicate\", \"communication\", \"communication\", \"communicative\", \"corner\", \"cozy\", \"cozy\", \"day\", \"day\", \"day\", \"definitely\", \"definitely\", \"distance\", \"door\", \"door\", \"early\", \"easy\", \"easy\", \"even\", \"even\", \"even\", \"extra\", \"find\", \"find\", \"find\", \"fine\", \"flexible\", \"floor\", \"friendly\", \"get\", \"get\", \"get\", \"good\", \"good\", \"good\", \"great\", \"great\", \"grocery_store\", \"guest\", \"heart\", \"helpful\", \"highly\", \"highly\", \"home\", \"home\", \"home\", \"hospitable\", \"hospitality\", \"host\", \"host\", \"hostess\", \"however\", \"ideal\", \"ill\", \"issue\", \"kind\", \"kind\", \"kitchen\", \"kitchen\", \"know\", \"late\", \"leave\", \"let\", \"little\", \"little\", \"living\", \"living\", \"local\", \"locate\", \"locate\", \"location\", \"location\", \"location\", \"lot\", \"lot\", \"lot\", \"lovely\", \"lovely\", \"make\", \"make\", \"make\", \"many\", \"many\", \"metro\", \"min\", \"minute\", \"modern\", \"morning\", \"morning\", \"nearby\", \"need\", \"need\", \"need\", \"neighborhood\", \"neighborhood\", \"nice\", \"nice\", \"nice\", \"night\", \"night\", \"night\", \"old\", \"open\", \"overall\", \"overall\", \"park\", \"people\", \"people\", \"people\", \"perfect\", \"perfect\", \"place\", \"place\", \"place\", \"pleasure\", \"plenty\", \"polite\", \"polite\", \"pretty\", \"pretty\", \"price\", \"problem\", \"prompt\", \"question\", \"question\", \"quick_respond\", \"quick_respond\", \"quiet\", \"quiet\", \"quite\", \"quite\", \"quite\", \"reactive\", \"really\", \"really\", \"recommend\", \"recommend\", \"recommendation\", \"responsive\", \"responsive\", \"restaurant\", \"right\", \"right\", \"room\", \"room\", \"say\", \"shop\", \"shower\", \"sleep\", \"small\", \"small\", \"smooth\", \"sodermalm\", \"spot\", \"spot\", \"station\", \"stay\", \"stay\", \"stay\", \"stop\", \"strongly\", \"subway\", \"super\", \"super\", \"super\", \"supermarket\", \"thank\", \"thing\", \"thoughtful\", \"time\", \"time\", \"tip\", \"totally\", \"totally\", \"towel\", \"town\", \"train\", \"uncomplicated\", \"use\", \"walk\", \"welcome\", \"welcoming\", \"well\", \"well\", \"well\", \"wifi\", \"wifi\", \"window\", \"work\"]}, \"R\": 30, \"lambda.step\": 0.01, \"plot.opts\": {\"xlab\": \"PC1\", \"ylab\": \"PC2\"}, \"topic.order\": [2, 3, 1]};\n",
       "\n",
       "function LDAvis_load_lib(url, callback){\n",
       "  var s = document.createElement('script');\n",
       "  s.src = url;\n",
       "  s.async = true;\n",
       "  s.onreadystatechange = s.onload = callback;\n",
       "  s.onerror = function(){console.warn(\"failed to load library \" + url);};\n",
       "  document.getElementsByTagName(\"head\")[0].appendChild(s);\n",
       "}\n",
       "\n",
       "if(typeof(LDAvis) !== \"undefined\"){\n",
       "   // already loaded: just create the visualization\n",
       "   !function(LDAvis){\n",
       "       new LDAvis(\"#\" + \"ldavis_el75682120524834248768721003\", ldavis_el75682120524834248768721003_data);\n",
       "   }(LDAvis);\n",
       "}else if(typeof define === \"function\" && define.amd){\n",
       "   // require.js is available: use it to load d3/LDAvis\n",
       "   require.config({paths: {d3: \"https://d3js.org/d3.v5\"}});\n",
       "   require([\"d3\"], function(d3){\n",
       "      window.d3 = d3;\n",
       "      LDAvis_load_lib(\"https://cdn.jsdelivr.net/gh/bmabey/pyLDAvis@3.4.0/pyLDAvis/js/ldavis.v3.0.0.js\", function(){\n",
       "        new LDAvis(\"#\" + \"ldavis_el75682120524834248768721003\", ldavis_el75682120524834248768721003_data);\n",
       "      });\n",
       "    });\n",
       "}else{\n",
       "    // require.js not available: dynamically load d3 & LDAvis\n",
       "    LDAvis_load_lib(\"https://d3js.org/d3.v5.js\", function(){\n",
       "         LDAvis_load_lib(\"https://cdn.jsdelivr.net/gh/bmabey/pyLDAvis@3.4.0/pyLDAvis/js/ldavis.v3.0.0.js\", function(){\n",
       "                 new LDAvis(\"#\" + \"ldavis_el75682120524834248768721003\", ldavis_el75682120524834248768721003_data);\n",
       "            })\n",
       "         });\n",
       "}\n",
       "</script>"
      ],
      "text/plain": [
       "PreparedData(topic_coordinates=              x         y  topics  cluster       Freq\n",
       "topic                                                \n",
       "1     -0.114408  0.187582       1        1  42.226489\n",
       "2     -0.164892 -0.166263       2        1  30.693204\n",
       "0      0.279300 -0.021319       3        1  27.080307, topic_info=        Term          Freq         Total Category  logprob  loglift\n",
       "28      host  60574.000000  60574.000000  Default  30.0000  30.0000\n",
       "24      walk  12572.000000  12572.000000  Default  29.0000  29.0000\n",
       "70     close  11641.000000  11641.000000  Default  28.0000  28.0000\n",
       "8      great  33836.000000  33836.000000  Default  27.0000  27.0000\n",
       "156  station   8649.000000   8649.000000  Default  26.0000  26.0000\n",
       "..       ...           ...           ...      ...      ...      ...\n",
       "38     clean   2574.186986  19358.530266   Topic3  -4.9719  -0.7112\n",
       "89     check   1955.293412   5315.184054   Topic3  -5.2468   0.3063\n",
       "35      stay   2539.080113  38400.345309   Topic3  -4.9856  -1.4099\n",
       "186     find   1790.976863   3267.127704   Topic3  -5.3346   0.7052\n",
       "50      need   1986.762140  12047.628630   Topic3  -5.2309  -0.4960\n",
       "\n",
       "[200 rows x 6 columns], token_table=      Topic      Freq         Term\n",
       "term                              \n",
       "642       1  0.984610  accommodate\n",
       "642       2  0.001427  accommodate\n",
       "642       3  0.014270  accommodate\n",
       "410       1  0.996498       advice\n",
       "246       1  0.241857         also\n",
       "...     ...       ...          ...\n",
       "158       3  0.131322         well\n",
       "606       2  0.000955         wifi\n",
       "606       3  0.999601         wifi\n",
       "886       3  0.999407       window\n",
       "620       3  0.999763         work\n",
       "\n",
       "[248 rows x 3 columns], R=30, lambda_step=0.01, plot_opts={'xlab': 'PC1', 'ylab': 'PC2'}, topic_order=[2, 3, 1])"
      ]
     },
     "execution_count": 10,
     "metadata": {},
     "output_type": "execute_result"
    }
   ],
   "source": [
    "pyLDAvis.enable_notebook()\n",
    "vis = pyLDAvis.gensim_models.prepare(lda_model, corpus, dictionary=lda_model.id2word)\n",
    "vis"
   ]
  },
  {
   "cell_type": "code",
   "execution_count": 11,
   "metadata": {},
   "outputs": [],
   "source": [
    "topics = lda_model.show_topics(formatted=False)"
   ]
  },
  {
   "cell_type": "code",
   "execution_count": 12,
   "metadata": {},
   "outputs": [
    {
     "data": {
      "image/png": "[encoded data removed]",
      "text/plain": [
       "<Figure size 1000x1000 with 3 Axes>"
      ]
     },
     "metadata": {},
     "output_type": "display_data"
    }
   ],
   "source": [
    "cols = [color for name, color in mcolors.TABLEAU_COLORS.items()]\n",
    "cloud = WordCloud(stopwords=stop_words,\n",
    "                  background_color='white',\n",
    "                  width=2500,\n",
    "                  height=1800,\n",
    "                  max_words=10,\n",
    "                  colormap='tab10',\n",
    "                  color_func=lambda *args, **kwargs: cols[i],\n",
    "                  prefer_horizontal=1.0)\n",
    "\n",
    "fig, axes = plt.subplots(1, 3, figsize=(10,10), sharex=True, sharey=True)\n",
    "\n",
    "groups = ['Amenities and Space',\n",
    "        'Positive host and stay experiences',\n",
    "        'Location and Convenience']\n",
    "\n",
    "for i, ax in enumerate(axes.flatten()):\n",
    "    fig.add_subplot(ax)\n",
    "    topic_words = dict(topics[i][1])\n",
    "    cloud.generate_from_frequencies(topic_words, max_font_size=300)\n",
    "    plt.gca().imshow(cloud)\n",
    "    plt.gca().set_title(groups[i], fontdict=dict(size=14))\n",
    "    plt.gca().axis('off')\n",
    "\n",
    "\n",
    "plt.subplots_adjust(wspace=5, hspace=5)\n",
    "plt.axis('off')\n",
    "#plt.margins(x=0, y=0)\n",
    "plt.tight_layout()\n",
    "plt.show()"
   ]
  },
  {
   "cell_type": "code",
   "execution_count": null,
   "metadata": {},
   "outputs": [],
   "source": []
  },
  {
   "cell_type": "code",
   "execution_count": 58,
   "metadata": {},
   "outputs": [
    {
     "data": {
      "text/html": [
       "<div>\n",
       "<style scoped>\n",
       "    .dataframe tbody tr th:only-of-type {\n",
       "        vertical-align: middle;\n",
       "    }\n",
       "\n",
       "    .dataframe tbody tr th {\n",
       "        vertical-align: top;\n",
       "    }\n",
       "\n",
       "    .dataframe thead th {\n",
       "        text-align: right;\n",
       "    }\n",
       "</style>\n",
       "<table border=\"1\" class=\"dataframe\">\n",
       "  <thead>\n",
       "    <tr style=\"text-align: right;\">\n",
       "      <th></th>\n",
       "      <th>neighbourhood</th>\n",
       "      <th>avg_topic</th>\n",
       "    </tr>\n",
       "  </thead>\n",
       "  <tbody>\n",
       "    <tr>\n",
       "      <th>0</th>\n",
       "      <td>Bromma</td>\n",
       "      <td>1.206388</td>\n",
       "    </tr>\n",
       "    <tr>\n",
       "      <th>1</th>\n",
       "      <td>Farsta</td>\n",
       "      <td>1.172527</td>\n",
       "    </tr>\n",
       "    <tr>\n",
       "      <th>2</th>\n",
       "      <td>Hägersten-Liljeholmens</td>\n",
       "      <td>1.162840</td>\n",
       "    </tr>\n",
       "    <tr>\n",
       "      <th>3</th>\n",
       "      <td>Skarpnäcks</td>\n",
       "      <td>1.159162</td>\n",
       "    </tr>\n",
       "    <tr>\n",
       "      <th>4</th>\n",
       "      <td>Älvsjö</td>\n",
       "      <td>1.142544</td>\n",
       "    </tr>\n",
       "    <tr>\n",
       "      <th>5</th>\n",
       "      <td>Enskede-Årsta-Vantörs</td>\n",
       "      <td>1.141199</td>\n",
       "    </tr>\n",
       "    <tr>\n",
       "      <th>6</th>\n",
       "      <td>Östermalms</td>\n",
       "      <td>1.115136</td>\n",
       "    </tr>\n",
       "    <tr>\n",
       "      <th>7</th>\n",
       "      <td>Södermalms</td>\n",
       "      <td>1.112989</td>\n",
       "    </tr>\n",
       "    <tr>\n",
       "      <th>8</th>\n",
       "      <td>Hässelby-Vällingby</td>\n",
       "      <td>1.108722</td>\n",
       "    </tr>\n",
       "    <tr>\n",
       "      <th>9</th>\n",
       "      <td>Spånga-Tensta</td>\n",
       "      <td>1.074586</td>\n",
       "    </tr>\n",
       "    <tr>\n",
       "      <th>10</th>\n",
       "      <td>Skärholmens</td>\n",
       "      <td>1.062699</td>\n",
       "    </tr>\n",
       "    <tr>\n",
       "      <th>11</th>\n",
       "      <td>Norrmalms</td>\n",
       "      <td>1.050389</td>\n",
       "    </tr>\n",
       "    <tr>\n",
       "      <th>12</th>\n",
       "      <td>Rinkeby-Tensta</td>\n",
       "      <td>1.037333</td>\n",
       "    </tr>\n",
       "    <tr>\n",
       "      <th>13</th>\n",
       "      <td>Kungsholmens</td>\n",
       "      <td>1.031990</td>\n",
       "    </tr>\n",
       "  </tbody>\n",
       "</table>\n",
       "</div>"
      ],
      "text/plain": [
       "             neighbourhood  avg_topic\n",
       "0                   Bromma   1.206388\n",
       "1                   Farsta   1.172527\n",
       "2   Hägersten-Liljeholmens   1.162840\n",
       "3               Skarpnäcks   1.159162\n",
       "4                   Älvsjö   1.142544\n",
       "5    Enskede-Årsta-Vantörs   1.141199\n",
       "6               Östermalms   1.115136\n",
       "7               Södermalms   1.112989\n",
       "8       Hässelby-Vällingby   1.108722\n",
       "9            Spånga-Tensta   1.074586\n",
       "10             Skärholmens   1.062699\n",
       "11               Norrmalms   1.050389\n",
       "12          Rinkeby-Tensta   1.037333\n",
       "13            Kungsholmens   1.031990"
      ]
     },
     "execution_count": 58,
     "metadata": {},
     "output_type": "execute_result"
    }
   ],
   "source": [
    "avg_topic_by_neighbourhood = (df_dominant_topic.groupby(['neighbourhood'])\n",
    "        .agg(avg_topic=('dominant_topic', 'mean'))\n",
    "        .sort_values('avg_topic', ascending=False)\n",
    "        .reset_index())\n",
    "avg_topic_by_neighbourhood"
   ]
  },
  {
   "cell_type": "code",
   "execution_count": 59,
   "metadata": {},
   "outputs": [
    {
     "data": {
      "application/vnd.plotly.v1+json": {
       "config": {
        "plotlyServerURL": "https://plot.ly"
       },
       "data": [
        {
         "coloraxis": "coloraxis",
         "hovertemplate": "neighbourhood=%{x}<br>avg_topic=%{y}<br>count=%{z}<extra></extra>",
         "name": "",
         "type": "histogram2d",
         "x": [
          "Bromma",
          "Farsta",
          "Hägersten-Liljeholmens",
          "Skarpnäcks",
          "Älvsjö",
          "Enskede-Årsta-Vantörs",
          "Östermalms",
          "Södermalms",
          "Hässelby-Vällingby",
          "Spånga-Tensta",
          "Skärholmens",
          "Norrmalms",
          "Rinkeby-Tensta",
          "Kungsholmens"
         ],
         "xaxis": "x",
         "xbingroup": "x",
         "y": [
          1.2063882063882063,
          1.1725265739983646,
          1.1628403630539241,
          1.15916183682568,
          1.1425438596491229,
          1.1411992263056092,
          1.1151358344113842,
          1.1129889390100722,
          1.108721624850657,
          1.074585635359116,
          1.0626992561105206,
          1.0503886357544894,
          1.0373333333333334,
          1.0319899244332493
         ],
         "yaxis": "y",
         "ybingroup": "y"
        }
       ],
       "layout": {
        "coloraxis": {
         "colorbar": {
          "title": {
           "text": "count"
          }
         },
         "colorscale": [
          [
           0,
           "#0d0887"
          ],
          [
           0.1111111111111111,
           "#46039f"
          ],
          [
           0.2222222222222222,
           "#7201a8"
          ],
          [
           0.3333333333333333,
           "#9c179e"
          ],
          [
           0.4444444444444444,
           "#bd3786"
          ],
          [
           0.5555555555555556,
           "#d8576b"
          ],
          [
           0.6666666666666666,
           "#ed7953"
          ],
          [
           0.7777777777777778,
           "#fb9f3a"
          ],
          [
           0.8888888888888888,
           "#fdca26"
          ],
          [
           1,
           "#f0f921"
          ]
         ]
        },
        "legend": {
         "tracegroupgap": 0
        },
        "margin": {
         "t": 60
        },
        "template": {
         "data": {
          "bar": [
           {
            "error_x": {
             "color": "#2a3f5f"
            },
            "error_y": {
             "color": "#2a3f5f"
            },
            "marker": {
             "line": {
              "color": "#E5ECF6",
              "width": 0.5
             },
             "pattern": {
              "fillmode": "overlay",
              "size": 10,
              "solidity": 0.2
             }
            },
            "type": "bar"
           }
          ],
          "barpolar": [
           {
            "marker": {
             "line": {
              "color": "#E5ECF6",
              "width": 0.5
             },
             "pattern": {
              "fillmode": "overlay",
              "size": 10,
              "solidity": 0.2
             }
            },
            "type": "barpolar"
           }
          ],
          "carpet": [
           {
            "aaxis": {
             "endlinecolor": "#2a3f5f",
             "gridcolor": "white",
             "linecolor": "white",
             "minorgridcolor": "white",
             "startlinecolor": "#2a3f5f"
            },
            "baxis": {
             "endlinecolor": "#2a3f5f",
             "gridcolor": "white",
             "linecolor": "white",
             "minorgridcolor": "white",
             "startlinecolor": "#2a3f5f"
            },
            "type": "carpet"
           }
          ],
          "choropleth": [
           {
            "colorbar": {
             "outlinewidth": 0,
             "ticks": ""
            },
            "type": "choropleth"
           }
          ],
          "contour": [
           {
            "colorbar": {
             "outlinewidth": 0,
             "ticks": ""
            },
            "colorscale": [
             [
              0,
              "#0d0887"
             ],
             [
              0.1111111111111111,
              "#46039f"
             ],
             [
              0.2222222222222222,
              "#7201a8"
             ],
             [
              0.3333333333333333,
              "#9c179e"
             ],
             [
              0.4444444444444444,
              "#bd3786"
             ],
             [
              0.5555555555555556,
              "#d8576b"
             ],
             [
              0.6666666666666666,
              "#ed7953"
             ],
             [
              0.7777777777777778,
              "#fb9f3a"
             ],
             [
              0.8888888888888888,
              "#fdca26"
             ],
             [
              1,
              "#f0f921"
             ]
            ],
            "type": "contour"
           }
          ],
          "contourcarpet": [
           {
            "colorbar": {
             "outlinewidth": 0,
             "ticks": ""
            },
            "type": "contourcarpet"
           }
          ],
          "heatmap": [
           {
            "colorbar": {
             "outlinewidth": 0,
             "ticks": ""
            },
            "colorscale": [
             [
              0,
              "#0d0887"
             ],
             [
              0.1111111111111111,
              "#46039f"
             ],
             [
              0.2222222222222222,
              "#7201a8"
             ],
             [
              0.3333333333333333,
              "#9c179e"
             ],
             [
              0.4444444444444444,
              "#bd3786"
             ],
             [
              0.5555555555555556,
              "#d8576b"
             ],
             [
              0.6666666666666666,
              "#ed7953"
             ],
             [
              0.7777777777777778,
              "#fb9f3a"
             ],
             [
              0.8888888888888888,
              "#fdca26"
             ],
             [
              1,
              "#f0f921"
             ]
            ],
            "type": "heatmap"
           }
          ],
          "heatmapgl": [
           {
            "colorbar": {
             "outlinewidth": 0,
             "ticks": ""
            },
            "colorscale": [
             [
              0,
              "#0d0887"
             ],
             [
              0.1111111111111111,
              "#46039f"
             ],
             [
              0.2222222222222222,
              "#7201a8"
             ],
             [
              0.3333333333333333,
              "#9c179e"
             ],
             [
              0.4444444444444444,
              "#bd3786"
             ],
             [
              0.5555555555555556,
              "#d8576b"
             ],
             [
              0.6666666666666666,
              "#ed7953"
             ],
             [
              0.7777777777777778,
              "#fb9f3a"
             ],
             [
              0.8888888888888888,
              "#fdca26"
             ],
             [
              1,
              "#f0f921"
             ]
            ],
            "type": "heatmapgl"
           }
          ],
          "histogram": [
           {
            "marker": {
             "pattern": {
              "fillmode": "overlay",
              "size": 10,
              "solidity": 0.2
             }
            },
            "type": "histogram"
           }
          ],
          "histogram2d": [
           {
            "colorbar": {
             "outlinewidth": 0,
             "ticks": ""
            },
            "colorscale": [
             [
              0,
              "#0d0887"
             ],
             [
              0.1111111111111111,
              "#46039f"
             ],
             [
              0.2222222222222222,
              "#7201a8"
             ],
             [
              0.3333333333333333,
              "#9c179e"
             ],
             [
              0.4444444444444444,
              "#bd3786"
             ],
             [
              0.5555555555555556,
              "#d8576b"
             ],
             [
              0.6666666666666666,
              "#ed7953"
             ],
             [
              0.7777777777777778,
              "#fb9f3a"
             ],
             [
              0.8888888888888888,
              "#fdca26"
             ],
             [
              1,
              "#f0f921"
             ]
            ],
            "type": "histogram2d"
           }
          ],
          "histogram2dcontour": [
           {
            "colorbar": {
             "outlinewidth": 0,
             "ticks": ""
            },
            "colorscale": [
             [
              0,
              "#0d0887"
             ],
             [
              0.1111111111111111,
              "#46039f"
             ],
             [
              0.2222222222222222,
              "#7201a8"
             ],
             [
              0.3333333333333333,
              "#9c179e"
             ],
             [
              0.4444444444444444,
              "#bd3786"
             ],
             [
              0.5555555555555556,
              "#d8576b"
             ],
             [
              0.6666666666666666,
              "#ed7953"
             ],
             [
              0.7777777777777778,
              "#fb9f3a"
             ],
             [
              0.8888888888888888,
              "#fdca26"
             ],
             [
              1,
              "#f0f921"
             ]
            ],
            "type": "histogram2dcontour"
           }
          ],
          "mesh3d": [
           {
            "colorbar": {
             "outlinewidth": 0,
             "ticks": ""
            },
            "type": "mesh3d"
           }
          ],
          "parcoords": [
           {
            "line": {
             "colorbar": {
              "outlinewidth": 0,
              "ticks": ""
             }
            },
            "type": "parcoords"
           }
          ],
          "pie": [
           {
            "automargin": true,
            "type": "pie"
           }
          ],
          "scatter": [
           {
            "fillpattern": {
             "fillmode": "overlay",
             "size": 10,
             "solidity": 0.2
            },
            "type": "scatter"
           }
          ],
          "scatter3d": [
           {
            "line": {
             "colorbar": {
              "outlinewidth": 0,
              "ticks": ""
             }
            },
            "marker": {
             "colorbar": {
              "outlinewidth": 0,
              "ticks": ""
             }
            },
            "type": "scatter3d"
           }
          ],
          "scattercarpet": [
           {
            "marker": {
             "colorbar": {
              "outlinewidth": 0,
              "ticks": ""
             }
            },
            "type": "scattercarpet"
           }
          ],
          "scattergeo": [
           {
            "marker": {
             "colorbar": {
              "outlinewidth": 0,
              "ticks": ""
             }
            },
            "type": "scattergeo"
           }
          ],
          "scattergl": [
           {
            "marker": {
             "colorbar": {
              "outlinewidth": 0,
              "ticks": ""
             }
            },
            "type": "scattergl"
           }
          ],
          "scattermapbox": [
           {
            "marker": {
             "colorbar": {
              "outlinewidth": 0,
              "ticks": ""
             }
            },
            "type": "scattermapbox"
           }
          ],
          "scatterpolar": [
           {
            "marker": {
             "colorbar": {
              "outlinewidth": 0,
              "ticks": ""
             }
            },
            "type": "scatterpolar"
           }
          ],
          "scatterpolargl": [
           {
            "marker": {
             "colorbar": {
              "outlinewidth": 0,
              "ticks": ""
             }
            },
            "type": "scatterpolargl"
           }
          ],
          "scatterternary": [
           {
            "marker": {
             "colorbar": {
              "outlinewidth": 0,
              "ticks": ""
             }
            },
            "type": "scatterternary"
           }
          ],
          "surface": [
           {
            "colorbar": {
             "outlinewidth": 0,
             "ticks": ""
            },
            "colorscale": [
             [
              0,
              "#0d0887"
             ],
             [
              0.1111111111111111,
              "#46039f"
             ],
             [
              0.2222222222222222,
              "#7201a8"
             ],
             [
              0.3333333333333333,
              "#9c179e"
             ],
             [
              0.4444444444444444,
              "#bd3786"
             ],
             [
              0.5555555555555556,
              "#d8576b"
             ],
             [
              0.6666666666666666,
              "#ed7953"
             ],
             [
              0.7777777777777778,
              "#fb9f3a"
             ],
             [
              0.8888888888888888,
              "#fdca26"
             ],
             [
              1,
              "#f0f921"
             ]
            ],
            "type": "surface"
           }
          ],
          "table": [
           {
            "cells": {
             "fill": {
              "color": "#EBF0F8"
             },
             "line": {
              "color": "white"
             }
            },
            "header": {
             "fill": {
              "color": "#C8D4E3"
             },
             "line": {
              "color": "white"
             }
            },
            "type": "table"
           }
          ]
         },
         "layout": {
          "annotationdefaults": {
           "arrowcolor": "#2a3f5f",
           "arrowhead": 0,
           "arrowwidth": 1
          },
          "autotypenumbers": "strict",
          "coloraxis": {
           "colorbar": {
            "outlinewidth": 0,
            "ticks": ""
           }
          },
          "colorscale": {
           "diverging": [
            [
             0,
             "#8e0152"
            ],
            [
             0.1,
             "#c51b7d"
            ],
            [
             0.2,
             "#de77ae"
            ],
            [
             0.3,
             "#f1b6da"
            ],
            [
             0.4,
             "#fde0ef"
            ],
            [
             0.5,
             "#f7f7f7"
            ],
            [
             0.6,
             "#e6f5d0"
            ],
            [
             0.7,
             "#b8e186"
            ],
            [
             0.8,
             "#7fbc41"
            ],
            [
             0.9,
             "#4d9221"
            ],
            [
             1,
             "#276419"
            ]
           ],
           "sequential": [
            [
             0,
             "#0d0887"
            ],
            [
             0.1111111111111111,
             "#46039f"
            ],
            [
             0.2222222222222222,
             "#7201a8"
            ],
            [
             0.3333333333333333,
             "#9c179e"
            ],
            [
             0.4444444444444444,
             "#bd3786"
            ],
            [
             0.5555555555555556,
             "#d8576b"
            ],
            [
             0.6666666666666666,
             "#ed7953"
            ],
            [
             0.7777777777777778,
             "#fb9f3a"
            ],
            [
             0.8888888888888888,
             "#fdca26"
            ],
            [
             1,
             "#f0f921"
            ]
           ],
           "sequentialminus": [
            [
             0,
             "#0d0887"
            ],
            [
             0.1111111111111111,
             "#46039f"
            ],
            [
             0.2222222222222222,
             "#7201a8"
            ],
            [
             0.3333333333333333,
             "#9c179e"
            ],
            [
             0.4444444444444444,
             "#bd3786"
            ],
            [
             0.5555555555555556,
             "#d8576b"
            ],
            [
             0.6666666666666666,
             "#ed7953"
            ],
            [
             0.7777777777777778,
             "#fb9f3a"
            ],
            [
             0.8888888888888888,
             "#fdca26"
            ],
            [
             1,
             "#f0f921"
            ]
           ]
          },
          "colorway": [
           "#636efa",
           "#EF553B",
           "#00cc96",
           "#ab63fa",
           "#FFA15A",
           "#19d3f3",
           "#FF6692",
           "#B6E880",
           "#FF97FF",
           "#FECB52"
          ],
          "font": {
           "color": "#2a3f5f"
          },
          "geo": {
           "bgcolor": "white",
           "lakecolor": "white",
           "landcolor": "#E5ECF6",
           "showlakes": true,
           "showland": true,
           "subunitcolor": "white"
          },
          "hoverlabel": {
           "align": "left"
          },
          "hovermode": "closest",
          "mapbox": {
           "style": "light"
          },
          "paper_bgcolor": "white",
          "plot_bgcolor": "#E5ECF6",
          "polar": {
           "angularaxis": {
            "gridcolor": "white",
            "linecolor": "white",
            "ticks": ""
           },
           "bgcolor": "#E5ECF6",
           "radialaxis": {
            "gridcolor": "white",
            "linecolor": "white",
            "ticks": ""
           }
          },
          "scene": {
           "xaxis": {
            "backgroundcolor": "#E5ECF6",
            "gridcolor": "white",
            "gridwidth": 2,
            "linecolor": "white",
            "showbackground": true,
            "ticks": "",
            "zerolinecolor": "white"
           },
           "yaxis": {
            "backgroundcolor": "#E5ECF6",
            "gridcolor": "white",
            "gridwidth": 2,
            "linecolor": "white",
            "showbackground": true,
            "ticks": "",
            "zerolinecolor": "white"
           },
           "zaxis": {
            "backgroundcolor": "#E5ECF6",
            "gridcolor": "white",
            "gridwidth": 2,
            "linecolor": "white",
            "showbackground": true,
            "ticks": "",
            "zerolinecolor": "white"
           }
          },
          "shapedefaults": {
           "line": {
            "color": "#2a3f5f"
           }
          },
          "ternary": {
           "aaxis": {
            "gridcolor": "white",
            "linecolor": "white",
            "ticks": ""
           },
           "baxis": {
            "gridcolor": "white",
            "linecolor": "white",
            "ticks": ""
           },
           "bgcolor": "#E5ECF6",
           "caxis": {
            "gridcolor": "white",
            "linecolor": "white",
            "ticks": ""
           }
          },
          "title": {
           "x": 0.05
          },
          "xaxis": {
           "automargin": true,
           "gridcolor": "white",
           "linecolor": "white",
           "ticks": "",
           "title": {
            "standoff": 15
           },
           "zerolinecolor": "white",
           "zerolinewidth": 2
          },
          "yaxis": {
           "automargin": true,
           "gridcolor": "white",
           "linecolor": "white",
           "ticks": "",
           "title": {
            "standoff": 15
           },
           "zerolinecolor": "white",
           "zerolinewidth": 2
          }
         }
        },
        "xaxis": {
         "anchor": "y",
         "domain": [
          0,
          1
         ],
         "title": {
          "text": "neighbourhood"
         }
        },
        "yaxis": {
         "anchor": "x",
         "domain": [
          0,
          1
         ],
         "title": {
          "text": "avg_topic"
         }
        }
       }
      }
     },
     "metadata": {},
     "output_type": "display_data"
    }
   ],
   "source": [
    "px.density_heatmap(avg_topic_by_neighbourhood,\n",
    "                   x='neighbourhood', y='avg_topic')"
   ]
  },
  {
   "cell_type": "code",
   "execution_count": 53,
   "metadata": {},
   "outputs": [
    {
     "data": {
      "text/html": [
       "<div>\n",
       "<style scoped>\n",
       "    .dataframe tbody tr th:only-of-type {\n",
       "        vertical-align: middle;\n",
       "    }\n",
       "\n",
       "    .dataframe tbody tr th {\n",
       "        vertical-align: top;\n",
       "    }\n",
       "\n",
       "    .dataframe thead th {\n",
       "        text-align: right;\n",
       "    }\n",
       "</style>\n",
       "<table border=\"1\" class=\"dataframe\">\n",
       "  <thead>\n",
       "    <tr style=\"text-align: right;\">\n",
       "      <th></th>\n",
       "      <th>neighbourhood</th>\n",
       "      <th>dominant_topic</th>\n",
       "      <th>number_of_reviews</th>\n",
       "    </tr>\n",
       "  </thead>\n",
       "  <tbody>\n",
       "    <tr>\n",
       "      <th>0</th>\n",
       "      <td>Södermalms</td>\n",
       "      <td>1</td>\n",
       "      <td>18553</td>\n",
       "    </tr>\n",
       "    <tr>\n",
       "      <th>1</th>\n",
       "      <td>Södermalms</td>\n",
       "      <td>2</td>\n",
       "      <td>8735</td>\n",
       "    </tr>\n",
       "    <tr>\n",
       "      <th>2</th>\n",
       "      <td>Södermalms</td>\n",
       "      <td>0</td>\n",
       "      <td>5078</td>\n",
       "    </tr>\n",
       "    <tr>\n",
       "      <th>3</th>\n",
       "      <td>Kungsholmens</td>\n",
       "      <td>1</td>\n",
       "      <td>4908</td>\n",
       "    </tr>\n",
       "    <tr>\n",
       "      <th>4</th>\n",
       "      <td>Norrmalms</td>\n",
       "      <td>1</td>\n",
       "      <td>4600</td>\n",
       "    </tr>\n",
       "    <tr>\n",
       "      <th>5</th>\n",
       "      <td>Östermalms</td>\n",
       "      <td>1</td>\n",
       "      <td>2936</td>\n",
       "    </tr>\n",
       "    <tr>\n",
       "      <th>6</th>\n",
       "      <td>Enskede-Årsta-Vantörs</td>\n",
       "      <td>1</td>\n",
       "      <td>2570</td>\n",
       "    </tr>\n",
       "    <tr>\n",
       "      <th>7</th>\n",
       "      <td>Hägersten-Liljeholmens</td>\n",
       "      <td>1</td>\n",
       "      <td>2352</td>\n",
       "    </tr>\n",
       "    <tr>\n",
       "      <th>8</th>\n",
       "      <td>Kungsholmens</td>\n",
       "      <td>2</td>\n",
       "      <td>1643</td>\n",
       "    </tr>\n",
       "    <tr>\n",
       "      <th>9</th>\n",
       "      <td>Norrmalms</td>\n",
       "      <td>2</td>\n",
       "      <td>1619</td>\n",
       "    </tr>\n",
       "    <tr>\n",
       "      <th>10</th>\n",
       "      <td>Kungsholmens</td>\n",
       "      <td>0</td>\n",
       "      <td>1389</td>\n",
       "    </tr>\n",
       "    <tr>\n",
       "      <th>11</th>\n",
       "      <td>Skarpnäcks</td>\n",
       "      <td>1</td>\n",
       "      <td>1362</td>\n",
       "    </tr>\n",
       "    <tr>\n",
       "      <th>12</th>\n",
       "      <td>Norrmalms</td>\n",
       "      <td>0</td>\n",
       "      <td>1243</td>\n",
       "    </tr>\n",
       "    <tr>\n",
       "      <th>13</th>\n",
       "      <td>Östermalms</td>\n",
       "      <td>2</td>\n",
       "      <td>1118</td>\n",
       "    </tr>\n",
       "    <tr>\n",
       "      <th>14</th>\n",
       "      <td>Bromma</td>\n",
       "      <td>1</td>\n",
       "      <td>1111</td>\n",
       "    </tr>\n",
       "    <tr>\n",
       "      <th>15</th>\n",
       "      <td>Enskede-Årsta-Vantörs</td>\n",
       "      <td>2</td>\n",
       "      <td>1075</td>\n",
       "    </tr>\n",
       "    <tr>\n",
       "      <th>16</th>\n",
       "      <td>Hägersten-Liljeholmens</td>\n",
       "      <td>2</td>\n",
       "      <td>1002</td>\n",
       "    </tr>\n",
       "    <tr>\n",
       "      <th>17</th>\n",
       "      <td>Älvsjö</td>\n",
       "      <td>1</td>\n",
       "      <td>791</td>\n",
       "    </tr>\n",
       "    <tr>\n",
       "      <th>18</th>\n",
       "      <td>Farsta</td>\n",
       "      <td>1</td>\n",
       "      <td>776</td>\n",
       "    </tr>\n",
       "    <tr>\n",
       "      <th>19</th>\n",
       "      <td>Bromma</td>\n",
       "      <td>2</td>\n",
       "      <td>672</td>\n",
       "    </tr>\n",
       "    <tr>\n",
       "      <th>20</th>\n",
       "      <td>Skarpnäcks</td>\n",
       "      <td>2</td>\n",
       "      <td>619</td>\n",
       "    </tr>\n",
       "    <tr>\n",
       "      <th>21</th>\n",
       "      <td>Östermalms</td>\n",
       "      <td>0</td>\n",
       "      <td>584</td>\n",
       "    </tr>\n",
       "    <tr>\n",
       "      <th>22</th>\n",
       "      <td>Skärholmens</td>\n",
       "      <td>1</td>\n",
       "      <td>574</td>\n",
       "    </tr>\n",
       "    <tr>\n",
       "      <th>23</th>\n",
       "      <td>Hässelby-Vällingby</td>\n",
       "      <td>1</td>\n",
       "      <td>550</td>\n",
       "    </tr>\n",
       "    <tr>\n",
       "      <th>24</th>\n",
       "      <td>Enskede-Årsta-Vantörs</td>\n",
       "      <td>0</td>\n",
       "      <td>491</td>\n",
       "    </tr>\n",
       "    <tr>\n",
       "      <th>25</th>\n",
       "      <td>Hägersten-Liljeholmens</td>\n",
       "      <td>0</td>\n",
       "      <td>392</td>\n",
       "    </tr>\n",
       "    <tr>\n",
       "      <th>26</th>\n",
       "      <td>Älvsjö</td>\n",
       "      <td>2</td>\n",
       "      <td>386</td>\n",
       "    </tr>\n",
       "    <tr>\n",
       "      <th>27</th>\n",
       "      <td>Farsta</td>\n",
       "      <td>2</td>\n",
       "      <td>329</td>\n",
       "    </tr>\n",
       "    <tr>\n",
       "      <th>28</th>\n",
       "      <td>Skarpnäcks</td>\n",
       "      <td>0</td>\n",
       "      <td>262</td>\n",
       "    </tr>\n",
       "    <tr>\n",
       "      <th>29</th>\n",
       "      <td>Bromma</td>\n",
       "      <td>0</td>\n",
       "      <td>252</td>\n",
       "    </tr>\n",
       "    <tr>\n",
       "      <th>30</th>\n",
       "      <td>Rinkeby-Tensta</td>\n",
       "      <td>1</td>\n",
       "      <td>247</td>\n",
       "    </tr>\n",
       "    <tr>\n",
       "      <th>31</th>\n",
       "      <td>Spånga-Tensta</td>\n",
       "      <td>1</td>\n",
       "      <td>221</td>\n",
       "    </tr>\n",
       "    <tr>\n",
       "      <th>32</th>\n",
       "      <td>Skärholmens</td>\n",
       "      <td>2</td>\n",
       "      <td>213</td>\n",
       "    </tr>\n",
       "    <tr>\n",
       "      <th>33</th>\n",
       "      <td>Älvsjö</td>\n",
       "      <td>0</td>\n",
       "      <td>191</td>\n",
       "    </tr>\n",
       "    <tr>\n",
       "      <th>34</th>\n",
       "      <td>Hässelby-Vällingby</td>\n",
       "      <td>2</td>\n",
       "      <td>189</td>\n",
       "    </tr>\n",
       "    <tr>\n",
       "      <th>35</th>\n",
       "      <td>Skärholmens</td>\n",
       "      <td>0</td>\n",
       "      <td>154</td>\n",
       "    </tr>\n",
       "    <tr>\n",
       "      <th>36</th>\n",
       "      <td>Farsta</td>\n",
       "      <td>0</td>\n",
       "      <td>118</td>\n",
       "    </tr>\n",
       "    <tr>\n",
       "      <th>37</th>\n",
       "      <td>Hässelby-Vällingby</td>\n",
       "      <td>0</td>\n",
       "      <td>98</td>\n",
       "    </tr>\n",
       "    <tr>\n",
       "      <th>38</th>\n",
       "      <td>Spånga-Tensta</td>\n",
       "      <td>2</td>\n",
       "      <td>84</td>\n",
       "    </tr>\n",
       "    <tr>\n",
       "      <th>39</th>\n",
       "      <td>Rinkeby-Tensta</td>\n",
       "      <td>2</td>\n",
       "      <td>71</td>\n",
       "    </tr>\n",
       "    <tr>\n",
       "      <th>40</th>\n",
       "      <td>Spånga-Tensta</td>\n",
       "      <td>0</td>\n",
       "      <td>57</td>\n",
       "    </tr>\n",
       "    <tr>\n",
       "      <th>41</th>\n",
       "      <td>Rinkeby-Tensta</td>\n",
       "      <td>0</td>\n",
       "      <td>57</td>\n",
       "    </tr>\n",
       "  </tbody>\n",
       "</table>\n",
       "</div>"
      ],
      "text/plain": [
       "             neighbourhood  dominant_topic  number_of_reviews\n",
       "0               Södermalms               1              18553\n",
       "1               Södermalms               2               8735\n",
       "2               Södermalms               0               5078\n",
       "3             Kungsholmens               1               4908\n",
       "4                Norrmalms               1               4600\n",
       "5               Östermalms               1               2936\n",
       "6    Enskede-Årsta-Vantörs               1               2570\n",
       "7   Hägersten-Liljeholmens               1               2352\n",
       "8             Kungsholmens               2               1643\n",
       "9                Norrmalms               2               1619\n",
       "10            Kungsholmens               0               1389\n",
       "11              Skarpnäcks               1               1362\n",
       "12               Norrmalms               0               1243\n",
       "13              Östermalms               2               1118\n",
       "14                  Bromma               1               1111\n",
       "15   Enskede-Årsta-Vantörs               2               1075\n",
       "16  Hägersten-Liljeholmens               2               1002\n",
       "17                  Älvsjö               1                791\n",
       "18                  Farsta               1                776\n",
       "19                  Bromma               2                672\n",
       "20              Skarpnäcks               2                619\n",
       "21              Östermalms               0                584\n",
       "22             Skärholmens               1                574\n",
       "23      Hässelby-Vällingby               1                550\n",
       "24   Enskede-Årsta-Vantörs               0                491\n",
       "25  Hägersten-Liljeholmens               0                392\n",
       "26                  Älvsjö               2                386\n",
       "27                  Farsta               2                329\n",
       "28              Skarpnäcks               0                262\n",
       "29                  Bromma               0                252\n",
       "30          Rinkeby-Tensta               1                247\n",
       "31           Spånga-Tensta               1                221\n",
       "32             Skärholmens               2                213\n",
       "33                  Älvsjö               0                191\n",
       "34      Hässelby-Vällingby               2                189\n",
       "35             Skärholmens               0                154\n",
       "36                  Farsta               0                118\n",
       "37      Hässelby-Vällingby               0                 98\n",
       "38           Spånga-Tensta               2                 84\n",
       "39          Rinkeby-Tensta               2                 71\n",
       "40           Spånga-Tensta               0                 57\n",
       "41          Rinkeby-Tensta               0                 57"
      ]
     },
     "execution_count": 53,
     "metadata": {},
     "output_type": "execute_result"
    }
   ],
   "source": [
    "numnber_topic_by_neighbourhood = (df_dominant_topic.groupby(['neighbourhood', 'dominant_topic'])\n",
    "        .agg(number_of_reviews=('number_of_reviews', 'count'))\n",
    "        .sort_values('number_of_reviews', ascending=False)\n",
    "        .reset_index())\n",
    "numnber_topic_by_neighbourhood "
   ]
  },
  {
   "cell_type": "code",
   "execution_count": 64,
   "metadata": {},
   "outputs": [
    {
     "data": {
      "application/vnd.plotly.v1+json": {
       "config": {
        "plotlyServerURL": "https://plot.ly"
       },
       "data": [
        {
         "branchvalues": "total",
         "domain": {
          "x": [
           0,
           1
          ],
          "y": [
           0,
           1
          ]
         },
         "hovertemplate": "labels=%{label}<br>number_of_reviews=%{value}<br>parent=%{parent}<br>id=%{id}<extra></extra>",
         "ids": [
          "Bromma/0",
          "Enskede-Årsta-Vantörs/0",
          "Farsta/0",
          "Hägersten-Liljeholmens/0",
          "Hässelby-Vällingby/0",
          "Kungsholmens/0",
          "Norrmalms/0",
          "Rinkeby-Tensta/0",
          "Skarpnäcks/0",
          "Skärholmens/0",
          "Spånga-Tensta/0",
          "Södermalms/0",
          "Älvsjö/0",
          "Östermalms/0",
          "Bromma/1",
          "Enskede-Årsta-Vantörs/1",
          "Farsta/1",
          "Hägersten-Liljeholmens/1",
          "Hässelby-Vällingby/1",
          "Kungsholmens/1",
          "Norrmalms/1",
          "Rinkeby-Tensta/1",
          "Skarpnäcks/1",
          "Skärholmens/1",
          "Spånga-Tensta/1",
          "Södermalms/1",
          "Älvsjö/1",
          "Östermalms/1",
          "Bromma/2",
          "Enskede-Årsta-Vantörs/2",
          "Farsta/2",
          "Hägersten-Liljeholmens/2",
          "Hässelby-Vällingby/2",
          "Kungsholmens/2",
          "Norrmalms/2",
          "Rinkeby-Tensta/2",
          "Skarpnäcks/2",
          "Skärholmens/2",
          "Spånga-Tensta/2",
          "Södermalms/2",
          "Älvsjö/2",
          "Östermalms/2",
          "Bromma",
          "Enskede-Årsta-Vantörs",
          "Farsta",
          "Hägersten-Liljeholmens",
          "Hässelby-Vällingby",
          "Kungsholmens",
          "Norrmalms",
          "Rinkeby-Tensta",
          "Skarpnäcks",
          "Skärholmens",
          "Spånga-Tensta",
          "Södermalms",
          "Älvsjö",
          "Östermalms"
         ],
         "labels": [
          "0",
          "0",
          "0",
          "0",
          "0",
          "0",
          "0",
          "0",
          "0",
          "0",
          "0",
          "0",
          "0",
          "0",
          "1",
          "1",
          "1",
          "1",
          "1",
          "1",
          "1",
          "1",
          "1",
          "1",
          "1",
          "1",
          "1",
          "1",
          "2",
          "2",
          "2",
          "2",
          "2",
          "2",
          "2",
          "2",
          "2",
          "2",
          "2",
          "2",
          "2",
          "2",
          "Bromma",
          "Enskede-Årsta-Vantörs",
          "Farsta",
          "Hägersten-Liljeholmens",
          "Hässelby-Vällingby",
          "Kungsholmens",
          "Norrmalms",
          "Rinkeby-Tensta",
          "Skarpnäcks",
          "Skärholmens",
          "Spånga-Tensta",
          "Södermalms",
          "Älvsjö",
          "Östermalms"
         ],
         "name": "",
         "parents": [
          "Bromma",
          "Enskede-Årsta-Vantörs",
          "Farsta",
          "Hägersten-Liljeholmens",
          "Hässelby-Vällingby",
          "Kungsholmens",
          "Norrmalms",
          "Rinkeby-Tensta",
          "Skarpnäcks",
          "Skärholmens",
          "Spånga-Tensta",
          "Södermalms",
          "Älvsjö",
          "Östermalms",
          "Bromma",
          "Enskede-Årsta-Vantörs",
          "Farsta",
          "Hägersten-Liljeholmens",
          "Hässelby-Vällingby",
          "Kungsholmens",
          "Norrmalms",
          "Rinkeby-Tensta",
          "Skarpnäcks",
          "Skärholmens",
          "Spånga-Tensta",
          "Södermalms",
          "Älvsjö",
          "Östermalms",
          "Bromma",
          "Enskede-Årsta-Vantörs",
          "Farsta",
          "Hägersten-Liljeholmens",
          "Hässelby-Vällingby",
          "Kungsholmens",
          "Norrmalms",
          "Rinkeby-Tensta",
          "Skarpnäcks",
          "Skärholmens",
          "Spånga-Tensta",
          "Södermalms",
          "Älvsjö",
          "Östermalms",
          "",
          "",
          "",
          "",
          "",
          "",
          "",
          "",
          "",
          "",
          "",
          "",
          "",
          ""
         ],
         "type": "treemap",
         "values": [
          252,
          491,
          118,
          392,
          98,
          1389,
          1243,
          57,
          262,
          154,
          57,
          5078,
          191,
          584,
          1111,
          2570,
          776,
          2352,
          550,
          4908,
          4600,
          247,
          1362,
          574,
          221,
          18553,
          791,
          2936,
          672,
          1075,
          329,
          1002,
          189,
          1643,
          1619,
          71,
          619,
          213,
          84,
          8735,
          386,
          1118,
          2035,
          4136,
          1223,
          3746,
          837,
          7940,
          7462,
          375,
          2243,
          941,
          362,
          32366,
          1368,
          4638
         ]
        }
       ],
       "layout": {
        "legend": {
         "tracegroupgap": 0
        },
        "margin": {
         "t": 60
        },
        "template": {
         "data": {
          "bar": [
           {
            "error_x": {
             "color": "#2a3f5f"
            },
            "error_y": {
             "color": "#2a3f5f"
            },
            "marker": {
             "line": {
              "color": "#E5ECF6",
              "width": 0.5
             },
             "pattern": {
              "fillmode": "overlay",
              "size": 10,
              "solidity": 0.2
             }
            },
            "type": "bar"
           }
          ],
          "barpolar": [
           {
            "marker": {
             "line": {
              "color": "#E5ECF6",
              "width": 0.5
             },
             "pattern": {
              "fillmode": "overlay",
              "size": 10,
              "solidity": 0.2
             }
            },
            "type": "barpolar"
           }
          ],
          "carpet": [
           {
            "aaxis": {
             "endlinecolor": "#2a3f5f",
             "gridcolor": "white",
             "linecolor": "white",
             "minorgridcolor": "white",
             "startlinecolor": "#2a3f5f"
            },
            "baxis": {
             "endlinecolor": "#2a3f5f",
             "gridcolor": "white",
             "linecolor": "white",
             "minorgridcolor": "white",
             "startlinecolor": "#2a3f5f"
            },
            "type": "carpet"
           }
          ],
          "choropleth": [
           {
            "colorbar": {
             "outlinewidth": 0,
             "ticks": ""
            },
            "type": "choropleth"
           }
          ],
          "contour": [
           {
            "colorbar": {
             "outlinewidth": 0,
             "ticks": ""
            },
            "colorscale": [
             [
              0,
              "#0d0887"
             ],
             [
              0.1111111111111111,
              "#46039f"
             ],
             [
              0.2222222222222222,
              "#7201a8"
             ],
             [
              0.3333333333333333,
              "#9c179e"
             ],
             [
              0.4444444444444444,
              "#bd3786"
             ],
             [
              0.5555555555555556,
              "#d8576b"
             ],
             [
              0.6666666666666666,
              "#ed7953"
             ],
             [
              0.7777777777777778,
              "#fb9f3a"
             ],
             [
              0.8888888888888888,
              "#fdca26"
             ],
             [
              1,
              "#f0f921"
             ]
            ],
            "type": "contour"
           }
          ],
          "contourcarpet": [
           {
            "colorbar": {
             "outlinewidth": 0,
             "ticks": ""
            },
            "type": "contourcarpet"
           }
          ],
          "heatmap": [
           {
            "colorbar": {
             "outlinewidth": 0,
             "ticks": ""
            },
            "colorscale": [
             [
              0,
              "#0d0887"
             ],
             [
              0.1111111111111111,
              "#46039f"
             ],
             [
              0.2222222222222222,
              "#7201a8"
             ],
             [
              0.3333333333333333,
              "#9c179e"
             ],
             [
              0.4444444444444444,
              "#bd3786"
             ],
             [
              0.5555555555555556,
              "#d8576b"
             ],
             [
              0.6666666666666666,
              "#ed7953"
             ],
             [
              0.7777777777777778,
              "#fb9f3a"
             ],
             [
              0.8888888888888888,
              "#fdca26"
             ],
             [
              1,
              "#f0f921"
             ]
            ],
            "type": "heatmap"
           }
          ],
          "heatmapgl": [
           {
            "colorbar": {
             "outlinewidth": 0,
             "ticks": ""
            },
            "colorscale": [
             [
              0,
              "#0d0887"
             ],
             [
              0.1111111111111111,
              "#46039f"
             ],
             [
              0.2222222222222222,
              "#7201a8"
             ],
             [
              0.3333333333333333,
              "#9c179e"
             ],
             [
              0.4444444444444444,
              "#bd3786"
             ],
             [
              0.5555555555555556,
              "#d8576b"
             ],
             [
              0.6666666666666666,
              "#ed7953"
             ],
             [
              0.7777777777777778,
              "#fb9f3a"
             ],
             [
              0.8888888888888888,
              "#fdca26"
             ],
             [
              1,
              "#f0f921"
             ]
            ],
            "type": "heatmapgl"
           }
          ],
          "histogram": [
           {
            "marker": {
             "pattern": {
              "fillmode": "overlay",
              "size": 10,
              "solidity": 0.2
             }
            },
            "type": "histogram"
           }
          ],
          "histogram2d": [
           {
            "colorbar": {
             "outlinewidth": 0,
             "ticks": ""
            },
            "colorscale": [
             [
              0,
              "#0d0887"
             ],
             [
              0.1111111111111111,
              "#46039f"
             ],
             [
              0.2222222222222222,
              "#7201a8"
             ],
             [
              0.3333333333333333,
              "#9c179e"
             ],
             [
              0.4444444444444444,
              "#bd3786"
             ],
             [
              0.5555555555555556,
              "#d8576b"
             ],
             [
              0.6666666666666666,
              "#ed7953"
             ],
             [
              0.7777777777777778,
              "#fb9f3a"
             ],
             [
              0.8888888888888888,
              "#fdca26"
             ],
             [
              1,
              "#f0f921"
             ]
            ],
            "type": "histogram2d"
           }
          ],
          "histogram2dcontour": [
           {
            "colorbar": {
             "outlinewidth": 0,
             "ticks": ""
            },
            "colorscale": [
             [
              0,
              "#0d0887"
             ],
             [
              0.1111111111111111,
              "#46039f"
             ],
             [
              0.2222222222222222,
              "#7201a8"
             ],
             [
              0.3333333333333333,
              "#9c179e"
             ],
             [
              0.4444444444444444,
              "#bd3786"
             ],
             [
              0.5555555555555556,
              "#d8576b"
             ],
             [
              0.6666666666666666,
              "#ed7953"
             ],
             [
              0.7777777777777778,
              "#fb9f3a"
             ],
             [
              0.8888888888888888,
              "#fdca26"
             ],
             [
              1,
              "#f0f921"
             ]
            ],
            "type": "histogram2dcontour"
           }
          ],
          "mesh3d": [
           {
            "colorbar": {
             "outlinewidth": 0,
             "ticks": ""
            },
            "type": "mesh3d"
           }
          ],
          "parcoords": [
           {
            "line": {
             "colorbar": {
              "outlinewidth": 0,
              "ticks": ""
             }
            },
            "type": "parcoords"
           }
          ],
          "pie": [
           {
            "automargin": true,
            "type": "pie"
           }
          ],
          "scatter": [
           {
            "fillpattern": {
             "fillmode": "overlay",
             "size": 10,
             "solidity": 0.2
            },
            "type": "scatter"
           }
          ],
          "scatter3d": [
           {
            "line": {
             "colorbar": {
              "outlinewidth": 0,
              "ticks": ""
             }
            },
            "marker": {
             "colorbar": {
              "outlinewidth": 0,
              "ticks": ""
             }
            },
            "type": "scatter3d"
           }
          ],
          "scattercarpet": [
           {
            "marker": {
             "colorbar": {
              "outlinewidth": 0,
              "ticks": ""
             }
            },
            "type": "scattercarpet"
           }
          ],
          "scattergeo": [
           {
            "marker": {
             "colorbar": {
              "outlinewidth": 0,
              "ticks": ""
             }
            },
            "type": "scattergeo"
           }
          ],
          "scattergl": [
           {
            "marker": {
             "colorbar": {
              "outlinewidth": 0,
              "ticks": ""
             }
            },
            "type": "scattergl"
           }
          ],
          "scattermapbox": [
           {
            "marker": {
             "colorbar": {
              "outlinewidth": 0,
              "ticks": ""
             }
            },
            "type": "scattermapbox"
           }
          ],
          "scatterpolar": [
           {
            "marker": {
             "colorbar": {
              "outlinewidth": 0,
              "ticks": ""
             }
            },
            "type": "scatterpolar"
           }
          ],
          "scatterpolargl": [
           {
            "marker": {
             "colorbar": {
              "outlinewidth": 0,
              "ticks": ""
             }
            },
            "type": "scatterpolargl"
           }
          ],
          "scatterternary": [
           {
            "marker": {
             "colorbar": {
              "outlinewidth": 0,
              "ticks": ""
             }
            },
            "type": "scatterternary"
           }
          ],
          "surface": [
           {
            "colorbar": {
             "outlinewidth": 0,
             "ticks": ""
            },
            "colorscale": [
             [
              0,
              "#0d0887"
             ],
             [
              0.1111111111111111,
              "#46039f"
             ],
             [
              0.2222222222222222,
              "#7201a8"
             ],
             [
              0.3333333333333333,
              "#9c179e"
             ],
             [
              0.4444444444444444,
              "#bd3786"
             ],
             [
              0.5555555555555556,
              "#d8576b"
             ],
             [
              0.6666666666666666,
              "#ed7953"
             ],
             [
              0.7777777777777778,
              "#fb9f3a"
             ],
             [
              0.8888888888888888,
              "#fdca26"
             ],
             [
              1,
              "#f0f921"
             ]
            ],
            "type": "surface"
           }
          ],
          "table": [
           {
            "cells": {
             "fill": {
              "color": "#EBF0F8"
             },
             "line": {
              "color": "white"
             }
            },
            "header": {
             "fill": {
              "color": "#C8D4E3"
             },
             "line": {
              "color": "white"
             }
            },
            "type": "table"
           }
          ]
         },
         "layout": {
          "annotationdefaults": {
           "arrowcolor": "#2a3f5f",
           "arrowhead": 0,
           "arrowwidth": 1
          },
          "autotypenumbers": "strict",
          "coloraxis": {
           "colorbar": {
            "outlinewidth": 0,
            "ticks": ""
           }
          },
          "colorscale": {
           "diverging": [
            [
             0,
             "#8e0152"
            ],
            [
             0.1,
             "#c51b7d"
            ],
            [
             0.2,
             "#de77ae"
            ],
            [
             0.3,
             "#f1b6da"
            ],
            [
             0.4,
             "#fde0ef"
            ],
            [
             0.5,
             "#f7f7f7"
            ],
            [
             0.6,
             "#e6f5d0"
            ],
            [
             0.7,
             "#b8e186"
            ],
            [
             0.8,
             "#7fbc41"
            ],
            [
             0.9,
             "#4d9221"
            ],
            [
             1,
             "#276419"
            ]
           ],
           "sequential": [
            [
             0,
             "#0d0887"
            ],
            [
             0.1111111111111111,
             "#46039f"
            ],
            [
             0.2222222222222222,
             "#7201a8"
            ],
            [
             0.3333333333333333,
             "#9c179e"
            ],
            [
             0.4444444444444444,
             "#bd3786"
            ],
            [
             0.5555555555555556,
             "#d8576b"
            ],
            [
             0.6666666666666666,
             "#ed7953"
            ],
            [
             0.7777777777777778,
             "#fb9f3a"
            ],
            [
             0.8888888888888888,
             "#fdca26"
            ],
            [
             1,
             "#f0f921"
            ]
           ],
           "sequentialminus": [
            [
             0,
             "#0d0887"
            ],
            [
             0.1111111111111111,
             "#46039f"
            ],
            [
             0.2222222222222222,
             "#7201a8"
            ],
            [
             0.3333333333333333,
             "#9c179e"
            ],
            [
             0.4444444444444444,
             "#bd3786"
            ],
            [
             0.5555555555555556,
             "#d8576b"
            ],
            [
             0.6666666666666666,
             "#ed7953"
            ],
            [
             0.7777777777777778,
             "#fb9f3a"
            ],
            [
             0.8888888888888888,
             "#fdca26"
            ],
            [
             1,
             "#f0f921"
            ]
           ]
          },
          "colorway": [
           "#636efa",
           "#EF553B",
           "#00cc96",
           "#ab63fa",
           "#FFA15A",
           "#19d3f3",
           "#FF6692",
           "#B6E880",
           "#FF97FF",
           "#FECB52"
          ],
          "font": {
           "color": "#2a3f5f"
          },
          "geo": {
           "bgcolor": "white",
           "lakecolor": "white",
           "landcolor": "#E5ECF6",
           "showlakes": true,
           "showland": true,
           "subunitcolor": "white"
          },
          "hoverlabel": {
           "align": "left"
          },
          "hovermode": "closest",
          "mapbox": {
           "style": "light"
          },
          "paper_bgcolor": "white",
          "plot_bgcolor": "#E5ECF6",
          "polar": {
           "angularaxis": {
            "gridcolor": "white",
            "linecolor": "white",
            "ticks": ""
           },
           "bgcolor": "#E5ECF6",
           "radialaxis": {
            "gridcolor": "white",
            "linecolor": "white",
            "ticks": ""
           }
          },
          "scene": {
           "xaxis": {
            "backgroundcolor": "#E5ECF6",
            "gridcolor": "white",
            "gridwidth": 2,
            "linecolor": "white",
            "showbackground": true,
            "ticks": "",
            "zerolinecolor": "white"
           },
           "yaxis": {
            "backgroundcolor": "#E5ECF6",
            "gridcolor": "white",
            "gridwidth": 2,
            "linecolor": "white",
            "showbackground": true,
            "ticks": "",
            "zerolinecolor": "white"
           },
           "zaxis": {
            "backgroundcolor": "#E5ECF6",
            "gridcolor": "white",
            "gridwidth": 2,
            "linecolor": "white",
            "showbackground": true,
            "ticks": "",
            "zerolinecolor": "white"
           }
          },
          "shapedefaults": {
           "line": {
            "color": "#2a3f5f"
           }
          },
          "ternary": {
           "aaxis": {
            "gridcolor": "white",
            "linecolor": "white",
            "ticks": ""
           },
           "baxis": {
            "gridcolor": "white",
            "linecolor": "white",
            "ticks": ""
           },
           "bgcolor": "#E5ECF6",
           "caxis": {
            "gridcolor": "white",
            "linecolor": "white",
            "ticks": ""
           }
          },
          "title": {
           "x": 0.05
          },
          "xaxis": {
           "automargin": true,
           "gridcolor": "white",
           "linecolor": "white",
           "ticks": "",
           "title": {
            "standoff": 15
           },
           "zerolinecolor": "white",
           "zerolinewidth": 2
          },
          "yaxis": {
           "automargin": true,
           "gridcolor": "white",
           "linecolor": "white",
           "ticks": "",
           "title": {
            "standoff": 15
           },
           "zerolinecolor": "white",
           "zerolinewidth": 2
          }
         }
        }
       }
      }
     },
     "metadata": {},
     "output_type": "display_data"
    }
   ],
   "source": [
    "px.treemap(numnber_topic_by_neighbourhood , path=['neighbourhood', 'dominant_topic'], values='number_of_reviews',\n",
    "           color_continuous_scale=PALETTE)"
   ]
  }
 ],
 "metadata": {
  "kernelspec": {
   "display_name": "Python 3",
   "language": "python",
   "name": "python3"
  },
  "language_info": {
   "codemirror_mode": {
    "name": "ipython",
    "version": 3
   },
   "file_extension": ".py",
   "mimetype": "text/x-python",
   "name": "python",
   "nbconvert_exporter": "python",
   "pygments_lexer": "ipython3",
   "version": "3.10.10"
  },
  "orig_nbformat": 4,
  "vscode": {
   "interpreter": {
    "hash": "aee8b7b246df8f9039afb4144a1f6fd8d2ca17a180786b69acc140d282b71a49"
   }
  }
 },
 "nbformat": 4,
 "nbformat_minor": 2
}
